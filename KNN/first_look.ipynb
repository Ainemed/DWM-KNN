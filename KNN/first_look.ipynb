{
 "cells": [
  {
   "cell_type": "markdown",
   "source": [
    "# First Step\n",
    "Import the Dataset"
   ],
   "metadata": {
    "collapsed": false
   },
   "id": "25f556214c249d24"
  },
  {
   "cell_type": "code",
   "execution_count": 44,
   "id": "initial_id",
   "metadata": {
    "collapsed": true,
    "ExecuteTime": {
     "end_time": "2023-11-06T19:08:27.390678Z",
     "start_time": "2023-11-06T19:08:27.258888Z"
    }
   },
   "outputs": [],
   "source": [
    "import numpy as np \n",
    "import pandas as pd \n",
    "from sklearn.model_selection import train_test_split\n",
    "from sklearn.preprocessing import OneHotEncoder, OrdinalEncoder\n",
    "\n",
    "data = pd.read_csv(\"malware analysis.csv\")\n",
    "\n",
    "# drop label columns\n",
    "X = data.drop(columns=['normal.'])\n",
    "\n",
    "# isolate y\n",
    "y = data['normal.']\n",
    "\n",
    "# split in Train-set(80%) and Testing-set(20%)\n",
    "X_train, X_test, y_train, y_test = train_test_split( X, y, test_size=0.20) \n",
    "\n"
   ]
  },
  {
   "cell_type": "code",
   "execution_count": 45,
   "outputs": [
    {
     "name": "stdout",
     "output_type": "stream",
     "text": [
      "<class 'pandas.core.frame.DataFrame'>\n",
      "Index: 48749 entries, 16274 to 24288\n",
      "Data columns (total 18 columns):\n",
      " #   Column   Non-Null Count  Dtype  \n",
      "---  ------   --------------  -----  \n",
      " 0   0        48749 non-null  int64  \n",
      " 1   udp      48749 non-null  object \n",
      " 2   private  48749 non-null  object \n",
      " 3   SF       48749 non-null  object \n",
      " 4   105      48749 non-null  int64  \n",
      " 5   146      48749 non-null  int64  \n",
      " 6   1        48749 non-null  int64  \n",
      " 7   1.1      48749 non-null  int64  \n",
      " 8   1.2      48749 non-null  float64\n",
      " 9   0.1      48749 non-null  float64\n",
      " 10  0.2      48749 non-null  float64\n",
      " 11  255      48749 non-null  int64  \n",
      " 12  254      48749 non-null  int64  \n",
      " 13  1.3      48749 non-null  float64\n",
      " 14  0.01     48749 non-null  float64\n",
      " 15  0.3      48749 non-null  float64\n",
      " 16  0.4      48749 non-null  float64\n",
      " 17  0.5      48749 non-null  float64\n",
      "dtypes: float64(8), int64(7), object(3)\n",
      "memory usage: 7.1+ MB\n",
      "<class 'pandas.core.frame.DataFrame'>\n",
      "Index: 12188 entries, 22055 to 56668\n",
      "Data columns (total 18 columns):\n",
      " #   Column   Non-Null Count  Dtype  \n",
      "---  ------   --------------  -----  \n",
      " 0   0        12188 non-null  int64  \n",
      " 1   udp      12188 non-null  object \n",
      " 2   private  12188 non-null  object \n",
      " 3   SF       12188 non-null  object \n",
      " 4   105      12188 non-null  int64  \n",
      " 5   146      12188 non-null  int64  \n",
      " 6   1        12188 non-null  int64  \n",
      " 7   1.1      12188 non-null  int64  \n",
      " 8   1.2      12188 non-null  float64\n",
      " 9   0.1      12188 non-null  float64\n",
      " 10  0.2      12188 non-null  float64\n",
      " 11  255      12188 non-null  int64  \n",
      " 12  254      12188 non-null  int64  \n",
      " 13  1.3      12188 non-null  float64\n",
      " 14  0.01     12188 non-null  float64\n",
      " 15  0.3      12188 non-null  float64\n",
      " 16  0.4      12188 non-null  float64\n",
      " 17  0.5      12188 non-null  float64\n",
      "dtypes: float64(8), int64(7), object(3)\n",
      "memory usage: 1.8+ MB\n"
     ]
    },
    {
     "data": {
      "text/plain": "(None, None)"
     },
     "execution_count": 45,
     "metadata": {},
     "output_type": "execute_result"
    }
   ],
   "source": [
    "X_train.info(), X_test.info()"
   ],
   "metadata": {
    "collapsed": false,
    "ExecuteTime": {
     "end_time": "2023-11-06T19:08:27.390997Z",
     "start_time": "2023-11-06T19:08:27.340660Z"
    }
   },
   "id": "884fb5f7fbffa253"
  },
  {
   "cell_type": "markdown",
   "source": [
    "# Second Step \n",
    "Clean the dataset and process the data."
   ],
   "metadata": {
    "collapsed": false
   },
   "id": "b1b56c702ab5566"
  },
  {
   "cell_type": "code",
   "execution_count": 50,
   "outputs": [],
   "source": [
    "def process_data(train, test):\n",
    "    is_numerical  = np.array( [ len(np.unique(train[col]))>10 for col in train] ) \n",
    "    \n",
    "    numerical_idx = ['105','146','1','1.1','1.2','0.1','0.2','255','254','1.3','0.01','0.3','0.4','0.5']\n",
    "    # convert numerical to floats (keep NaN)\n",
    "    X_train = pd.concat([ train[numerical_idx].apply(pd.to_numeric, errors='coerce'), \n",
    "                          train[numerical_idx].isna().astype(int)], \n",
    "                          axis=1)\n",
    "    X_train = X_train.fillna(0.0)\n",
    "    \n",
    "    # categorical features\n",
    "    categorical_idx = ['private','SF']\n",
    "    categorical_idx_ord = ['udp']\n",
    "    \n",
    "    oh = OneHotEncoder(sparse_output=False, handle_unknown='ignore')\n",
    "    oh.fit( train[categorical_idx] )\n",
    "    \n",
    "    enc = OrdinalEncoder()\n",
    "    encoded_Ord = enc.fit_transform(train[categorical_idx_ord])\n",
    "    X_train[categorical_idx_ord] = encoded_Ord\n",
    "    \n",
    "    encoded = oh.transform( train[categorical_idx] )\n",
    "    for i,col in enumerate(oh.get_feature_names_out()):\n",
    "      X_train[col] = encoded[:,i]\n",
    "        \n",
    "    \n",
    "    X_train.columns = X_train.columns.astype(str)\n",
    "    \n",
    "    # --------------\n",
    "    # process test\n",
    "    X_test = pd.concat([ test[numerical_idx].apply(pd.to_numeric, errors='coerce'), \n",
    "                         test[numerical_idx].isna().astype(int)], \n",
    "                           axis=1)\n",
    "    \n",
    "    X_test = X_test.fillna(0.0)\n",
    "    \n",
    "    encoded_Ord = enc.fit_transform(test[categorical_idx_ord])\n",
    "    encoded = oh.transform( test[categorical_idx] )\n",
    "    for i,col in enumerate(oh.get_feature_names_out()):\n",
    "      X_test[col] = encoded[:,i]\n",
    "        \n",
    "    X_test[categorical_idx_ord] = encoded_Ord\n",
    "    X_test.columns = X_test.columns.astype(str)\n",
    "    \n",
    "    return X_train, X_test\n",
    "    "
   ],
   "metadata": {
    "collapsed": false,
    "ExecuteTime": {
     "end_time": "2023-11-06T19:11:10.729911Z",
     "start_time": "2023-11-06T19:11:10.701611Z"
    }
   },
   "id": "b948775cb0c26f5d"
  },
  {
   "cell_type": "code",
   "execution_count": 51,
   "outputs": [
    {
     "ename": "NotImplementedError",
     "evalue": "",
     "output_type": "error",
     "traceback": [
      "\u001B[0;31m---------------------------------------------------------------------------\u001B[0m",
      "\u001B[0;31mNotImplementedError\u001B[0m                       Traceback (most recent call last)",
      "\u001B[0;32m/var/folders/vl/fc16cvt50bd25c3fyj_s9t840000gn/T/ipykernel_9498/2922809595.py\u001B[0m in \u001B[0;36m?\u001B[0;34m()\u001B[0m\n\u001B[0;32m----> 1\u001B[0;31m \u001B[0mX_train_enc\u001B[0m\u001B[0;34m,\u001B[0m \u001B[0mX_test_enc\u001B[0m \u001B[0;34m=\u001B[0m \u001B[0mprocess_data\u001B[0m\u001B[0;34m(\u001B[0m\u001B[0mX_train\u001B[0m\u001B[0;34m,\u001B[0m \u001B[0mX_test\u001B[0m\u001B[0;34m)\u001B[0m\u001B[0;34m\u001B[0m\u001B[0;34m\u001B[0m\u001B[0m\n\u001B[0m\u001B[1;32m      2\u001B[0m \u001B[0;34m\u001B[0m\u001B[0m\n",
      "\u001B[0;32m/var/folders/vl/fc16cvt50bd25c3fyj_s9t840000gn/T/ipykernel_9498/1916242430.py\u001B[0m in \u001B[0;36m?\u001B[0;34m(train, test)\u001B[0m\n\u001B[1;32m     16\u001B[0m     \u001B[0moh\u001B[0m\u001B[0;34m.\u001B[0m\u001B[0mfit\u001B[0m\u001B[0;34m(\u001B[0m \u001B[0mtrain\u001B[0m\u001B[0;34m[\u001B[0m\u001B[0mcategorical_idx\u001B[0m\u001B[0;34m]\u001B[0m \u001B[0;34m)\u001B[0m\u001B[0;34m\u001B[0m\u001B[0;34m\u001B[0m\u001B[0m\n\u001B[1;32m     17\u001B[0m \u001B[0;34m\u001B[0m\u001B[0m\n\u001B[1;32m     18\u001B[0m     \u001B[0menc\u001B[0m \u001B[0;34m=\u001B[0m \u001B[0mOrdinalEncoder\u001B[0m\u001B[0;34m(\u001B[0m\u001B[0;34m)\u001B[0m\u001B[0;34m\u001B[0m\u001B[0;34m\u001B[0m\u001B[0m\n\u001B[1;32m     19\u001B[0m     \u001B[0mencoded_Ord\u001B[0m \u001B[0;34m=\u001B[0m \u001B[0menc\u001B[0m\u001B[0;34m.\u001B[0m\u001B[0mfit_transform\u001B[0m\u001B[0;34m(\u001B[0m\u001B[0mtrain\u001B[0m\u001B[0;34m[\u001B[0m\u001B[0mcategorical_idx_ord\u001B[0m\u001B[0;34m]\u001B[0m\u001B[0;34m)\u001B[0m\u001B[0;34m\u001B[0m\u001B[0;34m\u001B[0m\u001B[0m\n\u001B[0;32m---> 20\u001B[0;31m     \u001B[0mX_train\u001B[0m\u001B[0;34m[\u001B[0m\u001B[0mcategorical_idx_ord\u001B[0m\u001B[0;34m]\u001B[0m \u001B[0;34m=\u001B[0m \u001B[0mencoded_Ord\u001B[0m\u001B[0;34m\u001B[0m\u001B[0;34m\u001B[0m\u001B[0m\n\u001B[0m\u001B[1;32m     21\u001B[0m \u001B[0;34m\u001B[0m\u001B[0m\n\u001B[1;32m     22\u001B[0m     \u001B[0mencoded\u001B[0m \u001B[0;34m=\u001B[0m \u001B[0moh\u001B[0m\u001B[0;34m.\u001B[0m\u001B[0mtransform\u001B[0m\u001B[0;34m(\u001B[0m \u001B[0mtrain\u001B[0m\u001B[0;34m[\u001B[0m\u001B[0mcategorical_idx\u001B[0m\u001B[0;34m]\u001B[0m \u001B[0;34m)\u001B[0m\u001B[0;34m\u001B[0m\u001B[0;34m\u001B[0m\u001B[0m\n\u001B[1;32m     23\u001B[0m     \u001B[0;32mfor\u001B[0m \u001B[0mi\u001B[0m\u001B[0;34m,\u001B[0m\u001B[0mcol\u001B[0m \u001B[0;32min\u001B[0m \u001B[0menumerate\u001B[0m\u001B[0;34m(\u001B[0m\u001B[0moh\u001B[0m\u001B[0;34m.\u001B[0m\u001B[0mget_feature_names_out\u001B[0m\u001B[0;34m(\u001B[0m\u001B[0;34m)\u001B[0m\u001B[0;34m)\u001B[0m\u001B[0;34m:\u001B[0m\u001B[0;34m\u001B[0m\u001B[0;34m\u001B[0m\u001B[0m\n",
      "\u001B[0;32m~/Library/Python/3.9/lib/python/site-packages/pandas/core/frame.py\u001B[0m in \u001B[0;36m?\u001B[0;34m(self, key, value)\u001B[0m\n\u001B[1;32m   3934\u001B[0m \u001B[0;34m\u001B[0m\u001B[0m\n\u001B[1;32m   3935\u001B[0m         \u001B[0;32mif\u001B[0m \u001B[0misinstance\u001B[0m\u001B[0;34m(\u001B[0m\u001B[0mkey\u001B[0m\u001B[0;34m,\u001B[0m \u001B[0mDataFrame\u001B[0m\u001B[0;34m)\u001B[0m \u001B[0;32mor\u001B[0m \u001B[0mgetattr\u001B[0m\u001B[0;34m(\u001B[0m\u001B[0mkey\u001B[0m\u001B[0;34m,\u001B[0m \u001B[0;34m\"ndim\"\u001B[0m\u001B[0;34m,\u001B[0m \u001B[0;32mNone\u001B[0m\u001B[0;34m)\u001B[0m \u001B[0;34m==\u001B[0m \u001B[0;36m2\u001B[0m\u001B[0;34m:\u001B[0m\u001B[0;34m\u001B[0m\u001B[0;34m\u001B[0m\u001B[0m\n\u001B[1;32m   3936\u001B[0m             \u001B[0mself\u001B[0m\u001B[0;34m.\u001B[0m\u001B[0m_setitem_frame\u001B[0m\u001B[0;34m(\u001B[0m\u001B[0mkey\u001B[0m\u001B[0;34m,\u001B[0m \u001B[0mvalue\u001B[0m\u001B[0;34m)\u001B[0m\u001B[0;34m\u001B[0m\u001B[0;34m\u001B[0m\u001B[0m\n\u001B[1;32m   3937\u001B[0m         \u001B[0;32melif\u001B[0m \u001B[0misinstance\u001B[0m\u001B[0;34m(\u001B[0m\u001B[0mkey\u001B[0m\u001B[0;34m,\u001B[0m \u001B[0;34m(\u001B[0m\u001B[0mSeries\u001B[0m\u001B[0;34m,\u001B[0m \u001B[0mnp\u001B[0m\u001B[0;34m.\u001B[0m\u001B[0mndarray\u001B[0m\u001B[0;34m,\u001B[0m \u001B[0mlist\u001B[0m\u001B[0;34m,\u001B[0m \u001B[0mIndex\u001B[0m\u001B[0;34m)\u001B[0m\u001B[0;34m)\u001B[0m\u001B[0;34m:\u001B[0m\u001B[0;34m\u001B[0m\u001B[0;34m\u001B[0m\u001B[0m\n\u001B[0;32m-> 3938\u001B[0;31m             \u001B[0mself\u001B[0m\u001B[0;34m.\u001B[0m\u001B[0m_setitem_array\u001B[0m\u001B[0;34m(\u001B[0m\u001B[0mkey\u001B[0m\u001B[0;34m,\u001B[0m \u001B[0mvalue\u001B[0m\u001B[0;34m)\u001B[0m\u001B[0;34m\u001B[0m\u001B[0;34m\u001B[0m\u001B[0m\n\u001B[0m\u001B[1;32m   3939\u001B[0m         \u001B[0;32melif\u001B[0m \u001B[0misinstance\u001B[0m\u001B[0;34m(\u001B[0m\u001B[0mvalue\u001B[0m\u001B[0;34m,\u001B[0m \u001B[0mDataFrame\u001B[0m\u001B[0;34m)\u001B[0m\u001B[0;34m:\u001B[0m\u001B[0;34m\u001B[0m\u001B[0;34m\u001B[0m\u001B[0m\n\u001B[1;32m   3940\u001B[0m             \u001B[0mself\u001B[0m\u001B[0;34m.\u001B[0m\u001B[0m_set_item_frame_value\u001B[0m\u001B[0;34m(\u001B[0m\u001B[0mkey\u001B[0m\u001B[0;34m,\u001B[0m \u001B[0mvalue\u001B[0m\u001B[0;34m)\u001B[0m\u001B[0;34m\u001B[0m\u001B[0;34m\u001B[0m\u001B[0m\n\u001B[1;32m   3941\u001B[0m         elif (\n",
      "\u001B[0;32m~/Library/Python/3.9/lib/python/site-packages/pandas/core/frame.py\u001B[0m in \u001B[0;36m?\u001B[0;34m(self, key, value)\u001B[0m\n\u001B[1;32m   3985\u001B[0m                 \u001B[0;32mfor\u001B[0m \u001B[0mcol\u001B[0m \u001B[0;32min\u001B[0m \u001B[0mkey\u001B[0m\u001B[0;34m:\u001B[0m\u001B[0;34m\u001B[0m\u001B[0;34m\u001B[0m\u001B[0m\n\u001B[1;32m   3986\u001B[0m                     \u001B[0mself\u001B[0m\u001B[0;34m[\u001B[0m\u001B[0mcol\u001B[0m\u001B[0;34m]\u001B[0m \u001B[0;34m=\u001B[0m \u001B[0mvalue\u001B[0m\u001B[0;34m\u001B[0m\u001B[0;34m\u001B[0m\u001B[0m\n\u001B[1;32m   3987\u001B[0m \u001B[0;34m\u001B[0m\u001B[0m\n\u001B[1;32m   3988\u001B[0m             \u001B[0;32melif\u001B[0m \u001B[0misinstance\u001B[0m\u001B[0;34m(\u001B[0m\u001B[0mvalue\u001B[0m\u001B[0;34m,\u001B[0m \u001B[0mnp\u001B[0m\u001B[0;34m.\u001B[0m\u001B[0mndarray\u001B[0m\u001B[0;34m)\u001B[0m \u001B[0;32mand\u001B[0m \u001B[0mvalue\u001B[0m\u001B[0;34m.\u001B[0m\u001B[0mndim\u001B[0m \u001B[0;34m==\u001B[0m \u001B[0;36m2\u001B[0m\u001B[0;34m:\u001B[0m\u001B[0;34m\u001B[0m\u001B[0;34m\u001B[0m\u001B[0m\n\u001B[0;32m-> 3989\u001B[0;31m                 \u001B[0mself\u001B[0m\u001B[0;34m.\u001B[0m\u001B[0m_iset_not_inplace\u001B[0m\u001B[0;34m(\u001B[0m\u001B[0mkey\u001B[0m\u001B[0;34m,\u001B[0m \u001B[0mvalue\u001B[0m\u001B[0;34m)\u001B[0m\u001B[0;34m\u001B[0m\u001B[0;34m\u001B[0m\u001B[0m\n\u001B[0m\u001B[1;32m   3990\u001B[0m \u001B[0;34m\u001B[0m\u001B[0m\n\u001B[1;32m   3991\u001B[0m             \u001B[0;32melif\u001B[0m \u001B[0mnp\u001B[0m\u001B[0;34m.\u001B[0m\u001B[0mndim\u001B[0m\u001B[0;34m(\u001B[0m\u001B[0mvalue\u001B[0m\u001B[0;34m)\u001B[0m \u001B[0;34m>\u001B[0m \u001B[0;36m1\u001B[0m\u001B[0;34m:\u001B[0m\u001B[0;34m\u001B[0m\u001B[0;34m\u001B[0m\u001B[0m\n\u001B[1;32m   3992\u001B[0m                 \u001B[0;31m# list of lists\u001B[0m\u001B[0;34m\u001B[0m\u001B[0;34m\u001B[0m\u001B[0;34m\u001B[0m\u001B[0m\n",
      "\u001B[0;32m~/Library/Python/3.9/lib/python/site-packages/pandas/core/frame.py\u001B[0m in \u001B[0;36m?\u001B[0;34m(self, key, value)\u001B[0m\n\u001B[1;32m   4021\u001B[0m         \u001B[0;32melse\u001B[0m\u001B[0;34m:\u001B[0m\u001B[0;34m\u001B[0m\u001B[0;34m\u001B[0m\u001B[0m\n\u001B[1;32m   4022\u001B[0m             \u001B[0milocs\u001B[0m \u001B[0;34m=\u001B[0m \u001B[0mself\u001B[0m\u001B[0;34m.\u001B[0m\u001B[0mcolumns\u001B[0m\u001B[0;34m.\u001B[0m\u001B[0mget_indexer_non_unique\u001B[0m\u001B[0;34m(\u001B[0m\u001B[0mkey\u001B[0m\u001B[0;34m)\u001B[0m\u001B[0;34m[\u001B[0m\u001B[0;36m0\u001B[0m\u001B[0;34m]\u001B[0m\u001B[0;34m\u001B[0m\u001B[0;34m\u001B[0m\u001B[0m\n\u001B[1;32m   4023\u001B[0m             \u001B[0;32mif\u001B[0m \u001B[0;34m(\u001B[0m\u001B[0milocs\u001B[0m \u001B[0;34m<\u001B[0m \u001B[0;36m0\u001B[0m\u001B[0;34m)\u001B[0m\u001B[0;34m.\u001B[0m\u001B[0many\u001B[0m\u001B[0;34m(\u001B[0m\u001B[0;34m)\u001B[0m\u001B[0;34m:\u001B[0m\u001B[0;34m\u001B[0m\u001B[0;34m\u001B[0m\u001B[0m\n\u001B[1;32m   4024\u001B[0m                 \u001B[0;31m# key entries not in self.columns\u001B[0m\u001B[0;34m\u001B[0m\u001B[0;34m\u001B[0m\u001B[0;34m\u001B[0m\u001B[0m\n\u001B[0;32m-> 4025\u001B[0;31m                 \u001B[0;32mraise\u001B[0m \u001B[0mNotImplementedError\u001B[0m\u001B[0;34m\u001B[0m\u001B[0;34m\u001B[0m\u001B[0m\n\u001B[0m\u001B[1;32m   4026\u001B[0m \u001B[0;34m\u001B[0m\u001B[0m\n\u001B[1;32m   4027\u001B[0m             \u001B[0;32mif\u001B[0m \u001B[0mnp\u001B[0m\u001B[0;34m.\u001B[0m\u001B[0mshape\u001B[0m\u001B[0;34m(\u001B[0m\u001B[0mvalue\u001B[0m\u001B[0;34m)\u001B[0m\u001B[0;34m[\u001B[0m\u001B[0;34m-\u001B[0m\u001B[0;36m1\u001B[0m\u001B[0;34m]\u001B[0m \u001B[0;34m!=\u001B[0m \u001B[0mlen\u001B[0m\u001B[0;34m(\u001B[0m\u001B[0milocs\u001B[0m\u001B[0;34m)\u001B[0m\u001B[0;34m:\u001B[0m\u001B[0;34m\u001B[0m\u001B[0;34m\u001B[0m\u001B[0m\n\u001B[1;32m   4028\u001B[0m                 \u001B[0;32mraise\u001B[0m \u001B[0mValueError\u001B[0m\u001B[0;34m(\u001B[0m\u001B[0;34m\"Columns must be same length as key\"\u001B[0m\u001B[0;34m)\u001B[0m\u001B[0;34m\u001B[0m\u001B[0;34m\u001B[0m\u001B[0m\n",
      "\u001B[0;31mNotImplementedError\u001B[0m: "
     ]
    }
   ],
   "source": [
    "X_train_enc, X_test_enc = process_data(X_train, X_test)\n"
   ],
   "metadata": {
    "collapsed": false,
    "ExecuteTime": {
     "end_time": "2023-11-06T19:11:11.353971Z",
     "start_time": "2023-11-06T19:11:11.067864Z"
    }
   },
   "id": "39b826df00277246"
  },
  {
   "cell_type": "code",
   "execution_count": null,
   "outputs": [],
   "source": [],
   "metadata": {
    "collapsed": false,
    "ExecuteTime": {
     "start_time": "2023-11-06T19:08:27.479270Z"
    }
   },
   "id": "c55651f41493eabe"
  }
 ],
 "metadata": {
  "kernelspec": {
   "display_name": "Python 3",
   "language": "python",
   "name": "python3"
  },
  "language_info": {
   "codemirror_mode": {
    "name": "ipython",
    "version": 2
   },
   "file_extension": ".py",
   "mimetype": "text/x-python",
   "name": "python",
   "nbconvert_exporter": "python",
   "pygments_lexer": "ipython2",
   "version": "2.7.6"
  }
 },
 "nbformat": 4,
 "nbformat_minor": 5
}
