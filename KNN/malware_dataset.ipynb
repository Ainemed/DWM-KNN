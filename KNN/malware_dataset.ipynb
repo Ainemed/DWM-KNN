{
 "cells": [
  {
   "cell_type": "markdown",
   "source": [
    "# Introduction\n",
    "This dataset containing a wide range of invasions simulated in a research organization was submitted to be audited. \n",
    "By imitating a typical Ecommerce function on the internet, it developed an environment for obtaining raw TCP/IP dump data for a network. The internet was concentrated as if it were a real setting, and various attacks were launched. \n",
    "\n",
    "A connection is a series of TCP packets that begin and stop at a specific time interval and allow data to flow from a source IP address to a target IP address using a well-defined protocol. \n",
    "In addition, each link is classified as either normal or an attack. Each connection record is around 100 bytes long.\n",
    "\n",
    "For each TCP/IP connection, 19 quantitative and qualitative features are obtained from normal and attack data (2 qualitative and 17 quantitative features). The class variable has categories:\n",
    "   1. **buffer_overflow:** This label is often associated with attempts to exploit buffer overflow vulnerabilities in software. Buffer overflows can be used to execute arbitrary code or crash a program, and they are often seen as a security threat.\n",
    "   2. **ipsweep:** This label indicates activities that involve scanning a range of IP addresses to gather information about potential targets. It is a common precursor to various types of network attacks.\n",
    "   3. **normal:** This label represents network traffic that is considered normal and does not raise any security concerns. It is used as a baseline for comparison with potentially suspicious or malicious activities.\n",
    "   4. **rootkit:** Rootkits are malicious software or tools that are designed to gain unauthorized access to a computer or network. This label may be used when there are signs of rootkit activity.\n",
    "   5. **sqlattack:** This label is associated with SQL injection attacks, where attackers attempt to manipulate or exploit vulnerabilities in web applications or databases by injecting SQL code.\n",
    "   6. **worm:** Worms are self-replicating malware that can spread across networks without human intervention. This label may be used when there is evidence of worm-like behavior in network traffic.\n",
    "\n",
    "\n",
    "We can find it into the normal feature. \n"
   ],
   "metadata": {
    "collapsed": false
   },
   "id": "171c5580a67e6e03"
  },
  {
   "cell_type": "code",
   "execution_count": 50,
   "id": "initial_id",
   "metadata": {
    "collapsed": true,
    "ExecuteTime": {
     "end_time": "2023-11-06T17:36:59.887919Z",
     "start_time": "2023-11-06T17:36:58.214151Z"
    }
   },
   "outputs": [
    {
     "data": {
      "text/plain": "       0  udp   private  SF  105  146  1  1.1  1.2  0.1  0.2  255  254   1.3  \\\n0      0  udp   private  SF  105  146  1    1  1.0  0.0  0.0  255  254  1.00   \n1      0  udp   private  SF  105  146  1    1  1.0  0.0  0.0  255  254  1.00   \n2      0  udp  domain_u  SF   29    0  2    1  0.5  1.0  0.0   10    3  0.30   \n3      0  udp   private  SF  105  146  1    1  1.0  0.0  0.0  255  253  0.99   \n4      0  tcp      http  SF  223  185  4    4  1.0  0.0  0.0   71  255  1.00   \n...   ..  ...       ...  ..  ...  ... ..  ...  ...  ...  ...  ...  ...   ...   \n60932  0  udp   private  SF  105  147  2    2  1.0  0.0  0.0  255  255  1.00   \n60933  0  udp   private  SF  105  147  4    4  1.0  0.0  0.0  255  255  1.00   \n60934  0  udp   private  SF  105  147  2    2  1.0  0.0  0.0  255  255  1.00   \n60935  0  udp   private  SF  105  147  4    4  1.0  0.0  0.0  255  255  1.00   \n60936  0  udp   private  SF  105  147  2    2  1.0  0.0  0.0  255  255  1.00   \n\n       0.01   0.3   0.4  0.5  normal.  \n0      0.01  0.00  0.00  0.0  normal.  \n1      0.01  0.00  0.00  0.0  normal.  \n2      0.30  0.30  0.00  0.0  normal.  \n3      0.01  0.00  0.00  0.0  normal.  \n4      0.00  0.01  0.01  0.0  normal.  \n...     ...   ...   ...  ...      ...  \n60932  0.00  0.01  0.00  0.0  normal.  \n60933  0.00  0.01  0.00  0.0  normal.  \n60934  0.00  0.01  0.00  0.0  normal.  \n60935  0.00  0.01  0.00  0.0  normal.  \n60936  0.00  0.01  0.00  0.0  normal.  \n\n[60937 rows x 19 columns]",
      "text/html": "<div>\n<style scoped>\n    .dataframe tbody tr th:only-of-type {\n        vertical-align: middle;\n    }\n\n    .dataframe tbody tr th {\n        vertical-align: top;\n    }\n\n    .dataframe thead th {\n        text-align: right;\n    }\n</style>\n<table border=\"1\" class=\"dataframe\">\n  <thead>\n    <tr style=\"text-align: right;\">\n      <th></th>\n      <th>0</th>\n      <th>udp</th>\n      <th>private</th>\n      <th>SF</th>\n      <th>105</th>\n      <th>146</th>\n      <th>1</th>\n      <th>1.1</th>\n      <th>1.2</th>\n      <th>0.1</th>\n      <th>0.2</th>\n      <th>255</th>\n      <th>254</th>\n      <th>1.3</th>\n      <th>0.01</th>\n      <th>0.3</th>\n      <th>0.4</th>\n      <th>0.5</th>\n      <th>normal.</th>\n    </tr>\n  </thead>\n  <tbody>\n    <tr>\n      <th>0</th>\n      <td>0</td>\n      <td>udp</td>\n      <td>private</td>\n      <td>SF</td>\n      <td>105</td>\n      <td>146</td>\n      <td>1</td>\n      <td>1</td>\n      <td>1.0</td>\n      <td>0.0</td>\n      <td>0.0</td>\n      <td>255</td>\n      <td>254</td>\n      <td>1.00</td>\n      <td>0.01</td>\n      <td>0.00</td>\n      <td>0.00</td>\n      <td>0.0</td>\n      <td>normal.</td>\n    </tr>\n    <tr>\n      <th>1</th>\n      <td>0</td>\n      <td>udp</td>\n      <td>private</td>\n      <td>SF</td>\n      <td>105</td>\n      <td>146</td>\n      <td>1</td>\n      <td>1</td>\n      <td>1.0</td>\n      <td>0.0</td>\n      <td>0.0</td>\n      <td>255</td>\n      <td>254</td>\n      <td>1.00</td>\n      <td>0.01</td>\n      <td>0.00</td>\n      <td>0.00</td>\n      <td>0.0</td>\n      <td>normal.</td>\n    </tr>\n    <tr>\n      <th>2</th>\n      <td>0</td>\n      <td>udp</td>\n      <td>domain_u</td>\n      <td>SF</td>\n      <td>29</td>\n      <td>0</td>\n      <td>2</td>\n      <td>1</td>\n      <td>0.5</td>\n      <td>1.0</td>\n      <td>0.0</td>\n      <td>10</td>\n      <td>3</td>\n      <td>0.30</td>\n      <td>0.30</td>\n      <td>0.30</td>\n      <td>0.00</td>\n      <td>0.0</td>\n      <td>normal.</td>\n    </tr>\n    <tr>\n      <th>3</th>\n      <td>0</td>\n      <td>udp</td>\n      <td>private</td>\n      <td>SF</td>\n      <td>105</td>\n      <td>146</td>\n      <td>1</td>\n      <td>1</td>\n      <td>1.0</td>\n      <td>0.0</td>\n      <td>0.0</td>\n      <td>255</td>\n      <td>253</td>\n      <td>0.99</td>\n      <td>0.01</td>\n      <td>0.00</td>\n      <td>0.00</td>\n      <td>0.0</td>\n      <td>normal.</td>\n    </tr>\n    <tr>\n      <th>4</th>\n      <td>0</td>\n      <td>tcp</td>\n      <td>http</td>\n      <td>SF</td>\n      <td>223</td>\n      <td>185</td>\n      <td>4</td>\n      <td>4</td>\n      <td>1.0</td>\n      <td>0.0</td>\n      <td>0.0</td>\n      <td>71</td>\n      <td>255</td>\n      <td>1.00</td>\n      <td>0.00</td>\n      <td>0.01</td>\n      <td>0.01</td>\n      <td>0.0</td>\n      <td>normal.</td>\n    </tr>\n    <tr>\n      <th>...</th>\n      <td>...</td>\n      <td>...</td>\n      <td>...</td>\n      <td>...</td>\n      <td>...</td>\n      <td>...</td>\n      <td>...</td>\n      <td>...</td>\n      <td>...</td>\n      <td>...</td>\n      <td>...</td>\n      <td>...</td>\n      <td>...</td>\n      <td>...</td>\n      <td>...</td>\n      <td>...</td>\n      <td>...</td>\n      <td>...</td>\n      <td>...</td>\n    </tr>\n    <tr>\n      <th>60932</th>\n      <td>0</td>\n      <td>udp</td>\n      <td>private</td>\n      <td>SF</td>\n      <td>105</td>\n      <td>147</td>\n      <td>2</td>\n      <td>2</td>\n      <td>1.0</td>\n      <td>0.0</td>\n      <td>0.0</td>\n      <td>255</td>\n      <td>255</td>\n      <td>1.00</td>\n      <td>0.00</td>\n      <td>0.01</td>\n      <td>0.00</td>\n      <td>0.0</td>\n      <td>normal.</td>\n    </tr>\n    <tr>\n      <th>60933</th>\n      <td>0</td>\n      <td>udp</td>\n      <td>private</td>\n      <td>SF</td>\n      <td>105</td>\n      <td>147</td>\n      <td>4</td>\n      <td>4</td>\n      <td>1.0</td>\n      <td>0.0</td>\n      <td>0.0</td>\n      <td>255</td>\n      <td>255</td>\n      <td>1.00</td>\n      <td>0.00</td>\n      <td>0.01</td>\n      <td>0.00</td>\n      <td>0.0</td>\n      <td>normal.</td>\n    </tr>\n    <tr>\n      <th>60934</th>\n      <td>0</td>\n      <td>udp</td>\n      <td>private</td>\n      <td>SF</td>\n      <td>105</td>\n      <td>147</td>\n      <td>2</td>\n      <td>2</td>\n      <td>1.0</td>\n      <td>0.0</td>\n      <td>0.0</td>\n      <td>255</td>\n      <td>255</td>\n      <td>1.00</td>\n      <td>0.00</td>\n      <td>0.01</td>\n      <td>0.00</td>\n      <td>0.0</td>\n      <td>normal.</td>\n    </tr>\n    <tr>\n      <th>60935</th>\n      <td>0</td>\n      <td>udp</td>\n      <td>private</td>\n      <td>SF</td>\n      <td>105</td>\n      <td>147</td>\n      <td>4</td>\n      <td>4</td>\n      <td>1.0</td>\n      <td>0.0</td>\n      <td>0.0</td>\n      <td>255</td>\n      <td>255</td>\n      <td>1.00</td>\n      <td>0.00</td>\n      <td>0.01</td>\n      <td>0.00</td>\n      <td>0.0</td>\n      <td>normal.</td>\n    </tr>\n    <tr>\n      <th>60936</th>\n      <td>0</td>\n      <td>udp</td>\n      <td>private</td>\n      <td>SF</td>\n      <td>105</td>\n      <td>147</td>\n      <td>2</td>\n      <td>2</td>\n      <td>1.0</td>\n      <td>0.0</td>\n      <td>0.0</td>\n      <td>255</td>\n      <td>255</td>\n      <td>1.00</td>\n      <td>0.00</td>\n      <td>0.01</td>\n      <td>0.00</td>\n      <td>0.0</td>\n      <td>normal.</td>\n    </tr>\n  </tbody>\n</table>\n<p>60937 rows × 19 columns</p>\n</div>"
     },
     "execution_count": 50,
     "metadata": {},
     "output_type": "execute_result"
    }
   ],
   "source": [
    "import numpy as np \n",
    "import pandas as pd \n",
    "\n",
    "data = pd.read_csv(\"malware analysis.csv\")\n",
    "data "
   ]
  },
  {
   "cell_type": "code",
   "execution_count": 51,
   "outputs": [
    {
     "name": "stdout",
     "output_type": "stream",
     "text": [
      "<class 'pandas.core.frame.DataFrame'>\n",
      "RangeIndex: 60937 entries, 0 to 60936\n",
      "Data columns (total 19 columns):\n",
      " #   Column   Non-Null Count  Dtype  \n",
      "---  ------   --------------  -----  \n",
      " 0   0        60937 non-null  int64  \n",
      " 1   udp      60937 non-null  object \n",
      " 2   private  60937 non-null  object \n",
      " 3   SF       60937 non-null  object \n",
      " 4   105      60937 non-null  int64  \n",
      " 5   146      60937 non-null  int64  \n",
      " 6   1        60937 non-null  int64  \n",
      " 7   1.1      60937 non-null  int64  \n",
      " 8   1.2      60937 non-null  float64\n",
      " 9   0.1      60937 non-null  float64\n",
      " 10  0.2      60937 non-null  float64\n",
      " 11  255      60937 non-null  int64  \n",
      " 12  254      60937 non-null  int64  \n",
      " 13  1.3      60937 non-null  float64\n",
      " 14  0.01     60937 non-null  float64\n",
      " 15  0.3      60937 non-null  float64\n",
      " 16  0.4      60937 non-null  float64\n",
      " 17  0.5      60937 non-null  float64\n",
      " 18  normal.  60937 non-null  object \n",
      "dtypes: float64(8), int64(7), object(4)\n",
      "memory usage: 8.8+ MB\n"
     ]
    }
   ],
   "source": [
    "data.info()"
   ],
   "metadata": {
    "collapsed": false,
    "ExecuteTime": {
     "end_time": "2023-11-06T17:36:59.888194Z",
     "start_time": "2023-11-06T17:36:58.305424Z"
    }
   },
   "id": "e5c74b4c1cdc62de"
  },
  {
   "cell_type": "code",
   "execution_count": 52,
   "outputs": [
    {
     "data": {
      "text/plain": "        count         mean           std  min    25%     50%      75%  \\\n0     60937.0    10.747067    536.645424  0.0    0.0    0.00     0.00   \n105   60937.0   748.052497  34170.266255  0.0  105.0  226.00   302.00   \n146   60937.0  3582.526577  36166.319605  0.0  146.0  570.00  2507.00   \n1     60937.0    14.194151     53.988606  0.0    1.0    4.00    11.00   \n1.1   60937.0    16.794493     54.906647  0.0    2.0    5.00    15.00   \n1.2   60937.0     0.994402      0.059121  0.0    1.0    1.00     1.00   \n0.1   60937.0     0.007781      0.080519  0.0    0.0    0.00     0.00   \n0.2   60937.0     0.111514      0.234407  0.0    0.0    0.00     0.12   \n255   60937.0   163.517961    102.753360  0.0   50.0  245.00   255.00   \n254   60937.0   231.014179     60.728053  0.0  253.0  255.00   255.00   \n1.3   60937.0     0.946267      0.180050  0.0    1.0    1.00     1.00   \n0.01  60937.0     0.011485      0.058272  0.0    0.0    0.00     0.01   \n0.3   60937.0     0.071381      0.199464  0.0    0.0    0.01     0.03   \n0.4   60937.0     0.019720      0.070892  0.0    0.0    0.00     0.02   \n0.5   60937.0     0.002408      0.043261  0.0    0.0    0.00     0.00   \n\n            max  \n0       54451.0  \n105   6291668.0  \n146   5203179.0  \n1         511.0  \n1.1       511.0  \n1.2         1.0  \n0.1         1.0  \n0.2         1.0  \n255       255.0  \n254       255.0  \n1.3         1.0  \n0.01        1.0  \n0.3         1.0  \n0.4         1.0  \n0.5         1.0  ",
      "text/html": "<div>\n<style scoped>\n    .dataframe tbody tr th:only-of-type {\n        vertical-align: middle;\n    }\n\n    .dataframe tbody tr th {\n        vertical-align: top;\n    }\n\n    .dataframe thead th {\n        text-align: right;\n    }\n</style>\n<table border=\"1\" class=\"dataframe\">\n  <thead>\n    <tr style=\"text-align: right;\">\n      <th></th>\n      <th>count</th>\n      <th>mean</th>\n      <th>std</th>\n      <th>min</th>\n      <th>25%</th>\n      <th>50%</th>\n      <th>75%</th>\n      <th>max</th>\n    </tr>\n  </thead>\n  <tbody>\n    <tr>\n      <th>0</th>\n      <td>60937.0</td>\n      <td>10.747067</td>\n      <td>536.645424</td>\n      <td>0.0</td>\n      <td>0.0</td>\n      <td>0.00</td>\n      <td>0.00</td>\n      <td>54451.0</td>\n    </tr>\n    <tr>\n      <th>105</th>\n      <td>60937.0</td>\n      <td>748.052497</td>\n      <td>34170.266255</td>\n      <td>0.0</td>\n      <td>105.0</td>\n      <td>226.00</td>\n      <td>302.00</td>\n      <td>6291668.0</td>\n    </tr>\n    <tr>\n      <th>146</th>\n      <td>60937.0</td>\n      <td>3582.526577</td>\n      <td>36166.319605</td>\n      <td>0.0</td>\n      <td>146.0</td>\n      <td>570.00</td>\n      <td>2507.00</td>\n      <td>5203179.0</td>\n    </tr>\n    <tr>\n      <th>1</th>\n      <td>60937.0</td>\n      <td>14.194151</td>\n      <td>53.988606</td>\n      <td>0.0</td>\n      <td>1.0</td>\n      <td>4.00</td>\n      <td>11.00</td>\n      <td>511.0</td>\n    </tr>\n    <tr>\n      <th>1.1</th>\n      <td>60937.0</td>\n      <td>16.794493</td>\n      <td>54.906647</td>\n      <td>0.0</td>\n      <td>2.0</td>\n      <td>5.00</td>\n      <td>15.00</td>\n      <td>511.0</td>\n    </tr>\n    <tr>\n      <th>1.2</th>\n      <td>60937.0</td>\n      <td>0.994402</td>\n      <td>0.059121</td>\n      <td>0.0</td>\n      <td>1.0</td>\n      <td>1.00</td>\n      <td>1.00</td>\n      <td>1.0</td>\n    </tr>\n    <tr>\n      <th>0.1</th>\n      <td>60937.0</td>\n      <td>0.007781</td>\n      <td>0.080519</td>\n      <td>0.0</td>\n      <td>0.0</td>\n      <td>0.00</td>\n      <td>0.00</td>\n      <td>1.0</td>\n    </tr>\n    <tr>\n      <th>0.2</th>\n      <td>60937.0</td>\n      <td>0.111514</td>\n      <td>0.234407</td>\n      <td>0.0</td>\n      <td>0.0</td>\n      <td>0.00</td>\n      <td>0.12</td>\n      <td>1.0</td>\n    </tr>\n    <tr>\n      <th>255</th>\n      <td>60937.0</td>\n      <td>163.517961</td>\n      <td>102.753360</td>\n      <td>0.0</td>\n      <td>50.0</td>\n      <td>245.00</td>\n      <td>255.00</td>\n      <td>255.0</td>\n    </tr>\n    <tr>\n      <th>254</th>\n      <td>60937.0</td>\n      <td>231.014179</td>\n      <td>60.728053</td>\n      <td>0.0</td>\n      <td>253.0</td>\n      <td>255.00</td>\n      <td>255.00</td>\n      <td>255.0</td>\n    </tr>\n    <tr>\n      <th>1.3</th>\n      <td>60937.0</td>\n      <td>0.946267</td>\n      <td>0.180050</td>\n      <td>0.0</td>\n      <td>1.0</td>\n      <td>1.00</td>\n      <td>1.00</td>\n      <td>1.0</td>\n    </tr>\n    <tr>\n      <th>0.01</th>\n      <td>60937.0</td>\n      <td>0.011485</td>\n      <td>0.058272</td>\n      <td>0.0</td>\n      <td>0.0</td>\n      <td>0.00</td>\n      <td>0.01</td>\n      <td>1.0</td>\n    </tr>\n    <tr>\n      <th>0.3</th>\n      <td>60937.0</td>\n      <td>0.071381</td>\n      <td>0.199464</td>\n      <td>0.0</td>\n      <td>0.0</td>\n      <td>0.01</td>\n      <td>0.03</td>\n      <td>1.0</td>\n    </tr>\n    <tr>\n      <th>0.4</th>\n      <td>60937.0</td>\n      <td>0.019720</td>\n      <td>0.070892</td>\n      <td>0.0</td>\n      <td>0.0</td>\n      <td>0.00</td>\n      <td>0.02</td>\n      <td>1.0</td>\n    </tr>\n    <tr>\n      <th>0.5</th>\n      <td>60937.0</td>\n      <td>0.002408</td>\n      <td>0.043261</td>\n      <td>0.0</td>\n      <td>0.0</td>\n      <td>0.00</td>\n      <td>0.00</td>\n      <td>1.0</td>\n    </tr>\n  </tbody>\n</table>\n</div>"
     },
     "execution_count": 52,
     "metadata": {},
     "output_type": "execute_result"
    }
   ],
   "source": [
    "data.describe().T"
   ],
   "metadata": {
    "collapsed": false,
    "ExecuteTime": {
     "end_time": "2023-11-06T17:36:59.888610Z",
     "start_time": "2023-11-06T17:36:58.324908Z"
    }
   },
   "id": "2fbbe88a4160ac04"
  },
  {
   "cell_type": "code",
   "execution_count": 53,
   "outputs": [
    {
     "name": "stdout",
     "output_type": "stream",
     "text": [
      "0 [    0     1     2     3     4     5     6     7     8     9    10    11\n",
      "    12    13    14    15    16    17    18    20    21    22    23    24\n",
      "    25    26    27    28    29    30    31    32    33    34    35    36\n",
      "    37    38    39    40    41    43    44    46    47    48    49    50\n",
      "    51    53    54    56    57    58    59    60    61    62    63    64\n",
      "    65    67    68    69    71    72    73    74    75    77    78    79\n",
      "    81    82    84    87    88    89    90    91    92    93    94    95\n",
      "    96    97    99   104   106   107   109   112   113   115   116   117\n",
      "   118   120   121   126   127   128   131   133   136   137   138   139\n",
      "   140   141   142   143   144   148   149   154   157   158   160   161\n",
      "   162   163   164   170   171   172   181   182   183   185   186   189\n",
      "   190   192   194   198   202   205   207   208   212   214   219   228\n",
      "   235   238   239   245   249   253   254   261   265   292   293   297\n",
      "   308   315   328   342   345   360   366   373   380   408   428   431\n",
      "   432   434   440   467   483   520   553   560   652   657   673   684\n",
      "   711   717   731   767   804   900   904   988  1104  1179  1181  1578\n",
      "  1964  2224  2359  2360  2362  2417  2873  2927  3054  3454  3616  3702\n",
      "  3929  4209  4497  4560  4906  4928  5431  5566  6103  6153  8579  8890\n",
      "  9464  9645 10071 10239 10499 11646 11675 12112 12931 13067 13185 13379\n",
      " 16500 20741 22174 38701 42689 47114 53011 53771 54451]\n",
      "1 ['icmp' 'tcp' 'udp']\n",
      "2 ['IRC' 'X11' 'auth' 'domain_u' 'eco_i' 'ecr_i' 'finger' 'ftp' 'ftp_data'\n",
      " 'http' 'icmp' 'link' 'ntp_u' 'other' 'pop_3' 'private' 'remote_job'\n",
      " 'smtp' 'telnet' 'tftp_u' 'tim_i' 'time' 'urp_i']\n",
      "3 ['REJ' 'RSTO' 'RSTOS0' 'RSTR' 'S1' 'S2' 'S3' 'SF']\n",
      "4 [      0       1       2 ... 3131464 3886954 6291668]\n",
      "5 [      0       1       4 ... 2881112 3034929 5203179]\n",
      "6 [  0   1   2   3   4   5   6   7   8   9  10  11  12  13  14  15  16  17\n",
      "  18  19  20  21  22  23  24  25  26  27  28  29  30  31  32  33  34  35\n",
      "  36  37  38  39  40  41  42  43  44  45  46  47  48  49  50  51  52  53\n",
      "  54  55  56  57  58  59  60  61  62  63  64  65  66  67  68  69  70  71\n",
      "  72  73  74  75  76  77  78  79  80  81  82  83  84  85  86  87  88  89\n",
      "  90  91  92  93  94  95  96  97  98  99 100 101 102 103 104 105 106 107\n",
      " 108 109 110 111 112 113 114 115 116 117 118 119 120 121 122 123 124 125\n",
      " 126 127 128 129 130 131 132 133 134 135 136 137 138 139 140 141 142 143\n",
      " 144 145 146 147 148 149 150 151 152 153 154 155 156 157 158 159 160 161\n",
      " 162 163 164 165 166 168 169 170 171 172 173 175 176 177 178 179 181 182\n",
      " 183 185 186 187 188 189 191 192 193 195 196 197 198 199 200 201 202 203\n",
      " 204 205 206 207 208 209 210 211 212 213 215 216 217 218 219 221 222 223\n",
      " 225 226 227 228 229 230 231 232 233 235 236 237 238 239 240 243 245 246\n",
      " 248 249 250 252 260 264 265 266 268 274 278 279 281 285 286 290 293 294\n",
      " 297 301 302 305 306 307 308 309 311 312 316 318 319 323 325 326 327 333\n",
      " 335 336 338 340 343 346 347 353 354 359 360 363 369 370 373 374 376 379\n",
      " 380 382 383 387 389 392 394 399 401 402 403 404 405 407 409 425 427 431\n",
      " 442 445 453 458 461 466 472 473 474 478 480 481 483 485 491 493 494 495\n",
      " 498 501 502 503 505 506 507 508 509 510 511]\n",
      "7 [  0   1   2   3   4   5   6   7   8   9  10  11  12  13  14  15  16  17\n",
      "  18  19  20  21  22  23  24  25  26  27  28  29  30  31  32  33  34  35\n",
      "  36  37  38  39  40  41  42  43  44  45  46  47  48  49  50  51  52  53\n",
      "  54  55  56  57  58  59  60  61  62  63  64  65  66  67  68  69  70  71\n",
      "  72  73  74  75  76  77  78  79  80  81  82  83  84  85  86  87  88  89\n",
      "  90  91  92  93  94  95  96  97  98  99 100 101 102 103 104 105 106 107\n",
      " 108 109 110 111 112 113 114 115 116 117 118 119 120 121 122 123 124 125\n",
      " 126 127 128 129 130 131 132 133 134 135 136 137 138 139 140 141 142 143\n",
      " 144 145 146 147 148 149 150 151 152 153 154 155 156 157 158 159 160 161\n",
      " 162 163 164 165 166 167 168 169 170 171 172 173 174 175 176 177 178 179\n",
      " 180 181 182 183 184 185 186 187 188 189 190 191 192 193 194 195 196 197\n",
      " 198 199 200 201 202 203 204 205 206 207 208 209 210 211 212 213 214 215\n",
      " 216 217 218 219 220 221 222 223 224 225 226 227 228 229 230 231 232 233\n",
      " 234 235 236 237 238 239 240 243 245 246 248 249 250 252 260 264 265 266\n",
      " 268 274 278 279 281 285 286 290 293 294 297 301 302 305 306 307 308 309\n",
      " 311 312 316 318 319 323 325 326 327 333 335 336 338 340 343 346 347 353\n",
      " 354 359 360 363 370 373 374 376 380 382 383 384 387 392 394 399 401 402\n",
      " 403 404 405 407 414 425 427 431 442 445 453 458 461 466 472 474 478 480\n",
      " 481 483 491 493 494 495 498 501 502 503 505 506 507 508 509 510 511]\n",
      "8 [0.   0.01 0.02 0.03 0.04 0.05 0.06 0.07 0.08 0.09 0.1  0.11 0.12 0.13\n",
      " 0.14 0.15 0.16 0.17 0.18 0.19 0.2  0.21 0.23 0.24 0.25 0.26 0.27 0.29\n",
      " 0.3  0.33 0.34 0.35 0.36 0.38 0.39 0.4  0.41 0.42 0.43 0.46 0.47 0.5\n",
      " 0.53 0.56 0.57 0.67 0.73 0.75 0.78 0.8  0.83 0.85 0.86 0.88 0.89 0.9\n",
      " 0.91 0.92 0.93 0.94 0.95 0.96 0.97 0.98 0.99 1.  ]\n",
      "9 [0.   0.01 0.02 0.03 0.04 0.05 0.06 0.07 0.08 0.09 0.11 0.12 0.13 0.14\n",
      " 0.15 0.17 0.18 0.2  0.21 0.22 0.23 0.24 0.25 0.26 0.27 0.28 0.29 0.3\n",
      " 0.32 0.33 0.34 0.35 0.38 0.39 0.4  0.41 0.43 0.44 0.45 0.46 0.47 0.48\n",
      " 0.49 0.5  0.51 0.52 0.54 0.55 0.56 0.57 0.58 0.59 0.6  0.61 0.63 0.65\n",
      " 0.66 0.67 0.68 0.69 0.7  0.71 0.72 0.74 0.75 0.76 0.77 0.78 0.8  0.82\n",
      " 0.83 0.85 0.86 0.87 0.88 0.91 0.92 0.94 0.96 0.97 0.98 0.99 1.  ]\n",
      "10 [0.   0.01 0.02 0.03 0.04 0.05 0.06 0.07 0.08 0.09 0.1  0.11 0.12 0.13\n",
      " 0.14 0.15 0.16 0.17 0.18 0.19 0.2  0.21 0.22 0.23 0.24 0.25 0.26 0.27\n",
      " 0.28 0.29 0.3  0.31 0.32 0.33 0.35 0.36 0.37 0.38 0.39 0.4  0.42 0.43\n",
      " 0.44 0.45 0.46 0.47 0.5  0.54 0.55 0.56 0.57 0.6  0.62 0.64 0.67 0.71\n",
      " 0.75 0.8  0.83 0.86 0.88 1.  ]\n",
      "11 [  0   1   2   3   4   5   6   7   8   9  10  11  12  13  14  15  16  17\n",
      "  18  19  20  21  22  23  24  25  26  27  28  29  30  31  32  33  34  35\n",
      "  36  37  38  39  40  41  42  43  44  45  46  47  48  49  50  51  52  53\n",
      "  54  55  56  57  58  59  60  61  62  63  64  65  66  67  68  69  70  71\n",
      "  72  73  74  75  76  77  78  79  80  81  82  83  84  85  86  87  88  89\n",
      "  90  91  92  93  94  95  96  97  98  99 100 101 102 103 104 105 106 107\n",
      " 108 109 110 111 112 113 114 115 116 117 118 119 120 121 122 123 124 125\n",
      " 126 127 128 129 130 131 132 133 134 135 136 137 138 139 140 141 142 143\n",
      " 144 145 146 147 148 149 150 151 152 153 154 155 156 157 158 159 160 161\n",
      " 162 163 164 165 166 167 168 169 170 171 172 173 174 175 176 177 178 179\n",
      " 180 181 182 183 184 185 186 187 188 189 190 191 192 193 194 195 196 197\n",
      " 198 199 200 201 202 203 204 205 206 207 208 209 210 211 212 213 214 215\n",
      " 216 217 218 219 220 221 222 223 224 225 226 227 228 229 230 231 232 233\n",
      " 234 235 236 237 238 239 240 241 242 243 244 245 246 247 248 249 250 251\n",
      " 252 253 254 255]\n",
      "12 [  0   1   2   3   4   5   6   7   8   9  10  11  12  13  14  15  16  17\n",
      "  18  19  20  21  22  23  24  25  26  27  28  29  30  31  32  33  34  35\n",
      "  36  37  38  39  40  41  42  43  44  45  46  47  48  49  50  51  52  53\n",
      "  54  55  56  57  58  59  60  61  62  63  64  65  66  67  68  69  70  71\n",
      "  72  73  74  75  76  77  78  79  80  81  82  83  84  85  86  87  88  89\n",
      "  90  91  92  93  94  95  96  97  98  99 100 101 102 103 104 105 106 107\n",
      " 108 109 110 111 112 113 114 115 116 117 118 119 120 121 122 123 124 125\n",
      " 126 127 128 129 130 131 132 133 134 135 136 137 138 139 140 141 142 143\n",
      " 144 145 146 147 148 149 150 151 152 153 154 155 156 157 158 159 160 161\n",
      " 162 163 164 165 166 167 168 169 170 171 172 173 174 175 176 177 178 179\n",
      " 180 181 182 183 184 185 186 187 188 189 190 191 192 193 194 195 196 197\n",
      " 198 199 200 201 202 203 204 205 206 207 208 209 210 211 212 213 214 215\n",
      " 216 217 218 219 220 221 222 223 224 225 226 227 228 229 230 231 232 233\n",
      " 234 235 236 237 238 239 240 241 242 243 244 245 246 247 248 249 250 251\n",
      " 252 253 254 255]\n",
      "13 [0.   0.01 0.02 0.03 0.04 0.05 0.06 0.07 0.08 0.09 0.1  0.11 0.12 0.13\n",
      " 0.14 0.15 0.16 0.17 0.18 0.19 0.2  0.21 0.22 0.23 0.24 0.25 0.26 0.27\n",
      " 0.28 0.29 0.3  0.31 0.32 0.33 0.34 0.35 0.36 0.37 0.38 0.39 0.4  0.41\n",
      " 0.42 0.43 0.44 0.45 0.46 0.47 0.48 0.49 0.5  0.51 0.52 0.53 0.54 0.55\n",
      " 0.56 0.57 0.58 0.59 0.6  0.61 0.62 0.63 0.64 0.65 0.66 0.67 0.68 0.69\n",
      " 0.7  0.71 0.72 0.73 0.74 0.75 0.76 0.77 0.78 0.79 0.8  0.81 0.82 0.83\n",
      " 0.84 0.85 0.86 0.87 0.88 0.89 0.9  0.91 0.92 0.93 0.94 0.95 0.96 0.97\n",
      " 0.98 0.99 1.  ]\n",
      "14 [0.   0.01 0.02 0.03 0.04 0.05 0.06 0.07 0.08 0.09 0.1  0.11 0.12 0.13\n",
      " 0.14 0.15 0.16 0.17 0.18 0.19 0.2  0.21 0.22 0.23 0.24 0.25 0.26 0.27\n",
      " 0.28 0.29 0.3  0.31 0.32 0.33 0.35 0.36 0.37 0.38 0.39 0.4  0.41 0.42\n",
      " 0.43 0.44 0.45 0.46 0.47 0.48 0.49 0.5  0.51 0.52 0.53 0.54 0.55 0.56\n",
      " 0.57 0.58 0.59 0.6  0.61 0.62 0.63 0.64 0.65 0.66 0.67 0.68 0.69 0.7\n",
      " 0.71 0.72 0.73 0.74 0.75 0.76 0.77 0.78 0.79 0.8  0.81 0.82 0.83 0.84\n",
      " 0.85 0.86 0.87 0.88 0.89 0.9  0.91 0.92 0.93 0.94 0.95 0.96 0.97 0.98\n",
      " 0.99 1.  ]\n",
      "15 [0.   0.01 0.02 0.03 0.04 0.05 0.06 0.07 0.08 0.09 0.1  0.11 0.12 0.13\n",
      " 0.14 0.15 0.16 0.17 0.18 0.19 0.2  0.21 0.22 0.23 0.24 0.25 0.26 0.27\n",
      " 0.28 0.29 0.3  0.31 0.32 0.33 0.34 0.35 0.36 0.37 0.38 0.39 0.4  0.41\n",
      " 0.42 0.43 0.44 0.45 0.46 0.47 0.48 0.49 0.5  0.51 0.52 0.53 0.54 0.55\n",
      " 0.56 0.57 0.58 0.59 0.6  0.61 0.62 0.63 0.64 0.65 0.66 0.67 0.68 0.69\n",
      " 0.7  0.71 0.72 0.73 0.74 0.75 0.76 0.77 0.78 0.79 0.8  0.81 0.82 0.83\n",
      " 0.84 0.85 0.86 0.87 0.88 0.89 0.9  0.91 0.92 0.93 0.94 0.95 0.96 0.97\n",
      " 0.98 0.99 1.  ]\n",
      "16 [0.   0.01 0.02 0.03 0.04 0.05 0.06 0.07 0.08 0.09 0.1  0.11 0.12 0.13\n",
      " 0.14 0.15 0.16 0.17 0.18 0.19 0.2  0.21 0.22 0.23 0.24 0.25 0.26 0.27\n",
      " 0.28 0.29 0.3  0.31 0.33 0.38 0.39 0.4  0.41 0.43 0.46 0.47 0.48 0.5\n",
      " 0.51 0.52 0.53 0.55 0.56 0.57 0.6  0.62 0.67 0.75 1.  ]\n",
      "17 [0.   0.01 0.02 0.03 0.04 0.05 0.06 0.07 0.08 0.09 0.11 0.12 0.13 0.14\n",
      " 0.15 0.17 0.21 0.24 0.25 0.31 0.33 0.45 0.46 0.47 0.48 0.5  0.52 0.53\n",
      " 0.55 0.57 0.58 0.59 0.6  0.62 0.66 0.67 0.68 0.69 0.7  0.72 0.73 0.74\n",
      " 0.75 0.8  0.86 0.88 0.89 0.9  0.98 1.  ]\n",
      "18 ['buffer_overflow.' 'ipsweep.' 'normal.' 'rootkit.' 'sqlattack.' 'worm.']\n"
     ]
    }
   ],
   "source": [
    "num_inst, num_features = data.shape\n",
    "\n",
    "for f in range(num_features):\n",
    "    print (f, np.unique(data.iloc[:,f]))"
   ],
   "metadata": {
    "collapsed": false,
    "ExecuteTime": {
     "end_time": "2023-11-06T17:36:59.888829Z",
     "start_time": "2023-11-06T17:36:58.360763Z"
    }
   },
   "id": "845ff3db78b1aad0"
  },
  {
   "cell_type": "markdown",
   "source": [
    "# List of Features with Explanations\n",
    "\n",
    "1. **0** :  this feature contain the numbers from 0 to 54451 \n",
    "2. **tcp** : it contains three different type of protocols: \n",
    "    - **tcp** : Transmission Control Protocol\n",
    "    - **udp** : User Datagram Protocol\n",
    "    - **icmp** : Internet Control Message Protocol \n",
    "3. **private** : This list is related to network services and protocols, often associated with TCP/IP networking. These labels represent various network service types, often used to classify traffic or activity on a network. Each label corresponds to a specific service or protocol, and they are commonly used in network monitoring and security contexts. Here's a brief explanation of each of the labels in the list:\n",
    "\n",
    "    1. **IRC:** Internet Relay Chat, a protocol used for real-time text messaging or chat over the internet.\n",
    "\n",
    "    2. **X11:** The X Window System, a network protocol used for graphical user interfaces in Unix-like operating systems.\n",
    "\n",
    "    3. **auth:** Authentication service, often related to the process of user authentication.\n",
    "\n",
    "    4. **domain_u:** Unregistered domain service.\n",
    "\n",
    "    5. **eco_i:** E-COMMERCE service.\n",
    "\n",
    "    6. **ecr_i:** E-COMMERCE, results.\n",
    "\n",
    "    7. **finger:** The Finger protocol, used for querying information about users on a network.\n",
    "\n",
    "    8. **ftp:** File Transfer Protocol, used for transferring files between computers over a network.\n",
    "\n",
    "    9. **ftp_data:** FTP data transfer service, used for the actual data transfer in FTP.\n",
    "\n",
    "    10. **http:** Hypertext Transfer Protocol, the protocol used for web browsing.\n",
    "\n",
    "    11. **icmp:** Internet Control Message Protocol, used for network diagnostics and error reporting.\n",
    "\n",
    "    12. **link:** Network link service.\n",
    "\n",
    "    13. **ntp_u:** Network Time Protocol (NTP), unregistered.\n",
    "\n",
    "    14. **other:** A catch-all category for other or unclassified services.\n",
    "\n",
    "    15. **pop_3:** Post Office Protocol version 3, used for retrieving email from a server.\n",
    "\n",
    "    16. **private:** A label often used for private or non-standard services.\n",
    "\n",
    "    17. **remote_job:** Remote job entry service.\n",
    "\n",
    "    18. **smtp:** Simple Mail Transfer Protocol, used for sending email.\n",
    "\n",
    "    19. **telnet:** Telnet, a network protocol for remote terminal access.\n",
    "\n",
    "    20. **tftp_u:** Trivial File Transfer Protocol (TFTP), unregistered.\n",
    "\n",
    "    21. **tim_i:** Time service, results.\n",
    "\n",
    "    22. **time:** Time service.\n",
    "\n",
    "    23. **urp_i:** URP (URL Rendition Protocol) results.\n",
    "\n",
    "    These labels are commonly used in network traffic analysis, intrusion detection systems, and log analysis to classify and understand the nature of network traffic and the services being accessed or used. They help network administrators and security professionals identify and respond to potential security threats and anomalies in network activity.\n",
    "\n",
    "4. **SF** : The terms **\"REJ,\" \"RSTO,\" \"RSTOS0,\" \"RSTR,\" \"S1,\" \"S2,\" \"S3,\" and \"SF\"** are typically related to network scanning and port scanning techniques rather than the core TCP/IP protocol itself. These terms are often associated with the *nmap tool*, which is a popular open-source network scanning tool used for discovering open ports, identifying services running on those ports, and assessing the security of a network : \n",
    "    - **REJ** : This indicates that the scanned port is unreachable or blocked. Nmap receives a \"reject\" response when it attempts to connect to a port.\n",
    "    - **RSTO** : This stands for \"Reset TCP Port Closed.\" It means that the port is closed, and a TCP reset (RST) packet was received in response to the connection attempt.\n",
    "    - **RSTOS0** : Similar to RSTO, but it also means that the system sent an RST packet to close the port.\n",
    "    - **RSTR** : This indicates that the port is closed but is in a \"reset\" state, meaning that a reset (RST) packet was sent in response to the connection attempt.\n",
    "    - **S1, S2, S3** : These terms represent different states of nmap's scanning process:\n",
    "        - **S1** : Indicates that the scan is in progress.\n",
    "        - **S2**: Signifies that the scan is 50% complete.\n",
    "        - **S3**: Indicates that the scan is 75% complete.\n",
    "    - **SF**: This stands for \"SYN ACK TCP Port Open.\" It indicates that the scanned port is open, and a SYN-ACK response was received in response to the connection attempt. This is a common result when a port is open and actively accepting connections.\n",
    " \n",
    "    Nmap uses various scan techniques to determine the state of ports on a target system. These codes and terms help users interpret the results of an nmap scan and understand the state of each scanned port on the target system.\n",
    "\n",
    "    Keep in mind that these terms are specific to nmap and may not be relevant in all network scanning or TCP/IP contexts. They are primarily used by security professionals and network administrators for assessing the security and configuration of networked systems.\n",
    "   \n",
    "5. **105,146,1,1,1.0,0.0,0.00,255,254,1.00,0.01,0.00,0.00,0.00** : These numerical values represent various attributes or characteristics of the network event. Without a legend or context, it's challenging to provide specific meanings for these numbers. They could represent features related to the network traffic, such as port numbers, packet sizes, or other metrics. For examples :\n",
    "    - **105,146,1,1,1.0,0.0,0.00** : it seems like **Source IP Address**\n",
    "    - **255,254,1.00,0.01,0.00,0.00,0.00** : it seems like **Destination IP Address**\n",
    "\n",
    "6. **normal** : This list which includes labels like **\"buffer_overflow,\" \"ipsweep,\" \"normal,\" \"rootkit,\" \"sqlattack,\" and \"worm\"** is related to network security and intrusion detection. These labels are often associated with network traffic or event classification in the context of cybersecurity and intrusion detection systems. They are not directly related to TCP/IP but are used to categorize and identify different types of network activities and security incidents. These labels can help security professionals and tools like Intrusion Detection Systems (IDS) and Intrusion Prevention Systems (IPS) identify and respond to potential threats and security breaches. Here's a brief explanation of each label:\n",
    "\n",
    "    1. **buffer_overflow:** This label is often associated with attempts to exploit buffer overflow vulnerabilities in software. Buffer overflows can be used to execute arbitrary code or crash a program, and they are often seen as a security threat.\n",
    "\n",
    "    2. **ipsweep:** This label indicates activities that involve scanning a range of IP addresses to gather information about potential targets. It is a common precursor to various types of network attacks.\n",
    "\n",
    "    3. **normal:** This label represents network traffic that is considered normal and does not raise any security concerns. It is used as a baseline for comparison with potentially suspicious or malicious activities.\n",
    "\n",
    "    4. **rootkit:** Rootkits are malicious software or tools that are designed to gain unauthorized access to a computer or network. This label may be used when there are signs of rootkit activity.\n",
    "\n",
    "    5. **sqlattack:** This label is associated with SQL injection attacks, where attackers attempt to manipulate or exploit vulnerabilities in web applications or databases by injecting SQL code.\n",
    "\n",
    "    6. **worm:** Worms are self-replicating malware that can spread across networks without human intervention. This label may be used when there is evidence of worm-like behavior in network traffic.\n",
    "\n",
    "    These labels help security professionals and security tools classify and respond to different types of network events or anomalies, making it easier to identify and mitigate security threats.\n",
    "\n"
   ],
   "metadata": {
    "collapsed": false
   },
   "id": "5ac123d0de6ee2f6"
  },
  {
   "cell_type": "markdown",
   "source": [
    "https://www.kaggle.com/datasets/paytonjabir/comprehensive-malware-datasets/data"
   ],
   "metadata": {
    "collapsed": false
   },
   "id": "645bd3428d33124e"
  },
  {
   "cell_type": "markdown",
   "source": [
    "# Clean the Data \n",
    "After a first analysis, I decided to use this dataset. Because it has enough instance to make a good prediction.\n",
    "Right now I have to clean the dataset to prepare it for the first part of the study."
   ],
   "metadata": {
    "collapsed": false
   },
   "id": "26330140cdd477f3"
  },
  {
   "cell_type": "code",
   "execution_count": 54,
   "outputs": [],
   "source": [
    "from sklearn.model_selection import train_test_split\n",
    "\n",
    "# drop label columns\n",
    "X = data.drop(columns=['normal.'])\n",
    "\n",
    "# isolate y\n",
    "y = data['normal.']\n",
    "\n",
    "# split in Train-set(80%) and Testing-set(20%)\n",
    "X_train, X_test, y_train, y_test = train_test_split( X, y, test_size=0.20) "
   ],
   "metadata": {
    "collapsed": false,
    "ExecuteTime": {
     "end_time": "2023-11-06T17:36:59.888924Z",
     "start_time": "2023-11-06T17:36:58.463869Z"
    }
   },
   "id": "975aba075e529d3"
  },
  {
   "cell_type": "code",
   "execution_count": 55,
   "outputs": [
    {
     "data": {
      "text/plain": "(48749, 18)"
     },
     "execution_count": 55,
     "metadata": {},
     "output_type": "execute_result"
    }
   ],
   "source": [
    "X_train.shape "
   ],
   "metadata": {
    "collapsed": false,
    "ExecuteTime": {
     "end_time": "2023-11-06T17:36:59.900784Z",
     "start_time": "2023-11-06T17:36:58.472766Z"
    }
   },
   "id": "35fe6a76e9d365a4"
  },
  {
   "cell_type": "code",
   "execution_count": 56,
   "outputs": [
    {
     "data": {
      "text/plain": "((60937, 18), (48749, 18), (12188, 18))"
     },
     "execution_count": 56,
     "metadata": {},
     "output_type": "execute_result"
    }
   ],
   "source": [
    "X.shape, X_train.shape, X_test.shape"
   ],
   "metadata": {
    "collapsed": false,
    "ExecuteTime": {
     "end_time": "2023-11-06T17:36:59.901015Z",
     "start_time": "2023-11-06T17:36:58.476425Z"
    }
   },
   "id": "5f377fbd0c708314"
  },
  {
   "cell_type": "code",
   "execution_count": 57,
   "outputs": [
    {
     "data": {
      "text/plain": "30765    normal.\n25772    normal.\n2519     normal.\n28743    normal.\n397      normal.\n          ...   \n17766    normal.\n18878    normal.\n24097    normal.\n9067     normal.\n1687     normal.\nName: normal., Length: 12188, dtype: object"
     },
     "execution_count": 57,
     "metadata": {},
     "output_type": "execute_result"
    }
   ],
   "source": [
    "y_test"
   ],
   "metadata": {
    "collapsed": false,
    "ExecuteTime": {
     "end_time": "2023-11-06T17:36:59.901213Z",
     "start_time": "2023-11-06T17:36:58.480782Z"
    }
   },
   "id": "7d2cdf82ad199529"
  },
  {
   "cell_type": "code",
   "execution_count": 58,
   "outputs": [
    {
     "data": {
      "text/plain": "       0  udp   private  SF  105  146  1  1.1  1.2  0.1  0.2  255  254   1.3  \\\n0      0  udp   private  SF  105  146  1    1  1.0  0.0  0.0  255  254  1.00   \n1      0  udp   private  SF  105  146  1    1  1.0  0.0  0.0  255  254  1.00   \n2      0  udp  domain_u  SF   29    0  2    1  0.5  1.0  0.0   10    3  0.30   \n3      0  udp   private  SF  105  146  1    1  1.0  0.0  0.0  255  253  0.99   \n4      0  tcp      http  SF  223  185  4    4  1.0  0.0  0.0   71  255  1.00   \n...   ..  ...       ...  ..  ...  ... ..  ...  ...  ...  ...  ...  ...   ...   \n60932  0  udp   private  SF  105  147  2    2  1.0  0.0  0.0  255  255  1.00   \n60933  0  udp   private  SF  105  147  4    4  1.0  0.0  0.0  255  255  1.00   \n60934  0  udp   private  SF  105  147  2    2  1.0  0.0  0.0  255  255  1.00   \n60935  0  udp   private  SF  105  147  4    4  1.0  0.0  0.0  255  255  1.00   \n60936  0  udp   private  SF  105  147  2    2  1.0  0.0  0.0  255  255  1.00   \n\n       0.01   0.3   0.4  0.5  normal.  \n0      0.01  0.00  0.00  0.0  normal.  \n1      0.01  0.00  0.00  0.0  normal.  \n2      0.30  0.30  0.00  0.0  normal.  \n3      0.01  0.00  0.00  0.0  normal.  \n4      0.00  0.01  0.01  0.0  normal.  \n...     ...   ...   ...  ...      ...  \n60932  0.00  0.01  0.00  0.0  normal.  \n60933  0.00  0.01  0.00  0.0  normal.  \n60934  0.00  0.01  0.00  0.0  normal.  \n60935  0.00  0.01  0.00  0.0  normal.  \n60936  0.00  0.01  0.00  0.0  normal.  \n\n[60937 rows x 19 columns]",
      "text/html": "<div>\n<style scoped>\n    .dataframe tbody tr th:only-of-type {\n        vertical-align: middle;\n    }\n\n    .dataframe tbody tr th {\n        vertical-align: top;\n    }\n\n    .dataframe thead th {\n        text-align: right;\n    }\n</style>\n<table border=\"1\" class=\"dataframe\">\n  <thead>\n    <tr style=\"text-align: right;\">\n      <th></th>\n      <th>0</th>\n      <th>udp</th>\n      <th>private</th>\n      <th>SF</th>\n      <th>105</th>\n      <th>146</th>\n      <th>1</th>\n      <th>1.1</th>\n      <th>1.2</th>\n      <th>0.1</th>\n      <th>0.2</th>\n      <th>255</th>\n      <th>254</th>\n      <th>1.3</th>\n      <th>0.01</th>\n      <th>0.3</th>\n      <th>0.4</th>\n      <th>0.5</th>\n      <th>normal.</th>\n    </tr>\n  </thead>\n  <tbody>\n    <tr>\n      <th>0</th>\n      <td>0</td>\n      <td>udp</td>\n      <td>private</td>\n      <td>SF</td>\n      <td>105</td>\n      <td>146</td>\n      <td>1</td>\n      <td>1</td>\n      <td>1.0</td>\n      <td>0.0</td>\n      <td>0.0</td>\n      <td>255</td>\n      <td>254</td>\n      <td>1.00</td>\n      <td>0.01</td>\n      <td>0.00</td>\n      <td>0.00</td>\n      <td>0.0</td>\n      <td>normal.</td>\n    </tr>\n    <tr>\n      <th>1</th>\n      <td>0</td>\n      <td>udp</td>\n      <td>private</td>\n      <td>SF</td>\n      <td>105</td>\n      <td>146</td>\n      <td>1</td>\n      <td>1</td>\n      <td>1.0</td>\n      <td>0.0</td>\n      <td>0.0</td>\n      <td>255</td>\n      <td>254</td>\n      <td>1.00</td>\n      <td>0.01</td>\n      <td>0.00</td>\n      <td>0.00</td>\n      <td>0.0</td>\n      <td>normal.</td>\n    </tr>\n    <tr>\n      <th>2</th>\n      <td>0</td>\n      <td>udp</td>\n      <td>domain_u</td>\n      <td>SF</td>\n      <td>29</td>\n      <td>0</td>\n      <td>2</td>\n      <td>1</td>\n      <td>0.5</td>\n      <td>1.0</td>\n      <td>0.0</td>\n      <td>10</td>\n      <td>3</td>\n      <td>0.30</td>\n      <td>0.30</td>\n      <td>0.30</td>\n      <td>0.00</td>\n      <td>0.0</td>\n      <td>normal.</td>\n    </tr>\n    <tr>\n      <th>3</th>\n      <td>0</td>\n      <td>udp</td>\n      <td>private</td>\n      <td>SF</td>\n      <td>105</td>\n      <td>146</td>\n      <td>1</td>\n      <td>1</td>\n      <td>1.0</td>\n      <td>0.0</td>\n      <td>0.0</td>\n      <td>255</td>\n      <td>253</td>\n      <td>0.99</td>\n      <td>0.01</td>\n      <td>0.00</td>\n      <td>0.00</td>\n      <td>0.0</td>\n      <td>normal.</td>\n    </tr>\n    <tr>\n      <th>4</th>\n      <td>0</td>\n      <td>tcp</td>\n      <td>http</td>\n      <td>SF</td>\n      <td>223</td>\n      <td>185</td>\n      <td>4</td>\n      <td>4</td>\n      <td>1.0</td>\n      <td>0.0</td>\n      <td>0.0</td>\n      <td>71</td>\n      <td>255</td>\n      <td>1.00</td>\n      <td>0.00</td>\n      <td>0.01</td>\n      <td>0.01</td>\n      <td>0.0</td>\n      <td>normal.</td>\n    </tr>\n    <tr>\n      <th>...</th>\n      <td>...</td>\n      <td>...</td>\n      <td>...</td>\n      <td>...</td>\n      <td>...</td>\n      <td>...</td>\n      <td>...</td>\n      <td>...</td>\n      <td>...</td>\n      <td>...</td>\n      <td>...</td>\n      <td>...</td>\n      <td>...</td>\n      <td>...</td>\n      <td>...</td>\n      <td>...</td>\n      <td>...</td>\n      <td>...</td>\n      <td>...</td>\n    </tr>\n    <tr>\n      <th>60932</th>\n      <td>0</td>\n      <td>udp</td>\n      <td>private</td>\n      <td>SF</td>\n      <td>105</td>\n      <td>147</td>\n      <td>2</td>\n      <td>2</td>\n      <td>1.0</td>\n      <td>0.0</td>\n      <td>0.0</td>\n      <td>255</td>\n      <td>255</td>\n      <td>1.00</td>\n      <td>0.00</td>\n      <td>0.01</td>\n      <td>0.00</td>\n      <td>0.0</td>\n      <td>normal.</td>\n    </tr>\n    <tr>\n      <th>60933</th>\n      <td>0</td>\n      <td>udp</td>\n      <td>private</td>\n      <td>SF</td>\n      <td>105</td>\n      <td>147</td>\n      <td>4</td>\n      <td>4</td>\n      <td>1.0</td>\n      <td>0.0</td>\n      <td>0.0</td>\n      <td>255</td>\n      <td>255</td>\n      <td>1.00</td>\n      <td>0.00</td>\n      <td>0.01</td>\n      <td>0.00</td>\n      <td>0.0</td>\n      <td>normal.</td>\n    </tr>\n    <tr>\n      <th>60934</th>\n      <td>0</td>\n      <td>udp</td>\n      <td>private</td>\n      <td>SF</td>\n      <td>105</td>\n      <td>147</td>\n      <td>2</td>\n      <td>2</td>\n      <td>1.0</td>\n      <td>0.0</td>\n      <td>0.0</td>\n      <td>255</td>\n      <td>255</td>\n      <td>1.00</td>\n      <td>0.00</td>\n      <td>0.01</td>\n      <td>0.00</td>\n      <td>0.0</td>\n      <td>normal.</td>\n    </tr>\n    <tr>\n      <th>60935</th>\n      <td>0</td>\n      <td>udp</td>\n      <td>private</td>\n      <td>SF</td>\n      <td>105</td>\n      <td>147</td>\n      <td>4</td>\n      <td>4</td>\n      <td>1.0</td>\n      <td>0.0</td>\n      <td>0.0</td>\n      <td>255</td>\n      <td>255</td>\n      <td>1.00</td>\n      <td>0.00</td>\n      <td>0.01</td>\n      <td>0.00</td>\n      <td>0.0</td>\n      <td>normal.</td>\n    </tr>\n    <tr>\n      <th>60936</th>\n      <td>0</td>\n      <td>udp</td>\n      <td>private</td>\n      <td>SF</td>\n      <td>105</td>\n      <td>147</td>\n      <td>2</td>\n      <td>2</td>\n      <td>1.0</td>\n      <td>0.0</td>\n      <td>0.0</td>\n      <td>255</td>\n      <td>255</td>\n      <td>1.00</td>\n      <td>0.00</td>\n      <td>0.01</td>\n      <td>0.00</td>\n      <td>0.0</td>\n      <td>normal.</td>\n    </tr>\n  </tbody>\n</table>\n<p>60937 rows × 19 columns</p>\n</div>"
     },
     "execution_count": 58,
     "metadata": {},
     "output_type": "execute_result"
    }
   ],
   "source": [
    "data"
   ],
   "metadata": {
    "collapsed": false,
    "ExecuteTime": {
     "end_time": "2023-11-06T17:36:59.901762Z",
     "start_time": "2023-11-06T17:36:58.493724Z"
    }
   },
   "id": "97416a11e8f9e516"
  },
  {
   "cell_type": "markdown",
   "source": [
    "In this way we divided the dataset into two parts, using the **feature normal.**.\n",
    "The Dataset is not modified, because only the division is simulated"
   ],
   "metadata": {
    "collapsed": false
   },
   "id": "8e12ecfbe22edea1"
  },
  {
   "cell_type": "markdown",
   "source": [
    "## Process X "
   ],
   "metadata": {
    "collapsed": false
   },
   "id": "ece9440e38edb0f8"
  },
  {
   "cell_type": "code",
   "execution_count": 59,
   "outputs": [
    {
     "data": {
      "text/plain": "        count         mean           std  min    25%     50%      75%  \\\n0     48749.0     8.466369    428.609137  0.0    0.0    0.00     0.00   \n105   48749.0   736.368726  33834.646660  0.0  105.0  226.00   302.00   \n146   48749.0  3377.496010  25915.639775  0.0  146.0  567.00  2507.00   \n1     48749.0    14.136618     53.670248  0.0    1.0    4.00    11.00   \n1.1   48749.0    16.711481     54.508614  0.0    2.0    5.00    15.00   \n1.2   48749.0     0.994418      0.059174  0.0    1.0    1.00     1.00   \n0.1   48749.0     0.007732      0.080335  0.0    0.0    0.00     0.00   \n0.2   48749.0     0.111439      0.234274  0.0    0.0    0.00     0.12   \n255   48749.0   163.182096    102.791933  0.0   49.0  243.00   255.00   \n254   48749.0   230.878685     60.861156  0.0  253.0  255.00   255.00   \n1.3   48749.0     0.946091      0.180073  0.0    1.0    1.00     1.00   \n0.01  48749.0     0.011609      0.058571  0.0    0.0    0.00     0.01   \n0.3   48749.0     0.071095      0.198754  0.0    0.0    0.01     0.03   \n0.4   48749.0     0.019706      0.070607  0.0    0.0    0.00     0.02   \n0.5   48749.0     0.002407      0.043335  0.0    0.0    0.00     0.00   \n\n            max  \n0       54451.0  \n105   6291668.0  \n146   2881112.0  \n1         511.0  \n1.1       511.0  \n1.2         1.0  \n0.1         1.0  \n0.2         1.0  \n255       255.0  \n254       255.0  \n1.3         1.0  \n0.01        1.0  \n0.3         1.0  \n0.4         1.0  \n0.5         1.0  ",
      "text/html": "<div>\n<style scoped>\n    .dataframe tbody tr th:only-of-type {\n        vertical-align: middle;\n    }\n\n    .dataframe tbody tr th {\n        vertical-align: top;\n    }\n\n    .dataframe thead th {\n        text-align: right;\n    }\n</style>\n<table border=\"1\" class=\"dataframe\">\n  <thead>\n    <tr style=\"text-align: right;\">\n      <th></th>\n      <th>count</th>\n      <th>mean</th>\n      <th>std</th>\n      <th>min</th>\n      <th>25%</th>\n      <th>50%</th>\n      <th>75%</th>\n      <th>max</th>\n    </tr>\n  </thead>\n  <tbody>\n    <tr>\n      <th>0</th>\n      <td>48749.0</td>\n      <td>8.466369</td>\n      <td>428.609137</td>\n      <td>0.0</td>\n      <td>0.0</td>\n      <td>0.00</td>\n      <td>0.00</td>\n      <td>54451.0</td>\n    </tr>\n    <tr>\n      <th>105</th>\n      <td>48749.0</td>\n      <td>736.368726</td>\n      <td>33834.646660</td>\n      <td>0.0</td>\n      <td>105.0</td>\n      <td>226.00</td>\n      <td>302.00</td>\n      <td>6291668.0</td>\n    </tr>\n    <tr>\n      <th>146</th>\n      <td>48749.0</td>\n      <td>3377.496010</td>\n      <td>25915.639775</td>\n      <td>0.0</td>\n      <td>146.0</td>\n      <td>567.00</td>\n      <td>2507.00</td>\n      <td>2881112.0</td>\n    </tr>\n    <tr>\n      <th>1</th>\n      <td>48749.0</td>\n      <td>14.136618</td>\n      <td>53.670248</td>\n      <td>0.0</td>\n      <td>1.0</td>\n      <td>4.00</td>\n      <td>11.00</td>\n      <td>511.0</td>\n    </tr>\n    <tr>\n      <th>1.1</th>\n      <td>48749.0</td>\n      <td>16.711481</td>\n      <td>54.508614</td>\n      <td>0.0</td>\n      <td>2.0</td>\n      <td>5.00</td>\n      <td>15.00</td>\n      <td>511.0</td>\n    </tr>\n    <tr>\n      <th>1.2</th>\n      <td>48749.0</td>\n      <td>0.994418</td>\n      <td>0.059174</td>\n      <td>0.0</td>\n      <td>1.0</td>\n      <td>1.00</td>\n      <td>1.00</td>\n      <td>1.0</td>\n    </tr>\n    <tr>\n      <th>0.1</th>\n      <td>48749.0</td>\n      <td>0.007732</td>\n      <td>0.080335</td>\n      <td>0.0</td>\n      <td>0.0</td>\n      <td>0.00</td>\n      <td>0.00</td>\n      <td>1.0</td>\n    </tr>\n    <tr>\n      <th>0.2</th>\n      <td>48749.0</td>\n      <td>0.111439</td>\n      <td>0.234274</td>\n      <td>0.0</td>\n      <td>0.0</td>\n      <td>0.00</td>\n      <td>0.12</td>\n      <td>1.0</td>\n    </tr>\n    <tr>\n      <th>255</th>\n      <td>48749.0</td>\n      <td>163.182096</td>\n      <td>102.791933</td>\n      <td>0.0</td>\n      <td>49.0</td>\n      <td>243.00</td>\n      <td>255.00</td>\n      <td>255.0</td>\n    </tr>\n    <tr>\n      <th>254</th>\n      <td>48749.0</td>\n      <td>230.878685</td>\n      <td>60.861156</td>\n      <td>0.0</td>\n      <td>253.0</td>\n      <td>255.00</td>\n      <td>255.00</td>\n      <td>255.0</td>\n    </tr>\n    <tr>\n      <th>1.3</th>\n      <td>48749.0</td>\n      <td>0.946091</td>\n      <td>0.180073</td>\n      <td>0.0</td>\n      <td>1.0</td>\n      <td>1.00</td>\n      <td>1.00</td>\n      <td>1.0</td>\n    </tr>\n    <tr>\n      <th>0.01</th>\n      <td>48749.0</td>\n      <td>0.011609</td>\n      <td>0.058571</td>\n      <td>0.0</td>\n      <td>0.0</td>\n      <td>0.00</td>\n      <td>0.01</td>\n      <td>1.0</td>\n    </tr>\n    <tr>\n      <th>0.3</th>\n      <td>48749.0</td>\n      <td>0.071095</td>\n      <td>0.198754</td>\n      <td>0.0</td>\n      <td>0.0</td>\n      <td>0.01</td>\n      <td>0.03</td>\n      <td>1.0</td>\n    </tr>\n    <tr>\n      <th>0.4</th>\n      <td>48749.0</td>\n      <td>0.019706</td>\n      <td>0.070607</td>\n      <td>0.0</td>\n      <td>0.0</td>\n      <td>0.00</td>\n      <td>0.02</td>\n      <td>1.0</td>\n    </tr>\n    <tr>\n      <th>0.5</th>\n      <td>48749.0</td>\n      <td>0.002407</td>\n      <td>0.043335</td>\n      <td>0.0</td>\n      <td>0.0</td>\n      <td>0.00</td>\n      <td>0.00</td>\n      <td>1.0</td>\n    </tr>\n  </tbody>\n</table>\n</div>"
     },
     "execution_count": 59,
     "metadata": {},
     "output_type": "execute_result"
    }
   ],
   "source": [
    "X_train.describe().T"
   ],
   "metadata": {
    "collapsed": false,
    "ExecuteTime": {
     "end_time": "2023-11-06T17:36:59.902176Z",
     "start_time": "2023-11-06T17:36:58.498398Z"
    }
   },
   "id": "1b6c0ef283113e57"
  },
  {
   "cell_type": "code",
   "execution_count": 60,
   "outputs": [
    {
     "data": {
      "text/plain": "       0  udp  private  SF  105    146   1  1.1  1.2  0.1   0.2  255  254  \\\n47691  0  tcp     http  SF  230   1295   4    4  1.0  0.0  0.00  178  255   \n33686  0  udp  private  SF   28      0  91   91  1.0  0.0  0.00  116   91   \n44616  0  tcp     http  SF  173  21704   1    1  1.0  0.0  0.00  255  255   \n58903  0  tcp     http  SF  213   1274   7   17  1.0  0.0  0.29  255  255   \n4651   0  tcp     http  SF  223    197  19   26  1.0  0.0  0.19  255  255   \n\n        1.3  0.01   0.3   0.4  0.5  \n47691  1.00  0.00  0.01  0.02  0.0  \n33686  0.78  0.03  0.78  0.00  0.0  \n44616  1.00  0.00  0.00  0.00  0.0  \n58903  1.00  0.00  0.00  0.00  0.0  \n4651   1.00  0.00  0.00  0.00  0.0  ",
      "text/html": "<div>\n<style scoped>\n    .dataframe tbody tr th:only-of-type {\n        vertical-align: middle;\n    }\n\n    .dataframe tbody tr th {\n        vertical-align: top;\n    }\n\n    .dataframe thead th {\n        text-align: right;\n    }\n</style>\n<table border=\"1\" class=\"dataframe\">\n  <thead>\n    <tr style=\"text-align: right;\">\n      <th></th>\n      <th>0</th>\n      <th>udp</th>\n      <th>private</th>\n      <th>SF</th>\n      <th>105</th>\n      <th>146</th>\n      <th>1</th>\n      <th>1.1</th>\n      <th>1.2</th>\n      <th>0.1</th>\n      <th>0.2</th>\n      <th>255</th>\n      <th>254</th>\n      <th>1.3</th>\n      <th>0.01</th>\n      <th>0.3</th>\n      <th>0.4</th>\n      <th>0.5</th>\n    </tr>\n  </thead>\n  <tbody>\n    <tr>\n      <th>47691</th>\n      <td>0</td>\n      <td>tcp</td>\n      <td>http</td>\n      <td>SF</td>\n      <td>230</td>\n      <td>1295</td>\n      <td>4</td>\n      <td>4</td>\n      <td>1.0</td>\n      <td>0.0</td>\n      <td>0.00</td>\n      <td>178</td>\n      <td>255</td>\n      <td>1.00</td>\n      <td>0.00</td>\n      <td>0.01</td>\n      <td>0.02</td>\n      <td>0.0</td>\n    </tr>\n    <tr>\n      <th>33686</th>\n      <td>0</td>\n      <td>udp</td>\n      <td>private</td>\n      <td>SF</td>\n      <td>28</td>\n      <td>0</td>\n      <td>91</td>\n      <td>91</td>\n      <td>1.0</td>\n      <td>0.0</td>\n      <td>0.00</td>\n      <td>116</td>\n      <td>91</td>\n      <td>0.78</td>\n      <td>0.03</td>\n      <td>0.78</td>\n      <td>0.00</td>\n      <td>0.0</td>\n    </tr>\n    <tr>\n      <th>44616</th>\n      <td>0</td>\n      <td>tcp</td>\n      <td>http</td>\n      <td>SF</td>\n      <td>173</td>\n      <td>21704</td>\n      <td>1</td>\n      <td>1</td>\n      <td>1.0</td>\n      <td>0.0</td>\n      <td>0.00</td>\n      <td>255</td>\n      <td>255</td>\n      <td>1.00</td>\n      <td>0.00</td>\n      <td>0.00</td>\n      <td>0.00</td>\n      <td>0.0</td>\n    </tr>\n    <tr>\n      <th>58903</th>\n      <td>0</td>\n      <td>tcp</td>\n      <td>http</td>\n      <td>SF</td>\n      <td>213</td>\n      <td>1274</td>\n      <td>7</td>\n      <td>17</td>\n      <td>1.0</td>\n      <td>0.0</td>\n      <td>0.29</td>\n      <td>255</td>\n      <td>255</td>\n      <td>1.00</td>\n      <td>0.00</td>\n      <td>0.00</td>\n      <td>0.00</td>\n      <td>0.0</td>\n    </tr>\n    <tr>\n      <th>4651</th>\n      <td>0</td>\n      <td>tcp</td>\n      <td>http</td>\n      <td>SF</td>\n      <td>223</td>\n      <td>197</td>\n      <td>19</td>\n      <td>26</td>\n      <td>1.0</td>\n      <td>0.0</td>\n      <td>0.19</td>\n      <td>255</td>\n      <td>255</td>\n      <td>1.00</td>\n      <td>0.00</td>\n      <td>0.00</td>\n      <td>0.00</td>\n      <td>0.0</td>\n    </tr>\n  </tbody>\n</table>\n</div>"
     },
     "execution_count": 60,
     "metadata": {},
     "output_type": "execute_result"
    }
   ],
   "source": [
    "X_train.head()"
   ],
   "metadata": {
    "collapsed": false,
    "ExecuteTime": {
     "end_time": "2023-11-06T17:36:59.902467Z",
     "start_time": "2023-11-06T17:36:58.539319Z"
    }
   },
   "id": "6dcd6e1532509abc"
  },
  {
   "cell_type": "code",
   "execution_count": 61,
   "outputs": [],
   "source": [
    "is_numerical  = np.array( [ len(np.unique(X_train[col]))>10 for col in X_train] )\n",
    "\n",
    "# numerical_idx = np.flatnonzero(is_numerical) \n",
    "\n",
    "numerical_idx = ['105','146','1','1.1','1.2','0.1','0.2','255','254','1.3','0.01','0.3','0.4','0.5']\n"
   ],
   "metadata": {
    "collapsed": false,
    "ExecuteTime": {
     "end_time": "2023-11-06T17:36:59.905604Z",
     "start_time": "2023-11-06T17:36:58.543412Z"
    }
   },
   "id": "8835646ab36bb3c3"
  },
  {
   "cell_type": "code",
   "execution_count": 62,
   "outputs": [
    {
     "name": "stdout",
     "output_type": "stream",
     "text": [
      "[ True False  True False  True  True  True  True  True  True  True  True\n",
      "  True  True  True  True  True  True]\n",
      "['105', '146', '1', '1.1', '1.2', '0.1', '0.2', '255', '254', '1.3', '0.01', '0.3', '0.4', '0.5']\n",
      "Number of numerical features: 16\n"
     ]
    }
   ],
   "source": [
    "print (is_numerical)\n",
    "print (numerical_idx)\n",
    "print (\"Number of numerical features:\", sum(is_numerical))"
   ],
   "metadata": {
    "collapsed": false,
    "ExecuteTime": {
     "end_time": "2023-11-06T17:36:59.905794Z",
     "start_time": "2023-11-06T17:36:58.626978Z"
    }
   },
   "id": "8d7694caf52e998"
  },
  {
   "cell_type": "markdown",
   "source": [],
   "metadata": {
    "collapsed": false
   },
   "id": "4c2c0aa6fc62b0ad"
  },
  {
   "cell_type": "code",
   "execution_count": 63,
   "outputs": [],
   "source": [
    "# convert numerical to floats (keep NaN)\n",
    "new_X = X_train[ numerical_idx ].apply(pd.to_numeric, errors='coerce')\n",
    "#  invalid parsing will be set as NaN."
   ],
   "metadata": {
    "collapsed": false,
    "ExecuteTime": {
     "end_time": "2023-11-06T17:36:59.905868Z",
     "start_time": "2023-11-06T17:36:58.637999Z"
    }
   },
   "id": "7538c226afb837b5"
  },
  {
   "cell_type": "code",
   "execution_count": 64,
   "outputs": [
    {
     "data": {
      "text/plain": "       105    146   1  1.1  1.2  0.1   0.2  255  254   1.3  0.01   0.3   0.4  \\\n47691  230   1295   4    4  1.0  0.0  0.00  178  255  1.00  0.00  0.01  0.02   \n33686   28      0  91   91  1.0  0.0  0.00  116   91  0.78  0.03  0.78  0.00   \n44616  173  21704   1    1  1.0  0.0  0.00  255  255  1.00  0.00  0.00  0.00   \n58903  213   1274   7   17  1.0  0.0  0.29  255  255  1.00  0.00  0.00  0.00   \n4651   223    197  19   26  1.0  0.0  0.19  255  255  1.00  0.00  0.00  0.00   \n\n       0.5  \n47691  0.0  \n33686  0.0  \n44616  0.0  \n58903  0.0  \n4651   0.0  ",
      "text/html": "<div>\n<style scoped>\n    .dataframe tbody tr th:only-of-type {\n        vertical-align: middle;\n    }\n\n    .dataframe tbody tr th {\n        vertical-align: top;\n    }\n\n    .dataframe thead th {\n        text-align: right;\n    }\n</style>\n<table border=\"1\" class=\"dataframe\">\n  <thead>\n    <tr style=\"text-align: right;\">\n      <th></th>\n      <th>105</th>\n      <th>146</th>\n      <th>1</th>\n      <th>1.1</th>\n      <th>1.2</th>\n      <th>0.1</th>\n      <th>0.2</th>\n      <th>255</th>\n      <th>254</th>\n      <th>1.3</th>\n      <th>0.01</th>\n      <th>0.3</th>\n      <th>0.4</th>\n      <th>0.5</th>\n    </tr>\n  </thead>\n  <tbody>\n    <tr>\n      <th>47691</th>\n      <td>230</td>\n      <td>1295</td>\n      <td>4</td>\n      <td>4</td>\n      <td>1.0</td>\n      <td>0.0</td>\n      <td>0.00</td>\n      <td>178</td>\n      <td>255</td>\n      <td>1.00</td>\n      <td>0.00</td>\n      <td>0.01</td>\n      <td>0.02</td>\n      <td>0.0</td>\n    </tr>\n    <tr>\n      <th>33686</th>\n      <td>28</td>\n      <td>0</td>\n      <td>91</td>\n      <td>91</td>\n      <td>1.0</td>\n      <td>0.0</td>\n      <td>0.00</td>\n      <td>116</td>\n      <td>91</td>\n      <td>0.78</td>\n      <td>0.03</td>\n      <td>0.78</td>\n      <td>0.00</td>\n      <td>0.0</td>\n    </tr>\n    <tr>\n      <th>44616</th>\n      <td>173</td>\n      <td>21704</td>\n      <td>1</td>\n      <td>1</td>\n      <td>1.0</td>\n      <td>0.0</td>\n      <td>0.00</td>\n      <td>255</td>\n      <td>255</td>\n      <td>1.00</td>\n      <td>0.00</td>\n      <td>0.00</td>\n      <td>0.00</td>\n      <td>0.0</td>\n    </tr>\n    <tr>\n      <th>58903</th>\n      <td>213</td>\n      <td>1274</td>\n      <td>7</td>\n      <td>17</td>\n      <td>1.0</td>\n      <td>0.0</td>\n      <td>0.29</td>\n      <td>255</td>\n      <td>255</td>\n      <td>1.00</td>\n      <td>0.00</td>\n      <td>0.00</td>\n      <td>0.00</td>\n      <td>0.0</td>\n    </tr>\n    <tr>\n      <th>4651</th>\n      <td>223</td>\n      <td>197</td>\n      <td>19</td>\n      <td>26</td>\n      <td>1.0</td>\n      <td>0.0</td>\n      <td>0.19</td>\n      <td>255</td>\n      <td>255</td>\n      <td>1.00</td>\n      <td>0.00</td>\n      <td>0.00</td>\n      <td>0.00</td>\n      <td>0.0</td>\n    </tr>\n  </tbody>\n</table>\n</div>"
     },
     "execution_count": 64,
     "metadata": {},
     "output_type": "execute_result"
    }
   ],
   "source": [
    "new_X.head()"
   ],
   "metadata": {
    "collapsed": false,
    "ExecuteTime": {
     "end_time": "2023-11-06T17:36:59.906626Z",
     "start_time": "2023-11-06T17:36:58.649157Z"
    }
   },
   "id": "b001e9a820a6479f"
  },
  {
   "cell_type": "code",
   "execution_count": 65,
   "outputs": [
    {
     "name": "stdout",
     "output_type": "stream",
     "text": [
      "<class 'pandas.core.frame.DataFrame'>\n",
      "Index: 48749 entries, 47691 to 40704\n",
      "Data columns (total 14 columns):\n",
      " #   Column  Non-Null Count  Dtype  \n",
      "---  ------  --------------  -----  \n",
      " 0   105     48749 non-null  int64  \n",
      " 1   146     48749 non-null  int64  \n",
      " 2   1       48749 non-null  int64  \n",
      " 3   1.1     48749 non-null  int64  \n",
      " 4   1.2     48749 non-null  float64\n",
      " 5   0.1     48749 non-null  float64\n",
      " 6   0.2     48749 non-null  float64\n",
      " 7   255     48749 non-null  int64  \n",
      " 8   254     48749 non-null  int64  \n",
      " 9   1.3     48749 non-null  float64\n",
      " 10  0.01    48749 non-null  float64\n",
      " 11  0.3     48749 non-null  float64\n",
      " 12  0.4     48749 non-null  float64\n",
      " 13  0.5     48749 non-null  float64\n",
      "dtypes: float64(8), int64(6)\n",
      "memory usage: 5.6 MB\n"
     ]
    }
   ],
   "source": [
    "new_X.info()"
   ],
   "metadata": {
    "collapsed": false,
    "ExecuteTime": {
     "end_time": "2023-11-06T17:36:59.907087Z",
     "start_time": "2023-11-06T17:36:58.656390Z"
    }
   },
   "id": "da3622bda52e4773"
  },
  {
   "cell_type": "code",
   "execution_count": 66,
   "outputs": [
    {
     "data": {
      "text/plain": "105      307\n146     1984\n1         15\n1.1       39\n1.2      1.0\n0.1      0.0\n0.2      0.1\n255      255\n254      255\n1.3      1.0\n0.01     0.0\n0.3     0.01\n0.4      0.0\n0.5      0.0\nName: 411, dtype: object"
     },
     "execution_count": 66,
     "metadata": {},
     "output_type": "execute_result"
    }
   ],
   "source": [
    "X_train.loc[411,numerical_idx]"
   ],
   "metadata": {
    "collapsed": false,
    "ExecuteTime": {
     "end_time": "2023-11-06T17:36:59.907415Z",
     "start_time": "2023-11-06T17:36:58.666161Z"
    }
   },
   "id": "341991336d7af46a"
  },
  {
   "cell_type": "code",
   "execution_count": 67,
   "outputs": [
    {
     "data": {
      "text/plain": "       105  146  1  1.1  1.2  0.1  0.2  255  254  1.3  0.01  0.3  0.4  0.5\n47691    0    0  0    0    0    0    0    0    0    0     0    0    0    0\n33686    0    0  0    0    0    0    0    0    0    0     0    0    0    0\n44616    0    0  0    0    0    0    0    0    0    0     0    0    0    0\n58903    0    0  0    0    0    0    0    0    0    0     0    0    0    0\n4651     0    0  0    0    0    0    0    0    0    0     0    0    0    0\n23861    0    0  0    0    0    0    0    0    0    0     0    0    0    0\n60533    0    0  0    0    0    0    0    0    0    0     0    0    0    0\n12785    0    0  0    0    0    0    0    0    0    0     0    0    0    0\n1464     0    0  0    0    0    0    0    0    0    0     0    0    0    0\n60271    0    0  0    0    0    0    0    0    0    0     0    0    0    0",
      "text/html": "<div>\n<style scoped>\n    .dataframe tbody tr th:only-of-type {\n        vertical-align: middle;\n    }\n\n    .dataframe tbody tr th {\n        vertical-align: top;\n    }\n\n    .dataframe thead th {\n        text-align: right;\n    }\n</style>\n<table border=\"1\" class=\"dataframe\">\n  <thead>\n    <tr style=\"text-align: right;\">\n      <th></th>\n      <th>105</th>\n      <th>146</th>\n      <th>1</th>\n      <th>1.1</th>\n      <th>1.2</th>\n      <th>0.1</th>\n      <th>0.2</th>\n      <th>255</th>\n      <th>254</th>\n      <th>1.3</th>\n      <th>0.01</th>\n      <th>0.3</th>\n      <th>0.4</th>\n      <th>0.5</th>\n    </tr>\n  </thead>\n  <tbody>\n    <tr>\n      <th>47691</th>\n      <td>0</td>\n      <td>0</td>\n      <td>0</td>\n      <td>0</td>\n      <td>0</td>\n      <td>0</td>\n      <td>0</td>\n      <td>0</td>\n      <td>0</td>\n      <td>0</td>\n      <td>0</td>\n      <td>0</td>\n      <td>0</td>\n      <td>0</td>\n    </tr>\n    <tr>\n      <th>33686</th>\n      <td>0</td>\n      <td>0</td>\n      <td>0</td>\n      <td>0</td>\n      <td>0</td>\n      <td>0</td>\n      <td>0</td>\n      <td>0</td>\n      <td>0</td>\n      <td>0</td>\n      <td>0</td>\n      <td>0</td>\n      <td>0</td>\n      <td>0</td>\n    </tr>\n    <tr>\n      <th>44616</th>\n      <td>0</td>\n      <td>0</td>\n      <td>0</td>\n      <td>0</td>\n      <td>0</td>\n      <td>0</td>\n      <td>0</td>\n      <td>0</td>\n      <td>0</td>\n      <td>0</td>\n      <td>0</td>\n      <td>0</td>\n      <td>0</td>\n      <td>0</td>\n    </tr>\n    <tr>\n      <th>58903</th>\n      <td>0</td>\n      <td>0</td>\n      <td>0</td>\n      <td>0</td>\n      <td>0</td>\n      <td>0</td>\n      <td>0</td>\n      <td>0</td>\n      <td>0</td>\n      <td>0</td>\n      <td>0</td>\n      <td>0</td>\n      <td>0</td>\n      <td>0</td>\n    </tr>\n    <tr>\n      <th>4651</th>\n      <td>0</td>\n      <td>0</td>\n      <td>0</td>\n      <td>0</td>\n      <td>0</td>\n      <td>0</td>\n      <td>0</td>\n      <td>0</td>\n      <td>0</td>\n      <td>0</td>\n      <td>0</td>\n      <td>0</td>\n      <td>0</td>\n      <td>0</td>\n    </tr>\n    <tr>\n      <th>23861</th>\n      <td>0</td>\n      <td>0</td>\n      <td>0</td>\n      <td>0</td>\n      <td>0</td>\n      <td>0</td>\n      <td>0</td>\n      <td>0</td>\n      <td>0</td>\n      <td>0</td>\n      <td>0</td>\n      <td>0</td>\n      <td>0</td>\n      <td>0</td>\n    </tr>\n    <tr>\n      <th>60533</th>\n      <td>0</td>\n      <td>0</td>\n      <td>0</td>\n      <td>0</td>\n      <td>0</td>\n      <td>0</td>\n      <td>0</td>\n      <td>0</td>\n      <td>0</td>\n      <td>0</td>\n      <td>0</td>\n      <td>0</td>\n      <td>0</td>\n      <td>0</td>\n    </tr>\n    <tr>\n      <th>12785</th>\n      <td>0</td>\n      <td>0</td>\n      <td>0</td>\n      <td>0</td>\n      <td>0</td>\n      <td>0</td>\n      <td>0</td>\n      <td>0</td>\n      <td>0</td>\n      <td>0</td>\n      <td>0</td>\n      <td>0</td>\n      <td>0</td>\n      <td>0</td>\n    </tr>\n    <tr>\n      <th>1464</th>\n      <td>0</td>\n      <td>0</td>\n      <td>0</td>\n      <td>0</td>\n      <td>0</td>\n      <td>0</td>\n      <td>0</td>\n      <td>0</td>\n      <td>0</td>\n      <td>0</td>\n      <td>0</td>\n      <td>0</td>\n      <td>0</td>\n      <td>0</td>\n    </tr>\n    <tr>\n      <th>60271</th>\n      <td>0</td>\n      <td>0</td>\n      <td>0</td>\n      <td>0</td>\n      <td>0</td>\n      <td>0</td>\n      <td>0</td>\n      <td>0</td>\n      <td>0</td>\n      <td>0</td>\n      <td>0</td>\n      <td>0</td>\n      <td>0</td>\n      <td>0</td>\n    </tr>\n  </tbody>\n</table>\n</div>"
     },
     "execution_count": 67,
     "metadata": {},
     "output_type": "execute_result"
    }
   ],
   "source": [
    "new_X.isna().astype(int).head(10)"
   ],
   "metadata": {
    "collapsed": false,
    "ExecuteTime": {
     "end_time": "2023-11-06T17:36:59.907902Z",
     "start_time": "2023-11-06T17:36:58.680214Z"
    }
   },
   "id": "e5aeae9d8aa67d2a"
  },
  {
   "cell_type": "code",
   "execution_count": 68,
   "outputs": [
    {
     "data": {
      "text/plain": "        105     146   1  1.1  1.2  0.1   0.2  255  254   1.3  0.01   0.3  \\\n47691   230    1295   4    4  1.0  0.0  0.00  178  255  1.00  0.00  0.01   \n33686    28       0  91   91  1.0  0.0  0.00  116   91  0.78  0.03  0.78   \n44616   173   21704   1    1  1.0  0.0  0.00  255  255  1.00  0.00  0.00   \n58903   213    1274   7   17  1.0  0.0  0.29  255  255  1.00  0.00  0.00   \n4651    223     197  19   26  1.0  0.0  0.19  255  255  1.00  0.00  0.00   \n23861  1256  182830   1    1  1.0  0.0  0.00   29    3  0.10  0.10  0.03   \n60533   105     147   1    1  1.0  0.0  0.00  255  253  0.99  0.01  0.00   \n12785   192    1440   9   13  1.0  0.0  0.15    9  255  1.00  0.00  0.11   \n1464    194     371   6   26  1.0  0.0  0.12    7  255  1.00  0.00  0.14   \n60271   105     147   2    2  1.0  0.0  0.00  255  254  1.00  0.01  0.00   \n\n        0.4  0.5  \n47691  0.02  0.0  \n33686  0.00  0.0  \n44616  0.00  0.0  \n58903  0.00  0.0  \n4651   0.00  0.0  \n23861  0.00  0.0  \n60533  0.00  0.0  \n12785  0.02  0.0  \n1464   0.02  0.0  \n60271  0.00  0.0  ",
      "text/html": "<div>\n<style scoped>\n    .dataframe tbody tr th:only-of-type {\n        vertical-align: middle;\n    }\n\n    .dataframe tbody tr th {\n        vertical-align: top;\n    }\n\n    .dataframe thead th {\n        text-align: right;\n    }\n</style>\n<table border=\"1\" class=\"dataframe\">\n  <thead>\n    <tr style=\"text-align: right;\">\n      <th></th>\n      <th>105</th>\n      <th>146</th>\n      <th>1</th>\n      <th>1.1</th>\n      <th>1.2</th>\n      <th>0.1</th>\n      <th>0.2</th>\n      <th>255</th>\n      <th>254</th>\n      <th>1.3</th>\n      <th>0.01</th>\n      <th>0.3</th>\n      <th>0.4</th>\n      <th>0.5</th>\n    </tr>\n  </thead>\n  <tbody>\n    <tr>\n      <th>47691</th>\n      <td>230</td>\n      <td>1295</td>\n      <td>4</td>\n      <td>4</td>\n      <td>1.0</td>\n      <td>0.0</td>\n      <td>0.00</td>\n      <td>178</td>\n      <td>255</td>\n      <td>1.00</td>\n      <td>0.00</td>\n      <td>0.01</td>\n      <td>0.02</td>\n      <td>0.0</td>\n    </tr>\n    <tr>\n      <th>33686</th>\n      <td>28</td>\n      <td>0</td>\n      <td>91</td>\n      <td>91</td>\n      <td>1.0</td>\n      <td>0.0</td>\n      <td>0.00</td>\n      <td>116</td>\n      <td>91</td>\n      <td>0.78</td>\n      <td>0.03</td>\n      <td>0.78</td>\n      <td>0.00</td>\n      <td>0.0</td>\n    </tr>\n    <tr>\n      <th>44616</th>\n      <td>173</td>\n      <td>21704</td>\n      <td>1</td>\n      <td>1</td>\n      <td>1.0</td>\n      <td>0.0</td>\n      <td>0.00</td>\n      <td>255</td>\n      <td>255</td>\n      <td>1.00</td>\n      <td>0.00</td>\n      <td>0.00</td>\n      <td>0.00</td>\n      <td>0.0</td>\n    </tr>\n    <tr>\n      <th>58903</th>\n      <td>213</td>\n      <td>1274</td>\n      <td>7</td>\n      <td>17</td>\n      <td>1.0</td>\n      <td>0.0</td>\n      <td>0.29</td>\n      <td>255</td>\n      <td>255</td>\n      <td>1.00</td>\n      <td>0.00</td>\n      <td>0.00</td>\n      <td>0.00</td>\n      <td>0.0</td>\n    </tr>\n    <tr>\n      <th>4651</th>\n      <td>223</td>\n      <td>197</td>\n      <td>19</td>\n      <td>26</td>\n      <td>1.0</td>\n      <td>0.0</td>\n      <td>0.19</td>\n      <td>255</td>\n      <td>255</td>\n      <td>1.00</td>\n      <td>0.00</td>\n      <td>0.00</td>\n      <td>0.00</td>\n      <td>0.0</td>\n    </tr>\n    <tr>\n      <th>23861</th>\n      <td>1256</td>\n      <td>182830</td>\n      <td>1</td>\n      <td>1</td>\n      <td>1.0</td>\n      <td>0.0</td>\n      <td>0.00</td>\n      <td>29</td>\n      <td>3</td>\n      <td>0.10</td>\n      <td>0.10</td>\n      <td>0.03</td>\n      <td>0.00</td>\n      <td>0.0</td>\n    </tr>\n    <tr>\n      <th>60533</th>\n      <td>105</td>\n      <td>147</td>\n      <td>1</td>\n      <td>1</td>\n      <td>1.0</td>\n      <td>0.0</td>\n      <td>0.00</td>\n      <td>255</td>\n      <td>253</td>\n      <td>0.99</td>\n      <td>0.01</td>\n      <td>0.00</td>\n      <td>0.00</td>\n      <td>0.0</td>\n    </tr>\n    <tr>\n      <th>12785</th>\n      <td>192</td>\n      <td>1440</td>\n      <td>9</td>\n      <td>13</td>\n      <td>1.0</td>\n      <td>0.0</td>\n      <td>0.15</td>\n      <td>9</td>\n      <td>255</td>\n      <td>1.00</td>\n      <td>0.00</td>\n      <td>0.11</td>\n      <td>0.02</td>\n      <td>0.0</td>\n    </tr>\n    <tr>\n      <th>1464</th>\n      <td>194</td>\n      <td>371</td>\n      <td>6</td>\n      <td>26</td>\n      <td>1.0</td>\n      <td>0.0</td>\n      <td>0.12</td>\n      <td>7</td>\n      <td>255</td>\n      <td>1.00</td>\n      <td>0.00</td>\n      <td>0.14</td>\n      <td>0.02</td>\n      <td>0.0</td>\n    </tr>\n    <tr>\n      <th>60271</th>\n      <td>105</td>\n      <td>147</td>\n      <td>2</td>\n      <td>2</td>\n      <td>1.0</td>\n      <td>0.0</td>\n      <td>0.00</td>\n      <td>255</td>\n      <td>254</td>\n      <td>1.00</td>\n      <td>0.01</td>\n      <td>0.00</td>\n      <td>0.00</td>\n      <td>0.0</td>\n    </tr>\n  </tbody>\n</table>\n</div>"
     },
     "execution_count": 68,
     "metadata": {},
     "output_type": "execute_result"
    }
   ],
   "source": [
    "new_X.head(10)"
   ],
   "metadata": {
    "collapsed": false,
    "ExecuteTime": {
     "end_time": "2023-11-06T17:36:59.908666Z",
     "start_time": "2023-11-06T17:36:58.710151Z"
    }
   },
   "id": "74427f84e128be55"
  },
  {
   "cell_type": "code",
   "execution_count": 69,
   "outputs": [
    {
     "data": {
      "text/plain": "(48749, 14)"
     },
     "execution_count": 69,
     "metadata": {},
     "output_type": "execute_result"
    }
   ],
   "source": [
    "new_X.shape"
   ],
   "metadata": {
    "collapsed": false,
    "ExecuteTime": {
     "end_time": "2023-11-06T17:36:59.908971Z",
     "start_time": "2023-11-06T17:36:58.718927Z"
    }
   },
   "id": "162fee0dcfe091ab"
  },
  {
   "cell_type": "code",
   "execution_count": 70,
   "outputs": [],
   "source": [
    "# Fill NA/NaN values using the specified method whit 0.0\n",
    "new_X=new_X.fillna(0.0)"
   ],
   "metadata": {
    "collapsed": false,
    "ExecuteTime": {
     "end_time": "2023-11-06T17:36:59.909208Z",
     "start_time": "2023-11-06T17:36:58.728620Z"
    }
   },
   "id": "948fbf17c39d7341"
  },
  {
   "cell_type": "code",
   "execution_count": 71,
   "outputs": [
    {
     "data": {
      "text/plain": "       105    146   1  1.1  1.2  0.1   0.2  255  254   1.3  0.01   0.3   0.4  \\\n47691  230   1295   4    4  1.0  0.0  0.00  178  255  1.00  0.00  0.01  0.02   \n33686   28      0  91   91  1.0  0.0  0.00  116   91  0.78  0.03  0.78  0.00   \n44616  173  21704   1    1  1.0  0.0  0.00  255  255  1.00  0.00  0.00  0.00   \n58903  213   1274   7   17  1.0  0.0  0.29  255  255  1.00  0.00  0.00  0.00   \n4651   223    197  19   26  1.0  0.0  0.19  255  255  1.00  0.00  0.00  0.00   \n\n       0.5  \n47691  0.0  \n33686  0.0  \n44616  0.0  \n58903  0.0  \n4651   0.0  ",
      "text/html": "<div>\n<style scoped>\n    .dataframe tbody tr th:only-of-type {\n        vertical-align: middle;\n    }\n\n    .dataframe tbody tr th {\n        vertical-align: top;\n    }\n\n    .dataframe thead th {\n        text-align: right;\n    }\n</style>\n<table border=\"1\" class=\"dataframe\">\n  <thead>\n    <tr style=\"text-align: right;\">\n      <th></th>\n      <th>105</th>\n      <th>146</th>\n      <th>1</th>\n      <th>1.1</th>\n      <th>1.2</th>\n      <th>0.1</th>\n      <th>0.2</th>\n      <th>255</th>\n      <th>254</th>\n      <th>1.3</th>\n      <th>0.01</th>\n      <th>0.3</th>\n      <th>0.4</th>\n      <th>0.5</th>\n    </tr>\n  </thead>\n  <tbody>\n    <tr>\n      <th>47691</th>\n      <td>230</td>\n      <td>1295</td>\n      <td>4</td>\n      <td>4</td>\n      <td>1.0</td>\n      <td>0.0</td>\n      <td>0.00</td>\n      <td>178</td>\n      <td>255</td>\n      <td>1.00</td>\n      <td>0.00</td>\n      <td>0.01</td>\n      <td>0.02</td>\n      <td>0.0</td>\n    </tr>\n    <tr>\n      <th>33686</th>\n      <td>28</td>\n      <td>0</td>\n      <td>91</td>\n      <td>91</td>\n      <td>1.0</td>\n      <td>0.0</td>\n      <td>0.00</td>\n      <td>116</td>\n      <td>91</td>\n      <td>0.78</td>\n      <td>0.03</td>\n      <td>0.78</td>\n      <td>0.00</td>\n      <td>0.0</td>\n    </tr>\n    <tr>\n      <th>44616</th>\n      <td>173</td>\n      <td>21704</td>\n      <td>1</td>\n      <td>1</td>\n      <td>1.0</td>\n      <td>0.0</td>\n      <td>0.00</td>\n      <td>255</td>\n      <td>255</td>\n      <td>1.00</td>\n      <td>0.00</td>\n      <td>0.00</td>\n      <td>0.00</td>\n      <td>0.0</td>\n    </tr>\n    <tr>\n      <th>58903</th>\n      <td>213</td>\n      <td>1274</td>\n      <td>7</td>\n      <td>17</td>\n      <td>1.0</td>\n      <td>0.0</td>\n      <td>0.29</td>\n      <td>255</td>\n      <td>255</td>\n      <td>1.00</td>\n      <td>0.00</td>\n      <td>0.00</td>\n      <td>0.00</td>\n      <td>0.0</td>\n    </tr>\n    <tr>\n      <th>4651</th>\n      <td>223</td>\n      <td>197</td>\n      <td>19</td>\n      <td>26</td>\n      <td>1.0</td>\n      <td>0.0</td>\n      <td>0.19</td>\n      <td>255</td>\n      <td>255</td>\n      <td>1.00</td>\n      <td>0.00</td>\n      <td>0.00</td>\n      <td>0.00</td>\n      <td>0.0</td>\n    </tr>\n  </tbody>\n</table>\n</div>"
     },
     "execution_count": 71,
     "metadata": {},
     "output_type": "execute_result"
    }
   ],
   "source": [
    "new_X.head()"
   ],
   "metadata": {
    "collapsed": false,
    "ExecuteTime": {
     "end_time": "2023-11-06T17:36:59.909819Z",
     "start_time": "2023-11-06T17:36:58.734318Z"
    }
   },
   "id": "b1aa5b10a5400347"
  },
  {
   "cell_type": "markdown",
   "source": [
    "# Categorical Data\n",
    "1. **Ordinal Encoding** : for the second feature \n",
    "2. **One-Hot Encoding** : for the third and fourth feature"
   ],
   "metadata": {
    "collapsed": false
   },
   "id": "3e1ef10e66699449"
  },
  {
   "cell_type": "code",
   "execution_count": 87,
   "outputs": [],
   "source": [
    "\n",
    "# categorical_idx = np.flatnonzero(is_numerical==False)\n",
    "categorical_idx = ['private','SF']\n",
    "categorical_idx_ord = ['udp']"
   ],
   "metadata": {
    "collapsed": false,
    "ExecuteTime": {
     "end_time": "2023-11-06T18:06:46.562949Z",
     "start_time": "2023-11-06T18:06:46.399820Z"
    }
   },
   "id": "8dfdd5d975b56597"
  },
  {
   "cell_type": "code",
   "execution_count": 89,
   "outputs": [
    {
     "data": {
      "text/plain": "(['private', 'SF'], ['udp'])"
     },
     "execution_count": 89,
     "metadata": {},
     "output_type": "execute_result"
    }
   ],
   "source": [
    "categorical_idx, categorical_idx_ord"
   ],
   "metadata": {
    "collapsed": false,
    "ExecuteTime": {
     "end_time": "2023-11-06T18:06:56.790227Z",
     "start_time": "2023-11-06T18:06:56.725085Z"
    }
   },
   "id": "23cad2082672dc71"
  },
  {
   "cell_type": "code",
   "execution_count": 90,
   "outputs": [
    {
     "data": {
      "text/plain": "(2, 1)"
     },
     "execution_count": 90,
     "metadata": {},
     "output_type": "execute_result"
    }
   ],
   "source": [
    "len(categorical_idx), len(categorical_idx_ord)"
   ],
   "metadata": {
    "collapsed": false,
    "ExecuteTime": {
     "end_time": "2023-11-06T18:07:07.222639Z",
     "start_time": "2023-11-06T18:07:07.131731Z"
    }
   },
   "id": "bc1b6d9547fc77"
  },
  {
   "cell_type": "code",
   "execution_count": 102,
   "outputs": [],
   "source": [
    "from sklearn.preprocessing import OneHotEncoder, OrdinalEncoder\n",
    "\n",
    "oh = OneHotEncoder(sparse_output=False)\n",
    "oh.fit(X_train[categorical_idx])\n",
    "\n",
    "enc = OrdinalEncoder()\n",
    "enc = enc.fit_transform(X_train[categorical_idx_ord])\n"
   ],
   "metadata": {
    "collapsed": false,
    "ExecuteTime": {
     "end_time": "2023-11-06T18:11:11.718234Z",
     "start_time": "2023-11-06T18:11:11.584920Z"
    }
   },
   "id": "ccfd48571cb2e1ad"
  },
  {
   "cell_type": "code",
   "execution_count": 101,
   "outputs": [
    {
     "data": {
      "text/plain": "([array(['IRC', 'X11', 'auth', 'domain_u', 'eco_i', 'ecr_i', 'finger',\n         'ftp', 'ftp_data', 'http', 'icmp', 'link', 'ntp_u', 'other',\n         'pop_3', 'private', 'remote_job', 'smtp', 'telnet', 'tftp_u',\n         'tim_i', 'time', 'urp_i'], dtype=object),\n  array(['REJ', 'RSTO', 'RSTOS0', 'RSTR', 'S1', 'S2', 'S3', 'SF'],\n        dtype=object)],\n array([[1.],\n        [2.],\n        [1.],\n        ...,\n        [1.],\n        [1.],\n        [1.]]))"
     },
     "execution_count": 101,
     "metadata": {},
     "output_type": "execute_result"
    }
   ],
   "source": [
    "oh.categories_"
   ],
   "metadata": {
    "collapsed": false,
    "ExecuteTime": {
     "end_time": "2023-11-06T18:11:00.140866Z",
     "start_time": "2023-11-06T18:11:00.014870Z"
    }
   },
   "id": "a2852ffdbaa49b66"
  },
  {
   "cell_type": "code",
   "execution_count": 100,
   "outputs": [
    {
     "data": {
      "text/plain": "(48749, 31)"
     },
     "execution_count": 100,
     "metadata": {},
     "output_type": "execute_result"
    }
   ],
   "source": [
    "encoded = oh.transform(X_train[categorical_idx])\n",
    "encoded.shape"
   ],
   "metadata": {
    "collapsed": false,
    "ExecuteTime": {
     "end_time": "2023-11-06T18:10:29.567170Z",
     "start_time": "2023-11-06T18:10:29.486024Z"
    }
   },
   "id": "c5483522a0207333"
  },
  {
   "cell_type": "code",
   "execution_count": 78,
   "outputs": [
    {
     "data": {
      "text/plain": "array([[0., 0., 0., ..., 0., 0., 1.],\n       [0., 0., 0., ..., 0., 0., 1.],\n       [0., 0., 0., ..., 0., 0., 1.],\n       ...,\n       [0., 0., 0., ..., 0., 0., 1.],\n       [0., 0., 0., ..., 0., 0., 1.],\n       [0., 0., 0., ..., 0., 0., 1.]])"
     },
     "execution_count": 78,
     "metadata": {},
     "output_type": "execute_result"
    }
   ],
   "source": [
    "encoded"
   ],
   "metadata": {
    "collapsed": false,
    "ExecuteTime": {
     "end_time": "2023-11-06T17:36:59.921041Z",
     "start_time": "2023-11-06T17:36:58.788699Z"
    }
   },
   "id": "8a60fafde51620de"
  },
  {
   "cell_type": "code",
   "execution_count": 79,
   "outputs": [
    {
     "data": {
      "text/plain": "array(['private_IRC', 'private_X11', 'private_auth', 'private_domain_u',\n       'private_eco_i', 'private_ecr_i', 'private_finger', 'private_ftp',\n       'private_ftp_data', 'private_http', 'private_icmp', 'private_link',\n       'private_ntp_u', 'private_other', 'private_pop_3',\n       'private_private', 'private_remote_job', 'private_smtp',\n       'private_telnet', 'private_tftp_u', 'private_tim_i',\n       'private_time', 'private_urp_i', 'SF_REJ', 'SF_RSTO', 'SF_RSTOS0',\n       'SF_RSTR', 'SF_S1', 'SF_S2', 'SF_S3', 'SF_SF'], dtype=object)"
     },
     "execution_count": 79,
     "metadata": {},
     "output_type": "execute_result"
    }
   ],
   "source": [
    "oh.get_feature_names_out()"
   ],
   "metadata": {
    "collapsed": false,
    "ExecuteTime": {
     "end_time": "2023-11-06T17:36:59.921218Z",
     "start_time": "2023-11-06T17:36:58.792837Z"
    }
   },
   "id": "564eed4629a83a49"
  },
  {
   "cell_type": "code",
   "execution_count": 95,
   "outputs": [],
   "source": [
    "for i,col in enumerate(oh.get_feature_names_out()):\n",
    "    new_X[col] = encoded[:,i]\n",
    "new_X[categorical_idx_ord]=enc"
   ],
   "metadata": {
    "collapsed": false,
    "ExecuteTime": {
     "end_time": "2023-11-06T18:10:03.783859Z",
     "start_time": "2023-11-06T18:10:03.707960Z"
    }
   },
   "id": "c6c5d2ee92578bdf"
  },
  {
   "cell_type": "code",
   "execution_count": 96,
   "outputs": [
    {
     "data": {
      "text/plain": "       105    146   1  1.1  1.2  0.1   0.2  255  254   1.3  ...  \\\n47691  230   1295   4    4  1.0  0.0  0.00  178  255  1.00  ...   \n33686   28      0  91   91  1.0  0.0  0.00  116   91  0.78  ...   \n44616  173  21704   1    1  1.0  0.0  0.00  255  255  1.00  ...   \n58903  213   1274   7   17  1.0  0.0  0.29  255  255  1.00  ...   \n4651   223    197  19   26  1.0  0.0  0.19  255  255  1.00  ...   \n...    ...    ...  ..  ...  ...  ...   ...  ...  ...   ...  ...   \n16708  302    392   1    2  1.0  0.0  1.00  255  255  1.00  ...   \n6010   231   1819   5    5  1.0  0.0  0.00   46  255  1.00  ...   \n3243   190    261   3    5  1.0  0.0  0.40    4  255  1.00  ...   \n47     240   2172  59   59  1.0  0.0  0.00  255  255  1.00  ...   \n40704  229   1370  19   20  1.0  0.0  0.10  227  255  1.00  ...   \n\n       private_urp_i  SF_REJ  SF_RSTO  SF_RSTOS0  SF_RSTR  SF_S1  SF_S2  \\\n47691            0.0     0.0      0.0        0.0      0.0    0.0    0.0   \n33686            0.0     0.0      0.0        0.0      0.0    0.0    0.0   \n44616            0.0     0.0      0.0        0.0      0.0    0.0    0.0   \n58903            0.0     0.0      0.0        0.0      0.0    0.0    0.0   \n4651             0.0     0.0      0.0        0.0      0.0    0.0    0.0   \n...              ...     ...      ...        ...      ...    ...    ...   \n16708            0.0     0.0      0.0        0.0      0.0    0.0    0.0   \n6010             0.0     0.0      0.0        0.0      0.0    0.0    0.0   \n3243             0.0     0.0      0.0        0.0      0.0    0.0    0.0   \n47               0.0     0.0      0.0        0.0      0.0    0.0    0.0   \n40704            0.0     0.0      0.0        0.0      0.0    0.0    0.0   \n\n       SF_S3  SF_SF  udp  \n47691    0.0    1.0  1.0  \n33686    0.0    1.0  2.0  \n44616    0.0    1.0  1.0  \n58903    0.0    1.0  1.0  \n4651     0.0    1.0  1.0  \n...      ...    ...  ...  \n16708    0.0    1.0  1.0  \n6010     0.0    1.0  1.0  \n3243     0.0    1.0  1.0  \n47       0.0    1.0  1.0  \n40704    0.0    1.0  1.0  \n\n[48749 rows x 46 columns]",
      "text/html": "<div>\n<style scoped>\n    .dataframe tbody tr th:only-of-type {\n        vertical-align: middle;\n    }\n\n    .dataframe tbody tr th {\n        vertical-align: top;\n    }\n\n    .dataframe thead th {\n        text-align: right;\n    }\n</style>\n<table border=\"1\" class=\"dataframe\">\n  <thead>\n    <tr style=\"text-align: right;\">\n      <th></th>\n      <th>105</th>\n      <th>146</th>\n      <th>1</th>\n      <th>1.1</th>\n      <th>1.2</th>\n      <th>0.1</th>\n      <th>0.2</th>\n      <th>255</th>\n      <th>254</th>\n      <th>1.3</th>\n      <th>...</th>\n      <th>private_urp_i</th>\n      <th>SF_REJ</th>\n      <th>SF_RSTO</th>\n      <th>SF_RSTOS0</th>\n      <th>SF_RSTR</th>\n      <th>SF_S1</th>\n      <th>SF_S2</th>\n      <th>SF_S3</th>\n      <th>SF_SF</th>\n      <th>udp</th>\n    </tr>\n  </thead>\n  <tbody>\n    <tr>\n      <th>47691</th>\n      <td>230</td>\n      <td>1295</td>\n      <td>4</td>\n      <td>4</td>\n      <td>1.0</td>\n      <td>0.0</td>\n      <td>0.00</td>\n      <td>178</td>\n      <td>255</td>\n      <td>1.00</td>\n      <td>...</td>\n      <td>0.0</td>\n      <td>0.0</td>\n      <td>0.0</td>\n      <td>0.0</td>\n      <td>0.0</td>\n      <td>0.0</td>\n      <td>0.0</td>\n      <td>0.0</td>\n      <td>1.0</td>\n      <td>1.0</td>\n    </tr>\n    <tr>\n      <th>33686</th>\n      <td>28</td>\n      <td>0</td>\n      <td>91</td>\n      <td>91</td>\n      <td>1.0</td>\n      <td>0.0</td>\n      <td>0.00</td>\n      <td>116</td>\n      <td>91</td>\n      <td>0.78</td>\n      <td>...</td>\n      <td>0.0</td>\n      <td>0.0</td>\n      <td>0.0</td>\n      <td>0.0</td>\n      <td>0.0</td>\n      <td>0.0</td>\n      <td>0.0</td>\n      <td>0.0</td>\n      <td>1.0</td>\n      <td>2.0</td>\n    </tr>\n    <tr>\n      <th>44616</th>\n      <td>173</td>\n      <td>21704</td>\n      <td>1</td>\n      <td>1</td>\n      <td>1.0</td>\n      <td>0.0</td>\n      <td>0.00</td>\n      <td>255</td>\n      <td>255</td>\n      <td>1.00</td>\n      <td>...</td>\n      <td>0.0</td>\n      <td>0.0</td>\n      <td>0.0</td>\n      <td>0.0</td>\n      <td>0.0</td>\n      <td>0.0</td>\n      <td>0.0</td>\n      <td>0.0</td>\n      <td>1.0</td>\n      <td>1.0</td>\n    </tr>\n    <tr>\n      <th>58903</th>\n      <td>213</td>\n      <td>1274</td>\n      <td>7</td>\n      <td>17</td>\n      <td>1.0</td>\n      <td>0.0</td>\n      <td>0.29</td>\n      <td>255</td>\n      <td>255</td>\n      <td>1.00</td>\n      <td>...</td>\n      <td>0.0</td>\n      <td>0.0</td>\n      <td>0.0</td>\n      <td>0.0</td>\n      <td>0.0</td>\n      <td>0.0</td>\n      <td>0.0</td>\n      <td>0.0</td>\n      <td>1.0</td>\n      <td>1.0</td>\n    </tr>\n    <tr>\n      <th>4651</th>\n      <td>223</td>\n      <td>197</td>\n      <td>19</td>\n      <td>26</td>\n      <td>1.0</td>\n      <td>0.0</td>\n      <td>0.19</td>\n      <td>255</td>\n      <td>255</td>\n      <td>1.00</td>\n      <td>...</td>\n      <td>0.0</td>\n      <td>0.0</td>\n      <td>0.0</td>\n      <td>0.0</td>\n      <td>0.0</td>\n      <td>0.0</td>\n      <td>0.0</td>\n      <td>0.0</td>\n      <td>1.0</td>\n      <td>1.0</td>\n    </tr>\n    <tr>\n      <th>...</th>\n      <td>...</td>\n      <td>...</td>\n      <td>...</td>\n      <td>...</td>\n      <td>...</td>\n      <td>...</td>\n      <td>...</td>\n      <td>...</td>\n      <td>...</td>\n      <td>...</td>\n      <td>...</td>\n      <td>...</td>\n      <td>...</td>\n      <td>...</td>\n      <td>...</td>\n      <td>...</td>\n      <td>...</td>\n      <td>...</td>\n      <td>...</td>\n      <td>...</td>\n      <td>...</td>\n    </tr>\n    <tr>\n      <th>16708</th>\n      <td>302</td>\n      <td>392</td>\n      <td>1</td>\n      <td>2</td>\n      <td>1.0</td>\n      <td>0.0</td>\n      <td>1.00</td>\n      <td>255</td>\n      <td>255</td>\n      <td>1.00</td>\n      <td>...</td>\n      <td>0.0</td>\n      <td>0.0</td>\n      <td>0.0</td>\n      <td>0.0</td>\n      <td>0.0</td>\n      <td>0.0</td>\n      <td>0.0</td>\n      <td>0.0</td>\n      <td>1.0</td>\n      <td>1.0</td>\n    </tr>\n    <tr>\n      <th>6010</th>\n      <td>231</td>\n      <td>1819</td>\n      <td>5</td>\n      <td>5</td>\n      <td>1.0</td>\n      <td>0.0</td>\n      <td>0.00</td>\n      <td>46</td>\n      <td>255</td>\n      <td>1.00</td>\n      <td>...</td>\n      <td>0.0</td>\n      <td>0.0</td>\n      <td>0.0</td>\n      <td>0.0</td>\n      <td>0.0</td>\n      <td>0.0</td>\n      <td>0.0</td>\n      <td>0.0</td>\n      <td>1.0</td>\n      <td>1.0</td>\n    </tr>\n    <tr>\n      <th>3243</th>\n      <td>190</td>\n      <td>261</td>\n      <td>3</td>\n      <td>5</td>\n      <td>1.0</td>\n      <td>0.0</td>\n      <td>0.40</td>\n      <td>4</td>\n      <td>255</td>\n      <td>1.00</td>\n      <td>...</td>\n      <td>0.0</td>\n      <td>0.0</td>\n      <td>0.0</td>\n      <td>0.0</td>\n      <td>0.0</td>\n      <td>0.0</td>\n      <td>0.0</td>\n      <td>0.0</td>\n      <td>1.0</td>\n      <td>1.0</td>\n    </tr>\n    <tr>\n      <th>47</th>\n      <td>240</td>\n      <td>2172</td>\n      <td>59</td>\n      <td>59</td>\n      <td>1.0</td>\n      <td>0.0</td>\n      <td>0.00</td>\n      <td>255</td>\n      <td>255</td>\n      <td>1.00</td>\n      <td>...</td>\n      <td>0.0</td>\n      <td>0.0</td>\n      <td>0.0</td>\n      <td>0.0</td>\n      <td>0.0</td>\n      <td>0.0</td>\n      <td>0.0</td>\n      <td>0.0</td>\n      <td>1.0</td>\n      <td>1.0</td>\n    </tr>\n    <tr>\n      <th>40704</th>\n      <td>229</td>\n      <td>1370</td>\n      <td>19</td>\n      <td>20</td>\n      <td>1.0</td>\n      <td>0.0</td>\n      <td>0.10</td>\n      <td>227</td>\n      <td>255</td>\n      <td>1.00</td>\n      <td>...</td>\n      <td>0.0</td>\n      <td>0.0</td>\n      <td>0.0</td>\n      <td>0.0</td>\n      <td>0.0</td>\n      <td>0.0</td>\n      <td>0.0</td>\n      <td>0.0</td>\n      <td>1.0</td>\n      <td>1.0</td>\n    </tr>\n  </tbody>\n</table>\n<p>48749 rows × 46 columns</p>\n</div>"
     },
     "execution_count": 96,
     "metadata": {},
     "output_type": "execute_result"
    }
   ],
   "source": [
    "new_X"
   ],
   "metadata": {
    "collapsed": false,
    "ExecuteTime": {
     "end_time": "2023-11-06T18:10:05.055476Z",
     "start_time": "2023-11-06T18:10:04.952952Z"
    }
   },
   "id": "6f2580a5e4944a52"
  },
  {
   "cell_type": "code",
   "execution_count": 110,
   "outputs": [
    {
     "name": "stdout",
     "output_type": "stream",
     "text": [
      "0 [      0       1       2 ... 2194619 3131464 6291668]\n",
      "1 [      0       1       4 ... 1868080 2099247 2881112]\n",
      "2 [  0   1   2   3   4   5   6   7   8   9  10  11  12  13  14  15  16  17\n",
      "  18  19  20  21  22  23  24  25  26  27  28  29  30  31  32  33  34  35\n",
      "  36  37  38  39  40  41  42  43  44  45  46  47  48  49  50  51  52  53\n",
      "  54  55  56  57  58  59  60  61  62  63  64  65  66  67  68  69  70  71\n",
      "  72  73  74  75  76  77  78  79  80  81  82  83  84  85  86  87  88  89\n",
      "  90  91  92  93  94  95  96  97  98  99 100 101 102 103 104 105 106 107\n",
      " 108 109 110 111 112 113 114 115 116 117 118 119 120 121 122 123 124 125\n",
      " 126 127 128 129 130 131 132 133 134 135 136 137 138 139 140 141 142 143\n",
      " 144 145 146 147 148 149 150 151 152 153 155 156 157 158 159 160 161 162\n",
      " 163 164 165 166 168 169 170 171 172 173 175 176 177 178 179 181 182 183\n",
      " 185 186 187 188 189 191 192 193 195 196 197 198 199 200 201 202 203 204\n",
      " 205 206 208 209 210 211 212 213 215 216 217 218 219 221 222 223 225 226\n",
      " 227 228 229 230 231 232 233 235 236 238 239 245 248 249 250 252 260 265\n",
      " 268 274 278 279 281 285 286 290 293 297 301 302 306 308 309 311 316 318\n",
      " 323 325 327 333 338 340 343 346 347 353 354 359 360 363 373 376 379 380\n",
      " 383 389 392 394 399 401 402 403 404 407 409 425 427 431 442 445 453 458\n",
      " 461 466 472 473 474 481 483 485 493 494 495 498 501 502 503 505 506 507\n",
      " 508 509 510 511]\n",
      "3 [  0   1   2   3   4   5   6   7   8   9  10  11  12  13  14  15  16  17\n",
      "  18  19  20  21  22  23  24  25  26  27  28  29  30  31  32  33  34  35\n",
      "  36  37  38  39  40  41  42  43  44  45  46  47  48  49  50  51  52  53\n",
      "  54  55  56  57  58  59  60  61  62  63  64  65  66  67  68  69  70  71\n",
      "  72  73  74  75  76  77  78  79  80  81  82  83  84  85  86  87  88  89\n",
      "  90  91  92  93  94  95  96  97  98  99 100 101 102 103 104 105 106 107\n",
      " 108 109 110 111 112 113 114 115 116 117 118 119 120 121 122 123 124 125\n",
      " 126 127 128 129 130 131 132 133 134 135 136 137 138 139 140 141 142 143\n",
      " 144 145 146 147 148 149 150 151 152 153 154 155 156 157 158 159 160 161\n",
      " 162 163 164 165 166 167 168 169 170 171 172 173 174 175 176 177 178 179\n",
      " 180 181 182 183 184 185 186 187 188 189 190 191 192 193 194 195 196 197\n",
      " 198 199 200 201 202 203 204 205 206 207 208 209 210 211 212 213 214 215\n",
      " 216 217 218 219 220 221 222 223 224 225 226 227 228 229 230 231 232 233\n",
      " 234 235 236 237 238 239 240 245 246 248 249 250 252 260 265 268 274 278\n",
      " 279 281 285 286 290 293 297 301 302 306 308 309 311 316 318 323 325 327\n",
      " 333 338 340 343 346 347 353 354 359 360 363 373 376 380 383 384 392 394\n",
      " 399 401 402 403 404 407 414 425 427 431 442 445 453 458 461 466 472 474\n",
      " 481 483 493 494 495 498 501 502 503 505 506 507 508 509 510 511]\n",
      "4 [0.   0.01 0.02 0.03 0.04 0.05 0.06 0.07 0.08 0.09 0.1  0.11 0.12 0.13\n",
      " 0.14 0.15 0.16 0.17 0.18 0.19 0.2  0.21 0.23 0.25 0.27 0.29 0.3  0.33\n",
      " 0.34 0.35 0.36 0.38 0.39 0.4  0.41 0.42 0.43 0.46 0.47 0.5  0.53 0.56\n",
      " 0.57 0.67 0.73 0.75 0.78 0.8  0.83 0.85 0.86 0.88 0.89 0.9  0.91 0.92\n",
      " 0.93 0.94 0.95 0.96 0.97 0.98 0.99 1.  ]\n",
      "5 [0.   0.01 0.02 0.03 0.04 0.05 0.06 0.07 0.09 0.11 0.12 0.13 0.14 0.15\n",
      " 0.17 0.18 0.2  0.21 0.22 0.24 0.25 0.26 0.28 0.29 0.3  0.32 0.33 0.34\n",
      " 0.35 0.38 0.39 0.4  0.43 0.44 0.45 0.46 0.47 0.48 0.49 0.5  0.51 0.52\n",
      " 0.54 0.55 0.56 0.57 0.58 0.59 0.6  0.61 0.63 0.65 0.67 0.68 0.7  0.71\n",
      " 0.72 0.74 0.75 0.76 0.77 0.78 0.82 0.83 0.85 0.86 0.87 0.88 0.91 0.92\n",
      " 0.94 0.96 0.97 0.98 0.99 1.  ]\n",
      "6 [0.   0.01 0.02 0.03 0.04 0.05 0.06 0.07 0.08 0.09 0.1  0.11 0.12 0.13\n",
      " 0.14 0.15 0.16 0.17 0.18 0.19 0.2  0.21 0.22 0.23 0.24 0.25 0.26 0.27\n",
      " 0.28 0.29 0.3  0.31 0.32 0.33 0.35 0.36 0.37 0.38 0.39 0.4  0.42 0.43\n",
      " 0.44 0.45 0.46 0.47 0.5  0.54 0.55 0.56 0.57 0.6  0.62 0.64 0.67 0.71\n",
      " 0.75 0.8  0.83 0.88 1.  ]\n",
      "7 [  0   1   2   3   4   5   6   7   8   9  10  11  12  13  14  15  16  17\n",
      "  18  19  20  21  22  23  24  25  26  27  28  29  30  31  32  33  34  35\n",
      "  36  37  38  39  40  41  42  43  44  45  46  47  48  49  50  51  52  53\n",
      "  54  55  56  57  58  59  60  61  62  63  64  65  66  67  68  69  70  71\n",
      "  72  73  74  75  76  77  78  79  80  81  82  83  84  85  86  87  88  89\n",
      "  90  91  92  93  94  95  96  97  98  99 100 101 102 103 104 105 106 107\n",
      " 108 109 110 111 112 113 114 115 116 117 118 119 120 121 122 123 124 125\n",
      " 126 127 128 129 130 131 132 133 134 135 136 137 138 139 140 141 142 143\n",
      " 144 145 146 147 148 149 150 151 152 153 154 155 156 157 158 159 160 161\n",
      " 162 163 164 165 166 167 168 169 170 171 172 173 174 175 176 177 178 179\n",
      " 180 181 182 183 184 185 186 187 188 189 190 191 192 193 194 195 196 197\n",
      " 198 199 200 201 202 203 204 205 206 207 208 209 210 211 212 213 214 215\n",
      " 216 217 218 219 220 221 222 223 224 225 226 227 228 229 230 231 232 233\n",
      " 234 235 236 237 238 239 240 241 242 243 244 245 246 247 248 249 250 251\n",
      " 252 253 254 255]\n",
      "8 [  0   1   2   3   4   5   6   7   8   9  10  11  12  13  14  15  16  17\n",
      "  18  19  20  21  22  23  24  25  26  27  28  29  30  31  32  33  34  35\n",
      "  36  37  38  39  40  41  42  43  44  45  46  47  48  49  50  51  52  53\n",
      "  54  55  56  57  58  59  60  61  62  63  64  65  66  67  68  69  70  71\n",
      "  72  73  74  75  76  77  78  79  80  81  82  83  84  85  86  87  88  89\n",
      "  90  91  92  93  94  95  96  97  98  99 100 101 102 103 104 105 106 107\n",
      " 108 109 110 111 112 113 114 115 116 117 118 119 120 121 122 123 124 125\n",
      " 126 127 128 129 130 131 132 133 134 135 136 137 138 139 140 141 142 143\n",
      " 144 145 146 147 148 149 150 151 152 153 154 155 156 157 158 159 160 161\n",
      " 162 163 164 165 166 167 168 169 170 171 172 173 174 175 176 177 178 179\n",
      " 180 181 182 183 184 185 186 187 188 189 190 191 192 193 194 195 196 197\n",
      " 198 199 200 201 202 203 204 205 206 207 208 209 210 211 212 213 214 215\n",
      " 216 217 218 219 220 221 222 223 224 225 226 227 228 229 230 231 232 233\n",
      " 234 235 236 237 238 239 240 241 242 243 244 245 246 247 248 249 250 251\n",
      " 252 253 254 255]\n",
      "9 [0.   0.01 0.02 0.03 0.04 0.05 0.06 0.07 0.08 0.09 0.1  0.11 0.12 0.13\n",
      " 0.14 0.15 0.16 0.17 0.18 0.19 0.2  0.21 0.22 0.23 0.24 0.25 0.26 0.27\n",
      " 0.28 0.29 0.3  0.31 0.32 0.33 0.34 0.35 0.36 0.37 0.38 0.39 0.4  0.41\n",
      " 0.42 0.43 0.44 0.45 0.46 0.47 0.48 0.49 0.5  0.51 0.52 0.53 0.54 0.55\n",
      " 0.56 0.57 0.58 0.59 0.6  0.61 0.62 0.63 0.64 0.65 0.66 0.67 0.68 0.69\n",
      " 0.7  0.71 0.72 0.73 0.74 0.75 0.76 0.77 0.78 0.79 0.8  0.81 0.82 0.83\n",
      " 0.84 0.85 0.86 0.87 0.88 0.89 0.9  0.91 0.92 0.93 0.94 0.95 0.96 0.97\n",
      " 0.98 0.99 1.  ]\n",
      "10 [0.   0.01 0.02 0.03 0.04 0.05 0.06 0.07 0.08 0.09 0.1  0.11 0.12 0.13\n",
      " 0.14 0.15 0.16 0.17 0.18 0.19 0.2  0.21 0.22 0.23 0.24 0.25 0.26 0.27\n",
      " 0.28 0.29 0.3  0.31 0.32 0.33 0.35 0.36 0.37 0.38 0.39 0.4  0.41 0.42\n",
      " 0.43 0.44 0.45 0.46 0.47 0.48 0.49 0.5  0.51 0.52 0.53 0.54 0.55 0.56\n",
      " 0.57 0.58 0.59 0.6  0.61 0.62 0.63 0.64 0.65 0.66 0.67 0.68 0.69 0.7\n",
      " 0.71 0.72 0.73 0.74 0.75 0.76 0.77 0.78 0.79 0.8  0.81 0.82 0.83 0.84\n",
      " 0.85 0.86 0.87 0.88 0.89 0.9  0.91 0.92 0.93 0.94 0.95 0.96 0.97 0.98\n",
      " 0.99 1.  ]\n",
      "11 [0.   0.01 0.02 0.03 0.04 0.05 0.06 0.07 0.08 0.09 0.1  0.11 0.12 0.13\n",
      " 0.14 0.15 0.16 0.17 0.18 0.19 0.2  0.21 0.22 0.23 0.24 0.25 0.26 0.27\n",
      " 0.28 0.29 0.3  0.31 0.32 0.33 0.34 0.35 0.36 0.37 0.38 0.39 0.4  0.41\n",
      " 0.42 0.43 0.44 0.45 0.46 0.47 0.48 0.49 0.5  0.51 0.52 0.53 0.54 0.55\n",
      " 0.56 0.57 0.58 0.59 0.6  0.61 0.62 0.63 0.64 0.65 0.66 0.67 0.68 0.69\n",
      " 0.7  0.71 0.72 0.73 0.74 0.75 0.76 0.77 0.78 0.79 0.8  0.81 0.82 0.83\n",
      " 0.84 0.85 0.86 0.87 0.88 0.89 0.9  0.91 0.92 0.93 0.94 0.95 0.96 0.97\n",
      " 0.98 0.99 1.  ]\n",
      "12 [0.   0.01 0.02 0.03 0.04 0.05 0.06 0.07 0.08 0.09 0.1  0.11 0.12 0.13\n",
      " 0.14 0.15 0.16 0.17 0.18 0.19 0.2  0.21 0.22 0.23 0.24 0.25 0.26 0.27\n",
      " 0.28 0.29 0.3  0.31 0.33 0.38 0.39 0.4  0.43 0.47 0.48 0.5  0.51 0.52\n",
      " 0.53 0.56 0.57 0.6  0.62 0.67 0.75 1.  ]\n",
      "13 [0.   0.01 0.02 0.03 0.04 0.05 0.06 0.07 0.08 0.09 0.11 0.12 0.13 0.14\n",
      " 0.15 0.17 0.21 0.25 0.33 0.45 0.46 0.47 0.48 0.5  0.52 0.53 0.57 0.58\n",
      " 0.59 0.6  0.62 0.66 0.67 0.69 0.7  0.72 0.74 0.75 0.8  0.86 0.89 0.9\n",
      " 0.98 1.  ]\n",
      "14 [0. 1.]\n",
      "15 [0. 1.]\n",
      "16 [0. 1.]\n",
      "17 [0. 1.]\n",
      "18 [0. 1.]\n",
      "19 [0. 1.]\n",
      "20 [0. 1.]\n",
      "21 [0. 1.]\n",
      "22 [0. 1.]\n",
      "23 [0. 1.]\n",
      "24 [0. 1.]\n",
      "25 [0. 1.]\n",
      "26 [0. 1.]\n",
      "27 [0. 1.]\n",
      "28 [0. 1.]\n",
      "29 [0. 1.]\n",
      "30 [0. 1.]\n",
      "31 [0. 1.]\n",
      "32 [0. 1.]\n",
      "33 [0. 1.]\n",
      "34 [0. 1.]\n",
      "35 [0. 1.]\n",
      "36 [0. 1.]\n",
      "37 [0. 1.]\n",
      "38 [0. 1.]\n",
      "39 [0. 1.]\n",
      "40 [0. 1.]\n",
      "41 [0. 1.]\n",
      "42 [0. 1.]\n",
      "43 [0. 1.]\n",
      "44 [0. 1.]\n",
      "45 [0. 1. 2.]\n"
     ]
    }
   ],
   "source": [
    "# To show that we have changed correctly new_X\n",
    "num_inst, num_features = new_X.shape\n",
    "\n",
    "for f in range(num_features):\n",
    "    print (f, np.unique(new_X.iloc[:,f]))"
   ],
   "metadata": {
    "collapsed": false,
    "ExecuteTime": {
     "end_time": "2023-11-06T18:14:54.203999Z",
     "start_time": "2023-11-06T18:14:54.152666Z"
    }
   },
   "id": "1f86c3cc35a9314d"
  },
  {
   "cell_type": "code",
   "execution_count": 111,
   "outputs": [
    {
     "data": {
      "text/plain": "       0  udp  private  SF  105    146   1  1.1  1.2  0.1   0.2  255  254  \\\n47691  0  tcp     http  SF  230   1295   4    4  1.0  0.0  0.00  178  255   \n33686  0  udp  private  SF   28      0  91   91  1.0  0.0  0.00  116   91   \n44616  0  tcp     http  SF  173  21704   1    1  1.0  0.0  0.00  255  255   \n58903  0  tcp     http  SF  213   1274   7   17  1.0  0.0  0.29  255  255   \n4651   0  tcp     http  SF  223    197  19   26  1.0  0.0  0.19  255  255   \n...   ..  ...      ...  ..  ...    ...  ..  ...  ...  ...   ...  ...  ...   \n30219  0  tcp     http  SF  206    750  10   14  1.0  0.0  0.21   11  255   \n33382  0  tcp     http  SF  220    864  40   40  1.0  0.0  0.00  137  255   \n33980  0  tcp     http  SF  298   8968   8   15  1.0  0.0  0.13   25  255   \n10289  0  tcp     http  S2  261    529   1    1  1.0  0.0  0.00    1  245   \n50896  0  tcp     http  SF  164   8435  20   20  1.0  0.0  0.00   60  255   \n\n        1.3  0.01   0.3   0.4  0.5  \n47691  1.00  0.00  0.01  0.02  0.0  \n33686  0.78  0.03  0.78  0.00  0.0  \n44616  1.00  0.00  0.00  0.00  0.0  \n58903  1.00  0.00  0.00  0.00  0.0  \n4651   1.00  0.00  0.00  0.00  0.0  \n...     ...   ...   ...   ...  ...  \n30219  1.00  0.00  0.09  0.06  0.0  \n33382  1.00  0.00  0.01  0.03  0.0  \n33980  1.00  0.00  0.04  0.03  0.0  \n10289  1.00  0.00  1.00  0.04  0.0  \n50896  1.00  0.00  0.02  0.05  0.0  \n\n[100 rows x 18 columns]",
      "text/html": "<div>\n<style scoped>\n    .dataframe tbody tr th:only-of-type {\n        vertical-align: middle;\n    }\n\n    .dataframe tbody tr th {\n        vertical-align: top;\n    }\n\n    .dataframe thead th {\n        text-align: right;\n    }\n</style>\n<table border=\"1\" class=\"dataframe\">\n  <thead>\n    <tr style=\"text-align: right;\">\n      <th></th>\n      <th>0</th>\n      <th>udp</th>\n      <th>private</th>\n      <th>SF</th>\n      <th>105</th>\n      <th>146</th>\n      <th>1</th>\n      <th>1.1</th>\n      <th>1.2</th>\n      <th>0.1</th>\n      <th>0.2</th>\n      <th>255</th>\n      <th>254</th>\n      <th>1.3</th>\n      <th>0.01</th>\n      <th>0.3</th>\n      <th>0.4</th>\n      <th>0.5</th>\n    </tr>\n  </thead>\n  <tbody>\n    <tr>\n      <th>47691</th>\n      <td>0</td>\n      <td>tcp</td>\n      <td>http</td>\n      <td>SF</td>\n      <td>230</td>\n      <td>1295</td>\n      <td>4</td>\n      <td>4</td>\n      <td>1.0</td>\n      <td>0.0</td>\n      <td>0.00</td>\n      <td>178</td>\n      <td>255</td>\n      <td>1.00</td>\n      <td>0.00</td>\n      <td>0.01</td>\n      <td>0.02</td>\n      <td>0.0</td>\n    </tr>\n    <tr>\n      <th>33686</th>\n      <td>0</td>\n      <td>udp</td>\n      <td>private</td>\n      <td>SF</td>\n      <td>28</td>\n      <td>0</td>\n      <td>91</td>\n      <td>91</td>\n      <td>1.0</td>\n      <td>0.0</td>\n      <td>0.00</td>\n      <td>116</td>\n      <td>91</td>\n      <td>0.78</td>\n      <td>0.03</td>\n      <td>0.78</td>\n      <td>0.00</td>\n      <td>0.0</td>\n    </tr>\n    <tr>\n      <th>44616</th>\n      <td>0</td>\n      <td>tcp</td>\n      <td>http</td>\n      <td>SF</td>\n      <td>173</td>\n      <td>21704</td>\n      <td>1</td>\n      <td>1</td>\n      <td>1.0</td>\n      <td>0.0</td>\n      <td>0.00</td>\n      <td>255</td>\n      <td>255</td>\n      <td>1.00</td>\n      <td>0.00</td>\n      <td>0.00</td>\n      <td>0.00</td>\n      <td>0.0</td>\n    </tr>\n    <tr>\n      <th>58903</th>\n      <td>0</td>\n      <td>tcp</td>\n      <td>http</td>\n      <td>SF</td>\n      <td>213</td>\n      <td>1274</td>\n      <td>7</td>\n      <td>17</td>\n      <td>1.0</td>\n      <td>0.0</td>\n      <td>0.29</td>\n      <td>255</td>\n      <td>255</td>\n      <td>1.00</td>\n      <td>0.00</td>\n      <td>0.00</td>\n      <td>0.00</td>\n      <td>0.0</td>\n    </tr>\n    <tr>\n      <th>4651</th>\n      <td>0</td>\n      <td>tcp</td>\n      <td>http</td>\n      <td>SF</td>\n      <td>223</td>\n      <td>197</td>\n      <td>19</td>\n      <td>26</td>\n      <td>1.0</td>\n      <td>0.0</td>\n      <td>0.19</td>\n      <td>255</td>\n      <td>255</td>\n      <td>1.00</td>\n      <td>0.00</td>\n      <td>0.00</td>\n      <td>0.00</td>\n      <td>0.0</td>\n    </tr>\n    <tr>\n      <th>...</th>\n      <td>...</td>\n      <td>...</td>\n      <td>...</td>\n      <td>...</td>\n      <td>...</td>\n      <td>...</td>\n      <td>...</td>\n      <td>...</td>\n      <td>...</td>\n      <td>...</td>\n      <td>...</td>\n      <td>...</td>\n      <td>...</td>\n      <td>...</td>\n      <td>...</td>\n      <td>...</td>\n      <td>...</td>\n      <td>...</td>\n    </tr>\n    <tr>\n      <th>30219</th>\n      <td>0</td>\n      <td>tcp</td>\n      <td>http</td>\n      <td>SF</td>\n      <td>206</td>\n      <td>750</td>\n      <td>10</td>\n      <td>14</td>\n      <td>1.0</td>\n      <td>0.0</td>\n      <td>0.21</td>\n      <td>11</td>\n      <td>255</td>\n      <td>1.00</td>\n      <td>0.00</td>\n      <td>0.09</td>\n      <td>0.06</td>\n      <td>0.0</td>\n    </tr>\n    <tr>\n      <th>33382</th>\n      <td>0</td>\n      <td>tcp</td>\n      <td>http</td>\n      <td>SF</td>\n      <td>220</td>\n      <td>864</td>\n      <td>40</td>\n      <td>40</td>\n      <td>1.0</td>\n      <td>0.0</td>\n      <td>0.00</td>\n      <td>137</td>\n      <td>255</td>\n      <td>1.00</td>\n      <td>0.00</td>\n      <td>0.01</td>\n      <td>0.03</td>\n      <td>0.0</td>\n    </tr>\n    <tr>\n      <th>33980</th>\n      <td>0</td>\n      <td>tcp</td>\n      <td>http</td>\n      <td>SF</td>\n      <td>298</td>\n      <td>8968</td>\n      <td>8</td>\n      <td>15</td>\n      <td>1.0</td>\n      <td>0.0</td>\n      <td>0.13</td>\n      <td>25</td>\n      <td>255</td>\n      <td>1.00</td>\n      <td>0.00</td>\n      <td>0.04</td>\n      <td>0.03</td>\n      <td>0.0</td>\n    </tr>\n    <tr>\n      <th>10289</th>\n      <td>0</td>\n      <td>tcp</td>\n      <td>http</td>\n      <td>S2</td>\n      <td>261</td>\n      <td>529</td>\n      <td>1</td>\n      <td>1</td>\n      <td>1.0</td>\n      <td>0.0</td>\n      <td>0.00</td>\n      <td>1</td>\n      <td>245</td>\n      <td>1.00</td>\n      <td>0.00</td>\n      <td>1.00</td>\n      <td>0.04</td>\n      <td>0.0</td>\n    </tr>\n    <tr>\n      <th>50896</th>\n      <td>0</td>\n      <td>tcp</td>\n      <td>http</td>\n      <td>SF</td>\n      <td>164</td>\n      <td>8435</td>\n      <td>20</td>\n      <td>20</td>\n      <td>1.0</td>\n      <td>0.0</td>\n      <td>0.00</td>\n      <td>60</td>\n      <td>255</td>\n      <td>1.00</td>\n      <td>0.00</td>\n      <td>0.02</td>\n      <td>0.05</td>\n      <td>0.0</td>\n    </tr>\n  </tbody>\n</table>\n<p>100 rows × 18 columns</p>\n</div>"
     },
     "execution_count": 111,
     "metadata": {},
     "output_type": "execute_result"
    }
   ],
   "source": [
    "X_train.head(100)"
   ],
   "metadata": {
    "collapsed": false,
    "ExecuteTime": {
     "end_time": "2023-11-06T18:14:55.082627Z",
     "start_time": "2023-11-06T18:14:54.980192Z"
    }
   },
   "id": "b4415c8ce910080f"
  },
  {
   "cell_type": "markdown",
   "source": [
    "## Process y "
   ],
   "metadata": {
    "collapsed": false
   },
   "id": "62f011834aec06a6"
  },
  {
   "cell_type": "code",
   "execution_count": 112,
   "outputs": [
    {
     "data": {
      "text/plain": "47691    normal.\n33686    normal.\n44616    normal.\n58903    normal.\n4651     normal.\n          ...   \n16708    normal.\n6010     normal.\n3243     normal.\n47       normal.\n40704    normal.\nName: normal., Length: 48749, dtype: object"
     },
     "execution_count": 112,
     "metadata": {},
     "output_type": "execute_result"
    }
   ],
   "source": [
    "y_train    "
   ],
   "metadata": {
    "collapsed": false,
    "ExecuteTime": {
     "end_time": "2023-11-06T18:24:40.077368Z",
     "start_time": "2023-11-06T18:24:39.995594Z"
    }
   },
   "id": "8c7db47d5b5fdc41"
  },
  {
   "cell_type": "code",
   "execution_count": 113,
   "outputs": [
    {
     "data": {
      "text/plain": "normal.\nnormal.             48471\nipsweep.              246\nbuffer_overflow.       16\nrootkit.               12\nworm.                   2\nsqlattack.              2\nName: count, dtype: int64"
     },
     "execution_count": 113,
     "metadata": {},
     "output_type": "execute_result"
    }
   ],
   "source": [
    "y_train.value_counts()"
   ],
   "metadata": {
    "collapsed": false,
    "ExecuteTime": {
     "end_time": "2023-11-06T18:24:57.296681Z",
     "start_time": "2023-11-06T18:24:57.190602Z"
    }
   },
   "id": "92083bfc03f5c95d"
  },
  {
   "cell_type": "code",
   "execution_count": 115,
   "outputs": [
    {
     "name": "stdout",
     "output_type": "stream",
     "text": [
      "Majority class accuracy: 0.994\n"
     ]
    }
   ],
   "source": [
    "baseline_accuracy = y_train.value_counts().max()/y_train.value_counts().sum()\n",
    "print (f\"Majority class accuracy: {baseline_accuracy:.3f}\")"
   ],
   "metadata": {
    "collapsed": false,
    "ExecuteTime": {
     "end_time": "2023-11-06T18:26:05.596538Z",
     "start_time": "2023-11-06T18:26:05.530578Z"
    }
   },
   "id": "304d98ca6dcc4b7e"
  },
  {
   "cell_type": "code",
   "execution_count": null,
   "outputs": [],
   "source": [],
   "metadata": {
    "collapsed": false
   },
   "id": "7e117939e6da2ad2"
  }
 ],
 "metadata": {
  "kernelspec": {
   "display_name": "Python 3",
   "language": "python",
   "name": "python3"
  },
  "language_info": {
   "codemirror_mode": {
    "name": "ipython",
    "version": 2
   },
   "file_extension": ".py",
   "mimetype": "text/x-python",
   "name": "python",
   "nbconvert_exporter": "python",
   "pygments_lexer": "ipython2",
   "version": "2.7.6"
  }
 },
 "nbformat": 4,
 "nbformat_minor": 5
}
