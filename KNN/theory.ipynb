{
 "cells": [
  {
   "cell_type": "markdown",
   "source": [
    "# Nearest Neighbor Classifiers\n",
    "\n",
    "**Nearest Neighbors**, can be used to determine the class label of the test instance. The justification for using nearest neighbors is best exemplified by the following saying: *“If it walks like a duck, quacks like a duck, and looks like a duck, then it’s probably a duck.”*\n",
    "\n",
    "A nearest neighbor classifier represents each example as a data point in a **d-dimensional** space, where $d$ is the number of attribute. \n",
    "\n",
    "Given a test instance, we compute its proximity to the training instances according to one of the proximity measures. \n",
    "The k-nearest neighbors of a given test instance $z$ refer to the k training examples that are closest to $z$.\n",
    "<space>\n",
    "<img src=\"knn-1.png\">\n",
    "<img src=\"knn-2.png\">"
   ],
   "metadata": {
    "collapsed": false
   },
   "id": "bdb86bd154f3e470"
  },
  {
   "cell_type": "markdown",
   "source": [
    "# Algorithm\n",
    "\n",
    " The algorithm computes the distance (or similarity) between each test instance $z = (x′,y′)$ and all the training examples $(x,y) ∈ D$ to determine its nearest neighbor list, $Dz$.\n",
    " \n",
    "Such computation can be costly if the number of training examples is large. However, efficient indexing techniques are available to reduce the computation needed to find the nearest neighbors of a test instance.\n",
    "<space>\n",
    "<img src=\"knn-Algo.png\">\n",
    "<space>\n",
    "Once the nearest neighbor list is obtained, the test instance is classified based on the majority class of its nearest neighbors:\n",
    "\n",
    "$$\n",
    "Majority \\hspace{0.5cm} Voting : y' = \\underset{v}{argmax} \\sum_{(x_i, y_i)\\in D_z} I(v=y_i)\n",
    "$$\n",
    "\n",
    "where $v$ is a class label, $yi$ is the class label for one of the nearest neighbors, and $I(·)$ is an indicator function that returns the value 1 if its argument is true and 0 otherwise.\n",
    "\n",
    "In the majority voting approach, every neighbor has the same impact on the classification. This makes the algorithm sensitive to the choice of $k$, as shown in figure. One way to reduce the impact of $k$ is to weight the influence of each nearest neighbor $xi$ according to its distance: \n",
    "\n",
    "$$wi = \\frac{1}{d(x′,xi)^2} $$ \n",
    "\n",
    "As a result, training examples that are located far away from *z* have a weaker impact on the classification compared to those that are located close to *z*. Using the distance-weighted voting scheme, the class label can be determined as follows:\n",
    "\n",
    "$$\n",
    "Distance-Weighted \\hspace{0.5cm} Voting : y' = \\underset{v}{argmax} \\sum_{(x_i, y_i)\\in D_z} w_i * I(v=y_i)\n",
    "$$"
   ],
   "metadata": {
    "collapsed": false
   },
   "id": "2a79321ab717100f"
  },
  {
   "cell_type": "markdown",
   "source": [
    "# Characteristics of Nearest Neighbor Classifiers "
   ],
   "metadata": {
    "collapsed": false
   },
   "id": "6586526260f0bc64"
  },
  {
   "cell_type": "markdown",
   "source": [
    "# KNN in Practice"
   ],
   "metadata": {
    "collapsed": false
   },
   "id": "586e7560d31aeff9"
  },
  {
   "cell_type": "code",
   "execution_count": 1,
   "id": "initial_id",
   "metadata": {
    "collapsed": true,
    "ExecuteTime": {
     "end_time": "2024-01-09T16:43:24.016143Z",
     "start_time": "2024-01-09T16:43:19.796965Z"
    }
   },
   "outputs": [
    {
     "data": {
      "text/plain": "       SquareFeet  Bedrooms  Bathrooms Neighborhood  YearBuilt          Price\n0            2126         4          1        Rural       1969  215355.283618\n1            2459         3          2        Rural       1980  195014.221626\n2            1860         2          1       Suburb       1970  306891.012076\n3            2294         2          1        Urban       1996  206786.787153\n4            2130         5          2       Suburb       2001  272436.239065\n...           ...       ...        ...          ...        ...            ...\n49995        1282         5          3        Rural       1975  100080.865895\n49996        2854         2          2       Suburb       1988  374507.656727\n49997        2979         5          3       Suburb       1962  384110.555590\n49998        2596         5          2        Rural       1984  380512.685957\n49999        1572         5          3        Rural       2011  221618.583218\n\n[50000 rows x 6 columns]",
      "text/html": "<div>\n<style scoped>\n    .dataframe tbody tr th:only-of-type {\n        vertical-align: middle;\n    }\n\n    .dataframe tbody tr th {\n        vertical-align: top;\n    }\n\n    .dataframe thead th {\n        text-align: right;\n    }\n</style>\n<table border=\"1\" class=\"dataframe\">\n  <thead>\n    <tr style=\"text-align: right;\">\n      <th></th>\n      <th>SquareFeet</th>\n      <th>Bedrooms</th>\n      <th>Bathrooms</th>\n      <th>Neighborhood</th>\n      <th>YearBuilt</th>\n      <th>Price</th>\n    </tr>\n  </thead>\n  <tbody>\n    <tr>\n      <th>0</th>\n      <td>2126</td>\n      <td>4</td>\n      <td>1</td>\n      <td>Rural</td>\n      <td>1969</td>\n      <td>215355.283618</td>\n    </tr>\n    <tr>\n      <th>1</th>\n      <td>2459</td>\n      <td>3</td>\n      <td>2</td>\n      <td>Rural</td>\n      <td>1980</td>\n      <td>195014.221626</td>\n    </tr>\n    <tr>\n      <th>2</th>\n      <td>1860</td>\n      <td>2</td>\n      <td>1</td>\n      <td>Suburb</td>\n      <td>1970</td>\n      <td>306891.012076</td>\n    </tr>\n    <tr>\n      <th>3</th>\n      <td>2294</td>\n      <td>2</td>\n      <td>1</td>\n      <td>Urban</td>\n      <td>1996</td>\n      <td>206786.787153</td>\n    </tr>\n    <tr>\n      <th>4</th>\n      <td>2130</td>\n      <td>5</td>\n      <td>2</td>\n      <td>Suburb</td>\n      <td>2001</td>\n      <td>272436.239065</td>\n    </tr>\n    <tr>\n      <th>...</th>\n      <td>...</td>\n      <td>...</td>\n      <td>...</td>\n      <td>...</td>\n      <td>...</td>\n      <td>...</td>\n    </tr>\n    <tr>\n      <th>49995</th>\n      <td>1282</td>\n      <td>5</td>\n      <td>3</td>\n      <td>Rural</td>\n      <td>1975</td>\n      <td>100080.865895</td>\n    </tr>\n    <tr>\n      <th>49996</th>\n      <td>2854</td>\n      <td>2</td>\n      <td>2</td>\n      <td>Suburb</td>\n      <td>1988</td>\n      <td>374507.656727</td>\n    </tr>\n    <tr>\n      <th>49997</th>\n      <td>2979</td>\n      <td>5</td>\n      <td>3</td>\n      <td>Suburb</td>\n      <td>1962</td>\n      <td>384110.555590</td>\n    </tr>\n    <tr>\n      <th>49998</th>\n      <td>2596</td>\n      <td>5</td>\n      <td>2</td>\n      <td>Rural</td>\n      <td>1984</td>\n      <td>380512.685957</td>\n    </tr>\n    <tr>\n      <th>49999</th>\n      <td>1572</td>\n      <td>5</td>\n      <td>3</td>\n      <td>Rural</td>\n      <td>2011</td>\n      <td>221618.583218</td>\n    </tr>\n  </tbody>\n</table>\n<p>50000 rows × 6 columns</p>\n</div>"
     },
     "execution_count": 1,
     "metadata": {},
     "output_type": "execute_result"
    }
   ],
   "source": [
    "import numpy as np\n",
    "import pandas as pd\n",
    "from sklearn.model_selection import train_test_split\n",
    "\n",
    "data = pd.read_csv(\"housing_price_dataset.csv\")\n",
    "data"
   ]
  },
  {
   "cell_type": "code",
   "execution_count": 2,
   "outputs": [
    {
     "data": {
      "text/plain": "              count           mean           std           min            25%  \\\nSquareFeet  50000.0    2006.374680    575.513241   1000.000000    1513.000000   \nBedrooms    50000.0       3.498700      1.116326      2.000000       3.000000   \nBathrooms   50000.0       1.995420      0.815851      1.000000       1.000000   \nYearBuilt   50000.0    1985.404420     20.719377   1950.000000    1967.000000   \nPrice       50000.0  224827.325151  76141.842966 -36588.165397  169955.860225   \n\n                      50%            75%            max  \nSquareFeet    2007.000000    2506.000000    2999.000000  \nBedrooms         3.000000       4.000000       5.000000  \nBathrooms        2.000000       3.000000       3.000000  \nYearBuilt     1985.000000    2003.000000    2021.000000  \nPrice       225052.141166  279373.630052  492195.259972  ",
      "text/html": "<div>\n<style scoped>\n    .dataframe tbody tr th:only-of-type {\n        vertical-align: middle;\n    }\n\n    .dataframe tbody tr th {\n        vertical-align: top;\n    }\n\n    .dataframe thead th {\n        text-align: right;\n    }\n</style>\n<table border=\"1\" class=\"dataframe\">\n  <thead>\n    <tr style=\"text-align: right;\">\n      <th></th>\n      <th>count</th>\n      <th>mean</th>\n      <th>std</th>\n      <th>min</th>\n      <th>25%</th>\n      <th>50%</th>\n      <th>75%</th>\n      <th>max</th>\n    </tr>\n  </thead>\n  <tbody>\n    <tr>\n      <th>SquareFeet</th>\n      <td>50000.0</td>\n      <td>2006.374680</td>\n      <td>575.513241</td>\n      <td>1000.000000</td>\n      <td>1513.000000</td>\n      <td>2007.000000</td>\n      <td>2506.000000</td>\n      <td>2999.000000</td>\n    </tr>\n    <tr>\n      <th>Bedrooms</th>\n      <td>50000.0</td>\n      <td>3.498700</td>\n      <td>1.116326</td>\n      <td>2.000000</td>\n      <td>3.000000</td>\n      <td>3.000000</td>\n      <td>4.000000</td>\n      <td>5.000000</td>\n    </tr>\n    <tr>\n      <th>Bathrooms</th>\n      <td>50000.0</td>\n      <td>1.995420</td>\n      <td>0.815851</td>\n      <td>1.000000</td>\n      <td>1.000000</td>\n      <td>2.000000</td>\n      <td>3.000000</td>\n      <td>3.000000</td>\n    </tr>\n    <tr>\n      <th>YearBuilt</th>\n      <td>50000.0</td>\n      <td>1985.404420</td>\n      <td>20.719377</td>\n      <td>1950.000000</td>\n      <td>1967.000000</td>\n      <td>1985.000000</td>\n      <td>2003.000000</td>\n      <td>2021.000000</td>\n    </tr>\n    <tr>\n      <th>Price</th>\n      <td>50000.0</td>\n      <td>224827.325151</td>\n      <td>76141.842966</td>\n      <td>-36588.165397</td>\n      <td>169955.860225</td>\n      <td>225052.141166</td>\n      <td>279373.630052</td>\n      <td>492195.259972</td>\n    </tr>\n  </tbody>\n</table>\n</div>"
     },
     "execution_count": 2,
     "metadata": {},
     "output_type": "execute_result"
    }
   ],
   "source": [
    "data.describe().T"
   ],
   "metadata": {
    "collapsed": false,
    "ExecuteTime": {
     "end_time": "2024-01-09T16:43:24.034543Z",
     "start_time": "2024-01-09T16:43:24.013131Z"
    }
   },
   "id": "4c667f5a14957e37"
  },
  {
   "cell_type": "code",
   "execution_count": 3,
   "outputs": [
    {
     "name": "stdout",
     "output_type": "stream",
     "text": [
      "<class 'pandas.core.frame.DataFrame'>\n",
      "RangeIndex: 50000 entries, 0 to 49999\n",
      "Data columns (total 6 columns):\n",
      " #   Column        Non-Null Count  Dtype  \n",
      "---  ------        --------------  -----  \n",
      " 0   SquareFeet    50000 non-null  int64  \n",
      " 1   Bedrooms      50000 non-null  int64  \n",
      " 2   Bathrooms     50000 non-null  int64  \n",
      " 3   Neighborhood  50000 non-null  object \n",
      " 4   YearBuilt     50000 non-null  int64  \n",
      " 5   Price         50000 non-null  float64\n",
      "dtypes: float64(1), int64(4), object(1)\n",
      "memory usage: 2.3+ MB\n"
     ]
    }
   ],
   "source": [
    "data.info()"
   ],
   "metadata": {
    "collapsed": false,
    "ExecuteTime": {
     "end_time": "2024-01-09T16:43:24.061911Z",
     "start_time": "2024-01-09T16:43:24.032077Z"
    }
   },
   "id": "b35e511f12f5dfcb"
  },
  {
   "cell_type": "code",
   "execution_count": 4,
   "outputs": [
    {
     "name": "stdout",
     "output_type": "stream",
     "text": [
      "0 [1000 1001 1002 ... 2997 2998 2999]\n",
      "1 [2 3 4 5]\n",
      "2 [1 2 3]\n",
      "3 ['Rural' 'Suburb' 'Urban']\n",
      "4 [1950 1951 1952 1953 1954 1955 1956 1957 1958 1959 1960 1961 1962 1963\n",
      " 1964 1965 1966 1967 1968 1969 1970 1971 1972 1973 1974 1975 1976 1977\n",
      " 1978 1979 1980 1981 1982 1983 1984 1985 1986 1987 1988 1989 1990 1991\n",
      " 1992 1993 1994 1995 1996 1997 1998 1999 2000 2001 2002 2003 2004 2005\n",
      " 2006 2007 2008 2009 2010 2011 2012 2013 2014 2015 2016 2017 2018 2019\n",
      " 2020 2021]\n",
      "5 [-36588.16539749 -28774.99802221 -24715.24248213 ... 476671.73326267\n",
      " 482577.16340543 492195.25997202]\n"
     ]
    }
   ],
   "source": [
    "num_inst, num_features = data.shape\n",
    "# elem = [ np.unique(data_proc.iloc[:,f]) for f in range(num_features)]\n",
    "for f in range(num_features):\n",
    "    print (f, np.unique(data.iloc[:,f])) "
   ],
   "metadata": {
    "collapsed": false,
    "ExecuteTime": {
     "end_time": "2024-01-09T16:43:24.170766Z",
     "start_time": "2024-01-09T16:43:24.043192Z"
    }
   },
   "id": "922948f748648c92"
  },
  {
   "cell_type": "code",
   "execution_count": 5,
   "outputs": [
    {
     "data": {
      "text/plain": "Neighborhood\nSuburb    16721\nRural     16676\nUrban     16603\nName: count, dtype: int64"
     },
     "execution_count": 5,
     "metadata": {},
     "output_type": "execute_result"
    }
   ],
   "source": [
    "data[\"Neighborhood\"].value_counts()"
   ],
   "metadata": {
    "collapsed": false,
    "ExecuteTime": {
     "end_time": "2024-01-09T16:43:24.537565Z",
     "start_time": "2024-01-09T16:43:24.530377Z"
    }
   },
   "id": "696be5b48985f5ee"
  },
  {
   "cell_type": "code",
   "execution_count": 6,
   "outputs": [],
   "source": [
    "# drop label columns\n",
    "X = data.drop(columns=[\"Neighborhood\"])\n",
    "\n",
    "# isolate y\n",
    "y = data[\"Neighborhood\"]\n",
    "\n",
    "# split in Train-set(80%) and Testing-set(20%)\n",
    "X_train, X_test, y_train, y_test = train_test_split( X, y, test_size=0.33, random_state=42) "
   ],
   "metadata": {
    "collapsed": false,
    "ExecuteTime": {
     "end_time": "2024-01-09T16:43:24.859071Z",
     "start_time": "2024-01-09T16:43:24.847128Z"
    }
   },
   "id": "da85178f1c79e5f1"
  },
  {
   "cell_type": "code",
   "execution_count": 7,
   "outputs": [
    {
     "name": "stdout",
     "output_type": "stream",
     "text": [
      "<class 'pandas.core.frame.DataFrame'>\n",
      "Index: 33500 entries, 23990 to 15795\n",
      "Data columns (total 5 columns):\n",
      " #   Column      Non-Null Count  Dtype  \n",
      "---  ------      --------------  -----  \n",
      " 0   SquareFeet  33500 non-null  int64  \n",
      " 1   Bedrooms    33500 non-null  int64  \n",
      " 2   Bathrooms   33500 non-null  int64  \n",
      " 3   YearBuilt   33500 non-null  int64  \n",
      " 4   Price       33500 non-null  float64\n",
      "dtypes: float64(1), int64(4)\n",
      "memory usage: 1.5 MB\n",
      "<class 'pandas.core.frame.DataFrame'>\n",
      "Index: 16500 entries, 33553 to 28203\n",
      "Data columns (total 5 columns):\n",
      " #   Column      Non-Null Count  Dtype  \n",
      "---  ------      --------------  -----  \n",
      " 0   SquareFeet  16500 non-null  int64  \n",
      " 1   Bedrooms    16500 non-null  int64  \n",
      " 2   Bathrooms   16500 non-null  int64  \n",
      " 3   YearBuilt   16500 non-null  int64  \n",
      " 4   Price       16500 non-null  float64\n",
      "dtypes: float64(1), int64(4)\n",
      "memory usage: 773.4 KB\n"
     ]
    },
    {
     "data": {
      "text/plain": "(None, None)"
     },
     "execution_count": 7,
     "metadata": {},
     "output_type": "execute_result"
    }
   ],
   "source": [
    "X_train.info(), X_test.info()"
   ],
   "metadata": {
    "collapsed": false,
    "ExecuteTime": {
     "end_time": "2024-01-09T16:43:25.344982Z",
     "start_time": "2024-01-09T16:43:25.332932Z"
    }
   },
   "id": "8f6c5890f361dd1e"
  },
  {
   "cell_type": "code",
   "execution_count": 7,
   "outputs": [],
   "source": [],
   "metadata": {
    "collapsed": false,
    "ExecuteTime": {
     "end_time": "2024-01-09T16:43:25.983102Z",
     "start_time": "2024-01-09T16:43:25.975749Z"
    }
   },
   "id": "3bc379999d967277"
  },
  {
   "cell_type": "code",
   "execution_count": 8,
   "outputs": [],
   "source": [
    "from sklearn.preprocessing import LabelEncoder\n",
    "\n",
    "def process_data_x(train, test):\n",
    "    numerical_idx = [\"SquareFeet\", \"Bedrooms\", \"Bathrooms\", \"YearBuilt\", \"Price\"]\n",
    "    \n",
    "    # convert numeric integer to float and concat them with already float feature \n",
    "     # There are no NaN element in these feature\n",
    "    for col in range(0):\n",
    "        X_train[numerical_idx[col]] = pd.to_numeric(train[numerical_idx[col]],downcast='float')\n",
    "    \n",
    "    # --------------\n",
    "    # process test\n",
    "    \n",
    "    # convert numeric integer to float and concat them with already float feature \n",
    "     # There are no NaN element in these feature\n",
    "    for col in range(0,4):\n",
    "        X_test[numerical_idx[col]] = pd.to_numeric(train[numerical_idx[col]],downcast='float')\n",
    "    \n",
    "    return X_train, X_test"
   ],
   "metadata": {
    "collapsed": false,
    "ExecuteTime": {
     "end_time": "2024-01-09T16:43:26.648042Z",
     "start_time": "2024-01-09T16:43:26.640533Z"
    }
   },
   "id": "222a37e56ba7f91"
  },
  {
   "cell_type": "code",
   "execution_count": 9,
   "outputs": [],
   "source": [
    "X_train_enc, X_test_enc = process_data_x(X_train, X_test)"
   ],
   "metadata": {
    "collapsed": false,
    "ExecuteTime": {
     "end_time": "2024-01-09T16:43:27.333825Z",
     "start_time": "2024-01-09T16:43:27.326445Z"
    }
   },
   "id": "fe801cab05dc6519"
  },
  {
   "cell_type": "code",
   "execution_count": 10,
   "outputs": [
    {
     "data": {
      "text/plain": "       SquareFeet  Bedrooms  Bathrooms  YearBuilt          Price\n23990        2561         3          1       2019  365384.363339\n8729         1064         5          1       2016   98914.614596\n3451         2756         4          2       1967  265441.025324\n2628         1731         4          2       2015  248259.953718\n38352        2794         5          1       1992  286485.264621\n...           ...       ...        ...        ...            ...\n11284        2166         5          3       1996  324396.846219\n44732        2463         4          1       1953  319266.944411\n38158        2812         4          2       2010  248092.662727\n860          2188         3          1       1979  132414.177622\n15795        2649         5          3       1953  288751.049986\n\n[33500 rows x 5 columns]",
      "text/html": "<div>\n<style scoped>\n    .dataframe tbody tr th:only-of-type {\n        vertical-align: middle;\n    }\n\n    .dataframe tbody tr th {\n        vertical-align: top;\n    }\n\n    .dataframe thead th {\n        text-align: right;\n    }\n</style>\n<table border=\"1\" class=\"dataframe\">\n  <thead>\n    <tr style=\"text-align: right;\">\n      <th></th>\n      <th>SquareFeet</th>\n      <th>Bedrooms</th>\n      <th>Bathrooms</th>\n      <th>YearBuilt</th>\n      <th>Price</th>\n    </tr>\n  </thead>\n  <tbody>\n    <tr>\n      <th>23990</th>\n      <td>2561</td>\n      <td>3</td>\n      <td>1</td>\n      <td>2019</td>\n      <td>365384.363339</td>\n    </tr>\n    <tr>\n      <th>8729</th>\n      <td>1064</td>\n      <td>5</td>\n      <td>1</td>\n      <td>2016</td>\n      <td>98914.614596</td>\n    </tr>\n    <tr>\n      <th>3451</th>\n      <td>2756</td>\n      <td>4</td>\n      <td>2</td>\n      <td>1967</td>\n      <td>265441.025324</td>\n    </tr>\n    <tr>\n      <th>2628</th>\n      <td>1731</td>\n      <td>4</td>\n      <td>2</td>\n      <td>2015</td>\n      <td>248259.953718</td>\n    </tr>\n    <tr>\n      <th>38352</th>\n      <td>2794</td>\n      <td>5</td>\n      <td>1</td>\n      <td>1992</td>\n      <td>286485.264621</td>\n    </tr>\n    <tr>\n      <th>...</th>\n      <td>...</td>\n      <td>...</td>\n      <td>...</td>\n      <td>...</td>\n      <td>...</td>\n    </tr>\n    <tr>\n      <th>11284</th>\n      <td>2166</td>\n      <td>5</td>\n      <td>3</td>\n      <td>1996</td>\n      <td>324396.846219</td>\n    </tr>\n    <tr>\n      <th>44732</th>\n      <td>2463</td>\n      <td>4</td>\n      <td>1</td>\n      <td>1953</td>\n      <td>319266.944411</td>\n    </tr>\n    <tr>\n      <th>38158</th>\n      <td>2812</td>\n      <td>4</td>\n      <td>2</td>\n      <td>2010</td>\n      <td>248092.662727</td>\n    </tr>\n    <tr>\n      <th>860</th>\n      <td>2188</td>\n      <td>3</td>\n      <td>1</td>\n      <td>1979</td>\n      <td>132414.177622</td>\n    </tr>\n    <tr>\n      <th>15795</th>\n      <td>2649</td>\n      <td>5</td>\n      <td>3</td>\n      <td>1953</td>\n      <td>288751.049986</td>\n    </tr>\n  </tbody>\n</table>\n<p>33500 rows × 5 columns</p>\n</div>"
     },
     "execution_count": 10,
     "metadata": {},
     "output_type": "execute_result"
    }
   ],
   "source": [
    "X_train_enc"
   ],
   "metadata": {
    "collapsed": false,
    "ExecuteTime": {
     "end_time": "2024-01-09T16:43:27.841436Z",
     "start_time": "2024-01-09T16:43:27.832065Z"
    }
   },
   "id": "5a89588936a47ddf"
  },
  {
   "cell_type": "code",
   "execution_count": 10,
   "outputs": [],
   "source": [],
   "metadata": {
    "collapsed": false,
    "ExecuteTime": {
     "end_time": "2024-01-03T12:13:02.920350Z",
     "start_time": "2024-01-03T12:13:02.763345Z"
    }
   },
   "id": "ea451fa6e8d87ff7"
  }
 ],
 "metadata": {
  "kernelspec": {
   "display_name": "Python 3",
   "language": "python",
   "name": "python3"
  },
  "language_info": {
   "codemirror_mode": {
    "name": "ipython",
    "version": 2
   },
   "file_extension": ".py",
   "mimetype": "text/x-python",
   "name": "python",
   "nbconvert_exporter": "python",
   "pygments_lexer": "ipython2",
   "version": "2.7.6"
  }
 },
 "nbformat": 4,
 "nbformat_minor": 5
}
