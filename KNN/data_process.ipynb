{
 "cells": [
  {
   "cell_type": "markdown",
   "source": [
    "# About Dataset\n",
    "Welcome to Incribo's synthetic cyber dataset! Crafted with precision, this dataset offers a realistic representation of travel history, making it an ideal playground for various analytical tasks.\n",
    "\n",
    "Use the cybersecurity attacks dataset to help you assess the heatmaps, attack signatures, types, and more!\n",
    "\n",
    "Remember, this is just a sample! If you're intrigued and want access to the complete dataset or have specific requirements, don't hesitate to contact us(info@incribo.com)."
   ],
   "metadata": {
    "collapsed": false
   },
   "id": "5919622a16583ad4"
  },
  {
   "cell_type": "code",
   "execution_count": 2,
   "id": "initial_id",
   "metadata": {
    "collapsed": true,
    "ExecuteTime": {
     "end_time": "2023-12-09T10:10:30.047135Z",
     "start_time": "2023-12-09T10:10:28.958855Z"
    }
   },
   "outputs": [
    {
     "data": {
      "text/plain": "                 Timestamp Source IP Address Destination IP Address  \\\n0      2023-05-30 06:33:58     103.216.15.12           84.9.164.252   \n1      2020-08-26 07:08:30    78.199.217.198         66.191.137.154   \n2      2022-11-13 08:23:25      63.79.210.48          198.219.82.17   \n3      2023-07-02 10:38:46     163.42.196.10        101.228.192.255   \n4      2023-07-16 13:11:07     71.166.185.76        189.243.174.238   \n...                    ...               ...                    ...   \n39995  2023-05-26 14:08:42      26.36.109.26         121.100.75.240   \n39996  2023-03-27 00:38:27      17.21.163.81         196.108.134.78   \n39997  2022-03-31 01:45:49     162.35.217.57            98.107.0.15   \n39998  2023-09-22 18:32:38    208.72.233.205         173.79.112.252   \n39999  2023-10-10 11:59:52     14.102.21.108           109.198.45.7   \n\n       Source Port  Destination Port Protocol  Packet Length Packet Type  \\\n0            31225             17616     ICMP            503        Data   \n1            17245             48166     ICMP           1174        Data   \n2            16811             53600      UDP            306     Control   \n3            20018             32534      UDP            385        Data   \n4             6131             26646      TCP           1462        Data   \n...            ...               ...      ...            ...         ...   \n39995        31005              6764      UDP           1428     Control   \n39996         2553             28091      UDP           1184     Control   \n39997        22505             25152      UDP           1043        Data   \n39998        20013              2703      UDP            483        Data   \n39999        50137             55575     ICMP           1175     Control   \n\n      Traffic Type                                       Payload Data  ...  \\\n0             HTTP  Qui natus odio asperiores nam. Optio nobis ius...  ...   \n1             HTTP  Aperiam quos modi officiis veritatis rem. Omni...  ...   \n2             HTTP  Perferendis sapiente vitae soluta. Hic delectu...  ...   \n3             HTTP  Totam maxime beatae expedita explicabo porro l...  ...   \n4              DNS  Odit nesciunt dolorem nisi iste iusto. Animi v...  ...   \n...            ...                                                ...  ...   \n39995         HTTP  Quibusdam ullam consequatur consequuntur accus...  ...   \n39996         HTTP  Quaerat neque esse. Animi expedita natus commo...  ...   \n39997          DNS  Enim at aspernatur illum. Saepe numquam eligen...  ...   \n39998          FTP  Officiis dolorem sed harum provident earum dis...  ...   \n39999         HTTP  Eligendi omnis voluptate nihil voluptatibus do...  ...   \n\n      Action Taken  Severity Level User Information  \\\n0           Logged             Low    Reyansh Dugal   \n1          Blocked             Low       Sumer Rana   \n2          Ignored             Low     Himmat Karpe   \n3          Blocked          Medium       Fateh Kibe   \n4          Blocked             Low     Dhanush Chad   \n...            ...             ...              ...   \n39995       Logged          Medium      Adira Madan   \n39996       Logged            High        Rati Dara   \n39997      Blocked             Low     Samiha Joshi   \n39998      Ignored             Low    Rasha Chauhan   \n39999       Logged          Medium      Zaina Kumar   \n\n                                      Device Information Network Segment  \\\n0      Mozilla/5.0 (compatible; MSIE 8.0; Windows NT ...       Segment A   \n1      Mozilla/5.0 (compatible; MSIE 8.0; Windows NT ...       Segment B   \n2      Mozilla/5.0 (compatible; MSIE 9.0; Windows NT ...       Segment C   \n3      Mozilla/5.0 (Macintosh; PPC Mac OS X 10_11_5; ...       Segment B   \n4      Mozilla/5.0 (compatible; MSIE 5.0; Windows NT ...       Segment C   \n...                                                  ...             ...   \n39995  Mozilla/5.0 (iPad; CPU iPad OS 14_2_1 like Mac...       Segment A   \n39996  Mozilla/5.0 (Windows; U; Windows 98; Win 9x 4....       Segment C   \n39997  Mozilla/5.0 (Windows; U; Windows NT 4.0) Apple...       Segment C   \n39998  Mozilla/5.0 (X11; Linux i686) AppleWebKit/536....       Segment B   \n39999  Mozilla/5.0 (iPod; U; CPU iPhone OS 3_0 like M...       Segment A   \n\n                   Geo-location Data Proxy Information Firewall Logs  \\\n0                 Jamshedpur, Sikkim      150.9.97.135      Log Data   \n1                 Bilaspur, Nagaland               NaN      Log Data   \n2                  Bokaro, Rajasthan    114.133.48.179      Log Data   \n3                 Jaunpur, Rajasthan               NaN           NaN   \n4                 Anantapur, Tripura     149.6.110.119           NaN   \n...                              ...               ...           ...   \n39995                Nashik, Manipur               NaN      Log Data   \n39996              Vadodara, Mizoram       60.51.30.46      Log Data   \n39997  Mahbubnagar, Himachal Pradesh               NaN      Log Data   \n39998    Rourkela, Arunachal Pradesh      137.76.130.8      Log Data   \n39999       Pudukkottai, West Bengal   112.169.115.139      Log Data   \n\n      IDS/IPS Alerts Log Source  \n0                NaN     Server  \n1                NaN   Firewall  \n2         Alert Data   Firewall  \n3         Alert Data   Firewall  \n4         Alert Data   Firewall  \n...              ...        ...  \n39995     Alert Data   Firewall  \n39996            NaN   Firewall  \n39997     Alert Data     Server  \n39998            NaN     Server  \n39999     Alert Data   Firewall  \n\n[40000 rows x 25 columns]",
      "text/html": "<div>\n<style scoped>\n    .dataframe tbody tr th:only-of-type {\n        vertical-align: middle;\n    }\n\n    .dataframe tbody tr th {\n        vertical-align: top;\n    }\n\n    .dataframe thead th {\n        text-align: right;\n    }\n</style>\n<table border=\"1\" class=\"dataframe\">\n  <thead>\n    <tr style=\"text-align: right;\">\n      <th></th>\n      <th>Timestamp</th>\n      <th>Source IP Address</th>\n      <th>Destination IP Address</th>\n      <th>Source Port</th>\n      <th>Destination Port</th>\n      <th>Protocol</th>\n      <th>Packet Length</th>\n      <th>Packet Type</th>\n      <th>Traffic Type</th>\n      <th>Payload Data</th>\n      <th>...</th>\n      <th>Action Taken</th>\n      <th>Severity Level</th>\n      <th>User Information</th>\n      <th>Device Information</th>\n      <th>Network Segment</th>\n      <th>Geo-location Data</th>\n      <th>Proxy Information</th>\n      <th>Firewall Logs</th>\n      <th>IDS/IPS Alerts</th>\n      <th>Log Source</th>\n    </tr>\n  </thead>\n  <tbody>\n    <tr>\n      <th>0</th>\n      <td>2023-05-30 06:33:58</td>\n      <td>103.216.15.12</td>\n      <td>84.9.164.252</td>\n      <td>31225</td>\n      <td>17616</td>\n      <td>ICMP</td>\n      <td>503</td>\n      <td>Data</td>\n      <td>HTTP</td>\n      <td>Qui natus odio asperiores nam. Optio nobis ius...</td>\n      <td>...</td>\n      <td>Logged</td>\n      <td>Low</td>\n      <td>Reyansh Dugal</td>\n      <td>Mozilla/5.0 (compatible; MSIE 8.0; Windows NT ...</td>\n      <td>Segment A</td>\n      <td>Jamshedpur, Sikkim</td>\n      <td>150.9.97.135</td>\n      <td>Log Data</td>\n      <td>NaN</td>\n      <td>Server</td>\n    </tr>\n    <tr>\n      <th>1</th>\n      <td>2020-08-26 07:08:30</td>\n      <td>78.199.217.198</td>\n      <td>66.191.137.154</td>\n      <td>17245</td>\n      <td>48166</td>\n      <td>ICMP</td>\n      <td>1174</td>\n      <td>Data</td>\n      <td>HTTP</td>\n      <td>Aperiam quos modi officiis veritatis rem. Omni...</td>\n      <td>...</td>\n      <td>Blocked</td>\n      <td>Low</td>\n      <td>Sumer Rana</td>\n      <td>Mozilla/5.0 (compatible; MSIE 8.0; Windows NT ...</td>\n      <td>Segment B</td>\n      <td>Bilaspur, Nagaland</td>\n      <td>NaN</td>\n      <td>Log Data</td>\n      <td>NaN</td>\n      <td>Firewall</td>\n    </tr>\n    <tr>\n      <th>2</th>\n      <td>2022-11-13 08:23:25</td>\n      <td>63.79.210.48</td>\n      <td>198.219.82.17</td>\n      <td>16811</td>\n      <td>53600</td>\n      <td>UDP</td>\n      <td>306</td>\n      <td>Control</td>\n      <td>HTTP</td>\n      <td>Perferendis sapiente vitae soluta. Hic delectu...</td>\n      <td>...</td>\n      <td>Ignored</td>\n      <td>Low</td>\n      <td>Himmat Karpe</td>\n      <td>Mozilla/5.0 (compatible; MSIE 9.0; Windows NT ...</td>\n      <td>Segment C</td>\n      <td>Bokaro, Rajasthan</td>\n      <td>114.133.48.179</td>\n      <td>Log Data</td>\n      <td>Alert Data</td>\n      <td>Firewall</td>\n    </tr>\n    <tr>\n      <th>3</th>\n      <td>2023-07-02 10:38:46</td>\n      <td>163.42.196.10</td>\n      <td>101.228.192.255</td>\n      <td>20018</td>\n      <td>32534</td>\n      <td>UDP</td>\n      <td>385</td>\n      <td>Data</td>\n      <td>HTTP</td>\n      <td>Totam maxime beatae expedita explicabo porro l...</td>\n      <td>...</td>\n      <td>Blocked</td>\n      <td>Medium</td>\n      <td>Fateh Kibe</td>\n      <td>Mozilla/5.0 (Macintosh; PPC Mac OS X 10_11_5; ...</td>\n      <td>Segment B</td>\n      <td>Jaunpur, Rajasthan</td>\n      <td>NaN</td>\n      <td>NaN</td>\n      <td>Alert Data</td>\n      <td>Firewall</td>\n    </tr>\n    <tr>\n      <th>4</th>\n      <td>2023-07-16 13:11:07</td>\n      <td>71.166.185.76</td>\n      <td>189.243.174.238</td>\n      <td>6131</td>\n      <td>26646</td>\n      <td>TCP</td>\n      <td>1462</td>\n      <td>Data</td>\n      <td>DNS</td>\n      <td>Odit nesciunt dolorem nisi iste iusto. Animi v...</td>\n      <td>...</td>\n      <td>Blocked</td>\n      <td>Low</td>\n      <td>Dhanush Chad</td>\n      <td>Mozilla/5.0 (compatible; MSIE 5.0; Windows NT ...</td>\n      <td>Segment C</td>\n      <td>Anantapur, Tripura</td>\n      <td>149.6.110.119</td>\n      <td>NaN</td>\n      <td>Alert Data</td>\n      <td>Firewall</td>\n    </tr>\n    <tr>\n      <th>...</th>\n      <td>...</td>\n      <td>...</td>\n      <td>...</td>\n      <td>...</td>\n      <td>...</td>\n      <td>...</td>\n      <td>...</td>\n      <td>...</td>\n      <td>...</td>\n      <td>...</td>\n      <td>...</td>\n      <td>...</td>\n      <td>...</td>\n      <td>...</td>\n      <td>...</td>\n      <td>...</td>\n      <td>...</td>\n      <td>...</td>\n      <td>...</td>\n      <td>...</td>\n      <td>...</td>\n    </tr>\n    <tr>\n      <th>39995</th>\n      <td>2023-05-26 14:08:42</td>\n      <td>26.36.109.26</td>\n      <td>121.100.75.240</td>\n      <td>31005</td>\n      <td>6764</td>\n      <td>UDP</td>\n      <td>1428</td>\n      <td>Control</td>\n      <td>HTTP</td>\n      <td>Quibusdam ullam consequatur consequuntur accus...</td>\n      <td>...</td>\n      <td>Logged</td>\n      <td>Medium</td>\n      <td>Adira Madan</td>\n      <td>Mozilla/5.0 (iPad; CPU iPad OS 14_2_1 like Mac...</td>\n      <td>Segment A</td>\n      <td>Nashik, Manipur</td>\n      <td>NaN</td>\n      <td>Log Data</td>\n      <td>Alert Data</td>\n      <td>Firewall</td>\n    </tr>\n    <tr>\n      <th>39996</th>\n      <td>2023-03-27 00:38:27</td>\n      <td>17.21.163.81</td>\n      <td>196.108.134.78</td>\n      <td>2553</td>\n      <td>28091</td>\n      <td>UDP</td>\n      <td>1184</td>\n      <td>Control</td>\n      <td>HTTP</td>\n      <td>Quaerat neque esse. Animi expedita natus commo...</td>\n      <td>...</td>\n      <td>Logged</td>\n      <td>High</td>\n      <td>Rati Dara</td>\n      <td>Mozilla/5.0 (Windows; U; Windows 98; Win 9x 4....</td>\n      <td>Segment C</td>\n      <td>Vadodara, Mizoram</td>\n      <td>60.51.30.46</td>\n      <td>Log Data</td>\n      <td>NaN</td>\n      <td>Firewall</td>\n    </tr>\n    <tr>\n      <th>39997</th>\n      <td>2022-03-31 01:45:49</td>\n      <td>162.35.217.57</td>\n      <td>98.107.0.15</td>\n      <td>22505</td>\n      <td>25152</td>\n      <td>UDP</td>\n      <td>1043</td>\n      <td>Data</td>\n      <td>DNS</td>\n      <td>Enim at aspernatur illum. Saepe numquam eligen...</td>\n      <td>...</td>\n      <td>Blocked</td>\n      <td>Low</td>\n      <td>Samiha Joshi</td>\n      <td>Mozilla/5.0 (Windows; U; Windows NT 4.0) Apple...</td>\n      <td>Segment C</td>\n      <td>Mahbubnagar, Himachal Pradesh</td>\n      <td>NaN</td>\n      <td>Log Data</td>\n      <td>Alert Data</td>\n      <td>Server</td>\n    </tr>\n    <tr>\n      <th>39998</th>\n      <td>2023-09-22 18:32:38</td>\n      <td>208.72.233.205</td>\n      <td>173.79.112.252</td>\n      <td>20013</td>\n      <td>2703</td>\n      <td>UDP</td>\n      <td>483</td>\n      <td>Data</td>\n      <td>FTP</td>\n      <td>Officiis dolorem sed harum provident earum dis...</td>\n      <td>...</td>\n      <td>Ignored</td>\n      <td>Low</td>\n      <td>Rasha Chauhan</td>\n      <td>Mozilla/5.0 (X11; Linux i686) AppleWebKit/536....</td>\n      <td>Segment B</td>\n      <td>Rourkela, Arunachal Pradesh</td>\n      <td>137.76.130.8</td>\n      <td>Log Data</td>\n      <td>NaN</td>\n      <td>Server</td>\n    </tr>\n    <tr>\n      <th>39999</th>\n      <td>2023-10-10 11:59:52</td>\n      <td>14.102.21.108</td>\n      <td>109.198.45.7</td>\n      <td>50137</td>\n      <td>55575</td>\n      <td>ICMP</td>\n      <td>1175</td>\n      <td>Control</td>\n      <td>HTTP</td>\n      <td>Eligendi omnis voluptate nihil voluptatibus do...</td>\n      <td>...</td>\n      <td>Logged</td>\n      <td>Medium</td>\n      <td>Zaina Kumar</td>\n      <td>Mozilla/5.0 (iPod; U; CPU iPhone OS 3_0 like M...</td>\n      <td>Segment A</td>\n      <td>Pudukkottai, West Bengal</td>\n      <td>112.169.115.139</td>\n      <td>Log Data</td>\n      <td>Alert Data</td>\n      <td>Firewall</td>\n    </tr>\n  </tbody>\n</table>\n<p>40000 rows × 25 columns</p>\n</div>"
     },
     "execution_count": 2,
     "metadata": {},
     "output_type": "execute_result"
    }
   ],
   "source": [
    "import numpy as np \n",
    "import pandas as pd \n",
    "\n",
    "data = pd.read_csv(\"cybersecurity_attacks.csv\") \n",
    "data"
   ]
  },
  {
   "cell_type": "code",
   "execution_count": 3,
   "outputs": [
    {
     "name": "stdout",
     "output_type": "stream",
     "text": [
      "<class 'pandas.core.frame.DataFrame'>\n",
      "RangeIndex: 40000 entries, 0 to 39999\n",
      "Data columns (total 25 columns):\n",
      " #   Column                  Non-Null Count  Dtype  \n",
      "---  ------                  --------------  -----  \n",
      " 0   Timestamp               40000 non-null  object \n",
      " 1   Source IP Address       40000 non-null  object \n",
      " 2   Destination IP Address  40000 non-null  object \n",
      " 3   Source Port             40000 non-null  int64  \n",
      " 4   Destination Port        40000 non-null  int64  \n",
      " 5   Protocol                40000 non-null  object \n",
      " 6   Packet Length           40000 non-null  int64  \n",
      " 7   Packet Type             40000 non-null  object \n",
      " 8   Traffic Type            40000 non-null  object \n",
      " 9   Payload Data            40000 non-null  object \n",
      " 10  Malware Indicators      20000 non-null  object \n",
      " 11  Anomaly Scores          40000 non-null  float64\n",
      " 12  Alerts/Warnings         19933 non-null  object \n",
      " 13  Attack Type             40000 non-null  object \n",
      " 14  Attack Signature        40000 non-null  object \n",
      " 15  Action Taken            40000 non-null  object \n",
      " 16  Severity Level          40000 non-null  object \n",
      " 17  User Information        40000 non-null  object \n",
      " 18  Device Information      40000 non-null  object \n",
      " 19  Network Segment         40000 non-null  object \n",
      " 20  Geo-location Data       40000 non-null  object \n",
      " 21  Proxy Information       20149 non-null  object \n",
      " 22  Firewall Logs           20039 non-null  object \n",
      " 23  IDS/IPS Alerts          19950 non-null  object \n",
      " 24  Log Source              40000 non-null  object \n",
      "dtypes: float64(1), int64(3), object(21)\n",
      "memory usage: 7.6+ MB\n"
     ]
    }
   ],
   "source": [
    "data.info()"
   ],
   "metadata": {
    "collapsed": false,
    "ExecuteTime": {
     "end_time": "2023-12-09T10:10:30.137590Z",
     "start_time": "2023-12-09T10:10:30.064894Z"
    }
   },
   "id": "712c30fbe00b3841"
  },
  {
   "cell_type": "code",
   "execution_count": 4,
   "outputs": [
    {
     "data": {
      "text/plain": "                    count          mean           std     min       25%  \\\nSource Port       40000.0  32970.356450  18560.425604  1027.0  16850.75   \nDestination Port  40000.0  33150.868650  18574.668842  1024.0  17094.75   \nPacket Length     40000.0    781.452725    416.044192    64.0    420.00   \nAnomaly Scores    40000.0     50.113473     28.853598     0.0     25.15   \n\n                        50%       75%      max  \nSource Port       32856.000  48928.25  65530.0  \nDestination Port  33004.500  49287.00  65535.0  \nPacket Length       782.000   1143.00   1500.0  \nAnomaly Scores       50.345     75.03    100.0  ",
      "text/html": "<div>\n<style scoped>\n    .dataframe tbody tr th:only-of-type {\n        vertical-align: middle;\n    }\n\n    .dataframe tbody tr th {\n        vertical-align: top;\n    }\n\n    .dataframe thead th {\n        text-align: right;\n    }\n</style>\n<table border=\"1\" class=\"dataframe\">\n  <thead>\n    <tr style=\"text-align: right;\">\n      <th></th>\n      <th>count</th>\n      <th>mean</th>\n      <th>std</th>\n      <th>min</th>\n      <th>25%</th>\n      <th>50%</th>\n      <th>75%</th>\n      <th>max</th>\n    </tr>\n  </thead>\n  <tbody>\n    <tr>\n      <th>Source Port</th>\n      <td>40000.0</td>\n      <td>32970.356450</td>\n      <td>18560.425604</td>\n      <td>1027.0</td>\n      <td>16850.75</td>\n      <td>32856.000</td>\n      <td>48928.25</td>\n      <td>65530.0</td>\n    </tr>\n    <tr>\n      <th>Destination Port</th>\n      <td>40000.0</td>\n      <td>33150.868650</td>\n      <td>18574.668842</td>\n      <td>1024.0</td>\n      <td>17094.75</td>\n      <td>33004.500</td>\n      <td>49287.00</td>\n      <td>65535.0</td>\n    </tr>\n    <tr>\n      <th>Packet Length</th>\n      <td>40000.0</td>\n      <td>781.452725</td>\n      <td>416.044192</td>\n      <td>64.0</td>\n      <td>420.00</td>\n      <td>782.000</td>\n      <td>1143.00</td>\n      <td>1500.0</td>\n    </tr>\n    <tr>\n      <th>Anomaly Scores</th>\n      <td>40000.0</td>\n      <td>50.113473</td>\n      <td>28.853598</td>\n      <td>0.0</td>\n      <td>25.15</td>\n      <td>50.345</td>\n      <td>75.03</td>\n      <td>100.0</td>\n    </tr>\n  </tbody>\n</table>\n</div>"
     },
     "execution_count": 4,
     "metadata": {},
     "output_type": "execute_result"
    }
   ],
   "source": [
    "data.describe().T"
   ],
   "metadata": {
    "collapsed": false,
    "ExecuteTime": {
     "end_time": "2023-12-09T10:10:30.869715Z",
     "start_time": "2023-12-09T10:10:30.841168Z"
    }
   },
   "id": "35e75d91ad7c3f8f"
  },
  {
   "cell_type": "markdown",
   "source": [
    "# List of Features with Explanations \n",
    "\n",
    "1. **Timestamp:**\n",
    "   - A record of the date and time when a particular event occurred.\n",
    "\n",
    "2. **Source IP Address:**\n",
    "   - The numerical label assigned to each device participating in a network that initiates communication.\n",
    "\n",
    "3. **Destination IP Address:**\n",
    "   - The numerical label assigned to the device to which data packets are being sent.\n",
    "\n",
    "4. **Source Port:**\n",
    "   - A 16-bit number identifying a specific process initiating communication.\n",
    "\n",
    "5. **Destination Port:**\n",
    "   - A 16-bit number identifying a specific process to which data packets are sent.\n",
    "\n",
    "6. **Protocol:**\n",
    "   - A set of rules determining how data is transmitted over a network.\n",
    "\n",
    "7. **Packet Length:**\n",
    "   - The size or length of a data packet, including header and payload.\n",
    "\n",
    "8. **Packet Type:**\n",
    "   - Specifies the nature or category of a network packet.\n",
    "\n",
    "9. **Traffic Type:**\n",
    "   - Categorizes network traffic based on characteristics.\n",
    "\n",
    "10. **Payload Data:**\n",
    "    - The actual data transmitted in a packet, excluding headers.\n",
    "\n",
    "11. **Malware Indicators:**\n",
    "    - Signs or patterns in network traffic suggesting the presence of malicious software.\n",
    "\n",
    "12. **Anomaly Scores:**\n",
    "    - Scores representing the degree of deviation from normal or expected patterns.\n",
    "\n",
    "13. **Alerts/Warnings:**\n",
    "    - Notifications generated by security systems to inform about potential security issues.\n",
    "\n",
    "14. **Attack Type:**\n",
    "    - Categorizes the method or strategy employed by malicious actors to compromise a system or network.\n",
    "\n",
    "15. **Attack Signature:**\n",
    "    - A unique pattern or characteristic associated with a specific type of cyber attack.\n",
    "\n",
    "16. **Action Taken:**\n",
    "    - The response or measures implemented in response to a security event or threat.\n",
    "\n",
    "17. **Severity Level:**\n",
    "    - Indicates the degree of impact or threat posed by a security event.\n",
    "\n",
    "18. **User Information:**\n",
    "    - Details about individuals accessing the network, such as usernames, roles, and permissions.\n",
    "\n",
    "19. **Device Information:**\n",
    "    - Details about the hardware and software components of devices connected to the network.\n",
    "\n",
    "20. **Network Segment:**\n",
    "    - A portion of a computer network separated for security or performance reasons.\n",
    "\n",
    "21. **Geo-location Data:**\n",
    "    - Information about the physical location of devices or users on a network.\n",
    "\n",
    "22. **Proxy Information:**\n",
    "    - Details about the use of proxy servers in network communication.\n",
    "\n",
    "23. **Firewall Logs:**\n",
    "    - Records of activities and events monitored by a firewall.\n",
    "\n",
    "24. **IDS/IPS Alerts:**\n",
    "    - Notifications about potential security threats or attacks detected by Intrusion Detection Systems (IDS) or Intrusion Prevention Systems (IPS).\n",
    "\n",
    "25. **Log Source:**\n",
    "    - The origin or device that generates log entries, such as a server, network device, or security appliance."
   ],
   "metadata": {
    "collapsed": false
   },
   "id": "163af6ab7a8466ed"
  },
  {
   "cell_type": "code",
   "execution_count": 5,
   "outputs": [
    {
     "data": {
      "text/plain": "      Protocol  Packet Length Packet Type Traffic Type Malware Indicators  \\\n0         ICMP            503        Data         HTTP       IoC Detected   \n1         ICMP           1174        Data         HTTP       IoC Detected   \n2          UDP            306     Control         HTTP       IoC Detected   \n3          UDP            385        Data         HTTP       Not Detected   \n4          TCP           1462        Data          DNS       Not Detected   \n...        ...            ...         ...          ...                ...   \n39995      UDP           1428     Control         HTTP       IoC Detected   \n39996      UDP           1184     Control         HTTP       IoC Detected   \n39997      UDP           1043        Data          DNS       IoC Detected   \n39998      UDP            483        Data          FTP       IoC Detected   \n39999     ICMP           1175     Control         HTTP       Not Detected   \n\n       Anomaly Scores  Alerts/Warnings Attack Type Attack Signature  \\\n0               28.67     Not Detected     Malware  Known Pattern B   \n1               51.50     Not Detected     Malware  Known Pattern A   \n2               87.42  Alert Triggered        DDoS  Known Pattern B   \n3               15.79  Alert Triggered     Malware  Known Pattern B   \n4                0.52  Alert Triggered        DDoS  Known Pattern B   \n...               ...              ...         ...              ...   \n39995           39.28     Not Detected        DDoS  Known Pattern A   \n39996           27.25     Not Detected        DDoS  Known Pattern A   \n39997           31.01     Not Detected        DDoS  Known Pattern B   \n39998           97.85  Alert Triggered     Malware  Known Pattern B   \n39999           34.63  Alert Triggered   Intrusion  Known Pattern B   \n\n      Action Taken Severity Level Network Segment Firewall Logs  \\\n0           Logged            Low       Segment A      Log Data   \n1          Blocked            Low       Segment B      Log Data   \n2          Ignored            Low       Segment C      Log Data   \n3          Blocked         Medium       Segment B  Not Detected   \n4          Blocked            Low       Segment C  Not Detected   \n...            ...            ...             ...           ...   \n39995       Logged         Medium       Segment A      Log Data   \n39996       Logged           High       Segment C      Log Data   \n39997      Blocked            Low       Segment C      Log Data   \n39998      Ignored            Low       Segment B      Log Data   \n39999       Logged         Medium       Segment A      Log Data   \n\n      IDS/IPS Alerts Log Source  \n0       Not Detected     Server  \n1       Not Detected   Firewall  \n2         Alert Data   Firewall  \n3         Alert Data   Firewall  \n4         Alert Data   Firewall  \n...              ...        ...  \n39995     Alert Data   Firewall  \n39996   Not Detected   Firewall  \n39997     Alert Data     Server  \n39998   Not Detected     Server  \n39999     Alert Data   Firewall  \n\n[40000 rows x 15 columns]",
      "text/html": "<div>\n<style scoped>\n    .dataframe tbody tr th:only-of-type {\n        vertical-align: middle;\n    }\n\n    .dataframe tbody tr th {\n        vertical-align: top;\n    }\n\n    .dataframe thead th {\n        text-align: right;\n    }\n</style>\n<table border=\"1\" class=\"dataframe\">\n  <thead>\n    <tr style=\"text-align: right;\">\n      <th></th>\n      <th>Protocol</th>\n      <th>Packet Length</th>\n      <th>Packet Type</th>\n      <th>Traffic Type</th>\n      <th>Malware Indicators</th>\n      <th>Anomaly Scores</th>\n      <th>Alerts/Warnings</th>\n      <th>Attack Type</th>\n      <th>Attack Signature</th>\n      <th>Action Taken</th>\n      <th>Severity Level</th>\n      <th>Network Segment</th>\n      <th>Firewall Logs</th>\n      <th>IDS/IPS Alerts</th>\n      <th>Log Source</th>\n    </tr>\n  </thead>\n  <tbody>\n    <tr>\n      <th>0</th>\n      <td>ICMP</td>\n      <td>503</td>\n      <td>Data</td>\n      <td>HTTP</td>\n      <td>IoC Detected</td>\n      <td>28.67</td>\n      <td>Not Detected</td>\n      <td>Malware</td>\n      <td>Known Pattern B</td>\n      <td>Logged</td>\n      <td>Low</td>\n      <td>Segment A</td>\n      <td>Log Data</td>\n      <td>Not Detected</td>\n      <td>Server</td>\n    </tr>\n    <tr>\n      <th>1</th>\n      <td>ICMP</td>\n      <td>1174</td>\n      <td>Data</td>\n      <td>HTTP</td>\n      <td>IoC Detected</td>\n      <td>51.50</td>\n      <td>Not Detected</td>\n      <td>Malware</td>\n      <td>Known Pattern A</td>\n      <td>Blocked</td>\n      <td>Low</td>\n      <td>Segment B</td>\n      <td>Log Data</td>\n      <td>Not Detected</td>\n      <td>Firewall</td>\n    </tr>\n    <tr>\n      <th>2</th>\n      <td>UDP</td>\n      <td>306</td>\n      <td>Control</td>\n      <td>HTTP</td>\n      <td>IoC Detected</td>\n      <td>87.42</td>\n      <td>Alert Triggered</td>\n      <td>DDoS</td>\n      <td>Known Pattern B</td>\n      <td>Ignored</td>\n      <td>Low</td>\n      <td>Segment C</td>\n      <td>Log Data</td>\n      <td>Alert Data</td>\n      <td>Firewall</td>\n    </tr>\n    <tr>\n      <th>3</th>\n      <td>UDP</td>\n      <td>385</td>\n      <td>Data</td>\n      <td>HTTP</td>\n      <td>Not Detected</td>\n      <td>15.79</td>\n      <td>Alert Triggered</td>\n      <td>Malware</td>\n      <td>Known Pattern B</td>\n      <td>Blocked</td>\n      <td>Medium</td>\n      <td>Segment B</td>\n      <td>Not Detected</td>\n      <td>Alert Data</td>\n      <td>Firewall</td>\n    </tr>\n    <tr>\n      <th>4</th>\n      <td>TCP</td>\n      <td>1462</td>\n      <td>Data</td>\n      <td>DNS</td>\n      <td>Not Detected</td>\n      <td>0.52</td>\n      <td>Alert Triggered</td>\n      <td>DDoS</td>\n      <td>Known Pattern B</td>\n      <td>Blocked</td>\n      <td>Low</td>\n      <td>Segment C</td>\n      <td>Not Detected</td>\n      <td>Alert Data</td>\n      <td>Firewall</td>\n    </tr>\n    <tr>\n      <th>...</th>\n      <td>...</td>\n      <td>...</td>\n      <td>...</td>\n      <td>...</td>\n      <td>...</td>\n      <td>...</td>\n      <td>...</td>\n      <td>...</td>\n      <td>...</td>\n      <td>...</td>\n      <td>...</td>\n      <td>...</td>\n      <td>...</td>\n      <td>...</td>\n      <td>...</td>\n    </tr>\n    <tr>\n      <th>39995</th>\n      <td>UDP</td>\n      <td>1428</td>\n      <td>Control</td>\n      <td>HTTP</td>\n      <td>IoC Detected</td>\n      <td>39.28</td>\n      <td>Not Detected</td>\n      <td>DDoS</td>\n      <td>Known Pattern A</td>\n      <td>Logged</td>\n      <td>Medium</td>\n      <td>Segment A</td>\n      <td>Log Data</td>\n      <td>Alert Data</td>\n      <td>Firewall</td>\n    </tr>\n    <tr>\n      <th>39996</th>\n      <td>UDP</td>\n      <td>1184</td>\n      <td>Control</td>\n      <td>HTTP</td>\n      <td>IoC Detected</td>\n      <td>27.25</td>\n      <td>Not Detected</td>\n      <td>DDoS</td>\n      <td>Known Pattern A</td>\n      <td>Logged</td>\n      <td>High</td>\n      <td>Segment C</td>\n      <td>Log Data</td>\n      <td>Not Detected</td>\n      <td>Firewall</td>\n    </tr>\n    <tr>\n      <th>39997</th>\n      <td>UDP</td>\n      <td>1043</td>\n      <td>Data</td>\n      <td>DNS</td>\n      <td>IoC Detected</td>\n      <td>31.01</td>\n      <td>Not Detected</td>\n      <td>DDoS</td>\n      <td>Known Pattern B</td>\n      <td>Blocked</td>\n      <td>Low</td>\n      <td>Segment C</td>\n      <td>Log Data</td>\n      <td>Alert Data</td>\n      <td>Server</td>\n    </tr>\n    <tr>\n      <th>39998</th>\n      <td>UDP</td>\n      <td>483</td>\n      <td>Data</td>\n      <td>FTP</td>\n      <td>IoC Detected</td>\n      <td>97.85</td>\n      <td>Alert Triggered</td>\n      <td>Malware</td>\n      <td>Known Pattern B</td>\n      <td>Ignored</td>\n      <td>Low</td>\n      <td>Segment B</td>\n      <td>Log Data</td>\n      <td>Not Detected</td>\n      <td>Server</td>\n    </tr>\n    <tr>\n      <th>39999</th>\n      <td>ICMP</td>\n      <td>1175</td>\n      <td>Control</td>\n      <td>HTTP</td>\n      <td>Not Detected</td>\n      <td>34.63</td>\n      <td>Alert Triggered</td>\n      <td>Intrusion</td>\n      <td>Known Pattern B</td>\n      <td>Logged</td>\n      <td>Medium</td>\n      <td>Segment A</td>\n      <td>Log Data</td>\n      <td>Alert Data</td>\n      <td>Firewall</td>\n    </tr>\n  </tbody>\n</table>\n<p>40000 rows × 15 columns</p>\n</div>"
     },
     "execution_count": 5,
     "metadata": {},
     "output_type": "execute_result"
    }
   ],
   "source": [
    "data_proc = data\n",
    "\n",
    "data_proc = data_proc.drop(columns=[\"Payload Data\",\"Timestamp\",\"Source IP Address\",\"Destination IP Address\",\"Source Port\",\"Destination Port\",\"Device Information\",\"Proxy Information\",\"User Information\",\"Geo-location Data\"])\n",
    "data_proc[\"Malware Indicators\"].fillna(\"Not Detected\", inplace=True)\n",
    "data_proc[\"Alerts/Warnings\"].fillna(\"Not Detected\", inplace=True)\n",
    "data_proc[\"Firewall Logs\"].fillna(\"Not Detected\", inplace=True)\n",
    "data_proc[\"IDS/IPS Alerts\"].fillna(\"Not Detected\", inplace=True)\n",
    "\n",
    "\n",
    "data_proc"
   ],
   "metadata": {
    "collapsed": false,
    "ExecuteTime": {
     "end_time": "2023-12-09T10:10:32.588547Z",
     "start_time": "2023-12-09T10:10:32.540228Z"
    }
   },
   "id": "a0b307998e6e6343"
  },
  {
   "cell_type": "code",
   "execution_count": 6,
   "outputs": [
    {
     "data": {
      "text/plain": "                  count        mean         std   min     25%      50%  \\\nPacket Length   40000.0  781.452725  416.044192  64.0  420.00  782.000   \nAnomaly Scores  40000.0   50.113473   28.853598   0.0   25.15   50.345   \n\n                    75%     max  \nPacket Length   1143.00  1500.0  \nAnomaly Scores    75.03   100.0  ",
      "text/html": "<div>\n<style scoped>\n    .dataframe tbody tr th:only-of-type {\n        vertical-align: middle;\n    }\n\n    .dataframe tbody tr th {\n        vertical-align: top;\n    }\n\n    .dataframe thead th {\n        text-align: right;\n    }\n</style>\n<table border=\"1\" class=\"dataframe\">\n  <thead>\n    <tr style=\"text-align: right;\">\n      <th></th>\n      <th>count</th>\n      <th>mean</th>\n      <th>std</th>\n      <th>min</th>\n      <th>25%</th>\n      <th>50%</th>\n      <th>75%</th>\n      <th>max</th>\n    </tr>\n  </thead>\n  <tbody>\n    <tr>\n      <th>Packet Length</th>\n      <td>40000.0</td>\n      <td>781.452725</td>\n      <td>416.044192</td>\n      <td>64.0</td>\n      <td>420.00</td>\n      <td>782.000</td>\n      <td>1143.00</td>\n      <td>1500.0</td>\n    </tr>\n    <tr>\n      <th>Anomaly Scores</th>\n      <td>40000.0</td>\n      <td>50.113473</td>\n      <td>28.853598</td>\n      <td>0.0</td>\n      <td>25.15</td>\n      <td>50.345</td>\n      <td>75.03</td>\n      <td>100.0</td>\n    </tr>\n  </tbody>\n</table>\n</div>"
     },
     "execution_count": 6,
     "metadata": {},
     "output_type": "execute_result"
    }
   ],
   "source": [
    "data_proc.describe().T"
   ],
   "metadata": {
    "collapsed": false,
    "ExecuteTime": {
     "end_time": "2023-12-09T10:10:33.748625Z",
     "start_time": "2023-12-09T10:10:33.707009Z"
    }
   },
   "id": "739bc4e46e872d12"
  },
  {
   "cell_type": "code",
   "execution_count": 7,
   "outputs": [
    {
     "name": "stdout",
     "output_type": "stream",
     "text": [
      "0 ['ICMP' 'TCP' 'UDP']\n",
      "1 [  64   65   66 ... 1498 1499 1500]\n",
      "2 ['Control' 'Data']\n",
      "3 ['DNS' 'FTP' 'HTTP']\n",
      "4 ['IoC Detected' 'Not Detected']\n",
      "5 [0.000e+00 1.000e-02 2.000e-02 ... 9.998e+01 9.999e+01 1.000e+02]\n",
      "6 ['Alert Triggered' 'Not Detected']\n",
      "7 ['DDoS' 'Intrusion' 'Malware']\n",
      "8 ['Known Pattern A' 'Known Pattern B']\n",
      "9 ['Blocked' 'Ignored' 'Logged']\n",
      "10 ['High' 'Low' 'Medium']\n",
      "11 ['Segment A' 'Segment B' 'Segment C']\n",
      "12 ['Log Data' 'Not Detected']\n",
      "13 ['Alert Data' 'Not Detected']\n",
      "14 ['Firewall' 'Server']\n"
     ]
    }
   ],
   "source": [
    "num_inst, num_features = data_proc.shape\n",
    "# elem = [ np.unique(data_proc.iloc[:,f]) for f in range(num_features)]\n",
    "for f in range(num_features):\n",
    "    print (f, np.unique(data_proc.iloc[:,f])) "
   ],
   "metadata": {
    "collapsed": false,
    "ExecuteTime": {
     "end_time": "2023-12-09T10:10:34.918202Z",
     "start_time": "2023-12-09T10:10:34.770821Z"
    }
   },
   "id": "5e977e296ec2439a"
  },
  {
   "cell_type": "code",
   "execution_count": 8,
   "outputs": [
    {
     "data": {
      "text/plain": "                      Name  Null Number     Type Elements\n0                Timestamp            0   object     elem\n1        Source IP Address            0   object     elem\n2   Destination IP Address            0   object     elem\n3              Source Port            0    int64     elem\n4         Destination Port            0    int64     elem\n5                 Protocol            0   object     elem\n6            Packet Length            0    int64     elem\n7              Packet Type            0   object     elem\n8             Traffic Type            0   object     elem\n9             Payload Data            0   object     elem\n10      Malware Indicators        20000   object     elem\n11          Anomaly Scores            0  float64     elem\n12         Alerts/Warnings        20067   object     elem\n13             Attack Type            0   object     elem\n14        Attack Signature            0   object     elem\n15            Action Taken            0   object     elem\n16          Severity Level            0   object     elem\n17        User Information            0   object     elem\n18      Device Information            0   object     elem\n19         Network Segment            0   object     elem\n20       Geo-location Data            0   object     elem\n21       Proxy Information        19851   object     elem\n22           Firewall Logs        19961   object     elem\n23          IDS/IPS Alerts        20050   object     elem\n24              Log Source            0   object     elem",
      "text/html": "<div>\n<style scoped>\n    .dataframe tbody tr th:only-of-type {\n        vertical-align: middle;\n    }\n\n    .dataframe tbody tr th {\n        vertical-align: top;\n    }\n\n    .dataframe thead th {\n        text-align: right;\n    }\n</style>\n<table border=\"1\" class=\"dataframe\">\n  <thead>\n    <tr style=\"text-align: right;\">\n      <th></th>\n      <th>Name</th>\n      <th>Null Number</th>\n      <th>Type</th>\n      <th>Elements</th>\n    </tr>\n  </thead>\n  <tbody>\n    <tr>\n      <th>0</th>\n      <td>Timestamp</td>\n      <td>0</td>\n      <td>object</td>\n      <td>elem</td>\n    </tr>\n    <tr>\n      <th>1</th>\n      <td>Source IP Address</td>\n      <td>0</td>\n      <td>object</td>\n      <td>elem</td>\n    </tr>\n    <tr>\n      <th>2</th>\n      <td>Destination IP Address</td>\n      <td>0</td>\n      <td>object</td>\n      <td>elem</td>\n    </tr>\n    <tr>\n      <th>3</th>\n      <td>Source Port</td>\n      <td>0</td>\n      <td>int64</td>\n      <td>elem</td>\n    </tr>\n    <tr>\n      <th>4</th>\n      <td>Destination Port</td>\n      <td>0</td>\n      <td>int64</td>\n      <td>elem</td>\n    </tr>\n    <tr>\n      <th>5</th>\n      <td>Protocol</td>\n      <td>0</td>\n      <td>object</td>\n      <td>elem</td>\n    </tr>\n    <tr>\n      <th>6</th>\n      <td>Packet Length</td>\n      <td>0</td>\n      <td>int64</td>\n      <td>elem</td>\n    </tr>\n    <tr>\n      <th>7</th>\n      <td>Packet Type</td>\n      <td>0</td>\n      <td>object</td>\n      <td>elem</td>\n    </tr>\n    <tr>\n      <th>8</th>\n      <td>Traffic Type</td>\n      <td>0</td>\n      <td>object</td>\n      <td>elem</td>\n    </tr>\n    <tr>\n      <th>9</th>\n      <td>Payload Data</td>\n      <td>0</td>\n      <td>object</td>\n      <td>elem</td>\n    </tr>\n    <tr>\n      <th>10</th>\n      <td>Malware Indicators</td>\n      <td>20000</td>\n      <td>object</td>\n      <td>elem</td>\n    </tr>\n    <tr>\n      <th>11</th>\n      <td>Anomaly Scores</td>\n      <td>0</td>\n      <td>float64</td>\n      <td>elem</td>\n    </tr>\n    <tr>\n      <th>12</th>\n      <td>Alerts/Warnings</td>\n      <td>20067</td>\n      <td>object</td>\n      <td>elem</td>\n    </tr>\n    <tr>\n      <th>13</th>\n      <td>Attack Type</td>\n      <td>0</td>\n      <td>object</td>\n      <td>elem</td>\n    </tr>\n    <tr>\n      <th>14</th>\n      <td>Attack Signature</td>\n      <td>0</td>\n      <td>object</td>\n      <td>elem</td>\n    </tr>\n    <tr>\n      <th>15</th>\n      <td>Action Taken</td>\n      <td>0</td>\n      <td>object</td>\n      <td>elem</td>\n    </tr>\n    <tr>\n      <th>16</th>\n      <td>Severity Level</td>\n      <td>0</td>\n      <td>object</td>\n      <td>elem</td>\n    </tr>\n    <tr>\n      <th>17</th>\n      <td>User Information</td>\n      <td>0</td>\n      <td>object</td>\n      <td>elem</td>\n    </tr>\n    <tr>\n      <th>18</th>\n      <td>Device Information</td>\n      <td>0</td>\n      <td>object</td>\n      <td>elem</td>\n    </tr>\n    <tr>\n      <th>19</th>\n      <td>Network Segment</td>\n      <td>0</td>\n      <td>object</td>\n      <td>elem</td>\n    </tr>\n    <tr>\n      <th>20</th>\n      <td>Geo-location Data</td>\n      <td>0</td>\n      <td>object</td>\n      <td>elem</td>\n    </tr>\n    <tr>\n      <th>21</th>\n      <td>Proxy Information</td>\n      <td>19851</td>\n      <td>object</td>\n      <td>elem</td>\n    </tr>\n    <tr>\n      <th>22</th>\n      <td>Firewall Logs</td>\n      <td>19961</td>\n      <td>object</td>\n      <td>elem</td>\n    </tr>\n    <tr>\n      <th>23</th>\n      <td>IDS/IPS Alerts</td>\n      <td>20050</td>\n      <td>object</td>\n      <td>elem</td>\n    </tr>\n    <tr>\n      <th>24</th>\n      <td>Log Source</td>\n      <td>0</td>\n      <td>object</td>\n      <td>elem</td>\n    </tr>\n  </tbody>\n</table>\n</div>"
     },
     "execution_count": 8,
     "metadata": {},
     "output_type": "execute_result"
    }
   ],
   "source": [
    "elem1 = {'Name':data.columns.array, 'Null Number':data.isnull().values.sum(axis=0),'Type':data.dtypes.reset_index(drop=True),'Elements':'elem'}\n",
    "exp_data = pd.DataFrame(data=elem1)\n",
    "exp_data"
   ],
   "metadata": {
    "collapsed": false,
    "ExecuteTime": {
     "end_time": "2023-12-09T10:10:35.968058Z",
     "start_time": "2023-12-09T10:10:35.922014Z"
    }
   },
   "id": "90f117a35142c587"
  },
  {
   "cell_type": "code",
   "execution_count": 9,
   "outputs": [
    {
     "data": {
      "text/plain": "Protocol              0\nPacket Length         0\nPacket Type           0\nTraffic Type          0\nMalware Indicators    0\nAnomaly Scores        0\nAlerts/Warnings       0\nAttack Type           0\nAttack Signature      0\nAction Taken          0\nSeverity Level        0\nNetwork Segment       0\nFirewall Logs         0\nIDS/IPS Alerts        0\nLog Source            0\ndtype: int64"
     },
     "execution_count": 9,
     "metadata": {},
     "output_type": "execute_result"
    }
   ],
   "source": [
    "data_proc.isnull().sum(axis=0)"
   ],
   "metadata": {
    "collapsed": false,
    "ExecuteTime": {
     "end_time": "2023-12-09T10:10:37.631679Z",
     "start_time": "2023-12-09T10:10:37.611972Z"
    }
   },
   "id": "f7e1ee89c3912e7b"
  },
  {
   "cell_type": "markdown",
   "source": [
    "# Clean the Data \n",
    "After a first analysis, I decided to use this dataset. Because it has enough instance to make a good prediction.\n",
    "Right now I have to clean the dataset to prepare it for the first part of the study."
   ],
   "metadata": {
    "collapsed": false
   },
   "id": "c5780791424cf2e3"
  },
  {
   "cell_type": "code",
   "execution_count": 10,
   "outputs": [],
   "source": [
    "from sklearn.model_selection import train_test_split\n",
    "\n",
    "# drop label columns\n",
    "X = data_proc.drop(columns=[\"Attack Type\"])\n",
    "\n",
    "# isolate y\n",
    "y = data_proc[\"Attack Type\"]\n",
    "\n",
    "# split in Train-set(80%) and Testing-set(20%)\n",
    "X_train, X_test, y_train, y_test = train_test_split( X, y, test_size=0.20) "
   ],
   "metadata": {
    "collapsed": false,
    "ExecuteTime": {
     "end_time": "2023-12-09T10:10:40.542771Z",
     "start_time": "2023-12-09T10:10:39.856584Z"
    }
   },
   "id": "39227dce13a9fd03"
  },
  {
   "cell_type": "code",
   "execution_count": 11,
   "outputs": [
    {
     "data": {
      "text/plain": "(32000, 14)"
     },
     "execution_count": 11,
     "metadata": {},
     "output_type": "execute_result"
    }
   ],
   "source": [
    "X_train.shape"
   ],
   "metadata": {
    "collapsed": false,
    "ExecuteTime": {
     "end_time": "2023-12-09T10:10:41.573733Z",
     "start_time": "2023-12-09T10:10:41.439920Z"
    }
   },
   "id": "619698fd1f43560c"
  },
  {
   "cell_type": "code",
   "execution_count": 12,
   "outputs": [
    {
     "data": {
      "text/plain": "((40000, 14), (32000, 14), (8000, 14))"
     },
     "execution_count": 12,
     "metadata": {},
     "output_type": "execute_result"
    }
   ],
   "source": [
    "X.shape, X_train.shape, X_test.shape"
   ],
   "metadata": {
    "collapsed": false,
    "ExecuteTime": {
     "end_time": "2023-12-09T10:10:42.041533Z",
     "start_time": "2023-12-09T10:10:42.028689Z"
    }
   },
   "id": "c09c929e4801d3ea"
  },
  {
   "cell_type": "code",
   "execution_count": 13,
   "outputs": [
    {
     "data": {
      "text/plain": "19739         DDoS\n32050    Intrusion\n462           DDoS\n23788         DDoS\n20994         DDoS\n           ...    \n27874      Malware\n6852          DDoS\n21088         DDoS\n23444      Malware\n22891         DDoS\nName: Attack Type, Length: 8000, dtype: object"
     },
     "execution_count": 13,
     "metadata": {},
     "output_type": "execute_result"
    }
   ],
   "source": [
    "y_test"
   ],
   "metadata": {
    "collapsed": false,
    "ExecuteTime": {
     "end_time": "2023-12-09T10:10:43.054050Z",
     "start_time": "2023-12-09T10:10:43.038154Z"
    }
   },
   "id": "1c788b2040ea5c57"
  },
  {
   "cell_type": "code",
   "execution_count": 14,
   "outputs": [
    {
     "data": {
      "text/plain": "      Protocol  Packet Length Packet Type Traffic Type Malware Indicators  \\\n0         ICMP            503        Data         HTTP       IoC Detected   \n1         ICMP           1174        Data         HTTP       IoC Detected   \n2          UDP            306     Control         HTTP       IoC Detected   \n3          UDP            385        Data         HTTP       Not Detected   \n4          TCP           1462        Data          DNS       Not Detected   \n...        ...            ...         ...          ...                ...   \n39995      UDP           1428     Control         HTTP       IoC Detected   \n39996      UDP           1184     Control         HTTP       IoC Detected   \n39997      UDP           1043        Data          DNS       IoC Detected   \n39998      UDP            483        Data          FTP       IoC Detected   \n39999     ICMP           1175     Control         HTTP       Not Detected   \n\n       Anomaly Scores  Alerts/Warnings Attack Type Attack Signature  \\\n0               28.67     Not Detected     Malware  Known Pattern B   \n1               51.50     Not Detected     Malware  Known Pattern A   \n2               87.42  Alert Triggered        DDoS  Known Pattern B   \n3               15.79  Alert Triggered     Malware  Known Pattern B   \n4                0.52  Alert Triggered        DDoS  Known Pattern B   \n...               ...              ...         ...              ...   \n39995           39.28     Not Detected        DDoS  Known Pattern A   \n39996           27.25     Not Detected        DDoS  Known Pattern A   \n39997           31.01     Not Detected        DDoS  Known Pattern B   \n39998           97.85  Alert Triggered     Malware  Known Pattern B   \n39999           34.63  Alert Triggered   Intrusion  Known Pattern B   \n\n      Action Taken Severity Level Network Segment Firewall Logs  \\\n0           Logged            Low       Segment A      Log Data   \n1          Blocked            Low       Segment B      Log Data   \n2          Ignored            Low       Segment C      Log Data   \n3          Blocked         Medium       Segment B  Not Detected   \n4          Blocked            Low       Segment C  Not Detected   \n...            ...            ...             ...           ...   \n39995       Logged         Medium       Segment A      Log Data   \n39996       Logged           High       Segment C      Log Data   \n39997      Blocked            Low       Segment C      Log Data   \n39998      Ignored            Low       Segment B      Log Data   \n39999       Logged         Medium       Segment A      Log Data   \n\n      IDS/IPS Alerts Log Source  \n0       Not Detected     Server  \n1       Not Detected   Firewall  \n2         Alert Data   Firewall  \n3         Alert Data   Firewall  \n4         Alert Data   Firewall  \n...              ...        ...  \n39995     Alert Data   Firewall  \n39996   Not Detected   Firewall  \n39997     Alert Data     Server  \n39998   Not Detected     Server  \n39999     Alert Data   Firewall  \n\n[40000 rows x 15 columns]",
      "text/html": "<div>\n<style scoped>\n    .dataframe tbody tr th:only-of-type {\n        vertical-align: middle;\n    }\n\n    .dataframe tbody tr th {\n        vertical-align: top;\n    }\n\n    .dataframe thead th {\n        text-align: right;\n    }\n</style>\n<table border=\"1\" class=\"dataframe\">\n  <thead>\n    <tr style=\"text-align: right;\">\n      <th></th>\n      <th>Protocol</th>\n      <th>Packet Length</th>\n      <th>Packet Type</th>\n      <th>Traffic Type</th>\n      <th>Malware Indicators</th>\n      <th>Anomaly Scores</th>\n      <th>Alerts/Warnings</th>\n      <th>Attack Type</th>\n      <th>Attack Signature</th>\n      <th>Action Taken</th>\n      <th>Severity Level</th>\n      <th>Network Segment</th>\n      <th>Firewall Logs</th>\n      <th>IDS/IPS Alerts</th>\n      <th>Log Source</th>\n    </tr>\n  </thead>\n  <tbody>\n    <tr>\n      <th>0</th>\n      <td>ICMP</td>\n      <td>503</td>\n      <td>Data</td>\n      <td>HTTP</td>\n      <td>IoC Detected</td>\n      <td>28.67</td>\n      <td>Not Detected</td>\n      <td>Malware</td>\n      <td>Known Pattern B</td>\n      <td>Logged</td>\n      <td>Low</td>\n      <td>Segment A</td>\n      <td>Log Data</td>\n      <td>Not Detected</td>\n      <td>Server</td>\n    </tr>\n    <tr>\n      <th>1</th>\n      <td>ICMP</td>\n      <td>1174</td>\n      <td>Data</td>\n      <td>HTTP</td>\n      <td>IoC Detected</td>\n      <td>51.50</td>\n      <td>Not Detected</td>\n      <td>Malware</td>\n      <td>Known Pattern A</td>\n      <td>Blocked</td>\n      <td>Low</td>\n      <td>Segment B</td>\n      <td>Log Data</td>\n      <td>Not Detected</td>\n      <td>Firewall</td>\n    </tr>\n    <tr>\n      <th>2</th>\n      <td>UDP</td>\n      <td>306</td>\n      <td>Control</td>\n      <td>HTTP</td>\n      <td>IoC Detected</td>\n      <td>87.42</td>\n      <td>Alert Triggered</td>\n      <td>DDoS</td>\n      <td>Known Pattern B</td>\n      <td>Ignored</td>\n      <td>Low</td>\n      <td>Segment C</td>\n      <td>Log Data</td>\n      <td>Alert Data</td>\n      <td>Firewall</td>\n    </tr>\n    <tr>\n      <th>3</th>\n      <td>UDP</td>\n      <td>385</td>\n      <td>Data</td>\n      <td>HTTP</td>\n      <td>Not Detected</td>\n      <td>15.79</td>\n      <td>Alert Triggered</td>\n      <td>Malware</td>\n      <td>Known Pattern B</td>\n      <td>Blocked</td>\n      <td>Medium</td>\n      <td>Segment B</td>\n      <td>Not Detected</td>\n      <td>Alert Data</td>\n      <td>Firewall</td>\n    </tr>\n    <tr>\n      <th>4</th>\n      <td>TCP</td>\n      <td>1462</td>\n      <td>Data</td>\n      <td>DNS</td>\n      <td>Not Detected</td>\n      <td>0.52</td>\n      <td>Alert Triggered</td>\n      <td>DDoS</td>\n      <td>Known Pattern B</td>\n      <td>Blocked</td>\n      <td>Low</td>\n      <td>Segment C</td>\n      <td>Not Detected</td>\n      <td>Alert Data</td>\n      <td>Firewall</td>\n    </tr>\n    <tr>\n      <th>...</th>\n      <td>...</td>\n      <td>...</td>\n      <td>...</td>\n      <td>...</td>\n      <td>...</td>\n      <td>...</td>\n      <td>...</td>\n      <td>...</td>\n      <td>...</td>\n      <td>...</td>\n      <td>...</td>\n      <td>...</td>\n      <td>...</td>\n      <td>...</td>\n      <td>...</td>\n    </tr>\n    <tr>\n      <th>39995</th>\n      <td>UDP</td>\n      <td>1428</td>\n      <td>Control</td>\n      <td>HTTP</td>\n      <td>IoC Detected</td>\n      <td>39.28</td>\n      <td>Not Detected</td>\n      <td>DDoS</td>\n      <td>Known Pattern A</td>\n      <td>Logged</td>\n      <td>Medium</td>\n      <td>Segment A</td>\n      <td>Log Data</td>\n      <td>Alert Data</td>\n      <td>Firewall</td>\n    </tr>\n    <tr>\n      <th>39996</th>\n      <td>UDP</td>\n      <td>1184</td>\n      <td>Control</td>\n      <td>HTTP</td>\n      <td>IoC Detected</td>\n      <td>27.25</td>\n      <td>Not Detected</td>\n      <td>DDoS</td>\n      <td>Known Pattern A</td>\n      <td>Logged</td>\n      <td>High</td>\n      <td>Segment C</td>\n      <td>Log Data</td>\n      <td>Not Detected</td>\n      <td>Firewall</td>\n    </tr>\n    <tr>\n      <th>39997</th>\n      <td>UDP</td>\n      <td>1043</td>\n      <td>Data</td>\n      <td>DNS</td>\n      <td>IoC Detected</td>\n      <td>31.01</td>\n      <td>Not Detected</td>\n      <td>DDoS</td>\n      <td>Known Pattern B</td>\n      <td>Blocked</td>\n      <td>Low</td>\n      <td>Segment C</td>\n      <td>Log Data</td>\n      <td>Alert Data</td>\n      <td>Server</td>\n    </tr>\n    <tr>\n      <th>39998</th>\n      <td>UDP</td>\n      <td>483</td>\n      <td>Data</td>\n      <td>FTP</td>\n      <td>IoC Detected</td>\n      <td>97.85</td>\n      <td>Alert Triggered</td>\n      <td>Malware</td>\n      <td>Known Pattern B</td>\n      <td>Ignored</td>\n      <td>Low</td>\n      <td>Segment B</td>\n      <td>Log Data</td>\n      <td>Not Detected</td>\n      <td>Server</td>\n    </tr>\n    <tr>\n      <th>39999</th>\n      <td>ICMP</td>\n      <td>1175</td>\n      <td>Control</td>\n      <td>HTTP</td>\n      <td>Not Detected</td>\n      <td>34.63</td>\n      <td>Alert Triggered</td>\n      <td>Intrusion</td>\n      <td>Known Pattern B</td>\n      <td>Logged</td>\n      <td>Medium</td>\n      <td>Segment A</td>\n      <td>Log Data</td>\n      <td>Alert Data</td>\n      <td>Firewall</td>\n    </tr>\n  </tbody>\n</table>\n<p>40000 rows × 15 columns</p>\n</div>"
     },
     "execution_count": 14,
     "metadata": {},
     "output_type": "execute_result"
    }
   ],
   "source": [
    "data_proc"
   ],
   "metadata": {
    "collapsed": false,
    "ExecuteTime": {
     "end_time": "2023-12-09T10:10:44.662519Z",
     "start_time": "2023-12-09T10:10:44.614434Z"
    }
   },
   "id": "a5641e0c75ee614b"
  },
  {
   "cell_type": "markdown",
   "source": [
    "## Process X "
   ],
   "metadata": {
    "collapsed": false
   },
   "id": "24f08d29252f680d"
  },
  {
   "cell_type": "markdown",
   "source": [
    "### Convert Integer Feature to Float"
   ],
   "metadata": {
    "collapsed": false
   },
   "id": "c3fd98a63553f1d3"
  },
  {
   "cell_type": "code",
   "execution_count": 15,
   "outputs": [
    {
     "data": {
      "text/plain": "                  count        mean         std   min    25%     50%  \\\nPacket Length   32000.0  781.951719  416.071088  64.0  421.0  781.00   \nAnomaly Scores  32000.0   50.144166   28.830647   0.0   25.2   50.41   \n\n                      75%     max  \nPacket Length   1144.0000  1500.0  \nAnomaly Scores    75.0025   100.0  ",
      "text/html": "<div>\n<style scoped>\n    .dataframe tbody tr th:only-of-type {\n        vertical-align: middle;\n    }\n\n    .dataframe tbody tr th {\n        vertical-align: top;\n    }\n\n    .dataframe thead th {\n        text-align: right;\n    }\n</style>\n<table border=\"1\" class=\"dataframe\">\n  <thead>\n    <tr style=\"text-align: right;\">\n      <th></th>\n      <th>count</th>\n      <th>mean</th>\n      <th>std</th>\n      <th>min</th>\n      <th>25%</th>\n      <th>50%</th>\n      <th>75%</th>\n      <th>max</th>\n    </tr>\n  </thead>\n  <tbody>\n    <tr>\n      <th>Packet Length</th>\n      <td>32000.0</td>\n      <td>781.951719</td>\n      <td>416.071088</td>\n      <td>64.0</td>\n      <td>421.0</td>\n      <td>781.00</td>\n      <td>1144.0000</td>\n      <td>1500.0</td>\n    </tr>\n    <tr>\n      <th>Anomaly Scores</th>\n      <td>32000.0</td>\n      <td>50.144166</td>\n      <td>28.830647</td>\n      <td>0.0</td>\n      <td>25.2</td>\n      <td>50.41</td>\n      <td>75.0025</td>\n      <td>100.0</td>\n    </tr>\n  </tbody>\n</table>\n</div>"
     },
     "execution_count": 15,
     "metadata": {},
     "output_type": "execute_result"
    }
   ],
   "source": [
    "X_train.describe().T"
   ],
   "metadata": {
    "collapsed": false,
    "ExecuteTime": {
     "end_time": "2023-12-09T10:10:47.252608Z",
     "start_time": "2023-12-09T10:10:47.195972Z"
    }
   },
   "id": "5cab680f508f4db6"
  },
  {
   "cell_type": "code",
   "execution_count": 16,
   "outputs": [
    {
     "data": {
      "text/plain": "      Protocol  Packet Length Packet Type Traffic Type Malware Indicators  \\\n29458     ICMP            817     Control          DNS       Not Detected   \n29834     ICMP            859        Data          FTP       Not Detected   \n14542      TCP            826        Data         HTTP       Not Detected   \n24229     ICMP            817     Control          DNS       Not Detected   \n23645     ICMP            446     Control         HTTP       IoC Detected   \n\n       Anomaly Scores  Alerts/Warnings Attack Signature Action Taken  \\\n29458           48.94     Not Detected  Known Pattern A      Blocked   \n29834           25.10     Not Detected  Known Pattern B       Logged   \n14542           84.11     Not Detected  Known Pattern A      Ignored   \n24229           33.54     Not Detected  Known Pattern B      Ignored   \n23645           28.34  Alert Triggered  Known Pattern B      Ignored   \n\n      Severity Level Network Segment Firewall Logs IDS/IPS Alerts Log Source  \n29458            Low       Segment A  Not Detected   Not Detected   Firewall  \n29834         Medium       Segment A  Not Detected     Alert Data   Firewall  \n14542           High       Segment B  Not Detected     Alert Data     Server  \n24229            Low       Segment B  Not Detected   Not Detected   Firewall  \n23645           High       Segment A      Log Data   Not Detected   Firewall  ",
      "text/html": "<div>\n<style scoped>\n    .dataframe tbody tr th:only-of-type {\n        vertical-align: middle;\n    }\n\n    .dataframe tbody tr th {\n        vertical-align: top;\n    }\n\n    .dataframe thead th {\n        text-align: right;\n    }\n</style>\n<table border=\"1\" class=\"dataframe\">\n  <thead>\n    <tr style=\"text-align: right;\">\n      <th></th>\n      <th>Protocol</th>\n      <th>Packet Length</th>\n      <th>Packet Type</th>\n      <th>Traffic Type</th>\n      <th>Malware Indicators</th>\n      <th>Anomaly Scores</th>\n      <th>Alerts/Warnings</th>\n      <th>Attack Signature</th>\n      <th>Action Taken</th>\n      <th>Severity Level</th>\n      <th>Network Segment</th>\n      <th>Firewall Logs</th>\n      <th>IDS/IPS Alerts</th>\n      <th>Log Source</th>\n    </tr>\n  </thead>\n  <tbody>\n    <tr>\n      <th>29458</th>\n      <td>ICMP</td>\n      <td>817</td>\n      <td>Control</td>\n      <td>DNS</td>\n      <td>Not Detected</td>\n      <td>48.94</td>\n      <td>Not Detected</td>\n      <td>Known Pattern A</td>\n      <td>Blocked</td>\n      <td>Low</td>\n      <td>Segment A</td>\n      <td>Not Detected</td>\n      <td>Not Detected</td>\n      <td>Firewall</td>\n    </tr>\n    <tr>\n      <th>29834</th>\n      <td>ICMP</td>\n      <td>859</td>\n      <td>Data</td>\n      <td>FTP</td>\n      <td>Not Detected</td>\n      <td>25.10</td>\n      <td>Not Detected</td>\n      <td>Known Pattern B</td>\n      <td>Logged</td>\n      <td>Medium</td>\n      <td>Segment A</td>\n      <td>Not Detected</td>\n      <td>Alert Data</td>\n      <td>Firewall</td>\n    </tr>\n    <tr>\n      <th>14542</th>\n      <td>TCP</td>\n      <td>826</td>\n      <td>Data</td>\n      <td>HTTP</td>\n      <td>Not Detected</td>\n      <td>84.11</td>\n      <td>Not Detected</td>\n      <td>Known Pattern A</td>\n      <td>Ignored</td>\n      <td>High</td>\n      <td>Segment B</td>\n      <td>Not Detected</td>\n      <td>Alert Data</td>\n      <td>Server</td>\n    </tr>\n    <tr>\n      <th>24229</th>\n      <td>ICMP</td>\n      <td>817</td>\n      <td>Control</td>\n      <td>DNS</td>\n      <td>Not Detected</td>\n      <td>33.54</td>\n      <td>Not Detected</td>\n      <td>Known Pattern B</td>\n      <td>Ignored</td>\n      <td>Low</td>\n      <td>Segment B</td>\n      <td>Not Detected</td>\n      <td>Not Detected</td>\n      <td>Firewall</td>\n    </tr>\n    <tr>\n      <th>23645</th>\n      <td>ICMP</td>\n      <td>446</td>\n      <td>Control</td>\n      <td>HTTP</td>\n      <td>IoC Detected</td>\n      <td>28.34</td>\n      <td>Alert Triggered</td>\n      <td>Known Pattern B</td>\n      <td>Ignored</td>\n      <td>High</td>\n      <td>Segment A</td>\n      <td>Log Data</td>\n      <td>Not Detected</td>\n      <td>Firewall</td>\n    </tr>\n  </tbody>\n</table>\n</div>"
     },
     "execution_count": 16,
     "metadata": {},
     "output_type": "execute_result"
    }
   ],
   "source": [
    "X_train.head()"
   ],
   "metadata": {
    "collapsed": false,
    "ExecuteTime": {
     "end_time": "2023-12-09T10:10:48.882071Z",
     "start_time": "2023-12-09T10:10:48.836248Z"
    }
   },
   "id": "1850be559a38b972"
  },
  {
   "cell_type": "code",
   "execution_count": 17,
   "outputs": [],
   "source": [
    "# heuristic strategy for categorical vs. numerical variables\n",
    "is_numerical  = np.array( [ len(np.unique(X_train[col]))>10 for col in X_train ] )\n",
    "numerical_idx = np.flatnonzero(is_numerical) "
   ],
   "metadata": {
    "collapsed": false,
    "ExecuteTime": {
     "end_time": "2023-12-09T10:10:51.380546Z",
     "start_time": "2023-12-09T10:10:51.262032Z"
    }
   },
   "id": "cd3866d101f9ca27"
  },
  {
   "cell_type": "code",
   "execution_count": 25,
   "outputs": [
    {
     "name": "stdout",
     "output_type": "stream",
     "text": [
      "[False  True False False False  True False False False False False False\n",
      " False False]\n",
      "Packet Length\n",
      "Number of numerical features: 2\n"
     ]
    }
   ],
   "source": [
    "print (is_numerical)\n",
    "print (numerical_idx)\n",
    "print (\"Number of numerical features:\", sum(is_numerical))\n",
    "numerical_idx = [\"Packet Length\",\"Anomaly Scores\"]"
   ],
   "metadata": {
    "collapsed": false,
    "ExecuteTime": {
     "end_time": "2023-12-09T10:12:04.012670Z",
     "start_time": "2023-12-09T10:12:03.986751Z"
    }
   },
   "id": "e0c9f53dc715980"
  },
  {
   "cell_type": "code",
   "execution_count": 31,
   "outputs": [
    {
     "data": {
      "text/plain": "       Packet Length  Anomaly Scores\n29458          817.0           48.94\n29834          859.0           25.10\n14542          826.0           84.11\n24229          817.0           33.54\n23645          446.0           28.34\n...              ...             ...\n33677         1026.0           23.17\n12431          523.0            7.38\n23717         1165.0           47.56\n20870         1034.0           72.86\n25802          501.0           66.39\n\n[32000 rows x 2 columns]",
      "text/html": "<div>\n<style scoped>\n    .dataframe tbody tr th:only-of-type {\n        vertical-align: middle;\n    }\n\n    .dataframe tbody tr th {\n        vertical-align: top;\n    }\n\n    .dataframe thead th {\n        text-align: right;\n    }\n</style>\n<table border=\"1\" class=\"dataframe\">\n  <thead>\n    <tr style=\"text-align: right;\">\n      <th></th>\n      <th>Packet Length</th>\n      <th>Anomaly Scores</th>\n    </tr>\n  </thead>\n  <tbody>\n    <tr>\n      <th>29458</th>\n      <td>817.0</td>\n      <td>48.94</td>\n    </tr>\n    <tr>\n      <th>29834</th>\n      <td>859.0</td>\n      <td>25.10</td>\n    </tr>\n    <tr>\n      <th>14542</th>\n      <td>826.0</td>\n      <td>84.11</td>\n    </tr>\n    <tr>\n      <th>24229</th>\n      <td>817.0</td>\n      <td>33.54</td>\n    </tr>\n    <tr>\n      <th>23645</th>\n      <td>446.0</td>\n      <td>28.34</td>\n    </tr>\n    <tr>\n      <th>...</th>\n      <td>...</td>\n      <td>...</td>\n    </tr>\n    <tr>\n      <th>33677</th>\n      <td>1026.0</td>\n      <td>23.17</td>\n    </tr>\n    <tr>\n      <th>12431</th>\n      <td>523.0</td>\n      <td>7.38</td>\n    </tr>\n    <tr>\n      <th>23717</th>\n      <td>1165.0</td>\n      <td>47.56</td>\n    </tr>\n    <tr>\n      <th>20870</th>\n      <td>1034.0</td>\n      <td>72.86</td>\n    </tr>\n    <tr>\n      <th>25802</th>\n      <td>501.0</td>\n      <td>66.39</td>\n    </tr>\n  </tbody>\n</table>\n<p>32000 rows × 2 columns</p>\n</div>"
     },
     "execution_count": 31,
     "metadata": {},
     "output_type": "execute_result"
    }
   ],
   "source": [
    "# convert numerical to floats (keep NaN)\n",
    "new_X = pd.to_numeric(X_train[numerical_idx[0]],downcast='float')\n",
    "#  invalid parsing will be set as NaN.\n",
    "new_X = pd.concat([new_X, X_train[numerical_idx[1]]], axis=1)\n",
    "new_X"
   ],
   "metadata": {
    "collapsed": false,
    "ExecuteTime": {
     "end_time": "2023-12-09T10:24:45.679024Z",
     "start_time": "2023-12-09T10:24:45.652193Z"
    }
   },
   "id": "649978fb4bdc1bbc"
  },
  {
   "cell_type": "code",
   "execution_count": 32,
   "outputs": [
    {
     "data": {
      "text/plain": "       Packet Length  Anomaly Scores\n29458          817.0           48.94\n29834          859.0           25.10\n14542          826.0           84.11\n24229          817.0           33.54\n23645          446.0           28.34\n13996          118.0           18.15\n2673           666.0           25.03\n11886          438.0           91.37\n23085          418.0            2.35\n36720          436.0           31.51",
      "text/html": "<div>\n<style scoped>\n    .dataframe tbody tr th:only-of-type {\n        vertical-align: middle;\n    }\n\n    .dataframe tbody tr th {\n        vertical-align: top;\n    }\n\n    .dataframe thead th {\n        text-align: right;\n    }\n</style>\n<table border=\"1\" class=\"dataframe\">\n  <thead>\n    <tr style=\"text-align: right;\">\n      <th></th>\n      <th>Packet Length</th>\n      <th>Anomaly Scores</th>\n    </tr>\n  </thead>\n  <tbody>\n    <tr>\n      <th>29458</th>\n      <td>817.0</td>\n      <td>48.94</td>\n    </tr>\n    <tr>\n      <th>29834</th>\n      <td>859.0</td>\n      <td>25.10</td>\n    </tr>\n    <tr>\n      <th>14542</th>\n      <td>826.0</td>\n      <td>84.11</td>\n    </tr>\n    <tr>\n      <th>24229</th>\n      <td>817.0</td>\n      <td>33.54</td>\n    </tr>\n    <tr>\n      <th>23645</th>\n      <td>446.0</td>\n      <td>28.34</td>\n    </tr>\n    <tr>\n      <th>13996</th>\n      <td>118.0</td>\n      <td>18.15</td>\n    </tr>\n    <tr>\n      <th>2673</th>\n      <td>666.0</td>\n      <td>25.03</td>\n    </tr>\n    <tr>\n      <th>11886</th>\n      <td>438.0</td>\n      <td>91.37</td>\n    </tr>\n    <tr>\n      <th>23085</th>\n      <td>418.0</td>\n      <td>2.35</td>\n    </tr>\n    <tr>\n      <th>36720</th>\n      <td>436.0</td>\n      <td>31.51</td>\n    </tr>\n  </tbody>\n</table>\n</div>"
     },
     "execution_count": 32,
     "metadata": {},
     "output_type": "execute_result"
    }
   ],
   "source": [
    "new_X.head(10)"
   ],
   "metadata": {
    "collapsed": false,
    "ExecuteTime": {
     "end_time": "2023-12-09T10:24:48.529608Z",
     "start_time": "2023-12-09T10:24:48.513083Z"
    }
   },
   "id": "40a3c09c87e05df0"
  },
  {
   "cell_type": "code",
   "execution_count": 33,
   "outputs": [
    {
     "name": "stdout",
     "output_type": "stream",
     "text": [
      "<class 'pandas.core.frame.DataFrame'>\n",
      "Index: 32000 entries, 29458 to 25802\n",
      "Data columns (total 2 columns):\n",
      " #   Column          Non-Null Count  Dtype  \n",
      "---  ------          --------------  -----  \n",
      " 0   Packet Length   32000 non-null  float32\n",
      " 1   Anomaly Scores  32000 non-null  float64\n",
      "dtypes: float32(1), float64(1)\n",
      "memory usage: 625.0 KB\n"
     ]
    }
   ],
   "source": [
    "new_X.info()"
   ],
   "metadata": {
    "collapsed": false,
    "ExecuteTime": {
     "end_time": "2023-12-09T10:24:53.262812Z",
     "start_time": "2023-12-09T10:24:53.204580Z"
    }
   },
   "id": "4a7c7b7b065018d6"
  },
  {
   "cell_type": "code",
   "execution_count": 35,
   "outputs": [
    {
     "data": {
      "text/plain": "Packet Length      1497\nAnomaly Scores    46.54\nName: 414, dtype: object"
     },
     "execution_count": 35,
     "metadata": {},
     "output_type": "execute_result"
    }
   ],
   "source": [
    "X_train.loc[414,numerical_idx]"
   ],
   "metadata": {
    "collapsed": false,
    "ExecuteTime": {
     "end_time": "2023-12-09T10:25:07.947655Z",
     "start_time": "2023-12-09T10:25:07.908780Z"
    }
   },
   "id": "c622b0d2ef0c182f"
  },
  {
   "cell_type": "code",
   "execution_count": 36,
   "outputs": [
    {
     "data": {
      "text/plain": "       Packet Length  Anomaly Scores\n29458              0               0\n29834              0               0\n14542              0               0\n24229              0               0\n23645              0               0\n13996              0               0\n2673               0               0\n11886              0               0\n23085              0               0\n36720              0               0",
      "text/html": "<div>\n<style scoped>\n    .dataframe tbody tr th:only-of-type {\n        vertical-align: middle;\n    }\n\n    .dataframe tbody tr th {\n        vertical-align: top;\n    }\n\n    .dataframe thead th {\n        text-align: right;\n    }\n</style>\n<table border=\"1\" class=\"dataframe\">\n  <thead>\n    <tr style=\"text-align: right;\">\n      <th></th>\n      <th>Packet Length</th>\n      <th>Anomaly Scores</th>\n    </tr>\n  </thead>\n  <tbody>\n    <tr>\n      <th>29458</th>\n      <td>0</td>\n      <td>0</td>\n    </tr>\n    <tr>\n      <th>29834</th>\n      <td>0</td>\n      <td>0</td>\n    </tr>\n    <tr>\n      <th>14542</th>\n      <td>0</td>\n      <td>0</td>\n    </tr>\n    <tr>\n      <th>24229</th>\n      <td>0</td>\n      <td>0</td>\n    </tr>\n    <tr>\n      <th>23645</th>\n      <td>0</td>\n      <td>0</td>\n    </tr>\n    <tr>\n      <th>13996</th>\n      <td>0</td>\n      <td>0</td>\n    </tr>\n    <tr>\n      <th>2673</th>\n      <td>0</td>\n      <td>0</td>\n    </tr>\n    <tr>\n      <th>11886</th>\n      <td>0</td>\n      <td>0</td>\n    </tr>\n    <tr>\n      <th>23085</th>\n      <td>0</td>\n      <td>0</td>\n    </tr>\n    <tr>\n      <th>36720</th>\n      <td>0</td>\n      <td>0</td>\n    </tr>\n  </tbody>\n</table>\n</div>"
     },
     "execution_count": 36,
     "metadata": {},
     "output_type": "execute_result"
    }
   ],
   "source": [
    "# extract NaNs\n",
    "new_X.isna().astype(int).head(10)"
   ],
   "metadata": {
    "collapsed": false,
    "ExecuteTime": {
     "end_time": "2023-12-09T10:25:13.073384Z",
     "start_time": "2023-12-09T10:25:13.023619Z"
    }
   },
   "id": "bd4d11f77964e7a9"
  },
  {
   "cell_type": "code",
   "execution_count": 37,
   "outputs": [
    {
     "data": {
      "text/plain": "       Packet Length  Anomaly Scores  Packet Length  Anomaly Scores\n29458          817.0           48.94              0               0\n29834          859.0           25.10              0               0\n14542          826.0           84.11              0               0\n24229          817.0           33.54              0               0\n23645          446.0           28.34              0               0\n13996          118.0           18.15              0               0\n2673           666.0           25.03              0               0\n11886          438.0           91.37              0               0\n23085          418.0            2.35              0               0\n36720          436.0           31.51              0               0",
      "text/html": "<div>\n<style scoped>\n    .dataframe tbody tr th:only-of-type {\n        vertical-align: middle;\n    }\n\n    .dataframe tbody tr th {\n        vertical-align: top;\n    }\n\n    .dataframe thead th {\n        text-align: right;\n    }\n</style>\n<table border=\"1\" class=\"dataframe\">\n  <thead>\n    <tr style=\"text-align: right;\">\n      <th></th>\n      <th>Packet Length</th>\n      <th>Anomaly Scores</th>\n      <th>Packet Length</th>\n      <th>Anomaly Scores</th>\n    </tr>\n  </thead>\n  <tbody>\n    <tr>\n      <th>29458</th>\n      <td>817.0</td>\n      <td>48.94</td>\n      <td>0</td>\n      <td>0</td>\n    </tr>\n    <tr>\n      <th>29834</th>\n      <td>859.0</td>\n      <td>25.10</td>\n      <td>0</td>\n      <td>0</td>\n    </tr>\n    <tr>\n      <th>14542</th>\n      <td>826.0</td>\n      <td>84.11</td>\n      <td>0</td>\n      <td>0</td>\n    </tr>\n    <tr>\n      <th>24229</th>\n      <td>817.0</td>\n      <td>33.54</td>\n      <td>0</td>\n      <td>0</td>\n    </tr>\n    <tr>\n      <th>23645</th>\n      <td>446.0</td>\n      <td>28.34</td>\n      <td>0</td>\n      <td>0</td>\n    </tr>\n    <tr>\n      <th>13996</th>\n      <td>118.0</td>\n      <td>18.15</td>\n      <td>0</td>\n      <td>0</td>\n    </tr>\n    <tr>\n      <th>2673</th>\n      <td>666.0</td>\n      <td>25.03</td>\n      <td>0</td>\n      <td>0</td>\n    </tr>\n    <tr>\n      <th>11886</th>\n      <td>438.0</td>\n      <td>91.37</td>\n      <td>0</td>\n      <td>0</td>\n    </tr>\n    <tr>\n      <th>23085</th>\n      <td>418.0</td>\n      <td>2.35</td>\n      <td>0</td>\n      <td>0</td>\n    </tr>\n    <tr>\n      <th>36720</th>\n      <td>436.0</td>\n      <td>31.51</td>\n      <td>0</td>\n      <td>0</td>\n    </tr>\n  </tbody>\n</table>\n</div>"
     },
     "execution_count": 37,
     "metadata": {},
     "output_type": "execute_result"
    }
   ],
   "source": [
    "new_X = pd.concat( [new_X, new_X.isna().astype(int)], \n",
    "               axis=1)\n",
    "\n",
    "new_X.head(10)"
   ],
   "metadata": {
    "collapsed": false,
    "ExecuteTime": {
     "end_time": "2023-12-09T10:25:19.826420Z",
     "start_time": "2023-12-09T10:25:19.779943Z"
    }
   },
   "id": "5cabe8adb6c4bfc4"
  },
  {
   "cell_type": "code",
   "execution_count": 329,
   "outputs": [
    {
     "data": {
      "text/plain": "(32000, 4)"
     },
     "execution_count": 329,
     "metadata": {},
     "output_type": "execute_result"
    }
   ],
   "source": [
    "new_X.shape"
   ],
   "metadata": {
    "collapsed": false,
    "ExecuteTime": {
     "end_time": "2023-12-08T16:54:25.833370Z",
     "start_time": "2023-12-08T16:54:25.664707Z"
    }
   },
   "id": "e23275ffc7e90b7a"
  },
  {
   "cell_type": "code",
   "execution_count": 330,
   "outputs": [
    {
     "data": {
      "text/plain": "       Packet Length  Anomaly Scores  Packet Length  Anomaly Scores\n21585            584           54.12              0               0\n19128            517            4.93              0               0\n16127            364           76.61              0               0\n31547            396           40.27              0               0\n26919           1392           86.33              0               0",
      "text/html": "<div>\n<style scoped>\n    .dataframe tbody tr th:only-of-type {\n        vertical-align: middle;\n    }\n\n    .dataframe tbody tr th {\n        vertical-align: top;\n    }\n\n    .dataframe thead th {\n        text-align: right;\n    }\n</style>\n<table border=\"1\" class=\"dataframe\">\n  <thead>\n    <tr style=\"text-align: right;\">\n      <th></th>\n      <th>Packet Length</th>\n      <th>Anomaly Scores</th>\n      <th>Packet Length</th>\n      <th>Anomaly Scores</th>\n    </tr>\n  </thead>\n  <tbody>\n    <tr>\n      <th>21585</th>\n      <td>584</td>\n      <td>54.12</td>\n      <td>0</td>\n      <td>0</td>\n    </tr>\n    <tr>\n      <th>19128</th>\n      <td>517</td>\n      <td>4.93</td>\n      <td>0</td>\n      <td>0</td>\n    </tr>\n    <tr>\n      <th>16127</th>\n      <td>364</td>\n      <td>76.61</td>\n      <td>0</td>\n      <td>0</td>\n    </tr>\n    <tr>\n      <th>31547</th>\n      <td>396</td>\n      <td>40.27</td>\n      <td>0</td>\n      <td>0</td>\n    </tr>\n    <tr>\n      <th>26919</th>\n      <td>1392</td>\n      <td>86.33</td>\n      <td>0</td>\n      <td>0</td>\n    </tr>\n  </tbody>\n</table>\n</div>"
     },
     "execution_count": 330,
     "metadata": {},
     "output_type": "execute_result"
    }
   ],
   "source": [
    "# fill NaN\n",
    "new_X = new_X.fillna(0.0)\n",
    "# try with mean/median\n",
    "\n",
    "new_X.head()"
   ],
   "metadata": {
    "collapsed": false,
    "ExecuteTime": {
     "end_time": "2023-12-08T16:54:25.833581Z",
     "start_time": "2023-12-08T16:54:25.668006Z"
    }
   },
   "id": "d413b8bcfa8a1967"
  },
  {
   "cell_type": "code",
   "execution_count": 331,
   "outputs": [
    {
     "data": {
      "text/plain": "      Protocol  Packet Length Packet Type Traffic Type Malware Indicators  \\\n21585     ICMP            584     Control          DNS       Not Detected   \n19128      UDP            517     Control          DNS       IoC Detected   \n16127     ICMP            364        Data          DNS       Not Detected   \n31547      UDP            396     Control          FTP       IoC Detected   \n26919     ICMP           1392        Data          DNS       Not Detected   \n...        ...            ...         ...          ...                ...   \n15985     ICMP            184     Control          DNS       Not Detected   \n25328      UDP            730     Control          FTP       Not Detected   \n34054      TCP            769        Data          DNS       Not Detected   \n34258      TCP            447     Control          DNS       IoC Detected   \n33216      UDP            555     Control         HTTP       IoC Detected   \n\n       Anomaly Scores  Alerts/Warnings Attack Signature Action Taken  \\\n21585           54.12  Alert Triggered  Known Pattern B       Logged   \n19128            4.93  Alert Triggered  Known Pattern A      Blocked   \n16127           76.61  Alert Triggered  Known Pattern B      Ignored   \n31547           40.27  Alert Triggered  Known Pattern B       Logged   \n26919           86.33  Alert Triggered  Known Pattern B       Logged   \n...               ...              ...              ...          ...   \n15985           98.90  Alert Triggered  Known Pattern B       Logged   \n25328           39.44  Alert Triggered  Known Pattern A      Blocked   \n34054           91.40     Not Detected  Known Pattern B       Logged   \n34258           21.47     Not Detected  Known Pattern A      Ignored   \n33216           33.40     Not Detected  Known Pattern A      Blocked   \n\n      Severity Level Network Segment Firewall Logs IDS/IPS Alerts Log Source  \n21585            Low       Segment B  Not Detected     Alert Data     Server  \n19128         Medium       Segment C  Not Detected   Not Detected   Firewall  \n16127            Low       Segment C      Log Data     Alert Data   Firewall  \n31547            Low       Segment A  Not Detected     Alert Data   Firewall  \n26919         Medium       Segment A      Log Data   Not Detected   Firewall  \n...              ...             ...           ...            ...        ...  \n15985            Low       Segment A  Not Detected   Not Detected   Firewall  \n25328           High       Segment C      Log Data   Not Detected   Firewall  \n34054         Medium       Segment C      Log Data   Not Detected   Firewall  \n34258           High       Segment B  Not Detected   Not Detected     Server  \n33216            Low       Segment C  Not Detected   Not Detected     Server  \n\n[32000 rows x 14 columns]",
      "text/html": "<div>\n<style scoped>\n    .dataframe tbody tr th:only-of-type {\n        vertical-align: middle;\n    }\n\n    .dataframe tbody tr th {\n        vertical-align: top;\n    }\n\n    .dataframe thead th {\n        text-align: right;\n    }\n</style>\n<table border=\"1\" class=\"dataframe\">\n  <thead>\n    <tr style=\"text-align: right;\">\n      <th></th>\n      <th>Protocol</th>\n      <th>Packet Length</th>\n      <th>Packet Type</th>\n      <th>Traffic Type</th>\n      <th>Malware Indicators</th>\n      <th>Anomaly Scores</th>\n      <th>Alerts/Warnings</th>\n      <th>Attack Signature</th>\n      <th>Action Taken</th>\n      <th>Severity Level</th>\n      <th>Network Segment</th>\n      <th>Firewall Logs</th>\n      <th>IDS/IPS Alerts</th>\n      <th>Log Source</th>\n    </tr>\n  </thead>\n  <tbody>\n    <tr>\n      <th>21585</th>\n      <td>ICMP</td>\n      <td>584</td>\n      <td>Control</td>\n      <td>DNS</td>\n      <td>Not Detected</td>\n      <td>54.12</td>\n      <td>Alert Triggered</td>\n      <td>Known Pattern B</td>\n      <td>Logged</td>\n      <td>Low</td>\n      <td>Segment B</td>\n      <td>Not Detected</td>\n      <td>Alert Data</td>\n      <td>Server</td>\n    </tr>\n    <tr>\n      <th>19128</th>\n      <td>UDP</td>\n      <td>517</td>\n      <td>Control</td>\n      <td>DNS</td>\n      <td>IoC Detected</td>\n      <td>4.93</td>\n      <td>Alert Triggered</td>\n      <td>Known Pattern A</td>\n      <td>Blocked</td>\n      <td>Medium</td>\n      <td>Segment C</td>\n      <td>Not Detected</td>\n      <td>Not Detected</td>\n      <td>Firewall</td>\n    </tr>\n    <tr>\n      <th>16127</th>\n      <td>ICMP</td>\n      <td>364</td>\n      <td>Data</td>\n      <td>DNS</td>\n      <td>Not Detected</td>\n      <td>76.61</td>\n      <td>Alert Triggered</td>\n      <td>Known Pattern B</td>\n      <td>Ignored</td>\n      <td>Low</td>\n      <td>Segment C</td>\n      <td>Log Data</td>\n      <td>Alert Data</td>\n      <td>Firewall</td>\n    </tr>\n    <tr>\n      <th>31547</th>\n      <td>UDP</td>\n      <td>396</td>\n      <td>Control</td>\n      <td>FTP</td>\n      <td>IoC Detected</td>\n      <td>40.27</td>\n      <td>Alert Triggered</td>\n      <td>Known Pattern B</td>\n      <td>Logged</td>\n      <td>Low</td>\n      <td>Segment A</td>\n      <td>Not Detected</td>\n      <td>Alert Data</td>\n      <td>Firewall</td>\n    </tr>\n    <tr>\n      <th>26919</th>\n      <td>ICMP</td>\n      <td>1392</td>\n      <td>Data</td>\n      <td>DNS</td>\n      <td>Not Detected</td>\n      <td>86.33</td>\n      <td>Alert Triggered</td>\n      <td>Known Pattern B</td>\n      <td>Logged</td>\n      <td>Medium</td>\n      <td>Segment A</td>\n      <td>Log Data</td>\n      <td>Not Detected</td>\n      <td>Firewall</td>\n    </tr>\n    <tr>\n      <th>...</th>\n      <td>...</td>\n      <td>...</td>\n      <td>...</td>\n      <td>...</td>\n      <td>...</td>\n      <td>...</td>\n      <td>...</td>\n      <td>...</td>\n      <td>...</td>\n      <td>...</td>\n      <td>...</td>\n      <td>...</td>\n      <td>...</td>\n      <td>...</td>\n    </tr>\n    <tr>\n      <th>15985</th>\n      <td>ICMP</td>\n      <td>184</td>\n      <td>Control</td>\n      <td>DNS</td>\n      <td>Not Detected</td>\n      <td>98.90</td>\n      <td>Alert Triggered</td>\n      <td>Known Pattern B</td>\n      <td>Logged</td>\n      <td>Low</td>\n      <td>Segment A</td>\n      <td>Not Detected</td>\n      <td>Not Detected</td>\n      <td>Firewall</td>\n    </tr>\n    <tr>\n      <th>25328</th>\n      <td>UDP</td>\n      <td>730</td>\n      <td>Control</td>\n      <td>FTP</td>\n      <td>Not Detected</td>\n      <td>39.44</td>\n      <td>Alert Triggered</td>\n      <td>Known Pattern A</td>\n      <td>Blocked</td>\n      <td>High</td>\n      <td>Segment C</td>\n      <td>Log Data</td>\n      <td>Not Detected</td>\n      <td>Firewall</td>\n    </tr>\n    <tr>\n      <th>34054</th>\n      <td>TCP</td>\n      <td>769</td>\n      <td>Data</td>\n      <td>DNS</td>\n      <td>Not Detected</td>\n      <td>91.40</td>\n      <td>Not Detected</td>\n      <td>Known Pattern B</td>\n      <td>Logged</td>\n      <td>Medium</td>\n      <td>Segment C</td>\n      <td>Log Data</td>\n      <td>Not Detected</td>\n      <td>Firewall</td>\n    </tr>\n    <tr>\n      <th>34258</th>\n      <td>TCP</td>\n      <td>447</td>\n      <td>Control</td>\n      <td>DNS</td>\n      <td>IoC Detected</td>\n      <td>21.47</td>\n      <td>Not Detected</td>\n      <td>Known Pattern A</td>\n      <td>Ignored</td>\n      <td>High</td>\n      <td>Segment B</td>\n      <td>Not Detected</td>\n      <td>Not Detected</td>\n      <td>Server</td>\n    </tr>\n    <tr>\n      <th>33216</th>\n      <td>UDP</td>\n      <td>555</td>\n      <td>Control</td>\n      <td>HTTP</td>\n      <td>IoC Detected</td>\n      <td>33.40</td>\n      <td>Not Detected</td>\n      <td>Known Pattern A</td>\n      <td>Blocked</td>\n      <td>Low</td>\n      <td>Segment C</td>\n      <td>Not Detected</td>\n      <td>Not Detected</td>\n      <td>Server</td>\n    </tr>\n  </tbody>\n</table>\n<p>32000 rows × 14 columns</p>\n</div>"
     },
     "execution_count": 331,
     "metadata": {},
     "output_type": "execute_result"
    }
   ],
   "source": [
    "X_train"
   ],
   "metadata": {
    "collapsed": false,
    "ExecuteTime": {
     "end_time": "2023-12-08T16:54:25.834128Z",
     "start_time": "2023-12-08T16:54:25.679224Z"
    }
   },
   "id": "b1202f3b1836ef75"
  },
  {
   "cell_type": "code",
   "execution_count": 332,
   "outputs": [
    {
     "data": {
      "text/plain": "Index(['Protocol', 'Packet Type', 'Traffic Type', 'Malware Indicators',\n       'Alerts/Warnings', 'Attack Signature', 'Action Taken',\n       'Network Segment', 'Firewall Logs', 'IDS/IPS Alerts', 'Log Source'],\n      dtype='object')"
     },
     "execution_count": 332,
     "metadata": {},
     "output_type": "execute_result"
    }
   ],
   "source": [
    "oneHot_idx = X_train.columns.drop(['Packet Length', 'Anomaly Scores','Severity Level'])\n",
    "\n",
    "oneHot_idx"
   ],
   "metadata": {
    "collapsed": false,
    "ExecuteTime": {
     "end_time": "2023-12-08T16:54:25.834262Z",
     "start_time": "2023-12-08T16:54:25.682702Z"
    }
   },
   "id": "812a42740381960c"
  },
  {
   "cell_type": "markdown",
   "source": [
    "### One-Hot-Encoding"
   ],
   "metadata": {
    "collapsed": false
   },
   "id": "60b510e0862b6046"
  },
  {
   "cell_type": "code",
   "execution_count": 333,
   "outputs": [
    {
     "data": {
      "text/plain": "OneHotEncoder(sparse_output=False)",
      "text/html": "<style>#sk-container-id-6 {color: black;}#sk-container-id-6 pre{padding: 0;}#sk-container-id-6 div.sk-toggleable {background-color: white;}#sk-container-id-6 label.sk-toggleable__label {cursor: pointer;display: block;width: 100%;margin-bottom: 0;padding: 0.3em;box-sizing: border-box;text-align: center;}#sk-container-id-6 label.sk-toggleable__label-arrow:before {content: \"▸\";float: left;margin-right: 0.25em;color: #696969;}#sk-container-id-6 label.sk-toggleable__label-arrow:hover:before {color: black;}#sk-container-id-6 div.sk-estimator:hover label.sk-toggleable__label-arrow:before {color: black;}#sk-container-id-6 div.sk-toggleable__content {max-height: 0;max-width: 0;overflow: hidden;text-align: left;background-color: #f0f8ff;}#sk-container-id-6 div.sk-toggleable__content pre {margin: 0.2em;color: black;border-radius: 0.25em;background-color: #f0f8ff;}#sk-container-id-6 input.sk-toggleable__control:checked~div.sk-toggleable__content {max-height: 200px;max-width: 100%;overflow: auto;}#sk-container-id-6 input.sk-toggleable__control:checked~label.sk-toggleable__label-arrow:before {content: \"▾\";}#sk-container-id-6 div.sk-estimator input.sk-toggleable__control:checked~label.sk-toggleable__label {background-color: #d4ebff;}#sk-container-id-6 div.sk-label input.sk-toggleable__control:checked~label.sk-toggleable__label {background-color: #d4ebff;}#sk-container-id-6 input.sk-hidden--visually {border: 0;clip: rect(1px 1px 1px 1px);clip: rect(1px, 1px, 1px, 1px);height: 1px;margin: -1px;overflow: hidden;padding: 0;position: absolute;width: 1px;}#sk-container-id-6 div.sk-estimator {font-family: monospace;background-color: #f0f8ff;border: 1px dotted black;border-radius: 0.25em;box-sizing: border-box;margin-bottom: 0.5em;}#sk-container-id-6 div.sk-estimator:hover {background-color: #d4ebff;}#sk-container-id-6 div.sk-parallel-item::after {content: \"\";width: 100%;border-bottom: 1px solid gray;flex-grow: 1;}#sk-container-id-6 div.sk-label:hover label.sk-toggleable__label {background-color: #d4ebff;}#sk-container-id-6 div.sk-serial::before {content: \"\";position: absolute;border-left: 1px solid gray;box-sizing: border-box;top: 0;bottom: 0;left: 50%;z-index: 0;}#sk-container-id-6 div.sk-serial {display: flex;flex-direction: column;align-items: center;background-color: white;padding-right: 0.2em;padding-left: 0.2em;position: relative;}#sk-container-id-6 div.sk-item {position: relative;z-index: 1;}#sk-container-id-6 div.sk-parallel {display: flex;align-items: stretch;justify-content: center;background-color: white;position: relative;}#sk-container-id-6 div.sk-item::before, #sk-container-id-6 div.sk-parallel-item::before {content: \"\";position: absolute;border-left: 1px solid gray;box-sizing: border-box;top: 0;bottom: 0;left: 50%;z-index: -1;}#sk-container-id-6 div.sk-parallel-item {display: flex;flex-direction: column;z-index: 1;position: relative;background-color: white;}#sk-container-id-6 div.sk-parallel-item:first-child::after {align-self: flex-end;width: 50%;}#sk-container-id-6 div.sk-parallel-item:last-child::after {align-self: flex-start;width: 50%;}#sk-container-id-6 div.sk-parallel-item:only-child::after {width: 0;}#sk-container-id-6 div.sk-dashed-wrapped {border: 1px dashed gray;margin: 0 0.4em 0.5em 0.4em;box-sizing: border-box;padding-bottom: 0.4em;background-color: white;}#sk-container-id-6 div.sk-label label {font-family: monospace;font-weight: bold;display: inline-block;line-height: 1.2em;}#sk-container-id-6 div.sk-label-container {text-align: center;}#sk-container-id-6 div.sk-container {/* jupyter's `normalize.less` sets `[hidden] { display: none; }` but bootstrap.min.css set `[hidden] { display: none !important; }` so we also need the `!important` here to be able to override the default hidden behavior on the sphinx rendered scikit-learn.org. See: https://github.com/scikit-learn/scikit-learn/issues/21755 */display: inline-block !important;position: relative;}#sk-container-id-6 div.sk-text-repr-fallback {display: none;}</style><div id=\"sk-container-id-6\" class=\"sk-top-container\"><div class=\"sk-text-repr-fallback\"><pre>OneHotEncoder(sparse_output=False)</pre><b>In a Jupyter environment, please rerun this cell to show the HTML representation or trust the notebook. <br />On GitHub, the HTML representation is unable to render, please try loading this page with nbviewer.org.</b></div><div class=\"sk-container\" hidden><div class=\"sk-item\"><div class=\"sk-estimator sk-toggleable\"><input class=\"sk-toggleable__control sk-hidden--visually\" id=\"sk-estimator-id-6\" type=\"checkbox\" checked><label for=\"sk-estimator-id-6\" class=\"sk-toggleable__label sk-toggleable__label-arrow\">OneHotEncoder</label><div class=\"sk-toggleable__content\"><pre>OneHotEncoder(sparse_output=False)</pre></div></div></div></div></div>"
     },
     "execution_count": 333,
     "metadata": {},
     "output_type": "execute_result"
    }
   ],
   "source": [
    "from sklearn.preprocessing import OneHotEncoder\n",
    "\n",
    "oh = OneHotEncoder(sparse_output=False)\n",
    "oh.fit(X_train[oneHot_idx])"
   ],
   "metadata": {
    "collapsed": false,
    "ExecuteTime": {
     "end_time": "2023-12-08T16:54:25.834572Z",
     "start_time": "2023-12-08T16:54:25.686259Z"
    }
   },
   "id": "f12437d9f09593b8"
  },
  {
   "cell_type": "code",
   "execution_count": 334,
   "outputs": [
    {
     "data": {
      "text/plain": "[array(['ICMP', 'TCP', 'UDP'], dtype=object),\n array(['Control', 'Data'], dtype=object),\n array(['DNS', 'FTP', 'HTTP'], dtype=object),\n array(['IoC Detected', 'Not Detected'], dtype=object),\n array(['Alert Triggered', 'Not Detected'], dtype=object),\n array(['Known Pattern A', 'Known Pattern B'], dtype=object),\n array(['Blocked', 'Ignored', 'Logged'], dtype=object),\n array(['Segment A', 'Segment B', 'Segment C'], dtype=object),\n array(['Log Data', 'Not Detected'], dtype=object),\n array(['Alert Data', 'Not Detected'], dtype=object),\n array(['Firewall', 'Server'], dtype=object)]"
     },
     "execution_count": 334,
     "metadata": {},
     "output_type": "execute_result"
    }
   ],
   "source": [
    "oh.categories_"
   ],
   "metadata": {
    "collapsed": false,
    "ExecuteTime": {
     "end_time": "2023-12-08T16:54:25.834689Z",
     "start_time": "2023-12-08T16:54:25.699326Z"
    }
   },
   "id": "7bb8a7e87a10d92a"
  },
  {
   "cell_type": "code",
   "execution_count": 335,
   "outputs": [
    {
     "data": {
      "text/plain": "(32000, 26)"
     },
     "execution_count": 335,
     "metadata": {},
     "output_type": "execute_result"
    }
   ],
   "source": [
    "oneHot_encoded = oh.transform(X_train[oneHot_idx])\n",
    "oneHot_encoded.shape"
   ],
   "metadata": {
    "collapsed": false,
    "ExecuteTime": {
     "end_time": "2023-12-08T16:54:25.834777Z",
     "start_time": "2023-12-08T16:54:25.702716Z"
    }
   },
   "id": "3c7ad8343193690c"
  },
  {
   "cell_type": "code",
   "execution_count": 336,
   "outputs": [
    {
     "data": {
      "text/plain": "array([[1., 0., 0., ..., 0., 0., 1.],\n       [0., 0., 1., ..., 1., 1., 0.],\n       [1., 0., 0., ..., 0., 1., 0.],\n       ...,\n       [0., 1., 0., ..., 1., 1., 0.],\n       [0., 1., 0., ..., 1., 0., 1.],\n       [0., 0., 1., ..., 1., 0., 1.]])"
     },
     "execution_count": 336,
     "metadata": {},
     "output_type": "execute_result"
    }
   ],
   "source": [
    "oneHot_encoded"
   ],
   "metadata": {
    "collapsed": false,
    "ExecuteTime": {
     "end_time": "2023-12-08T16:54:25.834881Z",
     "start_time": "2023-12-08T16:54:25.749221Z"
    }
   },
   "id": "730f78bb5e7c659c"
  },
  {
   "cell_type": "code",
   "execution_count": 337,
   "outputs": [
    {
     "data": {
      "text/plain": "array(['Protocol_ICMP', 'Protocol_TCP', 'Protocol_UDP',\n       'Packet Type_Control', 'Packet Type_Data', 'Traffic Type_DNS',\n       'Traffic Type_FTP', 'Traffic Type_HTTP',\n       'Malware Indicators_IoC Detected',\n       'Malware Indicators_Not Detected',\n       'Alerts/Warnings_Alert Triggered', 'Alerts/Warnings_Not Detected',\n       'Attack Signature_Known Pattern A',\n       'Attack Signature_Known Pattern B', 'Action Taken_Blocked',\n       'Action Taken_Ignored', 'Action Taken_Logged',\n       'Network Segment_Segment A', 'Network Segment_Segment B',\n       'Network Segment_Segment C', 'Firewall Logs_Log Data',\n       'Firewall Logs_Not Detected', 'IDS/IPS Alerts_Alert Data',\n       'IDS/IPS Alerts_Not Detected', 'Log Source_Firewall',\n       'Log Source_Server'], dtype=object)"
     },
     "execution_count": 337,
     "metadata": {},
     "output_type": "execute_result"
    }
   ],
   "source": [
    "oh.get_feature_names_out()"
   ],
   "metadata": {
    "collapsed": false,
    "ExecuteTime": {
     "end_time": "2023-12-08T16:54:25.834987Z",
     "start_time": "2023-12-08T16:54:25.753677Z"
    }
   },
   "id": "7c9017e69b1a58d5"
  },
  {
   "cell_type": "code",
   "execution_count": 338,
   "outputs": [
    {
     "data": {
      "text/plain": "numpy.ndarray"
     },
     "execution_count": 338,
     "metadata": {},
     "output_type": "execute_result"
    }
   ],
   "source": [
    "type(oneHot_encoded)"
   ],
   "metadata": {
    "collapsed": false,
    "ExecuteTime": {
     "end_time": "2023-12-08T16:54:25.835065Z",
     "start_time": "2023-12-08T16:54:25.757235Z"
    }
   },
   "id": "6bf732267b933f9b"
  },
  {
   "cell_type": "code",
   "execution_count": 339,
   "outputs": [
    {
     "data": {
      "text/plain": "26"
     },
     "execution_count": 339,
     "metadata": {},
     "output_type": "execute_result"
    }
   ],
   "source": [
    "len(oh.get_feature_names_out())"
   ],
   "metadata": {
    "collapsed": false,
    "ExecuteTime": {
     "end_time": "2023-12-08T16:54:25.835147Z",
     "start_time": "2023-12-08T16:54:25.760887Z"
    }
   },
   "id": "a990deff10133d47"
  },
  {
   "cell_type": "code",
   "execution_count": 340,
   "outputs": [],
   "source": [
    "for i, col in enumerate(oh.get_feature_names_out()):\n",
    "    new_X[col] = oneHot_encoded[:,i]"
   ],
   "metadata": {
    "collapsed": false,
    "ExecuteTime": {
     "end_time": "2023-12-08T16:54:25.835196Z",
     "start_time": "2023-12-08T16:54:25.764898Z"
    }
   },
   "id": "9c87ebe520a0af1e"
  },
  {
   "cell_type": "code",
   "execution_count": 341,
   "outputs": [
    {
     "data": {
      "text/plain": "       Packet Length  Anomaly Scores  Packet Length  Anomaly Scores  \\\n21585            584           54.12              0               0   \n19128            517            4.93              0               0   \n16127            364           76.61              0               0   \n31547            396           40.27              0               0   \n26919           1392           86.33              0               0   \n...              ...             ...            ...             ...   \n15985            184           98.90              0               0   \n25328            730           39.44              0               0   \n34054            769           91.40              0               0   \n34258            447           21.47              0               0   \n33216            555           33.40              0               0   \n\n       Protocol_ICMP  Protocol_TCP  Protocol_UDP  Packet Type_Control  \\\n21585            1.0           0.0           0.0                  1.0   \n19128            0.0           0.0           1.0                  1.0   \n16127            1.0           0.0           0.0                  0.0   \n31547            0.0           0.0           1.0                  1.0   \n26919            1.0           0.0           0.0                  0.0   \n...              ...           ...           ...                  ...   \n15985            1.0           0.0           0.0                  1.0   \n25328            0.0           0.0           1.0                  1.0   \n34054            0.0           1.0           0.0                  0.0   \n34258            0.0           1.0           0.0                  1.0   \n33216            0.0           0.0           1.0                  1.0   \n\n       Packet Type_Data  Traffic Type_DNS  ...  Action Taken_Logged  \\\n21585               0.0               1.0  ...                  1.0   \n19128               0.0               1.0  ...                  0.0   \n16127               1.0               1.0  ...                  0.0   \n31547               0.0               0.0  ...                  1.0   \n26919               1.0               1.0  ...                  1.0   \n...                 ...               ...  ...                  ...   \n15985               0.0               1.0  ...                  1.0   \n25328               0.0               0.0  ...                  0.0   \n34054               1.0               1.0  ...                  1.0   \n34258               0.0               1.0  ...                  0.0   \n33216               0.0               0.0  ...                  0.0   \n\n       Network Segment_Segment A  Network Segment_Segment B  \\\n21585                        0.0                        1.0   \n19128                        0.0                        0.0   \n16127                        0.0                        0.0   \n31547                        1.0                        0.0   \n26919                        1.0                        0.0   \n...                          ...                        ...   \n15985                        1.0                        0.0   \n25328                        0.0                        0.0   \n34054                        0.0                        0.0   \n34258                        0.0                        1.0   \n33216                        0.0                        0.0   \n\n       Network Segment_Segment C  Firewall Logs_Log Data  \\\n21585                        0.0                     0.0   \n19128                        1.0                     0.0   \n16127                        1.0                     1.0   \n31547                        0.0                     0.0   \n26919                        0.0                     1.0   \n...                          ...                     ...   \n15985                        0.0                     0.0   \n25328                        1.0                     1.0   \n34054                        1.0                     1.0   \n34258                        0.0                     0.0   \n33216                        1.0                     0.0   \n\n       Firewall Logs_Not Detected  IDS/IPS Alerts_Alert Data  \\\n21585                         1.0                        1.0   \n19128                         1.0                        0.0   \n16127                         0.0                        1.0   \n31547                         1.0                        1.0   \n26919                         0.0                        0.0   \n...                           ...                        ...   \n15985                         1.0                        0.0   \n25328                         0.0                        0.0   \n34054                         0.0                        0.0   \n34258                         1.0                        0.0   \n33216                         1.0                        0.0   \n\n       IDS/IPS Alerts_Not Detected  Log Source_Firewall  Log Source_Server  \n21585                          0.0                  0.0                1.0  \n19128                          1.0                  1.0                0.0  \n16127                          0.0                  1.0                0.0  \n31547                          0.0                  1.0                0.0  \n26919                          1.0                  1.0                0.0  \n...                            ...                  ...                ...  \n15985                          1.0                  1.0                0.0  \n25328                          1.0                  1.0                0.0  \n34054                          1.0                  1.0                0.0  \n34258                          1.0                  0.0                1.0  \n33216                          1.0                  0.0                1.0  \n\n[32000 rows x 30 columns]",
      "text/html": "<div>\n<style scoped>\n    .dataframe tbody tr th:only-of-type {\n        vertical-align: middle;\n    }\n\n    .dataframe tbody tr th {\n        vertical-align: top;\n    }\n\n    .dataframe thead th {\n        text-align: right;\n    }\n</style>\n<table border=\"1\" class=\"dataframe\">\n  <thead>\n    <tr style=\"text-align: right;\">\n      <th></th>\n      <th>Packet Length</th>\n      <th>Anomaly Scores</th>\n      <th>Packet Length</th>\n      <th>Anomaly Scores</th>\n      <th>Protocol_ICMP</th>\n      <th>Protocol_TCP</th>\n      <th>Protocol_UDP</th>\n      <th>Packet Type_Control</th>\n      <th>Packet Type_Data</th>\n      <th>Traffic Type_DNS</th>\n      <th>...</th>\n      <th>Action Taken_Logged</th>\n      <th>Network Segment_Segment A</th>\n      <th>Network Segment_Segment B</th>\n      <th>Network Segment_Segment C</th>\n      <th>Firewall Logs_Log Data</th>\n      <th>Firewall Logs_Not Detected</th>\n      <th>IDS/IPS Alerts_Alert Data</th>\n      <th>IDS/IPS Alerts_Not Detected</th>\n      <th>Log Source_Firewall</th>\n      <th>Log Source_Server</th>\n    </tr>\n  </thead>\n  <tbody>\n    <tr>\n      <th>21585</th>\n      <td>584</td>\n      <td>54.12</td>\n      <td>0</td>\n      <td>0</td>\n      <td>1.0</td>\n      <td>0.0</td>\n      <td>0.0</td>\n      <td>1.0</td>\n      <td>0.0</td>\n      <td>1.0</td>\n      <td>...</td>\n      <td>1.0</td>\n      <td>0.0</td>\n      <td>1.0</td>\n      <td>0.0</td>\n      <td>0.0</td>\n      <td>1.0</td>\n      <td>1.0</td>\n      <td>0.0</td>\n      <td>0.0</td>\n      <td>1.0</td>\n    </tr>\n    <tr>\n      <th>19128</th>\n      <td>517</td>\n      <td>4.93</td>\n      <td>0</td>\n      <td>0</td>\n      <td>0.0</td>\n      <td>0.0</td>\n      <td>1.0</td>\n      <td>1.0</td>\n      <td>0.0</td>\n      <td>1.0</td>\n      <td>...</td>\n      <td>0.0</td>\n      <td>0.0</td>\n      <td>0.0</td>\n      <td>1.0</td>\n      <td>0.0</td>\n      <td>1.0</td>\n      <td>0.0</td>\n      <td>1.0</td>\n      <td>1.0</td>\n      <td>0.0</td>\n    </tr>\n    <tr>\n      <th>16127</th>\n      <td>364</td>\n      <td>76.61</td>\n      <td>0</td>\n      <td>0</td>\n      <td>1.0</td>\n      <td>0.0</td>\n      <td>0.0</td>\n      <td>0.0</td>\n      <td>1.0</td>\n      <td>1.0</td>\n      <td>...</td>\n      <td>0.0</td>\n      <td>0.0</td>\n      <td>0.0</td>\n      <td>1.0</td>\n      <td>1.0</td>\n      <td>0.0</td>\n      <td>1.0</td>\n      <td>0.0</td>\n      <td>1.0</td>\n      <td>0.0</td>\n    </tr>\n    <tr>\n      <th>31547</th>\n      <td>396</td>\n      <td>40.27</td>\n      <td>0</td>\n      <td>0</td>\n      <td>0.0</td>\n      <td>0.0</td>\n      <td>1.0</td>\n      <td>1.0</td>\n      <td>0.0</td>\n      <td>0.0</td>\n      <td>...</td>\n      <td>1.0</td>\n      <td>1.0</td>\n      <td>0.0</td>\n      <td>0.0</td>\n      <td>0.0</td>\n      <td>1.0</td>\n      <td>1.0</td>\n      <td>0.0</td>\n      <td>1.0</td>\n      <td>0.0</td>\n    </tr>\n    <tr>\n      <th>26919</th>\n      <td>1392</td>\n      <td>86.33</td>\n      <td>0</td>\n      <td>0</td>\n      <td>1.0</td>\n      <td>0.0</td>\n      <td>0.0</td>\n      <td>0.0</td>\n      <td>1.0</td>\n      <td>1.0</td>\n      <td>...</td>\n      <td>1.0</td>\n      <td>1.0</td>\n      <td>0.0</td>\n      <td>0.0</td>\n      <td>1.0</td>\n      <td>0.0</td>\n      <td>0.0</td>\n      <td>1.0</td>\n      <td>1.0</td>\n      <td>0.0</td>\n    </tr>\n    <tr>\n      <th>...</th>\n      <td>...</td>\n      <td>...</td>\n      <td>...</td>\n      <td>...</td>\n      <td>...</td>\n      <td>...</td>\n      <td>...</td>\n      <td>...</td>\n      <td>...</td>\n      <td>...</td>\n      <td>...</td>\n      <td>...</td>\n      <td>...</td>\n      <td>...</td>\n      <td>...</td>\n      <td>...</td>\n      <td>...</td>\n      <td>...</td>\n      <td>...</td>\n      <td>...</td>\n      <td>...</td>\n    </tr>\n    <tr>\n      <th>15985</th>\n      <td>184</td>\n      <td>98.90</td>\n      <td>0</td>\n      <td>0</td>\n      <td>1.0</td>\n      <td>0.0</td>\n      <td>0.0</td>\n      <td>1.0</td>\n      <td>0.0</td>\n      <td>1.0</td>\n      <td>...</td>\n      <td>1.0</td>\n      <td>1.0</td>\n      <td>0.0</td>\n      <td>0.0</td>\n      <td>0.0</td>\n      <td>1.0</td>\n      <td>0.0</td>\n      <td>1.0</td>\n      <td>1.0</td>\n      <td>0.0</td>\n    </tr>\n    <tr>\n      <th>25328</th>\n      <td>730</td>\n      <td>39.44</td>\n      <td>0</td>\n      <td>0</td>\n      <td>0.0</td>\n      <td>0.0</td>\n      <td>1.0</td>\n      <td>1.0</td>\n      <td>0.0</td>\n      <td>0.0</td>\n      <td>...</td>\n      <td>0.0</td>\n      <td>0.0</td>\n      <td>0.0</td>\n      <td>1.0</td>\n      <td>1.0</td>\n      <td>0.0</td>\n      <td>0.0</td>\n      <td>1.0</td>\n      <td>1.0</td>\n      <td>0.0</td>\n    </tr>\n    <tr>\n      <th>34054</th>\n      <td>769</td>\n      <td>91.40</td>\n      <td>0</td>\n      <td>0</td>\n      <td>0.0</td>\n      <td>1.0</td>\n      <td>0.0</td>\n      <td>0.0</td>\n      <td>1.0</td>\n      <td>1.0</td>\n      <td>...</td>\n      <td>1.0</td>\n      <td>0.0</td>\n      <td>0.0</td>\n      <td>1.0</td>\n      <td>1.0</td>\n      <td>0.0</td>\n      <td>0.0</td>\n      <td>1.0</td>\n      <td>1.0</td>\n      <td>0.0</td>\n    </tr>\n    <tr>\n      <th>34258</th>\n      <td>447</td>\n      <td>21.47</td>\n      <td>0</td>\n      <td>0</td>\n      <td>0.0</td>\n      <td>1.0</td>\n      <td>0.0</td>\n      <td>1.0</td>\n      <td>0.0</td>\n      <td>1.0</td>\n      <td>...</td>\n      <td>0.0</td>\n      <td>0.0</td>\n      <td>1.0</td>\n      <td>0.0</td>\n      <td>0.0</td>\n      <td>1.0</td>\n      <td>0.0</td>\n      <td>1.0</td>\n      <td>0.0</td>\n      <td>1.0</td>\n    </tr>\n    <tr>\n      <th>33216</th>\n      <td>555</td>\n      <td>33.40</td>\n      <td>0</td>\n      <td>0</td>\n      <td>0.0</td>\n      <td>0.0</td>\n      <td>1.0</td>\n      <td>1.0</td>\n      <td>0.0</td>\n      <td>0.0</td>\n      <td>...</td>\n      <td>0.0</td>\n      <td>0.0</td>\n      <td>0.0</td>\n      <td>1.0</td>\n      <td>0.0</td>\n      <td>1.0</td>\n      <td>0.0</td>\n      <td>1.0</td>\n      <td>0.0</td>\n      <td>1.0</td>\n    </tr>\n  </tbody>\n</table>\n<p>32000 rows × 30 columns</p>\n</div>"
     },
     "execution_count": 341,
     "metadata": {},
     "output_type": "execute_result"
    }
   ],
   "source": [
    "new_X"
   ],
   "metadata": {
    "collapsed": false,
    "ExecuteTime": {
     "end_time": "2023-12-08T16:54:25.835974Z",
     "start_time": "2023-12-08T16:54:25.776058Z"
    }
   },
   "id": "75929cede7ad590c"
  },
  {
   "cell_type": "markdown",
   "source": [
    "### Ordinal Encoding"
   ],
   "metadata": {
    "collapsed": false
   },
   "id": "ac9e423108cc4e08"
  },
  {
   "cell_type": "code",
   "execution_count": 342,
   "outputs": [
    {
     "data": {
      "text/plain": "array(['High', 'Low', 'Medium'], dtype=object)"
     },
     "execution_count": 342,
     "metadata": {},
     "output_type": "execute_result"
    }
   ],
   "source": [
    "\n",
    "\n",
    "np.unique(X_train['Severity Level'])"
   ],
   "metadata": {
    "collapsed": false,
    "ExecuteTime": {
     "end_time": "2023-12-08T16:54:25.836781Z",
     "start_time": "2023-12-08T16:54:25.805960Z"
    }
   },
   "id": "2050ea97c7a7c392"
  },
  {
   "cell_type": "code",
   "execution_count": 343,
   "outputs": [
    {
     "data": {
      "text/plain": "21585       Low\n19128    Medium\n16127       Low\n31547       Low\n26919    Medium\n          ...  \n15985       Low\n25328      High\n34054    Medium\n34258      High\n33216       Low\nName: Severity Level, Length: 32000, dtype: object"
     },
     "execution_count": 343,
     "metadata": {},
     "output_type": "execute_result"
    }
   ],
   "source": [
    "X_train['Severity Level']"
   ],
   "metadata": {
    "collapsed": false,
    "ExecuteTime": {
     "end_time": "2023-12-08T16:54:25.836891Z",
     "start_time": "2023-12-08T16:54:25.811024Z"
    }
   },
   "id": "54e2a5a19bf0951a"
  },
  {
   "cell_type": "code",
   "execution_count": 352,
   "outputs": [],
   "source": [
    "from sklearn.preprocessing import OrdinalEncoder\n",
    "\n",
    "ord= OrdinalEncoder(categories=[['Low','Medium','High']])\n",
    "ord_encoded = ord.fit_transform(X_train[['Severity Level']])"
   ],
   "metadata": {
    "collapsed": false,
    "ExecuteTime": {
     "end_time": "2023-12-08T16:57:44.211461Z",
     "start_time": "2023-12-08T16:57:44.185716Z"
    }
   },
   "id": "a0ab876c35ba0796"
  },
  {
   "cell_type": "code",
   "execution_count": 353,
   "outputs": [
    {
     "data": {
      "text/plain": "array(['Severity Level'], dtype=object)"
     },
     "execution_count": 353,
     "metadata": {},
     "output_type": "execute_result"
    }
   ],
   "source": [
    "ord.get_feature_names_out()"
   ],
   "metadata": {
    "collapsed": false,
    "ExecuteTime": {
     "end_time": "2023-12-08T16:57:44.773328Z",
     "start_time": "2023-12-08T16:57:44.752966Z"
    }
   },
   "id": "6c236f90a6142ac7"
  },
  {
   "cell_type": "code",
   "execution_count": 354,
   "outputs": [
    {
     "data": {
      "text/plain": "numpy.ndarray"
     },
     "execution_count": 354,
     "metadata": {},
     "output_type": "execute_result"
    }
   ],
   "source": [
    "type(ord_encoded)"
   ],
   "metadata": {
    "collapsed": false,
    "ExecuteTime": {
     "end_time": "2023-12-08T16:57:45.757997Z",
     "start_time": "2023-12-08T16:57:45.723274Z"
    }
   },
   "id": "c21b28982b06aece"
  },
  {
   "cell_type": "code",
   "execution_count": 355,
   "outputs": [
    {
     "data": {
      "text/plain": "1"
     },
     "execution_count": 355,
     "metadata": {},
     "output_type": "execute_result"
    }
   ],
   "source": [
    "len(ord.get_feature_names_out())"
   ],
   "metadata": {
    "collapsed": false,
    "ExecuteTime": {
     "end_time": "2023-12-08T16:57:47.496468Z",
     "start_time": "2023-12-08T16:57:47.456451Z"
    }
   },
   "id": "e88fd45d43b39263"
  },
  {
   "cell_type": "code",
   "execution_count": 356,
   "outputs": [],
   "source": [
    "for i, col in enumerate(ord.get_feature_names_out()):\n",
    "    new_X[col] = ord_encoded[:,i]"
   ],
   "metadata": {
    "collapsed": false,
    "ExecuteTime": {
     "end_time": "2023-12-08T16:57:50.735030Z",
     "start_time": "2023-12-08T16:57:50.654066Z"
    }
   },
   "id": "13760e446da313f9"
  },
  {
   "cell_type": "code",
   "execution_count": 357,
   "outputs": [
    {
     "data": {
      "text/plain": "       Packet Length  Anomaly Scores  Packet Length  Anomaly Scores  \\\n21585            584           54.12              0               0   \n19128            517            4.93              0               0   \n16127            364           76.61              0               0   \n31547            396           40.27              0               0   \n26919           1392           86.33              0               0   \n...              ...             ...            ...             ...   \n15985            184           98.90              0               0   \n25328            730           39.44              0               0   \n34054            769           91.40              0               0   \n34258            447           21.47              0               0   \n33216            555           33.40              0               0   \n\n       Protocol_ICMP  Protocol_TCP  Protocol_UDP  Packet Type_Control  \\\n21585            1.0           0.0           0.0                  1.0   \n19128            0.0           0.0           1.0                  1.0   \n16127            1.0           0.0           0.0                  0.0   \n31547            0.0           0.0           1.0                  1.0   \n26919            1.0           0.0           0.0                  0.0   \n...              ...           ...           ...                  ...   \n15985            1.0           0.0           0.0                  1.0   \n25328            0.0           0.0           1.0                  1.0   \n34054            0.0           1.0           0.0                  0.0   \n34258            0.0           1.0           0.0                  1.0   \n33216            0.0           0.0           1.0                  1.0   \n\n       Packet Type_Data  Traffic Type_DNS  ...  Network Segment_Segment A  \\\n21585               0.0               1.0  ...                        0.0   \n19128               0.0               1.0  ...                        0.0   \n16127               1.0               1.0  ...                        0.0   \n31547               0.0               0.0  ...                        1.0   \n26919               1.0               1.0  ...                        1.0   \n...                 ...               ...  ...                        ...   \n15985               0.0               1.0  ...                        1.0   \n25328               0.0               0.0  ...                        0.0   \n34054               1.0               1.0  ...                        0.0   \n34258               0.0               1.0  ...                        0.0   \n33216               0.0               0.0  ...                        0.0   \n\n       Network Segment_Segment B  Network Segment_Segment C  \\\n21585                        1.0                        0.0   \n19128                        0.0                        1.0   \n16127                        0.0                        1.0   \n31547                        0.0                        0.0   \n26919                        0.0                        0.0   \n...                          ...                        ...   \n15985                        0.0                        0.0   \n25328                        0.0                        1.0   \n34054                        0.0                        1.0   \n34258                        1.0                        0.0   \n33216                        0.0                        1.0   \n\n       Firewall Logs_Log Data  Firewall Logs_Not Detected  \\\n21585                     0.0                         1.0   \n19128                     0.0                         1.0   \n16127                     1.0                         0.0   \n31547                     0.0                         1.0   \n26919                     1.0                         0.0   \n...                       ...                         ...   \n15985                     0.0                         1.0   \n25328                     1.0                         0.0   \n34054                     1.0                         0.0   \n34258                     0.0                         1.0   \n33216                     0.0                         1.0   \n\n       IDS/IPS Alerts_Alert Data  IDS/IPS Alerts_Not Detected  \\\n21585                        1.0                          0.0   \n19128                        0.0                          1.0   \n16127                        1.0                          0.0   \n31547                        1.0                          0.0   \n26919                        0.0                          1.0   \n...                          ...                          ...   \n15985                        0.0                          1.0   \n25328                        0.0                          1.0   \n34054                        0.0                          1.0   \n34258                        0.0                          1.0   \n33216                        0.0                          1.0   \n\n       Log Source_Firewall  Log Source_Server  Severity Level  \n21585                  0.0                1.0             0.0  \n19128                  1.0                0.0             1.0  \n16127                  1.0                0.0             0.0  \n31547                  1.0                0.0             0.0  \n26919                  1.0                0.0             1.0  \n...                    ...                ...             ...  \n15985                  1.0                0.0             0.0  \n25328                  1.0                0.0             2.0  \n34054                  1.0                0.0             1.0  \n34258                  0.0                1.0             2.0  \n33216                  0.0                1.0             0.0  \n\n[32000 rows x 31 columns]",
      "text/html": "<div>\n<style scoped>\n    .dataframe tbody tr th:only-of-type {\n        vertical-align: middle;\n    }\n\n    .dataframe tbody tr th {\n        vertical-align: top;\n    }\n\n    .dataframe thead th {\n        text-align: right;\n    }\n</style>\n<table border=\"1\" class=\"dataframe\">\n  <thead>\n    <tr style=\"text-align: right;\">\n      <th></th>\n      <th>Packet Length</th>\n      <th>Anomaly Scores</th>\n      <th>Packet Length</th>\n      <th>Anomaly Scores</th>\n      <th>Protocol_ICMP</th>\n      <th>Protocol_TCP</th>\n      <th>Protocol_UDP</th>\n      <th>Packet Type_Control</th>\n      <th>Packet Type_Data</th>\n      <th>Traffic Type_DNS</th>\n      <th>...</th>\n      <th>Network Segment_Segment A</th>\n      <th>Network Segment_Segment B</th>\n      <th>Network Segment_Segment C</th>\n      <th>Firewall Logs_Log Data</th>\n      <th>Firewall Logs_Not Detected</th>\n      <th>IDS/IPS Alerts_Alert Data</th>\n      <th>IDS/IPS Alerts_Not Detected</th>\n      <th>Log Source_Firewall</th>\n      <th>Log Source_Server</th>\n      <th>Severity Level</th>\n    </tr>\n  </thead>\n  <tbody>\n    <tr>\n      <th>21585</th>\n      <td>584</td>\n      <td>54.12</td>\n      <td>0</td>\n      <td>0</td>\n      <td>1.0</td>\n      <td>0.0</td>\n      <td>0.0</td>\n      <td>1.0</td>\n      <td>0.0</td>\n      <td>1.0</td>\n      <td>...</td>\n      <td>0.0</td>\n      <td>1.0</td>\n      <td>0.0</td>\n      <td>0.0</td>\n      <td>1.0</td>\n      <td>1.0</td>\n      <td>0.0</td>\n      <td>0.0</td>\n      <td>1.0</td>\n      <td>0.0</td>\n    </tr>\n    <tr>\n      <th>19128</th>\n      <td>517</td>\n      <td>4.93</td>\n      <td>0</td>\n      <td>0</td>\n      <td>0.0</td>\n      <td>0.0</td>\n      <td>1.0</td>\n      <td>1.0</td>\n      <td>0.0</td>\n      <td>1.0</td>\n      <td>...</td>\n      <td>0.0</td>\n      <td>0.0</td>\n      <td>1.0</td>\n      <td>0.0</td>\n      <td>1.0</td>\n      <td>0.0</td>\n      <td>1.0</td>\n      <td>1.0</td>\n      <td>0.0</td>\n      <td>1.0</td>\n    </tr>\n    <tr>\n      <th>16127</th>\n      <td>364</td>\n      <td>76.61</td>\n      <td>0</td>\n      <td>0</td>\n      <td>1.0</td>\n      <td>0.0</td>\n      <td>0.0</td>\n      <td>0.0</td>\n      <td>1.0</td>\n      <td>1.0</td>\n      <td>...</td>\n      <td>0.0</td>\n      <td>0.0</td>\n      <td>1.0</td>\n      <td>1.0</td>\n      <td>0.0</td>\n      <td>1.0</td>\n      <td>0.0</td>\n      <td>1.0</td>\n      <td>0.0</td>\n      <td>0.0</td>\n    </tr>\n    <tr>\n      <th>31547</th>\n      <td>396</td>\n      <td>40.27</td>\n      <td>0</td>\n      <td>0</td>\n      <td>0.0</td>\n      <td>0.0</td>\n      <td>1.0</td>\n      <td>1.0</td>\n      <td>0.0</td>\n      <td>0.0</td>\n      <td>...</td>\n      <td>1.0</td>\n      <td>0.0</td>\n      <td>0.0</td>\n      <td>0.0</td>\n      <td>1.0</td>\n      <td>1.0</td>\n      <td>0.0</td>\n      <td>1.0</td>\n      <td>0.0</td>\n      <td>0.0</td>\n    </tr>\n    <tr>\n      <th>26919</th>\n      <td>1392</td>\n      <td>86.33</td>\n      <td>0</td>\n      <td>0</td>\n      <td>1.0</td>\n      <td>0.0</td>\n      <td>0.0</td>\n      <td>0.0</td>\n      <td>1.0</td>\n      <td>1.0</td>\n      <td>...</td>\n      <td>1.0</td>\n      <td>0.0</td>\n      <td>0.0</td>\n      <td>1.0</td>\n      <td>0.0</td>\n      <td>0.0</td>\n      <td>1.0</td>\n      <td>1.0</td>\n      <td>0.0</td>\n      <td>1.0</td>\n    </tr>\n    <tr>\n      <th>...</th>\n      <td>...</td>\n      <td>...</td>\n      <td>...</td>\n      <td>...</td>\n      <td>...</td>\n      <td>...</td>\n      <td>...</td>\n      <td>...</td>\n      <td>...</td>\n      <td>...</td>\n      <td>...</td>\n      <td>...</td>\n      <td>...</td>\n      <td>...</td>\n      <td>...</td>\n      <td>...</td>\n      <td>...</td>\n      <td>...</td>\n      <td>...</td>\n      <td>...</td>\n      <td>...</td>\n    </tr>\n    <tr>\n      <th>15985</th>\n      <td>184</td>\n      <td>98.90</td>\n      <td>0</td>\n      <td>0</td>\n      <td>1.0</td>\n      <td>0.0</td>\n      <td>0.0</td>\n      <td>1.0</td>\n      <td>0.0</td>\n      <td>1.0</td>\n      <td>...</td>\n      <td>1.0</td>\n      <td>0.0</td>\n      <td>0.0</td>\n      <td>0.0</td>\n      <td>1.0</td>\n      <td>0.0</td>\n      <td>1.0</td>\n      <td>1.0</td>\n      <td>0.0</td>\n      <td>0.0</td>\n    </tr>\n    <tr>\n      <th>25328</th>\n      <td>730</td>\n      <td>39.44</td>\n      <td>0</td>\n      <td>0</td>\n      <td>0.0</td>\n      <td>0.0</td>\n      <td>1.0</td>\n      <td>1.0</td>\n      <td>0.0</td>\n      <td>0.0</td>\n      <td>...</td>\n      <td>0.0</td>\n      <td>0.0</td>\n      <td>1.0</td>\n      <td>1.0</td>\n      <td>0.0</td>\n      <td>0.0</td>\n      <td>1.0</td>\n      <td>1.0</td>\n      <td>0.0</td>\n      <td>2.0</td>\n    </tr>\n    <tr>\n      <th>34054</th>\n      <td>769</td>\n      <td>91.40</td>\n      <td>0</td>\n      <td>0</td>\n      <td>0.0</td>\n      <td>1.0</td>\n      <td>0.0</td>\n      <td>0.0</td>\n      <td>1.0</td>\n      <td>1.0</td>\n      <td>...</td>\n      <td>0.0</td>\n      <td>0.0</td>\n      <td>1.0</td>\n      <td>1.0</td>\n      <td>0.0</td>\n      <td>0.0</td>\n      <td>1.0</td>\n      <td>1.0</td>\n      <td>0.0</td>\n      <td>1.0</td>\n    </tr>\n    <tr>\n      <th>34258</th>\n      <td>447</td>\n      <td>21.47</td>\n      <td>0</td>\n      <td>0</td>\n      <td>0.0</td>\n      <td>1.0</td>\n      <td>0.0</td>\n      <td>1.0</td>\n      <td>0.0</td>\n      <td>1.0</td>\n      <td>...</td>\n      <td>0.0</td>\n      <td>1.0</td>\n      <td>0.0</td>\n      <td>0.0</td>\n      <td>1.0</td>\n      <td>0.0</td>\n      <td>1.0</td>\n      <td>0.0</td>\n      <td>1.0</td>\n      <td>2.0</td>\n    </tr>\n    <tr>\n      <th>33216</th>\n      <td>555</td>\n      <td>33.40</td>\n      <td>0</td>\n      <td>0</td>\n      <td>0.0</td>\n      <td>0.0</td>\n      <td>1.0</td>\n      <td>1.0</td>\n      <td>0.0</td>\n      <td>0.0</td>\n      <td>...</td>\n      <td>0.0</td>\n      <td>0.0</td>\n      <td>1.0</td>\n      <td>0.0</td>\n      <td>1.0</td>\n      <td>0.0</td>\n      <td>1.0</td>\n      <td>0.0</td>\n      <td>1.0</td>\n      <td>0.0</td>\n    </tr>\n  </tbody>\n</table>\n<p>32000 rows × 31 columns</p>\n</div>"
     },
     "execution_count": 357,
     "metadata": {},
     "output_type": "execute_result"
    }
   ],
   "source": [
    "new_X"
   ],
   "metadata": {
    "collapsed": false,
    "ExecuteTime": {
     "end_time": "2023-12-08T16:57:55.380593Z",
     "start_time": "2023-12-08T16:57:55.309175Z"
    }
   },
   "id": "355213857afaea57"
  }
 ],
 "metadata": {
  "kernelspec": {
   "display_name": "Python 3",
   "language": "python",
   "name": "python3"
  },
  "language_info": {
   "codemirror_mode": {
    "name": "ipython",
    "version": 2
   },
   "file_extension": ".py",
   "mimetype": "text/x-python",
   "name": "python",
   "nbconvert_exporter": "python",
   "pygments_lexer": "ipython2",
   "version": "2.7.6"
  }
 },
 "nbformat": 4,
 "nbformat_minor": 5
}
