{
 "cells": [
  {
   "cell_type": "markdown",
   "source": [
    "# About Dataset\n",
    "Welcome to Incribo's synthetic cyber dataset! Crafted with precision, this dataset offers a realistic representation of travel history, making it an ideal playground for various analytical tasks.\n",
    "\n",
    "Use the cybersecurity attacks dataset to help you assess the heatmaps, attack signatures, types, and more!\n",
    "\n",
    "Remember, this is just a sample! If you're intrigued and want access to the complete dataset or have specific requirements, don't hesitate to contact us(info@incribo.com)."
   ],
   "metadata": {
    "collapsed": false
   },
   "id": "5919622a16583ad4"
  },
  {
   "cell_type": "code",
   "execution_count": 3,
   "id": "initial_id",
   "metadata": {
    "collapsed": true,
    "ExecuteTime": {
     "end_time": "2023-11-22T17:55:34.386009Z",
     "start_time": "2023-11-22T17:55:33.803313Z"
    }
   },
   "outputs": [
    {
     "data": {
      "text/plain": "                 Timestamp Source IP Address Destination IP Address  \\\n0      2023-05-30 06:33:58     103.216.15.12           84.9.164.252   \n1      2020-08-26 07:08:30    78.199.217.198         66.191.137.154   \n2      2022-11-13 08:23:25      63.79.210.48          198.219.82.17   \n3      2023-07-02 10:38:46     163.42.196.10        101.228.192.255   \n4      2023-07-16 13:11:07     71.166.185.76        189.243.174.238   \n...                    ...               ...                    ...   \n39995  2023-05-26 14:08:42      26.36.109.26         121.100.75.240   \n39996  2023-03-27 00:38:27      17.21.163.81         196.108.134.78   \n39997  2022-03-31 01:45:49     162.35.217.57            98.107.0.15   \n39998  2023-09-22 18:32:38    208.72.233.205         173.79.112.252   \n39999  2023-10-10 11:59:52     14.102.21.108           109.198.45.7   \n\n       Source Port  Destination Port Protocol  Packet Length Packet Type  \\\n0            31225             17616     ICMP            503        Data   \n1            17245             48166     ICMP           1174        Data   \n2            16811             53600      UDP            306     Control   \n3            20018             32534      UDP            385        Data   \n4             6131             26646      TCP           1462        Data   \n...            ...               ...      ...            ...         ...   \n39995        31005              6764      UDP           1428     Control   \n39996         2553             28091      UDP           1184     Control   \n39997        22505             25152      UDP           1043        Data   \n39998        20013              2703      UDP            483        Data   \n39999        50137             55575     ICMP           1175     Control   \n\n      Traffic Type                                       Payload Data  ...  \\\n0             HTTP  Qui natus odio asperiores nam. Optio nobis ius...  ...   \n1             HTTP  Aperiam quos modi officiis veritatis rem. Omni...  ...   \n2             HTTP  Perferendis sapiente vitae soluta. Hic delectu...  ...   \n3             HTTP  Totam maxime beatae expedita explicabo porro l...  ...   \n4              DNS  Odit nesciunt dolorem nisi iste iusto. Animi v...  ...   \n...            ...                                                ...  ...   \n39995         HTTP  Quibusdam ullam consequatur consequuntur accus...  ...   \n39996         HTTP  Quaerat neque esse. Animi expedita natus commo...  ...   \n39997          DNS  Enim at aspernatur illum. Saepe numquam eligen...  ...   \n39998          FTP  Officiis dolorem sed harum provident earum dis...  ...   \n39999         HTTP  Eligendi omnis voluptate nihil voluptatibus do...  ...   \n\n      Action Taken  Severity Level User Information  \\\n0           Logged             Low    Reyansh Dugal   \n1          Blocked             Low       Sumer Rana   \n2          Ignored             Low     Himmat Karpe   \n3          Blocked          Medium       Fateh Kibe   \n4          Blocked             Low     Dhanush Chad   \n...            ...             ...              ...   \n39995       Logged          Medium      Adira Madan   \n39996       Logged            High        Rati Dara   \n39997      Blocked             Low     Samiha Joshi   \n39998      Ignored             Low    Rasha Chauhan   \n39999       Logged          Medium      Zaina Kumar   \n\n                                      Device Information Network Segment  \\\n0      Mozilla/5.0 (compatible; MSIE 8.0; Windows NT ...       Segment A   \n1      Mozilla/5.0 (compatible; MSIE 8.0; Windows NT ...       Segment B   \n2      Mozilla/5.0 (compatible; MSIE 9.0; Windows NT ...       Segment C   \n3      Mozilla/5.0 (Macintosh; PPC Mac OS X 10_11_5; ...       Segment B   \n4      Mozilla/5.0 (compatible; MSIE 5.0; Windows NT ...       Segment C   \n...                                                  ...             ...   \n39995  Mozilla/5.0 (iPad; CPU iPad OS 14_2_1 like Mac...       Segment A   \n39996  Mozilla/5.0 (Windows; U; Windows 98; Win 9x 4....       Segment C   \n39997  Mozilla/5.0 (Windows; U; Windows NT 4.0) Apple...       Segment C   \n39998  Mozilla/5.0 (X11; Linux i686) AppleWebKit/536....       Segment B   \n39999  Mozilla/5.0 (iPod; U; CPU iPhone OS 3_0 like M...       Segment A   \n\n                   Geo-location Data Proxy Information Firewall Logs  \\\n0                 Jamshedpur, Sikkim      150.9.97.135      Log Data   \n1                 Bilaspur, Nagaland               NaN      Log Data   \n2                  Bokaro, Rajasthan    114.133.48.179      Log Data   \n3                 Jaunpur, Rajasthan               NaN           NaN   \n4                 Anantapur, Tripura     149.6.110.119           NaN   \n...                              ...               ...           ...   \n39995                Nashik, Manipur               NaN      Log Data   \n39996              Vadodara, Mizoram       60.51.30.46      Log Data   \n39997  Mahbubnagar, Himachal Pradesh               NaN      Log Data   \n39998    Rourkela, Arunachal Pradesh      137.76.130.8      Log Data   \n39999       Pudukkottai, West Bengal   112.169.115.139      Log Data   \n\n      IDS/IPS Alerts Log Source  \n0                NaN     Server  \n1                NaN   Firewall  \n2         Alert Data   Firewall  \n3         Alert Data   Firewall  \n4         Alert Data   Firewall  \n...              ...        ...  \n39995     Alert Data   Firewall  \n39996            NaN   Firewall  \n39997     Alert Data     Server  \n39998            NaN     Server  \n39999     Alert Data   Firewall  \n\n[40000 rows x 25 columns]",
      "text/html": "<div>\n<style scoped>\n    .dataframe tbody tr th:only-of-type {\n        vertical-align: middle;\n    }\n\n    .dataframe tbody tr th {\n        vertical-align: top;\n    }\n\n    .dataframe thead th {\n        text-align: right;\n    }\n</style>\n<table border=\"1\" class=\"dataframe\">\n  <thead>\n    <tr style=\"text-align: right;\">\n      <th></th>\n      <th>Timestamp</th>\n      <th>Source IP Address</th>\n      <th>Destination IP Address</th>\n      <th>Source Port</th>\n      <th>Destination Port</th>\n      <th>Protocol</th>\n      <th>Packet Length</th>\n      <th>Packet Type</th>\n      <th>Traffic Type</th>\n      <th>Payload Data</th>\n      <th>...</th>\n      <th>Action Taken</th>\n      <th>Severity Level</th>\n      <th>User Information</th>\n      <th>Device Information</th>\n      <th>Network Segment</th>\n      <th>Geo-location Data</th>\n      <th>Proxy Information</th>\n      <th>Firewall Logs</th>\n      <th>IDS/IPS Alerts</th>\n      <th>Log Source</th>\n    </tr>\n  </thead>\n  <tbody>\n    <tr>\n      <th>0</th>\n      <td>2023-05-30 06:33:58</td>\n      <td>103.216.15.12</td>\n      <td>84.9.164.252</td>\n      <td>31225</td>\n      <td>17616</td>\n      <td>ICMP</td>\n      <td>503</td>\n      <td>Data</td>\n      <td>HTTP</td>\n      <td>Qui natus odio asperiores nam. Optio nobis ius...</td>\n      <td>...</td>\n      <td>Logged</td>\n      <td>Low</td>\n      <td>Reyansh Dugal</td>\n      <td>Mozilla/5.0 (compatible; MSIE 8.0; Windows NT ...</td>\n      <td>Segment A</td>\n      <td>Jamshedpur, Sikkim</td>\n      <td>150.9.97.135</td>\n      <td>Log Data</td>\n      <td>NaN</td>\n      <td>Server</td>\n    </tr>\n    <tr>\n      <th>1</th>\n      <td>2020-08-26 07:08:30</td>\n      <td>78.199.217.198</td>\n      <td>66.191.137.154</td>\n      <td>17245</td>\n      <td>48166</td>\n      <td>ICMP</td>\n      <td>1174</td>\n      <td>Data</td>\n      <td>HTTP</td>\n      <td>Aperiam quos modi officiis veritatis rem. Omni...</td>\n      <td>...</td>\n      <td>Blocked</td>\n      <td>Low</td>\n      <td>Sumer Rana</td>\n      <td>Mozilla/5.0 (compatible; MSIE 8.0; Windows NT ...</td>\n      <td>Segment B</td>\n      <td>Bilaspur, Nagaland</td>\n      <td>NaN</td>\n      <td>Log Data</td>\n      <td>NaN</td>\n      <td>Firewall</td>\n    </tr>\n    <tr>\n      <th>2</th>\n      <td>2022-11-13 08:23:25</td>\n      <td>63.79.210.48</td>\n      <td>198.219.82.17</td>\n      <td>16811</td>\n      <td>53600</td>\n      <td>UDP</td>\n      <td>306</td>\n      <td>Control</td>\n      <td>HTTP</td>\n      <td>Perferendis sapiente vitae soluta. Hic delectu...</td>\n      <td>...</td>\n      <td>Ignored</td>\n      <td>Low</td>\n      <td>Himmat Karpe</td>\n      <td>Mozilla/5.0 (compatible; MSIE 9.0; Windows NT ...</td>\n      <td>Segment C</td>\n      <td>Bokaro, Rajasthan</td>\n      <td>114.133.48.179</td>\n      <td>Log Data</td>\n      <td>Alert Data</td>\n      <td>Firewall</td>\n    </tr>\n    <tr>\n      <th>3</th>\n      <td>2023-07-02 10:38:46</td>\n      <td>163.42.196.10</td>\n      <td>101.228.192.255</td>\n      <td>20018</td>\n      <td>32534</td>\n      <td>UDP</td>\n      <td>385</td>\n      <td>Data</td>\n      <td>HTTP</td>\n      <td>Totam maxime beatae expedita explicabo porro l...</td>\n      <td>...</td>\n      <td>Blocked</td>\n      <td>Medium</td>\n      <td>Fateh Kibe</td>\n      <td>Mozilla/5.0 (Macintosh; PPC Mac OS X 10_11_5; ...</td>\n      <td>Segment B</td>\n      <td>Jaunpur, Rajasthan</td>\n      <td>NaN</td>\n      <td>NaN</td>\n      <td>Alert Data</td>\n      <td>Firewall</td>\n    </tr>\n    <tr>\n      <th>4</th>\n      <td>2023-07-16 13:11:07</td>\n      <td>71.166.185.76</td>\n      <td>189.243.174.238</td>\n      <td>6131</td>\n      <td>26646</td>\n      <td>TCP</td>\n      <td>1462</td>\n      <td>Data</td>\n      <td>DNS</td>\n      <td>Odit nesciunt dolorem nisi iste iusto. Animi v...</td>\n      <td>...</td>\n      <td>Blocked</td>\n      <td>Low</td>\n      <td>Dhanush Chad</td>\n      <td>Mozilla/5.0 (compatible; MSIE 5.0; Windows NT ...</td>\n      <td>Segment C</td>\n      <td>Anantapur, Tripura</td>\n      <td>149.6.110.119</td>\n      <td>NaN</td>\n      <td>Alert Data</td>\n      <td>Firewall</td>\n    </tr>\n    <tr>\n      <th>...</th>\n      <td>...</td>\n      <td>...</td>\n      <td>...</td>\n      <td>...</td>\n      <td>...</td>\n      <td>...</td>\n      <td>...</td>\n      <td>...</td>\n      <td>...</td>\n      <td>...</td>\n      <td>...</td>\n      <td>...</td>\n      <td>...</td>\n      <td>...</td>\n      <td>...</td>\n      <td>...</td>\n      <td>...</td>\n      <td>...</td>\n      <td>...</td>\n      <td>...</td>\n      <td>...</td>\n    </tr>\n    <tr>\n      <th>39995</th>\n      <td>2023-05-26 14:08:42</td>\n      <td>26.36.109.26</td>\n      <td>121.100.75.240</td>\n      <td>31005</td>\n      <td>6764</td>\n      <td>UDP</td>\n      <td>1428</td>\n      <td>Control</td>\n      <td>HTTP</td>\n      <td>Quibusdam ullam consequatur consequuntur accus...</td>\n      <td>...</td>\n      <td>Logged</td>\n      <td>Medium</td>\n      <td>Adira Madan</td>\n      <td>Mozilla/5.0 (iPad; CPU iPad OS 14_2_1 like Mac...</td>\n      <td>Segment A</td>\n      <td>Nashik, Manipur</td>\n      <td>NaN</td>\n      <td>Log Data</td>\n      <td>Alert Data</td>\n      <td>Firewall</td>\n    </tr>\n    <tr>\n      <th>39996</th>\n      <td>2023-03-27 00:38:27</td>\n      <td>17.21.163.81</td>\n      <td>196.108.134.78</td>\n      <td>2553</td>\n      <td>28091</td>\n      <td>UDP</td>\n      <td>1184</td>\n      <td>Control</td>\n      <td>HTTP</td>\n      <td>Quaerat neque esse. Animi expedita natus commo...</td>\n      <td>...</td>\n      <td>Logged</td>\n      <td>High</td>\n      <td>Rati Dara</td>\n      <td>Mozilla/5.0 (Windows; U; Windows 98; Win 9x 4....</td>\n      <td>Segment C</td>\n      <td>Vadodara, Mizoram</td>\n      <td>60.51.30.46</td>\n      <td>Log Data</td>\n      <td>NaN</td>\n      <td>Firewall</td>\n    </tr>\n    <tr>\n      <th>39997</th>\n      <td>2022-03-31 01:45:49</td>\n      <td>162.35.217.57</td>\n      <td>98.107.0.15</td>\n      <td>22505</td>\n      <td>25152</td>\n      <td>UDP</td>\n      <td>1043</td>\n      <td>Data</td>\n      <td>DNS</td>\n      <td>Enim at aspernatur illum. Saepe numquam eligen...</td>\n      <td>...</td>\n      <td>Blocked</td>\n      <td>Low</td>\n      <td>Samiha Joshi</td>\n      <td>Mozilla/5.0 (Windows; U; Windows NT 4.0) Apple...</td>\n      <td>Segment C</td>\n      <td>Mahbubnagar, Himachal Pradesh</td>\n      <td>NaN</td>\n      <td>Log Data</td>\n      <td>Alert Data</td>\n      <td>Server</td>\n    </tr>\n    <tr>\n      <th>39998</th>\n      <td>2023-09-22 18:32:38</td>\n      <td>208.72.233.205</td>\n      <td>173.79.112.252</td>\n      <td>20013</td>\n      <td>2703</td>\n      <td>UDP</td>\n      <td>483</td>\n      <td>Data</td>\n      <td>FTP</td>\n      <td>Officiis dolorem sed harum provident earum dis...</td>\n      <td>...</td>\n      <td>Ignored</td>\n      <td>Low</td>\n      <td>Rasha Chauhan</td>\n      <td>Mozilla/5.0 (X11; Linux i686) AppleWebKit/536....</td>\n      <td>Segment B</td>\n      <td>Rourkela, Arunachal Pradesh</td>\n      <td>137.76.130.8</td>\n      <td>Log Data</td>\n      <td>NaN</td>\n      <td>Server</td>\n    </tr>\n    <tr>\n      <th>39999</th>\n      <td>2023-10-10 11:59:52</td>\n      <td>14.102.21.108</td>\n      <td>109.198.45.7</td>\n      <td>50137</td>\n      <td>55575</td>\n      <td>ICMP</td>\n      <td>1175</td>\n      <td>Control</td>\n      <td>HTTP</td>\n      <td>Eligendi omnis voluptate nihil voluptatibus do...</td>\n      <td>...</td>\n      <td>Logged</td>\n      <td>Medium</td>\n      <td>Zaina Kumar</td>\n      <td>Mozilla/5.0 (iPod; U; CPU iPhone OS 3_0 like M...</td>\n      <td>Segment A</td>\n      <td>Pudukkottai, West Bengal</td>\n      <td>112.169.115.139</td>\n      <td>Log Data</td>\n      <td>Alert Data</td>\n      <td>Firewall</td>\n    </tr>\n  </tbody>\n</table>\n<p>40000 rows × 25 columns</p>\n</div>"
     },
     "execution_count": 3,
     "metadata": {},
     "output_type": "execute_result"
    }
   ],
   "source": [
    "import numpy as np \n",
    "import pandas as pd \n",
    "\n",
    "data = pd.read_csv(\"cybersecurity_attacks.csv\")\n",
    "data"
   ]
  },
  {
   "cell_type": "code",
   "execution_count": 4,
   "outputs": [
    {
     "name": "stdout",
     "output_type": "stream",
     "text": [
      "<class 'pandas.core.frame.DataFrame'>\n",
      "RangeIndex: 40000 entries, 0 to 39999\n",
      "Data columns (total 25 columns):\n",
      " #   Column                  Non-Null Count  Dtype  \n",
      "---  ------                  --------------  -----  \n",
      " 0   Timestamp               40000 non-null  object \n",
      " 1   Source IP Address       40000 non-null  object \n",
      " 2   Destination IP Address  40000 non-null  object \n",
      " 3   Source Port             40000 non-null  int64  \n",
      " 4   Destination Port        40000 non-null  int64  \n",
      " 5   Protocol                40000 non-null  object \n",
      " 6   Packet Length           40000 non-null  int64  \n",
      " 7   Packet Type             40000 non-null  object \n",
      " 8   Traffic Type            40000 non-null  object \n",
      " 9   Payload Data            40000 non-null  object \n",
      " 10  Malware Indicators      20000 non-null  object \n",
      " 11  Anomaly Scores          40000 non-null  float64\n",
      " 12  Alerts/Warnings         19933 non-null  object \n",
      " 13  Attack Type             40000 non-null  object \n",
      " 14  Attack Signature        40000 non-null  object \n",
      " 15  Action Taken            40000 non-null  object \n",
      " 16  Severity Level          40000 non-null  object \n",
      " 17  User Information        40000 non-null  object \n",
      " 18  Device Information      40000 non-null  object \n",
      " 19  Network Segment         40000 non-null  object \n",
      " 20  Geo-location Data       40000 non-null  object \n",
      " 21  Proxy Information       20149 non-null  object \n",
      " 22  Firewall Logs           20039 non-null  object \n",
      " 23  IDS/IPS Alerts          19950 non-null  object \n",
      " 24  Log Source              40000 non-null  object \n",
      "dtypes: float64(1), int64(3), object(21)\n",
      "memory usage: 7.6+ MB\n"
     ]
    }
   ],
   "source": [
    "data.info()"
   ],
   "metadata": {
    "collapsed": false,
    "ExecuteTime": {
     "end_time": "2023-11-22T17:55:34.386771Z",
     "start_time": "2023-11-22T17:55:34.128611Z"
    }
   },
   "id": "712c30fbe00b3841"
  },
  {
   "cell_type": "code",
   "execution_count": 5,
   "outputs": [
    {
     "data": {
      "text/plain": "                    count          mean           std     min       25%  \\\nSource Port       40000.0  32970.356450  18560.425604  1027.0  16850.75   \nDestination Port  40000.0  33150.868650  18574.668842  1024.0  17094.75   \nPacket Length     40000.0    781.452725    416.044192    64.0    420.00   \nAnomaly Scores    40000.0     50.113473     28.853598     0.0     25.15   \n\n                        50%       75%      max  \nSource Port       32856.000  48928.25  65530.0  \nDestination Port  33004.500  49287.00  65535.0  \nPacket Length       782.000   1143.00   1500.0  \nAnomaly Scores       50.345     75.03    100.0  ",
      "text/html": "<div>\n<style scoped>\n    .dataframe tbody tr th:only-of-type {\n        vertical-align: middle;\n    }\n\n    .dataframe tbody tr th {\n        vertical-align: top;\n    }\n\n    .dataframe thead th {\n        text-align: right;\n    }\n</style>\n<table border=\"1\" class=\"dataframe\">\n  <thead>\n    <tr style=\"text-align: right;\">\n      <th></th>\n      <th>count</th>\n      <th>mean</th>\n      <th>std</th>\n      <th>min</th>\n      <th>25%</th>\n      <th>50%</th>\n      <th>75%</th>\n      <th>max</th>\n    </tr>\n  </thead>\n  <tbody>\n    <tr>\n      <th>Source Port</th>\n      <td>40000.0</td>\n      <td>32970.356450</td>\n      <td>18560.425604</td>\n      <td>1027.0</td>\n      <td>16850.75</td>\n      <td>32856.000</td>\n      <td>48928.25</td>\n      <td>65530.0</td>\n    </tr>\n    <tr>\n      <th>Destination Port</th>\n      <td>40000.0</td>\n      <td>33150.868650</td>\n      <td>18574.668842</td>\n      <td>1024.0</td>\n      <td>17094.75</td>\n      <td>33004.500</td>\n      <td>49287.00</td>\n      <td>65535.0</td>\n    </tr>\n    <tr>\n      <th>Packet Length</th>\n      <td>40000.0</td>\n      <td>781.452725</td>\n      <td>416.044192</td>\n      <td>64.0</td>\n      <td>420.00</td>\n      <td>782.000</td>\n      <td>1143.00</td>\n      <td>1500.0</td>\n    </tr>\n    <tr>\n      <th>Anomaly Scores</th>\n      <td>40000.0</td>\n      <td>50.113473</td>\n      <td>28.853598</td>\n      <td>0.0</td>\n      <td>25.15</td>\n      <td>50.345</td>\n      <td>75.03</td>\n      <td>100.0</td>\n    </tr>\n  </tbody>\n</table>\n</div>"
     },
     "execution_count": 5,
     "metadata": {},
     "output_type": "execute_result"
    }
   ],
   "source": [
    "data.describe().T"
   ],
   "metadata": {
    "collapsed": false,
    "ExecuteTime": {
     "end_time": "2023-11-22T17:55:34.387175Z",
     "start_time": "2023-11-22T17:55:34.139614Z"
    }
   },
   "id": "35e75d91ad7c3f8f"
  },
  {
   "cell_type": "code",
   "execution_count": 6,
   "outputs": [
    {
     "name": "stdout",
     "output_type": "stream",
     "text": [
      "0 ['2020-01-01 00:43:27' '2020-01-01 01:14:07' '2020-01-01 03:02:42' ...\n",
      " '2023-10-11 17:44:41' '2023-10-11 18:50:41' '2023-10-11 19:34:23']\n",
      "1 ['1.1.45.194' '1.1.51.229' '1.10.201.206' ... '99.99.110.210'\n",
      " '99.99.228.192' '99.99.250.252']\n",
      "2 ['1.1.189.171' '1.100.166.191' '1.100.73.63' ... '99.93.133.112'\n",
      " '99.95.228.9' '99.98.160.72']\n",
      "3 [ 1027  1028  1030 ... 65525 65527 65530]\n",
      "4 [ 1024  1025  1028 ... 65532 65534 65535]\n",
      "5 ['ICMP' 'TCP' 'UDP']\n",
      "6 [  64   65   66 ... 1498 1499 1500]\n",
      "7 ['Control' 'Data']\n",
      "8 ['DNS' 'FTP' 'HTTP']\n",
      "9 ['A ab tempora a. Culpa et fuga maxime. Quia ad blanditiis aliquam.\\nFugit quia perferendis totam autem eum. Praesentium mollitia repellendus possimus. Amet nisi sint tempora omnis ut.'\n",
      " 'A accusamus provident adipisci possimus. Nihil ipsum tempora rem doloribus itaque sed. Aperiam incidunt officia.\\nSapiente alias repellendus laudantium esse nostrum mollitia.'\n",
      " 'A accusamus ratione. Tempore nostrum vel itaque saepe.' ...\n",
      " 'Voluptatum voluptatibus at dolorem ipsam reiciendis. Consequatur possimus labore explicabo aliquam quos.'\n",
      " 'Voluptatum voluptatibus iste assumenda. Minima commodi doloribus porro.'\n",
      " 'Voluptatum voluptatibus vel tempora harum non incidunt. Maxime ipsam adipisci nulla similique libero.\\nDeleniti non dicta iure. Minima fugit necessitatibus enim reiciendis quae.']\n"
     ]
    },
    {
     "ename": "TypeError",
     "evalue": "'<' not supported between instances of 'float' and 'str'",
     "output_type": "error",
     "traceback": [
      "\u001B[0;31m---------------------------------------------------------------------------\u001B[0m",
      "\u001B[0;31mTypeError\u001B[0m                                 Traceback (most recent call last)",
      "Cell \u001B[0;32mIn[6], line 4\u001B[0m\n\u001B[1;32m      1\u001B[0m num_inst, num_features \u001B[38;5;241m=\u001B[39m data\u001B[38;5;241m.\u001B[39mshape\n\u001B[1;32m      3\u001B[0m \u001B[38;5;28;01mfor\u001B[39;00m f \u001B[38;5;129;01min\u001B[39;00m \u001B[38;5;28mrange\u001B[39m(num_features):\n\u001B[0;32m----> 4\u001B[0m     \u001B[38;5;28mprint\u001B[39m (f, \u001B[43mnp\u001B[49m\u001B[38;5;241;43m.\u001B[39;49m\u001B[43munique\u001B[49m\u001B[43m(\u001B[49m\u001B[43mdata\u001B[49m\u001B[38;5;241;43m.\u001B[39;49m\u001B[43miloc\u001B[49m\u001B[43m[\u001B[49m\u001B[43m:\u001B[49m\u001B[43m,\u001B[49m\u001B[43mf\u001B[49m\u001B[43m]\u001B[49m\u001B[43m)\u001B[49m)\n",
      "File \u001B[0;32m~/Library/Python/3.9/lib/python/site-packages/numpy/lib/arraysetops.py:274\u001B[0m, in \u001B[0;36munique\u001B[0;34m(ar, return_index, return_inverse, return_counts, axis, equal_nan)\u001B[0m\n\u001B[1;32m    272\u001B[0m ar \u001B[38;5;241m=\u001B[39m np\u001B[38;5;241m.\u001B[39masanyarray(ar)\n\u001B[1;32m    273\u001B[0m \u001B[38;5;28;01mif\u001B[39;00m axis \u001B[38;5;129;01mis\u001B[39;00m \u001B[38;5;28;01mNone\u001B[39;00m:\n\u001B[0;32m--> 274\u001B[0m     ret \u001B[38;5;241m=\u001B[39m \u001B[43m_unique1d\u001B[49m\u001B[43m(\u001B[49m\u001B[43mar\u001B[49m\u001B[43m,\u001B[49m\u001B[43m \u001B[49m\u001B[43mreturn_index\u001B[49m\u001B[43m,\u001B[49m\u001B[43m \u001B[49m\u001B[43mreturn_inverse\u001B[49m\u001B[43m,\u001B[49m\u001B[43m \u001B[49m\u001B[43mreturn_counts\u001B[49m\u001B[43m,\u001B[49m\u001B[43m \u001B[49m\n\u001B[1;32m    275\u001B[0m \u001B[43m                    \u001B[49m\u001B[43mequal_nan\u001B[49m\u001B[38;5;241;43m=\u001B[39;49m\u001B[43mequal_nan\u001B[49m\u001B[43m)\u001B[49m\n\u001B[1;32m    276\u001B[0m     \u001B[38;5;28;01mreturn\u001B[39;00m _unpack_tuple(ret)\n\u001B[1;32m    278\u001B[0m \u001B[38;5;66;03m# axis was specified and not None\u001B[39;00m\n",
      "File \u001B[0;32m~/Library/Python/3.9/lib/python/site-packages/numpy/lib/arraysetops.py:336\u001B[0m, in \u001B[0;36m_unique1d\u001B[0;34m(ar, return_index, return_inverse, return_counts, equal_nan)\u001B[0m\n\u001B[1;32m    334\u001B[0m     aux \u001B[38;5;241m=\u001B[39m ar[perm]\n\u001B[1;32m    335\u001B[0m \u001B[38;5;28;01melse\u001B[39;00m:\n\u001B[0;32m--> 336\u001B[0m     \u001B[43mar\u001B[49m\u001B[38;5;241;43m.\u001B[39;49m\u001B[43msort\u001B[49m\u001B[43m(\u001B[49m\u001B[43m)\u001B[49m\n\u001B[1;32m    337\u001B[0m     aux \u001B[38;5;241m=\u001B[39m ar\n\u001B[1;32m    338\u001B[0m mask \u001B[38;5;241m=\u001B[39m np\u001B[38;5;241m.\u001B[39mempty(aux\u001B[38;5;241m.\u001B[39mshape, dtype\u001B[38;5;241m=\u001B[39mnp\u001B[38;5;241m.\u001B[39mbool_)\n",
      "\u001B[0;31mTypeError\u001B[0m: '<' not supported between instances of 'float' and 'str'"
     ]
    }
   ],
   "source": [
    "num_inst, num_features = data.shape\n",
    "\n",
    "for f in range(num_features):\n",
    "    print (f, np.unique(data.iloc[:,f]))"
   ],
   "metadata": {
    "collapsed": false,
    "ExecuteTime": {
     "end_time": "2023-11-22T17:55:34.387618Z",
     "start_time": "2023-11-22T17:55:34.171363Z"
    }
   },
   "id": "91b0bf900216a86c"
  },
  {
   "cell_type": "markdown",
   "source": [
    "# List of Features with Explanations \n",
    "\n",
    "1. **Timestamp:**\n",
    "   - A record of the date and time when a particular event occurred.\n",
    "\n",
    "2. **Source IP Address:**\n",
    "   - The numerical label assigned to each device participating in a network that initiates communication.\n",
    "\n",
    "3. **Destination IP Address:**\n",
    "   - The numerical label assigned to the device to which data packets are being sent.\n",
    "\n",
    "4. **Source Port:**\n",
    "   - A 16-bit number identifying a specific process initiating communication.\n",
    "\n",
    "5. **Destination Port:**\n",
    "   - A 16-bit number identifying a specific process to which data packets are sent.\n",
    "\n",
    "6. **Protocol:**\n",
    "   - A set of rules determining how data is transmitted over a network.\n",
    "\n",
    "7. **Packet Length:**\n",
    "   - The size or length of a data packet, including header and payload.\n",
    "\n",
    "8. **Packet Type:**\n",
    "   - Specifies the nature or category of a network packet.\n",
    "\n",
    "9. **Traffic Type:**\n",
    "   - Categorizes network traffic based on characteristics.\n",
    "\n",
    "10. **Payload Data:**\n",
    "    - The actual data transmitted in a packet, excluding headers.\n",
    "\n",
    "11. **Malware Indicators:**\n",
    "    - Signs or patterns in network traffic suggesting the presence of malicious software.\n",
    "\n",
    "12. **Anomaly Scores:**\n",
    "    - Scores representing the degree of deviation from normal or expected patterns.\n",
    "\n",
    "13. **Alerts/Warnings:**\n",
    "    - Notifications generated by security systems to inform about potential security issues.\n",
    "\n",
    "14. **Attack Type:**\n",
    "    - Categorizes the method or strategy employed by malicious actors to compromise a system or network.\n",
    "\n",
    "15. **Attack Signature:**\n",
    "    - A unique pattern or characteristic associated with a specific type of cyber attack.\n",
    "\n",
    "16. **Action Taken:**\n",
    "    - The response or measures implemented in response to a security event or threat.\n",
    "\n",
    "17. **Severity Level:**\n",
    "    - Indicates the degree of impact or threat posed by a security event.\n",
    "\n",
    "18. **User Information:**\n",
    "    - Details about individuals accessing the network, such as usernames, roles, and permissions.\n",
    "\n",
    "19. **Device Information:**\n",
    "    - Details about the hardware and software components of devices connected to the network.\n",
    "\n",
    "20. **Network Segment:**\n",
    "    - A portion of a computer network separated for security or performance reasons.\n",
    "\n",
    "21. **Geo-location Data:**\n",
    "    - Information about the physical location of devices or users on a network.\n",
    "\n",
    "22. **Proxy Information:**\n",
    "    - Details about the use of proxy servers in network communication.\n",
    "\n",
    "23. **Firewall Logs:**\n",
    "    - Records of activities and events monitored by a firewall.\n",
    "\n",
    "24. **IDS/IPS Alerts:**\n",
    "    - Notifications about potential security threats or attacks detected by Intrusion Detection Systems (IDS) or Intrusion Prevention Systems (IPS).\n",
    "\n",
    "25. **Log Source:**\n",
    "    - The origin or device that generates log entries, such as a server, network device, or security appliance."
   ],
   "metadata": {
    "collapsed": false
   },
   "id": "163af6ab7a8466ed"
  },
  {
   "cell_type": "code",
   "execution_count": 7,
   "outputs": [
    {
     "data": {
      "text/plain": "                 Timestamp Source IP Address Destination IP Address  \\\n0      2023-05-30 06:33:58     103.216.15.12           84.9.164.252   \n1      2020-08-26 07:08:30    78.199.217.198         66.191.137.154   \n2      2022-11-13 08:23:25      63.79.210.48          198.219.82.17   \n3      2023-07-02 10:38:46     163.42.196.10        101.228.192.255   \n4      2023-07-16 13:11:07     71.166.185.76        189.243.174.238   \n...                    ...               ...                    ...   \n39995  2023-05-26 14:08:42      26.36.109.26         121.100.75.240   \n39996  2023-03-27 00:38:27      17.21.163.81         196.108.134.78   \n39997  2022-03-31 01:45:49     162.35.217.57            98.107.0.15   \n39998  2023-09-22 18:32:38    208.72.233.205         173.79.112.252   \n39999  2023-10-10 11:59:52     14.102.21.108           109.198.45.7   \n\n       Source Port  Destination Port Protocol  Packet Length Packet Type  \\\n0            31225             17616     ICMP            503        Data   \n1            17245             48166     ICMP           1174        Data   \n2            16811             53600      UDP            306     Control   \n3            20018             32534      UDP            385        Data   \n4             6131             26646      TCP           1462        Data   \n...            ...               ...      ...            ...         ...   \n39995        31005              6764      UDP           1428     Control   \n39996         2553             28091      UDP           1184     Control   \n39997        22505             25152      UDP           1043        Data   \n39998        20013              2703      UDP            483        Data   \n39999        50137             55575     ICMP           1175     Control   \n\n      Traffic Type Malware Indicators  ...  Action Taken Severity Level  \\\n0             HTTP       IoC Detected  ...        Logged            Low   \n1             HTTP       IoC Detected  ...       Blocked            Low   \n2             HTTP       IoC Detected  ...       Ignored            Low   \n3             HTTP               Null  ...       Blocked         Medium   \n4              DNS               Null  ...       Blocked            Low   \n...            ...                ...  ...           ...            ...   \n39995         HTTP       IoC Detected  ...        Logged         Medium   \n39996         HTTP       IoC Detected  ...        Logged           High   \n39997          DNS       IoC Detected  ...       Blocked            Low   \n39998          FTP       IoC Detected  ...       Ignored            Low   \n39999         HTTP               Null  ...        Logged         Medium   \n\n      User Information                                 Device Information  \\\n0        Reyansh Dugal  Mozilla/5.0 (compatible; MSIE 8.0; Windows NT ...   \n1           Sumer Rana  Mozilla/5.0 (compatible; MSIE 8.0; Windows NT ...   \n2         Himmat Karpe  Mozilla/5.0 (compatible; MSIE 9.0; Windows NT ...   \n3           Fateh Kibe  Mozilla/5.0 (Macintosh; PPC Mac OS X 10_11_5; ...   \n4         Dhanush Chad  Mozilla/5.0 (compatible; MSIE 5.0; Windows NT ...   \n...                ...                                                ...   \n39995      Adira Madan  Mozilla/5.0 (iPad; CPU iPad OS 14_2_1 like Mac...   \n39996        Rati Dara  Mozilla/5.0 (Windows; U; Windows 98; Win 9x 4....   \n39997     Samiha Joshi  Mozilla/5.0 (Windows; U; Windows NT 4.0) Apple...   \n39998    Rasha Chauhan  Mozilla/5.0 (X11; Linux i686) AppleWebKit/536....   \n39999      Zaina Kumar  Mozilla/5.0 (iPod; U; CPU iPhone OS 3_0 like M...   \n\n      Network Segment              Geo-location Data Proxy Information  \\\n0           Segment A             Jamshedpur, Sikkim      150.9.97.135   \n1           Segment B             Bilaspur, Nagaland              Null   \n2           Segment C              Bokaro, Rajasthan    114.133.48.179   \n3           Segment B             Jaunpur, Rajasthan              Null   \n4           Segment C             Anantapur, Tripura     149.6.110.119   \n...               ...                            ...               ...   \n39995       Segment A                Nashik, Manipur              Null   \n39996       Segment C              Vadodara, Mizoram       60.51.30.46   \n39997       Segment C  Mahbubnagar, Himachal Pradesh              Null   \n39998       Segment B    Rourkela, Arunachal Pradesh      137.76.130.8   \n39999       Segment A       Pudukkottai, West Bengal   112.169.115.139   \n\n      Firewall Logs IDS/IPS Alerts Log Source  \n0          Log Data           Null     Server  \n1          Log Data           Null   Firewall  \n2          Log Data     Alert Data   Firewall  \n3              Null     Alert Data   Firewall  \n4              Null     Alert Data   Firewall  \n...             ...            ...        ...  \n39995      Log Data     Alert Data   Firewall  \n39996      Log Data           Null   Firewall  \n39997      Log Data     Alert Data     Server  \n39998      Log Data           Null     Server  \n39999      Log Data     Alert Data   Firewall  \n\n[40000 rows x 24 columns]",
      "text/html": "<div>\n<style scoped>\n    .dataframe tbody tr th:only-of-type {\n        vertical-align: middle;\n    }\n\n    .dataframe tbody tr th {\n        vertical-align: top;\n    }\n\n    .dataframe thead th {\n        text-align: right;\n    }\n</style>\n<table border=\"1\" class=\"dataframe\">\n  <thead>\n    <tr style=\"text-align: right;\">\n      <th></th>\n      <th>Timestamp</th>\n      <th>Source IP Address</th>\n      <th>Destination IP Address</th>\n      <th>Source Port</th>\n      <th>Destination Port</th>\n      <th>Protocol</th>\n      <th>Packet Length</th>\n      <th>Packet Type</th>\n      <th>Traffic Type</th>\n      <th>Malware Indicators</th>\n      <th>...</th>\n      <th>Action Taken</th>\n      <th>Severity Level</th>\n      <th>User Information</th>\n      <th>Device Information</th>\n      <th>Network Segment</th>\n      <th>Geo-location Data</th>\n      <th>Proxy Information</th>\n      <th>Firewall Logs</th>\n      <th>IDS/IPS Alerts</th>\n      <th>Log Source</th>\n    </tr>\n  </thead>\n  <tbody>\n    <tr>\n      <th>0</th>\n      <td>2023-05-30 06:33:58</td>\n      <td>103.216.15.12</td>\n      <td>84.9.164.252</td>\n      <td>31225</td>\n      <td>17616</td>\n      <td>ICMP</td>\n      <td>503</td>\n      <td>Data</td>\n      <td>HTTP</td>\n      <td>IoC Detected</td>\n      <td>...</td>\n      <td>Logged</td>\n      <td>Low</td>\n      <td>Reyansh Dugal</td>\n      <td>Mozilla/5.0 (compatible; MSIE 8.0; Windows NT ...</td>\n      <td>Segment A</td>\n      <td>Jamshedpur, Sikkim</td>\n      <td>150.9.97.135</td>\n      <td>Log Data</td>\n      <td>Null</td>\n      <td>Server</td>\n    </tr>\n    <tr>\n      <th>1</th>\n      <td>2020-08-26 07:08:30</td>\n      <td>78.199.217.198</td>\n      <td>66.191.137.154</td>\n      <td>17245</td>\n      <td>48166</td>\n      <td>ICMP</td>\n      <td>1174</td>\n      <td>Data</td>\n      <td>HTTP</td>\n      <td>IoC Detected</td>\n      <td>...</td>\n      <td>Blocked</td>\n      <td>Low</td>\n      <td>Sumer Rana</td>\n      <td>Mozilla/5.0 (compatible; MSIE 8.0; Windows NT ...</td>\n      <td>Segment B</td>\n      <td>Bilaspur, Nagaland</td>\n      <td>Null</td>\n      <td>Log Data</td>\n      <td>Null</td>\n      <td>Firewall</td>\n    </tr>\n    <tr>\n      <th>2</th>\n      <td>2022-11-13 08:23:25</td>\n      <td>63.79.210.48</td>\n      <td>198.219.82.17</td>\n      <td>16811</td>\n      <td>53600</td>\n      <td>UDP</td>\n      <td>306</td>\n      <td>Control</td>\n      <td>HTTP</td>\n      <td>IoC Detected</td>\n      <td>...</td>\n      <td>Ignored</td>\n      <td>Low</td>\n      <td>Himmat Karpe</td>\n      <td>Mozilla/5.0 (compatible; MSIE 9.0; Windows NT ...</td>\n      <td>Segment C</td>\n      <td>Bokaro, Rajasthan</td>\n      <td>114.133.48.179</td>\n      <td>Log Data</td>\n      <td>Alert Data</td>\n      <td>Firewall</td>\n    </tr>\n    <tr>\n      <th>3</th>\n      <td>2023-07-02 10:38:46</td>\n      <td>163.42.196.10</td>\n      <td>101.228.192.255</td>\n      <td>20018</td>\n      <td>32534</td>\n      <td>UDP</td>\n      <td>385</td>\n      <td>Data</td>\n      <td>HTTP</td>\n      <td>Null</td>\n      <td>...</td>\n      <td>Blocked</td>\n      <td>Medium</td>\n      <td>Fateh Kibe</td>\n      <td>Mozilla/5.0 (Macintosh; PPC Mac OS X 10_11_5; ...</td>\n      <td>Segment B</td>\n      <td>Jaunpur, Rajasthan</td>\n      <td>Null</td>\n      <td>Null</td>\n      <td>Alert Data</td>\n      <td>Firewall</td>\n    </tr>\n    <tr>\n      <th>4</th>\n      <td>2023-07-16 13:11:07</td>\n      <td>71.166.185.76</td>\n      <td>189.243.174.238</td>\n      <td>6131</td>\n      <td>26646</td>\n      <td>TCP</td>\n      <td>1462</td>\n      <td>Data</td>\n      <td>DNS</td>\n      <td>Null</td>\n      <td>...</td>\n      <td>Blocked</td>\n      <td>Low</td>\n      <td>Dhanush Chad</td>\n      <td>Mozilla/5.0 (compatible; MSIE 5.0; Windows NT ...</td>\n      <td>Segment C</td>\n      <td>Anantapur, Tripura</td>\n      <td>149.6.110.119</td>\n      <td>Null</td>\n      <td>Alert Data</td>\n      <td>Firewall</td>\n    </tr>\n    <tr>\n      <th>...</th>\n      <td>...</td>\n      <td>...</td>\n      <td>...</td>\n      <td>...</td>\n      <td>...</td>\n      <td>...</td>\n      <td>...</td>\n      <td>...</td>\n      <td>...</td>\n      <td>...</td>\n      <td>...</td>\n      <td>...</td>\n      <td>...</td>\n      <td>...</td>\n      <td>...</td>\n      <td>...</td>\n      <td>...</td>\n      <td>...</td>\n      <td>...</td>\n      <td>...</td>\n      <td>...</td>\n    </tr>\n    <tr>\n      <th>39995</th>\n      <td>2023-05-26 14:08:42</td>\n      <td>26.36.109.26</td>\n      <td>121.100.75.240</td>\n      <td>31005</td>\n      <td>6764</td>\n      <td>UDP</td>\n      <td>1428</td>\n      <td>Control</td>\n      <td>HTTP</td>\n      <td>IoC Detected</td>\n      <td>...</td>\n      <td>Logged</td>\n      <td>Medium</td>\n      <td>Adira Madan</td>\n      <td>Mozilla/5.0 (iPad; CPU iPad OS 14_2_1 like Mac...</td>\n      <td>Segment A</td>\n      <td>Nashik, Manipur</td>\n      <td>Null</td>\n      <td>Log Data</td>\n      <td>Alert Data</td>\n      <td>Firewall</td>\n    </tr>\n    <tr>\n      <th>39996</th>\n      <td>2023-03-27 00:38:27</td>\n      <td>17.21.163.81</td>\n      <td>196.108.134.78</td>\n      <td>2553</td>\n      <td>28091</td>\n      <td>UDP</td>\n      <td>1184</td>\n      <td>Control</td>\n      <td>HTTP</td>\n      <td>IoC Detected</td>\n      <td>...</td>\n      <td>Logged</td>\n      <td>High</td>\n      <td>Rati Dara</td>\n      <td>Mozilla/5.0 (Windows; U; Windows 98; Win 9x 4....</td>\n      <td>Segment C</td>\n      <td>Vadodara, Mizoram</td>\n      <td>60.51.30.46</td>\n      <td>Log Data</td>\n      <td>Null</td>\n      <td>Firewall</td>\n    </tr>\n    <tr>\n      <th>39997</th>\n      <td>2022-03-31 01:45:49</td>\n      <td>162.35.217.57</td>\n      <td>98.107.0.15</td>\n      <td>22505</td>\n      <td>25152</td>\n      <td>UDP</td>\n      <td>1043</td>\n      <td>Data</td>\n      <td>DNS</td>\n      <td>IoC Detected</td>\n      <td>...</td>\n      <td>Blocked</td>\n      <td>Low</td>\n      <td>Samiha Joshi</td>\n      <td>Mozilla/5.0 (Windows; U; Windows NT 4.0) Apple...</td>\n      <td>Segment C</td>\n      <td>Mahbubnagar, Himachal Pradesh</td>\n      <td>Null</td>\n      <td>Log Data</td>\n      <td>Alert Data</td>\n      <td>Server</td>\n    </tr>\n    <tr>\n      <th>39998</th>\n      <td>2023-09-22 18:32:38</td>\n      <td>208.72.233.205</td>\n      <td>173.79.112.252</td>\n      <td>20013</td>\n      <td>2703</td>\n      <td>UDP</td>\n      <td>483</td>\n      <td>Data</td>\n      <td>FTP</td>\n      <td>IoC Detected</td>\n      <td>...</td>\n      <td>Ignored</td>\n      <td>Low</td>\n      <td>Rasha Chauhan</td>\n      <td>Mozilla/5.0 (X11; Linux i686) AppleWebKit/536....</td>\n      <td>Segment B</td>\n      <td>Rourkela, Arunachal Pradesh</td>\n      <td>137.76.130.8</td>\n      <td>Log Data</td>\n      <td>Null</td>\n      <td>Server</td>\n    </tr>\n    <tr>\n      <th>39999</th>\n      <td>2023-10-10 11:59:52</td>\n      <td>14.102.21.108</td>\n      <td>109.198.45.7</td>\n      <td>50137</td>\n      <td>55575</td>\n      <td>ICMP</td>\n      <td>1175</td>\n      <td>Control</td>\n      <td>HTTP</td>\n      <td>Null</td>\n      <td>...</td>\n      <td>Logged</td>\n      <td>Medium</td>\n      <td>Zaina Kumar</td>\n      <td>Mozilla/5.0 (iPod; U; CPU iPhone OS 3_0 like M...</td>\n      <td>Segment A</td>\n      <td>Pudukkottai, West Bengal</td>\n      <td>112.169.115.139</td>\n      <td>Log Data</td>\n      <td>Alert Data</td>\n      <td>Firewall</td>\n    </tr>\n  </tbody>\n</table>\n<p>40000 rows × 24 columns</p>\n</div>"
     },
     "execution_count": 7,
     "metadata": {},
     "output_type": "execute_result"
    }
   ],
   "source": [
    "data_proc = data\n",
    "\n",
    "data_proc = data_proc.drop(columns=[\"Payload Data\"])\n",
    "data_proc = data_proc.fillna('Null')\n",
    "\n",
    "data_proc"
   ],
   "metadata": {
    "collapsed": false,
    "ExecuteTime": {
     "end_time": "2023-11-22T18:01:33.609812Z",
     "start_time": "2023-11-22T18:01:33.486931Z"
    }
   },
   "id": "a0b307998e6e6343"
  },
  {
   "cell_type": "code",
   "execution_count": 8,
   "outputs": [
    {
     "data": {
      "text/plain": "                    count          mean           std     min       25%  \\\nSource Port       40000.0  32970.356450  18560.425604  1027.0  16850.75   \nDestination Port  40000.0  33150.868650  18574.668842  1024.0  17094.75   \nPacket Length     40000.0    781.452725    416.044192    64.0    420.00   \nAnomaly Scores    40000.0     50.113473     28.853598     0.0     25.15   \n\n                        50%       75%      max  \nSource Port       32856.000  48928.25  65530.0  \nDestination Port  33004.500  49287.00  65535.0  \nPacket Length       782.000   1143.00   1500.0  \nAnomaly Scores       50.345     75.03    100.0  ",
      "text/html": "<div>\n<style scoped>\n    .dataframe tbody tr th:only-of-type {\n        vertical-align: middle;\n    }\n\n    .dataframe tbody tr th {\n        vertical-align: top;\n    }\n\n    .dataframe thead th {\n        text-align: right;\n    }\n</style>\n<table border=\"1\" class=\"dataframe\">\n  <thead>\n    <tr style=\"text-align: right;\">\n      <th></th>\n      <th>count</th>\n      <th>mean</th>\n      <th>std</th>\n      <th>min</th>\n      <th>25%</th>\n      <th>50%</th>\n      <th>75%</th>\n      <th>max</th>\n    </tr>\n  </thead>\n  <tbody>\n    <tr>\n      <th>Source Port</th>\n      <td>40000.0</td>\n      <td>32970.356450</td>\n      <td>18560.425604</td>\n      <td>1027.0</td>\n      <td>16850.75</td>\n      <td>32856.000</td>\n      <td>48928.25</td>\n      <td>65530.0</td>\n    </tr>\n    <tr>\n      <th>Destination Port</th>\n      <td>40000.0</td>\n      <td>33150.868650</td>\n      <td>18574.668842</td>\n      <td>1024.0</td>\n      <td>17094.75</td>\n      <td>33004.500</td>\n      <td>49287.00</td>\n      <td>65535.0</td>\n    </tr>\n    <tr>\n      <th>Packet Length</th>\n      <td>40000.0</td>\n      <td>781.452725</td>\n      <td>416.044192</td>\n      <td>64.0</td>\n      <td>420.00</td>\n      <td>782.000</td>\n      <td>1143.00</td>\n      <td>1500.0</td>\n    </tr>\n    <tr>\n      <th>Anomaly Scores</th>\n      <td>40000.0</td>\n      <td>50.113473</td>\n      <td>28.853598</td>\n      <td>0.0</td>\n      <td>25.15</td>\n      <td>50.345</td>\n      <td>75.03</td>\n      <td>100.0</td>\n    </tr>\n  </tbody>\n</table>\n</div>"
     },
     "execution_count": 8,
     "metadata": {},
     "output_type": "execute_result"
    }
   ],
   "source": [
    "data_proc.describe().T"
   ],
   "metadata": {
    "collapsed": false,
    "ExecuteTime": {
     "end_time": "2023-11-22T18:01:34.788654Z",
     "start_time": "2023-11-22T18:01:34.749082Z"
    }
   },
   "id": "739bc4e46e872d12"
  },
  {
   "cell_type": "code",
   "execution_count": 9,
   "outputs": [
    {
     "name": "stdout",
     "output_type": "stream",
     "text": [
      "0 ['2020-01-01 00:43:27' '2020-01-01 01:14:07' '2020-01-01 03:02:42' ...\n",
      " '2023-10-11 17:44:41' '2023-10-11 18:50:41' '2023-10-11 19:34:23']\n",
      "1 ['1.1.45.194' '1.1.51.229' '1.10.201.206' ... '99.99.110.210'\n",
      " '99.99.228.192' '99.99.250.252']\n",
      "2 ['1.1.189.171' '1.100.166.191' '1.100.73.63' ... '99.93.133.112'\n",
      " '99.95.228.9' '99.98.160.72']\n",
      "3 [ 1027  1028  1030 ... 65525 65527 65530]\n",
      "4 [ 1024  1025  1028 ... 65532 65534 65535]\n",
      "5 ['ICMP' 'TCP' 'UDP']\n",
      "6 [  64   65   66 ... 1498 1499 1500]\n",
      "7 ['Control' 'Data']\n",
      "8 ['DNS' 'FTP' 'HTTP']\n",
      "9 ['IoC Detected' 'Null']\n",
      "10 [0.000e+00 1.000e-02 2.000e-02 ... 9.998e+01 9.999e+01 1.000e+02]\n",
      "11 ['Alert Triggered' 'Null']\n",
      "12 ['DDoS' 'Intrusion' 'Malware']\n",
      "13 ['Known Pattern A' 'Known Pattern B']\n",
      "14 ['Blocked' 'Ignored' 'Logged']\n",
      "15 ['High' 'Low' 'Medium']\n",
      "16 ['Aaina Ahluwalia' 'Aaina Arya' 'Aaina Babu' ... 'Zoya Wason' 'Zoya Yogi'\n",
      " 'Zoya Yohannan']\n",
      "17 ['Mozilla/5.0 (Android 1.0; Mobile; rv:14.0) Gecko/14.0 Firefox/14.0'\n",
      " 'Mozilla/5.0 (Android 1.0; Mobile; rv:19.0) Gecko/19.0 Firefox/19.0'\n",
      " 'Mozilla/5.0 (Android 1.0; Mobile; rv:30.0) Gecko/30.0 Firefox/30.0' ...\n",
      " 'Opera/9.99.(X11; Linux x86_64; ti-ER) Presto/2.9.164 Version/10.00'\n",
      " 'Opera/9.99.(X11; Linux x86_64; wal-ET) Presto/2.9.184 Version/10.00'\n",
      " 'Opera/9.99.(X11; Linux x86_64; zh-TW) Presto/2.9.166 Version/11.00']\n",
      "18 ['Segment A' 'Segment B' 'Segment C']\n",
      "19 ['Adoni, Andhra Pradesh' 'Adoni, Arunachal Pradesh' 'Adoni, Assam' ...\n",
      " 'Yamunanagar, Uttar Pradesh' 'Yamunanagar, Uttarakhand'\n",
      " 'Yamunanagar, West Bengal']\n",
      "20 ['1.10.186.95' '1.103.79.225' '1.105.143.211' ... '99.92.154.17'\n",
      " '99.97.192.156' 'Null']\n",
      "21 ['Log Data' 'Null']\n",
      "22 ['Alert Data' 'Null']\n",
      "23 ['Firewall' 'Server']\n"
     ]
    }
   ],
   "source": [
    "num_inst, num_features = data_proc.shape\n",
    "\n",
    "for f in range(num_features):\n",
    "    print (f, np.unique(data_proc.iloc[:,f])) "
   ],
   "metadata": {
    "collapsed": false,
    "ExecuteTime": {
     "end_time": "2023-11-22T18:01:36.251123Z",
     "start_time": "2023-11-22T18:01:35.920916Z"
    }
   },
   "id": "5e977e296ec2439a"
  },
  {
   "cell_type": "markdown",
   "source": [
    "# Clean the Data \n",
    "After a first analysis, I decided to use this dataset. Because it has enough instance to make a good prediction.\n",
    "Right now I have to clean the dataset to prepare it for the first part of the study."
   ],
   "metadata": {
    "collapsed": false
   },
   "id": "c5780791424cf2e3"
  },
  {
   "cell_type": "code",
   "execution_count": 10,
   "outputs": [],
   "source": [
    "from sklearn.model_selection import train_test_split\n",
    "\n",
    "# drop label columns\n",
    "X = data_proc.drop(columns=[\"Attack Type\"])\n",
    "\n",
    "# isolate y\n",
    "y = data_proc[\"Attack Type\"]\n",
    "\n",
    "# split in Train-set(80%) and Testing-set(20%)\n",
    "X_train, X_test, y_train, y_test = train_test_split( X, y, test_size=0.20) "
   ],
   "metadata": {
    "collapsed": false,
    "ExecuteTime": {
     "end_time": "2023-11-22T18:01:39.768062Z",
     "start_time": "2023-11-22T18:01:38.910506Z"
    }
   },
   "id": "39227dce13a9fd03"
  },
  {
   "cell_type": "code",
   "execution_count": 11,
   "outputs": [
    {
     "data": {
      "text/plain": "(32000, 23)"
     },
     "execution_count": 11,
     "metadata": {},
     "output_type": "execute_result"
    }
   ],
   "source": [
    "X_train.shape"
   ],
   "metadata": {
    "collapsed": false,
    "ExecuteTime": {
     "end_time": "2023-11-22T18:01:40.534704Z",
     "start_time": "2023-11-22T18:01:40.472954Z"
    }
   },
   "id": "619698fd1f43560c"
  },
  {
   "cell_type": "code",
   "execution_count": 12,
   "outputs": [
    {
     "data": {
      "text/plain": "((40000, 23), (32000, 23), (8000, 23))"
     },
     "execution_count": 12,
     "metadata": {},
     "output_type": "execute_result"
    }
   ],
   "source": [
    "X.shape, X_train.shape, X_test.shape"
   ],
   "metadata": {
    "collapsed": false,
    "ExecuteTime": {
     "end_time": "2023-11-22T18:01:41.370202Z",
     "start_time": "2023-11-22T18:01:41.357025Z"
    }
   },
   "id": "c09c929e4801d3ea"
  },
  {
   "cell_type": "code",
   "execution_count": 13,
   "outputs": [
    {
     "data": {
      "text/plain": "16918      Malware\n24860    Intrusion\n16672    Intrusion\n38670      Malware\n6681          DDoS\n           ...    \n27481         DDoS\n20214         DDoS\n15909      Malware\n18609         DDoS\n30497    Intrusion\nName: Attack Type, Length: 8000, dtype: object"
     },
     "execution_count": 13,
     "metadata": {},
     "output_type": "execute_result"
    }
   ],
   "source": [
    "y_test"
   ],
   "metadata": {
    "collapsed": false,
    "ExecuteTime": {
     "end_time": "2023-11-22T18:01:42.334422Z",
     "start_time": "2023-11-22T18:01:42.303687Z"
    }
   },
   "id": "1c788b2040ea5c57"
  },
  {
   "cell_type": "code",
   "execution_count": 14,
   "outputs": [
    {
     "data": {
      "text/plain": "                 Timestamp Source IP Address Destination IP Address  \\\n0      2023-05-30 06:33:58     103.216.15.12           84.9.164.252   \n1      2020-08-26 07:08:30    78.199.217.198         66.191.137.154   \n2      2022-11-13 08:23:25      63.79.210.48          198.219.82.17   \n3      2023-07-02 10:38:46     163.42.196.10        101.228.192.255   \n4      2023-07-16 13:11:07     71.166.185.76        189.243.174.238   \n...                    ...               ...                    ...   \n39995  2023-05-26 14:08:42      26.36.109.26         121.100.75.240   \n39996  2023-03-27 00:38:27      17.21.163.81         196.108.134.78   \n39997  2022-03-31 01:45:49     162.35.217.57            98.107.0.15   \n39998  2023-09-22 18:32:38    208.72.233.205         173.79.112.252   \n39999  2023-10-10 11:59:52     14.102.21.108           109.198.45.7   \n\n       Source Port  Destination Port Protocol  Packet Length Packet Type  \\\n0            31225             17616     ICMP            503        Data   \n1            17245             48166     ICMP           1174        Data   \n2            16811             53600      UDP            306     Control   \n3            20018             32534      UDP            385        Data   \n4             6131             26646      TCP           1462        Data   \n...            ...               ...      ...            ...         ...   \n39995        31005              6764      UDP           1428     Control   \n39996         2553             28091      UDP           1184     Control   \n39997        22505             25152      UDP           1043        Data   \n39998        20013              2703      UDP            483        Data   \n39999        50137             55575     ICMP           1175     Control   \n\n      Traffic Type Malware Indicators  ...  Action Taken Severity Level  \\\n0             HTTP       IoC Detected  ...        Logged            Low   \n1             HTTP       IoC Detected  ...       Blocked            Low   \n2             HTTP       IoC Detected  ...       Ignored            Low   \n3             HTTP               Null  ...       Blocked         Medium   \n4              DNS               Null  ...       Blocked            Low   \n...            ...                ...  ...           ...            ...   \n39995         HTTP       IoC Detected  ...        Logged         Medium   \n39996         HTTP       IoC Detected  ...        Logged           High   \n39997          DNS       IoC Detected  ...       Blocked            Low   \n39998          FTP       IoC Detected  ...       Ignored            Low   \n39999         HTTP               Null  ...        Logged         Medium   \n\n      User Information                                 Device Information  \\\n0        Reyansh Dugal  Mozilla/5.0 (compatible; MSIE 8.0; Windows NT ...   \n1           Sumer Rana  Mozilla/5.0 (compatible; MSIE 8.0; Windows NT ...   \n2         Himmat Karpe  Mozilla/5.0 (compatible; MSIE 9.0; Windows NT ...   \n3           Fateh Kibe  Mozilla/5.0 (Macintosh; PPC Mac OS X 10_11_5; ...   \n4         Dhanush Chad  Mozilla/5.0 (compatible; MSIE 5.0; Windows NT ...   \n...                ...                                                ...   \n39995      Adira Madan  Mozilla/5.0 (iPad; CPU iPad OS 14_2_1 like Mac...   \n39996        Rati Dara  Mozilla/5.0 (Windows; U; Windows 98; Win 9x 4....   \n39997     Samiha Joshi  Mozilla/5.0 (Windows; U; Windows NT 4.0) Apple...   \n39998    Rasha Chauhan  Mozilla/5.0 (X11; Linux i686) AppleWebKit/536....   \n39999      Zaina Kumar  Mozilla/5.0 (iPod; U; CPU iPhone OS 3_0 like M...   \n\n      Network Segment              Geo-location Data Proxy Information  \\\n0           Segment A             Jamshedpur, Sikkim      150.9.97.135   \n1           Segment B             Bilaspur, Nagaland              Null   \n2           Segment C              Bokaro, Rajasthan    114.133.48.179   \n3           Segment B             Jaunpur, Rajasthan              Null   \n4           Segment C             Anantapur, Tripura     149.6.110.119   \n...               ...                            ...               ...   \n39995       Segment A                Nashik, Manipur              Null   \n39996       Segment C              Vadodara, Mizoram       60.51.30.46   \n39997       Segment C  Mahbubnagar, Himachal Pradesh              Null   \n39998       Segment B    Rourkela, Arunachal Pradesh      137.76.130.8   \n39999       Segment A       Pudukkottai, West Bengal   112.169.115.139   \n\n      Firewall Logs IDS/IPS Alerts Log Source  \n0          Log Data           Null     Server  \n1          Log Data           Null   Firewall  \n2          Log Data     Alert Data   Firewall  \n3              Null     Alert Data   Firewall  \n4              Null     Alert Data   Firewall  \n...             ...            ...        ...  \n39995      Log Data     Alert Data   Firewall  \n39996      Log Data           Null   Firewall  \n39997      Log Data     Alert Data     Server  \n39998      Log Data           Null     Server  \n39999      Log Data     Alert Data   Firewall  \n\n[40000 rows x 24 columns]",
      "text/html": "<div>\n<style scoped>\n    .dataframe tbody tr th:only-of-type {\n        vertical-align: middle;\n    }\n\n    .dataframe tbody tr th {\n        vertical-align: top;\n    }\n\n    .dataframe thead th {\n        text-align: right;\n    }\n</style>\n<table border=\"1\" class=\"dataframe\">\n  <thead>\n    <tr style=\"text-align: right;\">\n      <th></th>\n      <th>Timestamp</th>\n      <th>Source IP Address</th>\n      <th>Destination IP Address</th>\n      <th>Source Port</th>\n      <th>Destination Port</th>\n      <th>Protocol</th>\n      <th>Packet Length</th>\n      <th>Packet Type</th>\n      <th>Traffic Type</th>\n      <th>Malware Indicators</th>\n      <th>...</th>\n      <th>Action Taken</th>\n      <th>Severity Level</th>\n      <th>User Information</th>\n      <th>Device Information</th>\n      <th>Network Segment</th>\n      <th>Geo-location Data</th>\n      <th>Proxy Information</th>\n      <th>Firewall Logs</th>\n      <th>IDS/IPS Alerts</th>\n      <th>Log Source</th>\n    </tr>\n  </thead>\n  <tbody>\n    <tr>\n      <th>0</th>\n      <td>2023-05-30 06:33:58</td>\n      <td>103.216.15.12</td>\n      <td>84.9.164.252</td>\n      <td>31225</td>\n      <td>17616</td>\n      <td>ICMP</td>\n      <td>503</td>\n      <td>Data</td>\n      <td>HTTP</td>\n      <td>IoC Detected</td>\n      <td>...</td>\n      <td>Logged</td>\n      <td>Low</td>\n      <td>Reyansh Dugal</td>\n      <td>Mozilla/5.0 (compatible; MSIE 8.0; Windows NT ...</td>\n      <td>Segment A</td>\n      <td>Jamshedpur, Sikkim</td>\n      <td>150.9.97.135</td>\n      <td>Log Data</td>\n      <td>Null</td>\n      <td>Server</td>\n    </tr>\n    <tr>\n      <th>1</th>\n      <td>2020-08-26 07:08:30</td>\n      <td>78.199.217.198</td>\n      <td>66.191.137.154</td>\n      <td>17245</td>\n      <td>48166</td>\n      <td>ICMP</td>\n      <td>1174</td>\n      <td>Data</td>\n      <td>HTTP</td>\n      <td>IoC Detected</td>\n      <td>...</td>\n      <td>Blocked</td>\n      <td>Low</td>\n      <td>Sumer Rana</td>\n      <td>Mozilla/5.0 (compatible; MSIE 8.0; Windows NT ...</td>\n      <td>Segment B</td>\n      <td>Bilaspur, Nagaland</td>\n      <td>Null</td>\n      <td>Log Data</td>\n      <td>Null</td>\n      <td>Firewall</td>\n    </tr>\n    <tr>\n      <th>2</th>\n      <td>2022-11-13 08:23:25</td>\n      <td>63.79.210.48</td>\n      <td>198.219.82.17</td>\n      <td>16811</td>\n      <td>53600</td>\n      <td>UDP</td>\n      <td>306</td>\n      <td>Control</td>\n      <td>HTTP</td>\n      <td>IoC Detected</td>\n      <td>...</td>\n      <td>Ignored</td>\n      <td>Low</td>\n      <td>Himmat Karpe</td>\n      <td>Mozilla/5.0 (compatible; MSIE 9.0; Windows NT ...</td>\n      <td>Segment C</td>\n      <td>Bokaro, Rajasthan</td>\n      <td>114.133.48.179</td>\n      <td>Log Data</td>\n      <td>Alert Data</td>\n      <td>Firewall</td>\n    </tr>\n    <tr>\n      <th>3</th>\n      <td>2023-07-02 10:38:46</td>\n      <td>163.42.196.10</td>\n      <td>101.228.192.255</td>\n      <td>20018</td>\n      <td>32534</td>\n      <td>UDP</td>\n      <td>385</td>\n      <td>Data</td>\n      <td>HTTP</td>\n      <td>Null</td>\n      <td>...</td>\n      <td>Blocked</td>\n      <td>Medium</td>\n      <td>Fateh Kibe</td>\n      <td>Mozilla/5.0 (Macintosh; PPC Mac OS X 10_11_5; ...</td>\n      <td>Segment B</td>\n      <td>Jaunpur, Rajasthan</td>\n      <td>Null</td>\n      <td>Null</td>\n      <td>Alert Data</td>\n      <td>Firewall</td>\n    </tr>\n    <tr>\n      <th>4</th>\n      <td>2023-07-16 13:11:07</td>\n      <td>71.166.185.76</td>\n      <td>189.243.174.238</td>\n      <td>6131</td>\n      <td>26646</td>\n      <td>TCP</td>\n      <td>1462</td>\n      <td>Data</td>\n      <td>DNS</td>\n      <td>Null</td>\n      <td>...</td>\n      <td>Blocked</td>\n      <td>Low</td>\n      <td>Dhanush Chad</td>\n      <td>Mozilla/5.0 (compatible; MSIE 5.0; Windows NT ...</td>\n      <td>Segment C</td>\n      <td>Anantapur, Tripura</td>\n      <td>149.6.110.119</td>\n      <td>Null</td>\n      <td>Alert Data</td>\n      <td>Firewall</td>\n    </tr>\n    <tr>\n      <th>...</th>\n      <td>...</td>\n      <td>...</td>\n      <td>...</td>\n      <td>...</td>\n      <td>...</td>\n      <td>...</td>\n      <td>...</td>\n      <td>...</td>\n      <td>...</td>\n      <td>...</td>\n      <td>...</td>\n      <td>...</td>\n      <td>...</td>\n      <td>...</td>\n      <td>...</td>\n      <td>...</td>\n      <td>...</td>\n      <td>...</td>\n      <td>...</td>\n      <td>...</td>\n      <td>...</td>\n    </tr>\n    <tr>\n      <th>39995</th>\n      <td>2023-05-26 14:08:42</td>\n      <td>26.36.109.26</td>\n      <td>121.100.75.240</td>\n      <td>31005</td>\n      <td>6764</td>\n      <td>UDP</td>\n      <td>1428</td>\n      <td>Control</td>\n      <td>HTTP</td>\n      <td>IoC Detected</td>\n      <td>...</td>\n      <td>Logged</td>\n      <td>Medium</td>\n      <td>Adira Madan</td>\n      <td>Mozilla/5.0 (iPad; CPU iPad OS 14_2_1 like Mac...</td>\n      <td>Segment A</td>\n      <td>Nashik, Manipur</td>\n      <td>Null</td>\n      <td>Log Data</td>\n      <td>Alert Data</td>\n      <td>Firewall</td>\n    </tr>\n    <tr>\n      <th>39996</th>\n      <td>2023-03-27 00:38:27</td>\n      <td>17.21.163.81</td>\n      <td>196.108.134.78</td>\n      <td>2553</td>\n      <td>28091</td>\n      <td>UDP</td>\n      <td>1184</td>\n      <td>Control</td>\n      <td>HTTP</td>\n      <td>IoC Detected</td>\n      <td>...</td>\n      <td>Logged</td>\n      <td>High</td>\n      <td>Rati Dara</td>\n      <td>Mozilla/5.0 (Windows; U; Windows 98; Win 9x 4....</td>\n      <td>Segment C</td>\n      <td>Vadodara, Mizoram</td>\n      <td>60.51.30.46</td>\n      <td>Log Data</td>\n      <td>Null</td>\n      <td>Firewall</td>\n    </tr>\n    <tr>\n      <th>39997</th>\n      <td>2022-03-31 01:45:49</td>\n      <td>162.35.217.57</td>\n      <td>98.107.0.15</td>\n      <td>22505</td>\n      <td>25152</td>\n      <td>UDP</td>\n      <td>1043</td>\n      <td>Data</td>\n      <td>DNS</td>\n      <td>IoC Detected</td>\n      <td>...</td>\n      <td>Blocked</td>\n      <td>Low</td>\n      <td>Samiha Joshi</td>\n      <td>Mozilla/5.0 (Windows; U; Windows NT 4.0) Apple...</td>\n      <td>Segment C</td>\n      <td>Mahbubnagar, Himachal Pradesh</td>\n      <td>Null</td>\n      <td>Log Data</td>\n      <td>Alert Data</td>\n      <td>Server</td>\n    </tr>\n    <tr>\n      <th>39998</th>\n      <td>2023-09-22 18:32:38</td>\n      <td>208.72.233.205</td>\n      <td>173.79.112.252</td>\n      <td>20013</td>\n      <td>2703</td>\n      <td>UDP</td>\n      <td>483</td>\n      <td>Data</td>\n      <td>FTP</td>\n      <td>IoC Detected</td>\n      <td>...</td>\n      <td>Ignored</td>\n      <td>Low</td>\n      <td>Rasha Chauhan</td>\n      <td>Mozilla/5.0 (X11; Linux i686) AppleWebKit/536....</td>\n      <td>Segment B</td>\n      <td>Rourkela, Arunachal Pradesh</td>\n      <td>137.76.130.8</td>\n      <td>Log Data</td>\n      <td>Null</td>\n      <td>Server</td>\n    </tr>\n    <tr>\n      <th>39999</th>\n      <td>2023-10-10 11:59:52</td>\n      <td>14.102.21.108</td>\n      <td>109.198.45.7</td>\n      <td>50137</td>\n      <td>55575</td>\n      <td>ICMP</td>\n      <td>1175</td>\n      <td>Control</td>\n      <td>HTTP</td>\n      <td>Null</td>\n      <td>...</td>\n      <td>Logged</td>\n      <td>Medium</td>\n      <td>Zaina Kumar</td>\n      <td>Mozilla/5.0 (iPod; U; CPU iPhone OS 3_0 like M...</td>\n      <td>Segment A</td>\n      <td>Pudukkottai, West Bengal</td>\n      <td>112.169.115.139</td>\n      <td>Log Data</td>\n      <td>Alert Data</td>\n      <td>Firewall</td>\n    </tr>\n  </tbody>\n</table>\n<p>40000 rows × 24 columns</p>\n</div>"
     },
     "execution_count": 14,
     "metadata": {},
     "output_type": "execute_result"
    }
   ],
   "source": [
    "data_proc"
   ],
   "metadata": {
    "collapsed": false,
    "ExecuteTime": {
     "end_time": "2023-11-22T18:01:43.574368Z",
     "start_time": "2023-11-22T18:01:43.512136Z"
    }
   },
   "id": "a5641e0c75ee614b"
  },
  {
   "cell_type": "markdown",
   "source": [
    "## Process X "
   ],
   "metadata": {
    "collapsed": false
   },
   "id": "24f08d29252f680d"
  },
  {
   "cell_type": "code",
   "execution_count": 15,
   "outputs": [
    {
     "data": {
      "text/plain": "                    count          mean           std     min       25%  \\\nSource Port       32000.0  33048.833000  18532.591033  1027.0  16976.50   \nDestination Port  32000.0  33118.158344  18604.691356  1024.0  17011.50   \nPacket Length     32000.0    781.332437    416.102069    64.0    420.00   \nAnomaly Scores    32000.0     50.005755     28.820187     0.0     25.04   \n\n                       50%         75%       max  \nSource Port       32996.50  48956.2500  65530.00  \nDestination Port  32972.50  49319.2500  65535.00  \nPacket Length       781.50   1143.0000   1500.00  \nAnomaly Scores       50.16     74.8525     99.99  ",
      "text/html": "<div>\n<style scoped>\n    .dataframe tbody tr th:only-of-type {\n        vertical-align: middle;\n    }\n\n    .dataframe tbody tr th {\n        vertical-align: top;\n    }\n\n    .dataframe thead th {\n        text-align: right;\n    }\n</style>\n<table border=\"1\" class=\"dataframe\">\n  <thead>\n    <tr style=\"text-align: right;\">\n      <th></th>\n      <th>count</th>\n      <th>mean</th>\n      <th>std</th>\n      <th>min</th>\n      <th>25%</th>\n      <th>50%</th>\n      <th>75%</th>\n      <th>max</th>\n    </tr>\n  </thead>\n  <tbody>\n    <tr>\n      <th>Source Port</th>\n      <td>32000.0</td>\n      <td>33048.833000</td>\n      <td>18532.591033</td>\n      <td>1027.0</td>\n      <td>16976.50</td>\n      <td>32996.50</td>\n      <td>48956.2500</td>\n      <td>65530.00</td>\n    </tr>\n    <tr>\n      <th>Destination Port</th>\n      <td>32000.0</td>\n      <td>33118.158344</td>\n      <td>18604.691356</td>\n      <td>1024.0</td>\n      <td>17011.50</td>\n      <td>32972.50</td>\n      <td>49319.2500</td>\n      <td>65535.00</td>\n    </tr>\n    <tr>\n      <th>Packet Length</th>\n      <td>32000.0</td>\n      <td>781.332437</td>\n      <td>416.102069</td>\n      <td>64.0</td>\n      <td>420.00</td>\n      <td>781.50</td>\n      <td>1143.0000</td>\n      <td>1500.00</td>\n    </tr>\n    <tr>\n      <th>Anomaly Scores</th>\n      <td>32000.0</td>\n      <td>50.005755</td>\n      <td>28.820187</td>\n      <td>0.0</td>\n      <td>25.04</td>\n      <td>50.16</td>\n      <td>74.8525</td>\n      <td>99.99</td>\n    </tr>\n  </tbody>\n</table>\n</div>"
     },
     "execution_count": 15,
     "metadata": {},
     "output_type": "execute_result"
    }
   ],
   "source": [
    "X_train.describe().T"
   ],
   "metadata": {
    "collapsed": false,
    "ExecuteTime": {
     "end_time": "2023-11-22T18:01:46.451715Z",
     "start_time": "2023-11-22T18:01:46.407302Z"
    }
   },
   "id": "5cab680f508f4db6"
  },
  {
   "cell_type": "code",
   "execution_count": 16,
   "outputs": [
    {
     "data": {
      "text/plain": "                 Timestamp Source IP Address Destination IP Address  \\\n25453  2020-05-03 04:51:01    12.185.214.204            5.63.38.206   \n8214   2021-11-20 02:05:28    206.107.86.170         162.59.200.224   \n1552   2020-04-17 08:13:51      16.91.11.238          70.204.110.41   \n24343  2020-12-11 06:14:32     35.187.121.53           18.212.61.42   \n34951  2020-12-26 17:50:04      85.203.28.83            9.51.136.61   \n\n       Source Port  Destination Port Protocol  Packet Length Packet Type  \\\n25453        33347              3027      UDP            535        Data   \n8214         18202              4056      TCP           1343        Data   \n1552          2237             40001      TCP            367     Control   \n24343        28104             61332      TCP            553        Data   \n34951        41290             59167      TCP            833        Data   \n\n      Traffic Type Malware Indicators  ...  Action Taken Severity Level  \\\n25453          DNS       IoC Detected  ...       Ignored         Medium   \n8214          HTTP       IoC Detected  ...       Ignored           High   \n1552           FTP               Null  ...       Blocked            Low   \n24343         HTTP               Null  ...       Blocked           High   \n34951          DNS               Null  ...       Blocked         Medium   \n\n          User Information                                 Device Information  \\\n25453        Nitya Chhabra  Mozilla/5.0 (Macintosh; U; PPC Mac OS X 10_11_...   \n8214      Priyansh Chokshi  Mozilla/5.0 (Macintosh; PPC Mac OS X 10_11_2 r...   \n1552            Vanya Sani  Mozilla/5.0 (iPod; U; CPU iPhone OS 4_1 like M...   \n24343  Indranil Srinivasan  Mozilla/5.0 (Macintosh; U; Intel Mac OS X 10_9...   \n34951        Kiaan Chandra  Mozilla/5.0 (iPod; U; CPU iPhone OS 3_3 like M...   \n\n      Network Segment    Geo-location Data Proxy Information Firewall Logs  \\\n25453       Segment A     Hindupur, Kerala              Null          Null   \n8214        Segment C      Nandyal, Punjab   108.220.153.247      Log Data   \n1552        Segment B   Chittoor, Nagaland              Null          Null   \n24343       Segment C      Danapur, Sikkim              Null          Null   \n34951       Segment B  Rajkot, Maharashtra      203.105.46.6          Null   \n\n      IDS/IPS Alerts Log Source  \n25453           Null   Firewall  \n8214      Alert Data     Server  \n1552            Null     Server  \n24343           Null   Firewall  \n34951           Null     Server  \n\n[5 rows x 23 columns]",
      "text/html": "<div>\n<style scoped>\n    .dataframe tbody tr th:only-of-type {\n        vertical-align: middle;\n    }\n\n    .dataframe tbody tr th {\n        vertical-align: top;\n    }\n\n    .dataframe thead th {\n        text-align: right;\n    }\n</style>\n<table border=\"1\" class=\"dataframe\">\n  <thead>\n    <tr style=\"text-align: right;\">\n      <th></th>\n      <th>Timestamp</th>\n      <th>Source IP Address</th>\n      <th>Destination IP Address</th>\n      <th>Source Port</th>\n      <th>Destination Port</th>\n      <th>Protocol</th>\n      <th>Packet Length</th>\n      <th>Packet Type</th>\n      <th>Traffic Type</th>\n      <th>Malware Indicators</th>\n      <th>...</th>\n      <th>Action Taken</th>\n      <th>Severity Level</th>\n      <th>User Information</th>\n      <th>Device Information</th>\n      <th>Network Segment</th>\n      <th>Geo-location Data</th>\n      <th>Proxy Information</th>\n      <th>Firewall Logs</th>\n      <th>IDS/IPS Alerts</th>\n      <th>Log Source</th>\n    </tr>\n  </thead>\n  <tbody>\n    <tr>\n      <th>25453</th>\n      <td>2020-05-03 04:51:01</td>\n      <td>12.185.214.204</td>\n      <td>5.63.38.206</td>\n      <td>33347</td>\n      <td>3027</td>\n      <td>UDP</td>\n      <td>535</td>\n      <td>Data</td>\n      <td>DNS</td>\n      <td>IoC Detected</td>\n      <td>...</td>\n      <td>Ignored</td>\n      <td>Medium</td>\n      <td>Nitya Chhabra</td>\n      <td>Mozilla/5.0 (Macintosh; U; PPC Mac OS X 10_11_...</td>\n      <td>Segment A</td>\n      <td>Hindupur, Kerala</td>\n      <td>Null</td>\n      <td>Null</td>\n      <td>Null</td>\n      <td>Firewall</td>\n    </tr>\n    <tr>\n      <th>8214</th>\n      <td>2021-11-20 02:05:28</td>\n      <td>206.107.86.170</td>\n      <td>162.59.200.224</td>\n      <td>18202</td>\n      <td>4056</td>\n      <td>TCP</td>\n      <td>1343</td>\n      <td>Data</td>\n      <td>HTTP</td>\n      <td>IoC Detected</td>\n      <td>...</td>\n      <td>Ignored</td>\n      <td>High</td>\n      <td>Priyansh Chokshi</td>\n      <td>Mozilla/5.0 (Macintosh; PPC Mac OS X 10_11_2 r...</td>\n      <td>Segment C</td>\n      <td>Nandyal, Punjab</td>\n      <td>108.220.153.247</td>\n      <td>Log Data</td>\n      <td>Alert Data</td>\n      <td>Server</td>\n    </tr>\n    <tr>\n      <th>1552</th>\n      <td>2020-04-17 08:13:51</td>\n      <td>16.91.11.238</td>\n      <td>70.204.110.41</td>\n      <td>2237</td>\n      <td>40001</td>\n      <td>TCP</td>\n      <td>367</td>\n      <td>Control</td>\n      <td>FTP</td>\n      <td>Null</td>\n      <td>...</td>\n      <td>Blocked</td>\n      <td>Low</td>\n      <td>Vanya Sani</td>\n      <td>Mozilla/5.0 (iPod; U; CPU iPhone OS 4_1 like M...</td>\n      <td>Segment B</td>\n      <td>Chittoor, Nagaland</td>\n      <td>Null</td>\n      <td>Null</td>\n      <td>Null</td>\n      <td>Server</td>\n    </tr>\n    <tr>\n      <th>24343</th>\n      <td>2020-12-11 06:14:32</td>\n      <td>35.187.121.53</td>\n      <td>18.212.61.42</td>\n      <td>28104</td>\n      <td>61332</td>\n      <td>TCP</td>\n      <td>553</td>\n      <td>Data</td>\n      <td>HTTP</td>\n      <td>Null</td>\n      <td>...</td>\n      <td>Blocked</td>\n      <td>High</td>\n      <td>Indranil Srinivasan</td>\n      <td>Mozilla/5.0 (Macintosh; U; Intel Mac OS X 10_9...</td>\n      <td>Segment C</td>\n      <td>Danapur, Sikkim</td>\n      <td>Null</td>\n      <td>Null</td>\n      <td>Null</td>\n      <td>Firewall</td>\n    </tr>\n    <tr>\n      <th>34951</th>\n      <td>2020-12-26 17:50:04</td>\n      <td>85.203.28.83</td>\n      <td>9.51.136.61</td>\n      <td>41290</td>\n      <td>59167</td>\n      <td>TCP</td>\n      <td>833</td>\n      <td>Data</td>\n      <td>DNS</td>\n      <td>Null</td>\n      <td>...</td>\n      <td>Blocked</td>\n      <td>Medium</td>\n      <td>Kiaan Chandra</td>\n      <td>Mozilla/5.0 (iPod; U; CPU iPhone OS 3_3 like M...</td>\n      <td>Segment B</td>\n      <td>Rajkot, Maharashtra</td>\n      <td>203.105.46.6</td>\n      <td>Null</td>\n      <td>Null</td>\n      <td>Server</td>\n    </tr>\n  </tbody>\n</table>\n<p>5 rows × 23 columns</p>\n</div>"
     },
     "execution_count": 16,
     "metadata": {},
     "output_type": "execute_result"
    }
   ],
   "source": [
    "X_train.head()"
   ],
   "metadata": {
    "collapsed": false,
    "ExecuteTime": {
     "end_time": "2023-11-22T18:01:47.516093Z",
     "start_time": "2023-11-22T18:01:47.467048Z"
    }
   },
   "id": "1850be559a38b972"
  },
  {
   "cell_type": "code",
   "execution_count": 17,
   "outputs": [],
   "source": [
    "# heuristic strategy for categorical vs. numerical variables\n",
    "is_numerical  = np.array( [ len(np.unique(X_train[col]))>10 for col in X_train ] )\n",
    "numerical_idx = np.flatnonzero(is_numerical) "
   ],
   "metadata": {
    "collapsed": false,
    "ExecuteTime": {
     "end_time": "2023-11-22T18:01:49.194814Z",
     "start_time": "2023-11-22T18:01:48.985342Z"
    }
   },
   "id": "cd3866d101f9ca27"
  },
  {
   "cell_type": "code",
   "execution_count": 18,
   "outputs": [
    {
     "name": "stdout",
     "output_type": "stream",
     "text": [
      "[ True  True  True  True  True False  True False False False  True False\n",
      " False False False  True  True False  True  True False False False]\n",
      "[ 0  1  2  3  4  6 10 15 16 18 19]\n",
      "Number of numerical features: 11\n"
     ]
    }
   ],
   "source": [
    "print (is_numerical)\n",
    "print (numerical_idx)\n",
    "print (\"Number of numerical features:\", sum(is_numerical))\n",
    "numerical_idx = [\"Timestamp\", \"Source IP Address\",\"Destination IP Address\",\"Source Port\"\n",
    "                 ,\"Destination Port\",\"Packet Length\",\"Malware Indicators\",\"Action Taken\",\n",
    "                 \"Severity Level\",\"Device Information\",\"Network Segment\"]"
   ],
   "metadata": {
    "collapsed": false,
    "ExecuteTime": {
     "end_time": "2023-11-22T18:01:52.264401Z",
     "start_time": "2023-11-22T18:01:52.231087Z"
    }
   },
   "id": "e0c9f53dc715980"
  },
  {
   "cell_type": "code",
   "execution_count": 19,
   "outputs": [],
   "source": [
    "# convert numerical to floats (keep NaN)\n",
    "new_X = X_train[ numerical_idx ].apply(pd.to_numeric, errors='coerce')\n",
    "#  invalid parsing will be set as NaN."
   ],
   "metadata": {
    "collapsed": false,
    "ExecuteTime": {
     "end_time": "2023-11-22T18:01:54.431728Z",
     "start_time": "2023-11-22T18:01:54.319662Z"
    }
   },
   "id": "649978fb4bdc1bbc"
  },
  {
   "cell_type": "code",
   "execution_count": 20,
   "outputs": [
    {
     "data": {
      "text/plain": "       Timestamp  Source IP Address  Destination IP Address  Source Port  \\\n25453        NaN                NaN                     NaN        33347   \n8214         NaN                NaN                     NaN        18202   \n1552         NaN                NaN                     NaN         2237   \n24343        NaN                NaN                     NaN        28104   \n34951        NaN                NaN                     NaN        41290   \n38439        NaN                NaN                     NaN         7305   \n38987        NaN                NaN                     NaN        24107   \n3260         NaN                NaN                     NaN        52891   \n31164        NaN                NaN                     NaN        56786   \n35241        NaN                NaN                     NaN        40412   \n\n       Destination Port  Packet Length  Malware Indicators  Action Taken  \\\n25453              3027            535                 NaN           NaN   \n8214               4056           1343                 NaN           NaN   \n1552              40001            367                 NaN           NaN   \n24343             61332            553                 NaN           NaN   \n34951             59167            833                 NaN           NaN   \n38439             22547           1251                 NaN           NaN   \n38987             47738            479                 NaN           NaN   \n3260              61133           1006                 NaN           NaN   \n31164             58371            909                 NaN           NaN   \n35241             49199            614                 NaN           NaN   \n\n       Severity Level  Device Information  Network Segment  \n25453             NaN                 NaN              NaN  \n8214              NaN                 NaN              NaN  \n1552              NaN                 NaN              NaN  \n24343             NaN                 NaN              NaN  \n34951             NaN                 NaN              NaN  \n38439             NaN                 NaN              NaN  \n38987             NaN                 NaN              NaN  \n3260              NaN                 NaN              NaN  \n31164             NaN                 NaN              NaN  \n35241             NaN                 NaN              NaN  ",
      "text/html": "<div>\n<style scoped>\n    .dataframe tbody tr th:only-of-type {\n        vertical-align: middle;\n    }\n\n    .dataframe tbody tr th {\n        vertical-align: top;\n    }\n\n    .dataframe thead th {\n        text-align: right;\n    }\n</style>\n<table border=\"1\" class=\"dataframe\">\n  <thead>\n    <tr style=\"text-align: right;\">\n      <th></th>\n      <th>Timestamp</th>\n      <th>Source IP Address</th>\n      <th>Destination IP Address</th>\n      <th>Source Port</th>\n      <th>Destination Port</th>\n      <th>Packet Length</th>\n      <th>Malware Indicators</th>\n      <th>Action Taken</th>\n      <th>Severity Level</th>\n      <th>Device Information</th>\n      <th>Network Segment</th>\n    </tr>\n  </thead>\n  <tbody>\n    <tr>\n      <th>25453</th>\n      <td>NaN</td>\n      <td>NaN</td>\n      <td>NaN</td>\n      <td>33347</td>\n      <td>3027</td>\n      <td>535</td>\n      <td>NaN</td>\n      <td>NaN</td>\n      <td>NaN</td>\n      <td>NaN</td>\n      <td>NaN</td>\n    </tr>\n    <tr>\n      <th>8214</th>\n      <td>NaN</td>\n      <td>NaN</td>\n      <td>NaN</td>\n      <td>18202</td>\n      <td>4056</td>\n      <td>1343</td>\n      <td>NaN</td>\n      <td>NaN</td>\n      <td>NaN</td>\n      <td>NaN</td>\n      <td>NaN</td>\n    </tr>\n    <tr>\n      <th>1552</th>\n      <td>NaN</td>\n      <td>NaN</td>\n      <td>NaN</td>\n      <td>2237</td>\n      <td>40001</td>\n      <td>367</td>\n      <td>NaN</td>\n      <td>NaN</td>\n      <td>NaN</td>\n      <td>NaN</td>\n      <td>NaN</td>\n    </tr>\n    <tr>\n      <th>24343</th>\n      <td>NaN</td>\n      <td>NaN</td>\n      <td>NaN</td>\n      <td>28104</td>\n      <td>61332</td>\n      <td>553</td>\n      <td>NaN</td>\n      <td>NaN</td>\n      <td>NaN</td>\n      <td>NaN</td>\n      <td>NaN</td>\n    </tr>\n    <tr>\n      <th>34951</th>\n      <td>NaN</td>\n      <td>NaN</td>\n      <td>NaN</td>\n      <td>41290</td>\n      <td>59167</td>\n      <td>833</td>\n      <td>NaN</td>\n      <td>NaN</td>\n      <td>NaN</td>\n      <td>NaN</td>\n      <td>NaN</td>\n    </tr>\n    <tr>\n      <th>38439</th>\n      <td>NaN</td>\n      <td>NaN</td>\n      <td>NaN</td>\n      <td>7305</td>\n      <td>22547</td>\n      <td>1251</td>\n      <td>NaN</td>\n      <td>NaN</td>\n      <td>NaN</td>\n      <td>NaN</td>\n      <td>NaN</td>\n    </tr>\n    <tr>\n      <th>38987</th>\n      <td>NaN</td>\n      <td>NaN</td>\n      <td>NaN</td>\n      <td>24107</td>\n      <td>47738</td>\n      <td>479</td>\n      <td>NaN</td>\n      <td>NaN</td>\n      <td>NaN</td>\n      <td>NaN</td>\n      <td>NaN</td>\n    </tr>\n    <tr>\n      <th>3260</th>\n      <td>NaN</td>\n      <td>NaN</td>\n      <td>NaN</td>\n      <td>52891</td>\n      <td>61133</td>\n      <td>1006</td>\n      <td>NaN</td>\n      <td>NaN</td>\n      <td>NaN</td>\n      <td>NaN</td>\n      <td>NaN</td>\n    </tr>\n    <tr>\n      <th>31164</th>\n      <td>NaN</td>\n      <td>NaN</td>\n      <td>NaN</td>\n      <td>56786</td>\n      <td>58371</td>\n      <td>909</td>\n      <td>NaN</td>\n      <td>NaN</td>\n      <td>NaN</td>\n      <td>NaN</td>\n      <td>NaN</td>\n    </tr>\n    <tr>\n      <th>35241</th>\n      <td>NaN</td>\n      <td>NaN</td>\n      <td>NaN</td>\n      <td>40412</td>\n      <td>49199</td>\n      <td>614</td>\n      <td>NaN</td>\n      <td>NaN</td>\n      <td>NaN</td>\n      <td>NaN</td>\n      <td>NaN</td>\n    </tr>\n  </tbody>\n</table>\n</div>"
     },
     "execution_count": 20,
     "metadata": {},
     "output_type": "execute_result"
    }
   ],
   "source": [
    "new_X.head(10)"
   ],
   "metadata": {
    "collapsed": false,
    "ExecuteTime": {
     "end_time": "2023-11-22T18:01:55.592189Z",
     "start_time": "2023-11-22T18:01:55.568634Z"
    }
   },
   "id": "40a3c09c87e05df0"
  },
  {
   "cell_type": "code",
   "execution_count": 21,
   "outputs": [
    {
     "name": "stdout",
     "output_type": "stream",
     "text": [
      "<class 'pandas.core.frame.DataFrame'>\n",
      "Index: 32000 entries, 25453 to 18831\n",
      "Data columns (total 11 columns):\n",
      " #   Column                  Non-Null Count  Dtype  \n",
      "---  ------                  --------------  -----  \n",
      " 0   Timestamp               0 non-null      float64\n",
      " 1   Source IP Address       0 non-null      float64\n",
      " 2   Destination IP Address  0 non-null      float64\n",
      " 3   Source Port             32000 non-null  int64  \n",
      " 4   Destination Port        32000 non-null  int64  \n",
      " 5   Packet Length           32000 non-null  int64  \n",
      " 6   Malware Indicators      0 non-null      float64\n",
      " 7   Action Taken            0 non-null      float64\n",
      " 8   Severity Level          0 non-null      float64\n",
      " 9   Device Information      0 non-null      float64\n",
      " 10  Network Segment         0 non-null      float64\n",
      "dtypes: float64(8), int64(3)\n",
      "memory usage: 2.9 MB\n"
     ]
    }
   ],
   "source": [
    "new_X.info()"
   ],
   "metadata": {
    "collapsed": false,
    "ExecuteTime": {
     "end_time": "2023-11-22T18:01:59.551062Z",
     "start_time": "2023-11-22T18:01:59.517352Z"
    }
   },
   "id": "4a7c7b7b065018d6"
  },
  {
   "cell_type": "code",
   "execution_count": 22,
   "outputs": [
    {
     "data": {
      "text/plain": "Timestamp                                               2021-03-07 15:49:10\nSource IP Address                                            154.110.114.50\nDestination IP Address                                         53.68.238.80\nSource Port                                                           53209\nDestination Port                                                      41302\nPacket Length                                                          1333\nMalware Indicators                                             IoC Detected\nAction Taken                                                         Logged\nSeverity Level                                                          Low\nDevice Information        Mozilla/5.0 (iPod; U; CPU iPhone OS 3_0 like M...\nNetwork Segment                                                   Segment B\nName: 411, dtype: object"
     },
     "execution_count": 22,
     "metadata": {},
     "output_type": "execute_result"
    }
   ],
   "source": [
    "X_train.loc[411,numerical_idx]"
   ],
   "metadata": {
    "collapsed": false,
    "ExecuteTime": {
     "end_time": "2023-11-22T18:02:01.594271Z",
     "start_time": "2023-11-22T18:02:01.561407Z"
    }
   },
   "id": "c622b0d2ef0c182f"
  },
  {
   "cell_type": "code",
   "execution_count": 23,
   "outputs": [
    {
     "data": {
      "text/plain": "       Timestamp  Source IP Address  Destination IP Address  Source Port  \\\n25453          1                  1                       1            0   \n8214           1                  1                       1            0   \n1552           1                  1                       1            0   \n24343          1                  1                       1            0   \n34951          1                  1                       1            0   \n38439          1                  1                       1            0   \n38987          1                  1                       1            0   \n3260           1                  1                       1            0   \n31164          1                  1                       1            0   \n35241          1                  1                       1            0   \n\n       Destination Port  Packet Length  Malware Indicators  Action Taken  \\\n25453                 0              0                   1             1   \n8214                  0              0                   1             1   \n1552                  0              0                   1             1   \n24343                 0              0                   1             1   \n34951                 0              0                   1             1   \n38439                 0              0                   1             1   \n38987                 0              0                   1             1   \n3260                  0              0                   1             1   \n31164                 0              0                   1             1   \n35241                 0              0                   1             1   \n\n       Severity Level  Device Information  Network Segment  \n25453               1                   1                1  \n8214                1                   1                1  \n1552                1                   1                1  \n24343               1                   1                1  \n34951               1                   1                1  \n38439               1                   1                1  \n38987               1                   1                1  \n3260                1                   1                1  \n31164               1                   1                1  \n35241               1                   1                1  ",
      "text/html": "<div>\n<style scoped>\n    .dataframe tbody tr th:only-of-type {\n        vertical-align: middle;\n    }\n\n    .dataframe tbody tr th {\n        vertical-align: top;\n    }\n\n    .dataframe thead th {\n        text-align: right;\n    }\n</style>\n<table border=\"1\" class=\"dataframe\">\n  <thead>\n    <tr style=\"text-align: right;\">\n      <th></th>\n      <th>Timestamp</th>\n      <th>Source IP Address</th>\n      <th>Destination IP Address</th>\n      <th>Source Port</th>\n      <th>Destination Port</th>\n      <th>Packet Length</th>\n      <th>Malware Indicators</th>\n      <th>Action Taken</th>\n      <th>Severity Level</th>\n      <th>Device Information</th>\n      <th>Network Segment</th>\n    </tr>\n  </thead>\n  <tbody>\n    <tr>\n      <th>25453</th>\n      <td>1</td>\n      <td>1</td>\n      <td>1</td>\n      <td>0</td>\n      <td>0</td>\n      <td>0</td>\n      <td>1</td>\n      <td>1</td>\n      <td>1</td>\n      <td>1</td>\n      <td>1</td>\n    </tr>\n    <tr>\n      <th>8214</th>\n      <td>1</td>\n      <td>1</td>\n      <td>1</td>\n      <td>0</td>\n      <td>0</td>\n      <td>0</td>\n      <td>1</td>\n      <td>1</td>\n      <td>1</td>\n      <td>1</td>\n      <td>1</td>\n    </tr>\n    <tr>\n      <th>1552</th>\n      <td>1</td>\n      <td>1</td>\n      <td>1</td>\n      <td>0</td>\n      <td>0</td>\n      <td>0</td>\n      <td>1</td>\n      <td>1</td>\n      <td>1</td>\n      <td>1</td>\n      <td>1</td>\n    </tr>\n    <tr>\n      <th>24343</th>\n      <td>1</td>\n      <td>1</td>\n      <td>1</td>\n      <td>0</td>\n      <td>0</td>\n      <td>0</td>\n      <td>1</td>\n      <td>1</td>\n      <td>1</td>\n      <td>1</td>\n      <td>1</td>\n    </tr>\n    <tr>\n      <th>34951</th>\n      <td>1</td>\n      <td>1</td>\n      <td>1</td>\n      <td>0</td>\n      <td>0</td>\n      <td>0</td>\n      <td>1</td>\n      <td>1</td>\n      <td>1</td>\n      <td>1</td>\n      <td>1</td>\n    </tr>\n    <tr>\n      <th>38439</th>\n      <td>1</td>\n      <td>1</td>\n      <td>1</td>\n      <td>0</td>\n      <td>0</td>\n      <td>0</td>\n      <td>1</td>\n      <td>1</td>\n      <td>1</td>\n      <td>1</td>\n      <td>1</td>\n    </tr>\n    <tr>\n      <th>38987</th>\n      <td>1</td>\n      <td>1</td>\n      <td>1</td>\n      <td>0</td>\n      <td>0</td>\n      <td>0</td>\n      <td>1</td>\n      <td>1</td>\n      <td>1</td>\n      <td>1</td>\n      <td>1</td>\n    </tr>\n    <tr>\n      <th>3260</th>\n      <td>1</td>\n      <td>1</td>\n      <td>1</td>\n      <td>0</td>\n      <td>0</td>\n      <td>0</td>\n      <td>1</td>\n      <td>1</td>\n      <td>1</td>\n      <td>1</td>\n      <td>1</td>\n    </tr>\n    <tr>\n      <th>31164</th>\n      <td>1</td>\n      <td>1</td>\n      <td>1</td>\n      <td>0</td>\n      <td>0</td>\n      <td>0</td>\n      <td>1</td>\n      <td>1</td>\n      <td>1</td>\n      <td>1</td>\n      <td>1</td>\n    </tr>\n    <tr>\n      <th>35241</th>\n      <td>1</td>\n      <td>1</td>\n      <td>1</td>\n      <td>0</td>\n      <td>0</td>\n      <td>0</td>\n      <td>1</td>\n      <td>1</td>\n      <td>1</td>\n      <td>1</td>\n      <td>1</td>\n    </tr>\n  </tbody>\n</table>\n</div>"
     },
     "execution_count": 23,
     "metadata": {},
     "output_type": "execute_result"
    }
   ],
   "source": [
    "# extract NaNs\n",
    "new_X.isna().astype(int).head(10)"
   ],
   "metadata": {
    "collapsed": false,
    "ExecuteTime": {
     "end_time": "2023-11-22T18:02:04.628308Z",
     "start_time": "2023-11-22T18:02:04.581739Z"
    }
   },
   "id": "bd4d11f77964e7a9"
  },
  {
   "cell_type": "code",
   "execution_count": 24,
   "outputs": [
    {
     "data": {
      "text/plain": "       Timestamp  Source IP Address  Destination IP Address  Source Port  \\\n25453        NaN                NaN                     NaN        33347   \n8214         NaN                NaN                     NaN        18202   \n1552         NaN                NaN                     NaN         2237   \n24343        NaN                NaN                     NaN        28104   \n34951        NaN                NaN                     NaN        41290   \n38439        NaN                NaN                     NaN         7305   \n38987        NaN                NaN                     NaN        24107   \n3260         NaN                NaN                     NaN        52891   \n31164        NaN                NaN                     NaN        56786   \n35241        NaN                NaN                     NaN        40412   \n\n       Destination Port  Packet Length  Malware Indicators  Action Taken  \\\n25453              3027            535                 NaN           NaN   \n8214               4056           1343                 NaN           NaN   \n1552              40001            367                 NaN           NaN   \n24343             61332            553                 NaN           NaN   \n34951             59167            833                 NaN           NaN   \n38439             22547           1251                 NaN           NaN   \n38987             47738            479                 NaN           NaN   \n3260              61133           1006                 NaN           NaN   \n31164             58371            909                 NaN           NaN   \n35241             49199            614                 NaN           NaN   \n\n       Severity Level  Device Information  ...  Source IP Address  \\\n25453             NaN                 NaN  ...                  1   \n8214              NaN                 NaN  ...                  1   \n1552              NaN                 NaN  ...                  1   \n24343             NaN                 NaN  ...                  1   \n34951             NaN                 NaN  ...                  1   \n38439             NaN                 NaN  ...                  1   \n38987             NaN                 NaN  ...                  1   \n3260              NaN                 NaN  ...                  1   \n31164             NaN                 NaN  ...                  1   \n35241             NaN                 NaN  ...                  1   \n\n       Destination IP Address  Source Port  Destination Port  Packet Length  \\\n25453                       1            0                 0              0   \n8214                        1            0                 0              0   \n1552                        1            0                 0              0   \n24343                       1            0                 0              0   \n34951                       1            0                 0              0   \n38439                       1            0                 0              0   \n38987                       1            0                 0              0   \n3260                        1            0                 0              0   \n31164                       1            0                 0              0   \n35241                       1            0                 0              0   \n\n       Malware Indicators  Action Taken  Severity Level  Device Information  \\\n25453                   1             1               1                   1   \n8214                    1             1               1                   1   \n1552                    1             1               1                   1   \n24343                   1             1               1                   1   \n34951                   1             1               1                   1   \n38439                   1             1               1                   1   \n38987                   1             1               1                   1   \n3260                    1             1               1                   1   \n31164                   1             1               1                   1   \n35241                   1             1               1                   1   \n\n       Network Segment  \n25453                1  \n8214                 1  \n1552                 1  \n24343                1  \n34951                1  \n38439                1  \n38987                1  \n3260                 1  \n31164                1  \n35241                1  \n\n[10 rows x 22 columns]",
      "text/html": "<div>\n<style scoped>\n    .dataframe tbody tr th:only-of-type {\n        vertical-align: middle;\n    }\n\n    .dataframe tbody tr th {\n        vertical-align: top;\n    }\n\n    .dataframe thead th {\n        text-align: right;\n    }\n</style>\n<table border=\"1\" class=\"dataframe\">\n  <thead>\n    <tr style=\"text-align: right;\">\n      <th></th>\n      <th>Timestamp</th>\n      <th>Source IP Address</th>\n      <th>Destination IP Address</th>\n      <th>Source Port</th>\n      <th>Destination Port</th>\n      <th>Packet Length</th>\n      <th>Malware Indicators</th>\n      <th>Action Taken</th>\n      <th>Severity Level</th>\n      <th>Device Information</th>\n      <th>...</th>\n      <th>Source IP Address</th>\n      <th>Destination IP Address</th>\n      <th>Source Port</th>\n      <th>Destination Port</th>\n      <th>Packet Length</th>\n      <th>Malware Indicators</th>\n      <th>Action Taken</th>\n      <th>Severity Level</th>\n      <th>Device Information</th>\n      <th>Network Segment</th>\n    </tr>\n  </thead>\n  <tbody>\n    <tr>\n      <th>25453</th>\n      <td>NaN</td>\n      <td>NaN</td>\n      <td>NaN</td>\n      <td>33347</td>\n      <td>3027</td>\n      <td>535</td>\n      <td>NaN</td>\n      <td>NaN</td>\n      <td>NaN</td>\n      <td>NaN</td>\n      <td>...</td>\n      <td>1</td>\n      <td>1</td>\n      <td>0</td>\n      <td>0</td>\n      <td>0</td>\n      <td>1</td>\n      <td>1</td>\n      <td>1</td>\n      <td>1</td>\n      <td>1</td>\n    </tr>\n    <tr>\n      <th>8214</th>\n      <td>NaN</td>\n      <td>NaN</td>\n      <td>NaN</td>\n      <td>18202</td>\n      <td>4056</td>\n      <td>1343</td>\n      <td>NaN</td>\n      <td>NaN</td>\n      <td>NaN</td>\n      <td>NaN</td>\n      <td>...</td>\n      <td>1</td>\n      <td>1</td>\n      <td>0</td>\n      <td>0</td>\n      <td>0</td>\n      <td>1</td>\n      <td>1</td>\n      <td>1</td>\n      <td>1</td>\n      <td>1</td>\n    </tr>\n    <tr>\n      <th>1552</th>\n      <td>NaN</td>\n      <td>NaN</td>\n      <td>NaN</td>\n      <td>2237</td>\n      <td>40001</td>\n      <td>367</td>\n      <td>NaN</td>\n      <td>NaN</td>\n      <td>NaN</td>\n      <td>NaN</td>\n      <td>...</td>\n      <td>1</td>\n      <td>1</td>\n      <td>0</td>\n      <td>0</td>\n      <td>0</td>\n      <td>1</td>\n      <td>1</td>\n      <td>1</td>\n      <td>1</td>\n      <td>1</td>\n    </tr>\n    <tr>\n      <th>24343</th>\n      <td>NaN</td>\n      <td>NaN</td>\n      <td>NaN</td>\n      <td>28104</td>\n      <td>61332</td>\n      <td>553</td>\n      <td>NaN</td>\n      <td>NaN</td>\n      <td>NaN</td>\n      <td>NaN</td>\n      <td>...</td>\n      <td>1</td>\n      <td>1</td>\n      <td>0</td>\n      <td>0</td>\n      <td>0</td>\n      <td>1</td>\n      <td>1</td>\n      <td>1</td>\n      <td>1</td>\n      <td>1</td>\n    </tr>\n    <tr>\n      <th>34951</th>\n      <td>NaN</td>\n      <td>NaN</td>\n      <td>NaN</td>\n      <td>41290</td>\n      <td>59167</td>\n      <td>833</td>\n      <td>NaN</td>\n      <td>NaN</td>\n      <td>NaN</td>\n      <td>NaN</td>\n      <td>...</td>\n      <td>1</td>\n      <td>1</td>\n      <td>0</td>\n      <td>0</td>\n      <td>0</td>\n      <td>1</td>\n      <td>1</td>\n      <td>1</td>\n      <td>1</td>\n      <td>1</td>\n    </tr>\n    <tr>\n      <th>38439</th>\n      <td>NaN</td>\n      <td>NaN</td>\n      <td>NaN</td>\n      <td>7305</td>\n      <td>22547</td>\n      <td>1251</td>\n      <td>NaN</td>\n      <td>NaN</td>\n      <td>NaN</td>\n      <td>NaN</td>\n      <td>...</td>\n      <td>1</td>\n      <td>1</td>\n      <td>0</td>\n      <td>0</td>\n      <td>0</td>\n      <td>1</td>\n      <td>1</td>\n      <td>1</td>\n      <td>1</td>\n      <td>1</td>\n    </tr>\n    <tr>\n      <th>38987</th>\n      <td>NaN</td>\n      <td>NaN</td>\n      <td>NaN</td>\n      <td>24107</td>\n      <td>47738</td>\n      <td>479</td>\n      <td>NaN</td>\n      <td>NaN</td>\n      <td>NaN</td>\n      <td>NaN</td>\n      <td>...</td>\n      <td>1</td>\n      <td>1</td>\n      <td>0</td>\n      <td>0</td>\n      <td>0</td>\n      <td>1</td>\n      <td>1</td>\n      <td>1</td>\n      <td>1</td>\n      <td>1</td>\n    </tr>\n    <tr>\n      <th>3260</th>\n      <td>NaN</td>\n      <td>NaN</td>\n      <td>NaN</td>\n      <td>52891</td>\n      <td>61133</td>\n      <td>1006</td>\n      <td>NaN</td>\n      <td>NaN</td>\n      <td>NaN</td>\n      <td>NaN</td>\n      <td>...</td>\n      <td>1</td>\n      <td>1</td>\n      <td>0</td>\n      <td>0</td>\n      <td>0</td>\n      <td>1</td>\n      <td>1</td>\n      <td>1</td>\n      <td>1</td>\n      <td>1</td>\n    </tr>\n    <tr>\n      <th>31164</th>\n      <td>NaN</td>\n      <td>NaN</td>\n      <td>NaN</td>\n      <td>56786</td>\n      <td>58371</td>\n      <td>909</td>\n      <td>NaN</td>\n      <td>NaN</td>\n      <td>NaN</td>\n      <td>NaN</td>\n      <td>...</td>\n      <td>1</td>\n      <td>1</td>\n      <td>0</td>\n      <td>0</td>\n      <td>0</td>\n      <td>1</td>\n      <td>1</td>\n      <td>1</td>\n      <td>1</td>\n      <td>1</td>\n    </tr>\n    <tr>\n      <th>35241</th>\n      <td>NaN</td>\n      <td>NaN</td>\n      <td>NaN</td>\n      <td>40412</td>\n      <td>49199</td>\n      <td>614</td>\n      <td>NaN</td>\n      <td>NaN</td>\n      <td>NaN</td>\n      <td>NaN</td>\n      <td>...</td>\n      <td>1</td>\n      <td>1</td>\n      <td>0</td>\n      <td>0</td>\n      <td>0</td>\n      <td>1</td>\n      <td>1</td>\n      <td>1</td>\n      <td>1</td>\n      <td>1</td>\n    </tr>\n  </tbody>\n</table>\n<p>10 rows × 22 columns</p>\n</div>"
     },
     "execution_count": 24,
     "metadata": {},
     "output_type": "execute_result"
    }
   ],
   "source": [
    "new_X = pd.concat( [new_X, new_X.isna().astype(int)], \n",
    "               axis=1)\n",
    "\n",
    "new_X.head(10)"
   ],
   "metadata": {
    "collapsed": false,
    "ExecuteTime": {
     "end_time": "2023-11-22T18:02:05.577862Z",
     "start_time": "2023-11-22T18:02:05.550206Z"
    }
   },
   "id": "5cabe8adb6c4bfc4"
  },
  {
   "cell_type": "code",
   "execution_count": 25,
   "outputs": [
    {
     "data": {
      "text/plain": "(32000, 22)"
     },
     "execution_count": 25,
     "metadata": {},
     "output_type": "execute_result"
    }
   ],
   "source": [
    "new_X.shape"
   ],
   "metadata": {
    "collapsed": false,
    "ExecuteTime": {
     "end_time": "2023-11-22T18:02:06.458190Z",
     "start_time": "2023-11-22T18:02:06.419149Z"
    }
   },
   "id": "e23275ffc7e90b7a"
  },
  {
   "cell_type": "code",
   "execution_count": 26,
   "outputs": [
    {
     "data": {
      "text/plain": "       Timestamp  Source IP Address  Destination IP Address  Source Port  \\\n25453        0.0                0.0                     0.0        33347   \n8214         0.0                0.0                     0.0        18202   \n1552         0.0                0.0                     0.0         2237   \n24343        0.0                0.0                     0.0        28104   \n34951        0.0                0.0                     0.0        41290   \n\n       Destination Port  Packet Length  Malware Indicators  Action Taken  \\\n25453              3027            535                 0.0           0.0   \n8214               4056           1343                 0.0           0.0   \n1552              40001            367                 0.0           0.0   \n24343             61332            553                 0.0           0.0   \n34951             59167            833                 0.0           0.0   \n\n       Severity Level  Device Information  ...  Source IP Address  \\\n25453             0.0                 0.0  ...                  1   \n8214              0.0                 0.0  ...                  1   \n1552              0.0                 0.0  ...                  1   \n24343             0.0                 0.0  ...                  1   \n34951             0.0                 0.0  ...                  1   \n\n       Destination IP Address  Source Port  Destination Port  Packet Length  \\\n25453                       1            0                 0              0   \n8214                        1            0                 0              0   \n1552                        1            0                 0              0   \n24343                       1            0                 0              0   \n34951                       1            0                 0              0   \n\n       Malware Indicators  Action Taken  Severity Level  Device Information  \\\n25453                   1             1               1                   1   \n8214                    1             1               1                   1   \n1552                    1             1               1                   1   \n24343                   1             1               1                   1   \n34951                   1             1               1                   1   \n\n       Network Segment  \n25453                1  \n8214                 1  \n1552                 1  \n24343                1  \n34951                1  \n\n[5 rows x 22 columns]",
      "text/html": "<div>\n<style scoped>\n    .dataframe tbody tr th:only-of-type {\n        vertical-align: middle;\n    }\n\n    .dataframe tbody tr th {\n        vertical-align: top;\n    }\n\n    .dataframe thead th {\n        text-align: right;\n    }\n</style>\n<table border=\"1\" class=\"dataframe\">\n  <thead>\n    <tr style=\"text-align: right;\">\n      <th></th>\n      <th>Timestamp</th>\n      <th>Source IP Address</th>\n      <th>Destination IP Address</th>\n      <th>Source Port</th>\n      <th>Destination Port</th>\n      <th>Packet Length</th>\n      <th>Malware Indicators</th>\n      <th>Action Taken</th>\n      <th>Severity Level</th>\n      <th>Device Information</th>\n      <th>...</th>\n      <th>Source IP Address</th>\n      <th>Destination IP Address</th>\n      <th>Source Port</th>\n      <th>Destination Port</th>\n      <th>Packet Length</th>\n      <th>Malware Indicators</th>\n      <th>Action Taken</th>\n      <th>Severity Level</th>\n      <th>Device Information</th>\n      <th>Network Segment</th>\n    </tr>\n  </thead>\n  <tbody>\n    <tr>\n      <th>25453</th>\n      <td>0.0</td>\n      <td>0.0</td>\n      <td>0.0</td>\n      <td>33347</td>\n      <td>3027</td>\n      <td>535</td>\n      <td>0.0</td>\n      <td>0.0</td>\n      <td>0.0</td>\n      <td>0.0</td>\n      <td>...</td>\n      <td>1</td>\n      <td>1</td>\n      <td>0</td>\n      <td>0</td>\n      <td>0</td>\n      <td>1</td>\n      <td>1</td>\n      <td>1</td>\n      <td>1</td>\n      <td>1</td>\n    </tr>\n    <tr>\n      <th>8214</th>\n      <td>0.0</td>\n      <td>0.0</td>\n      <td>0.0</td>\n      <td>18202</td>\n      <td>4056</td>\n      <td>1343</td>\n      <td>0.0</td>\n      <td>0.0</td>\n      <td>0.0</td>\n      <td>0.0</td>\n      <td>...</td>\n      <td>1</td>\n      <td>1</td>\n      <td>0</td>\n      <td>0</td>\n      <td>0</td>\n      <td>1</td>\n      <td>1</td>\n      <td>1</td>\n      <td>1</td>\n      <td>1</td>\n    </tr>\n    <tr>\n      <th>1552</th>\n      <td>0.0</td>\n      <td>0.0</td>\n      <td>0.0</td>\n      <td>2237</td>\n      <td>40001</td>\n      <td>367</td>\n      <td>0.0</td>\n      <td>0.0</td>\n      <td>0.0</td>\n      <td>0.0</td>\n      <td>...</td>\n      <td>1</td>\n      <td>1</td>\n      <td>0</td>\n      <td>0</td>\n      <td>0</td>\n      <td>1</td>\n      <td>1</td>\n      <td>1</td>\n      <td>1</td>\n      <td>1</td>\n    </tr>\n    <tr>\n      <th>24343</th>\n      <td>0.0</td>\n      <td>0.0</td>\n      <td>0.0</td>\n      <td>28104</td>\n      <td>61332</td>\n      <td>553</td>\n      <td>0.0</td>\n      <td>0.0</td>\n      <td>0.0</td>\n      <td>0.0</td>\n      <td>...</td>\n      <td>1</td>\n      <td>1</td>\n      <td>0</td>\n      <td>0</td>\n      <td>0</td>\n      <td>1</td>\n      <td>1</td>\n      <td>1</td>\n      <td>1</td>\n      <td>1</td>\n    </tr>\n    <tr>\n      <th>34951</th>\n      <td>0.0</td>\n      <td>0.0</td>\n      <td>0.0</td>\n      <td>41290</td>\n      <td>59167</td>\n      <td>833</td>\n      <td>0.0</td>\n      <td>0.0</td>\n      <td>0.0</td>\n      <td>0.0</td>\n      <td>...</td>\n      <td>1</td>\n      <td>1</td>\n      <td>0</td>\n      <td>0</td>\n      <td>0</td>\n      <td>1</td>\n      <td>1</td>\n      <td>1</td>\n      <td>1</td>\n      <td>1</td>\n    </tr>\n  </tbody>\n</table>\n<p>5 rows × 22 columns</p>\n</div>"
     },
     "execution_count": 26,
     "metadata": {},
     "output_type": "execute_result"
    }
   ],
   "source": [
    "# fill NaN\n",
    "new_X = new_X.fillna(0.0)\n",
    "# try with mean/median\n",
    "\n",
    "new_X.head()"
   ],
   "metadata": {
    "collapsed": false,
    "ExecuteTime": {
     "end_time": "2023-11-22T18:02:07.189947Z",
     "start_time": "2023-11-22T18:02:07.168603Z"
    }
   },
   "id": "d413b8bcfa8a1967"
  },
  {
   "cell_type": "code",
   "execution_count": null,
   "outputs": [],
   "source": [],
   "metadata": {
    "collapsed": false,
    "ExecuteTime": {
     "start_time": "2023-11-22T17:55:34.370610Z"
    }
   },
   "id": "f12437d9f09593b8"
  }
 ],
 "metadata": {
  "kernelspec": {
   "display_name": "Python 3",
   "language": "python",
   "name": "python3"
  },
  "language_info": {
   "codemirror_mode": {
    "name": "ipython",
    "version": 2
   },
   "file_extension": ".py",
   "mimetype": "text/x-python",
   "name": "python",
   "nbconvert_exporter": "python",
   "pygments_lexer": "ipython2",
   "version": "2.7.6"
  }
 },
 "nbformat": 4,
 "nbformat_minor": 5
}
