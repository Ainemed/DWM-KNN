{
 "cells": [
  {
   "cell_type": "markdown",
   "source": [
    "# 1) Introduction"
   ],
   "metadata": {
    "collapsed": false
   },
   "id": "ca4fdea65353a0b4"
  },
  {
   "cell_type": "code",
   "execution_count": 1,
   "id": "initial_id",
   "metadata": {
    "collapsed": true,
    "ExecuteTime": {
     "end_time": "2023-12-22T11:11:54.494056Z",
     "start_time": "2023-12-22T11:11:53.961674Z"
    }
   },
   "outputs": [
    {
     "data": {
      "text/plain": "      Protocol  Packet Length Packet Type Traffic Type Malware Indicators  \\\n0         ICMP            503        Data         HTTP       IoC Detected   \n1         ICMP           1174        Data         HTTP       IoC Detected   \n2          UDP            306     Control         HTTP       IoC Detected   \n3          UDP            385        Data         HTTP       Not Detected   \n4          TCP           1462        Data          DNS       Not Detected   \n...        ...            ...         ...          ...                ...   \n39995      UDP           1428     Control         HTTP       IoC Detected   \n39996      UDP           1184     Control         HTTP       IoC Detected   \n39997      UDP           1043        Data          DNS       IoC Detected   \n39998      UDP            483        Data          FTP       IoC Detected   \n39999     ICMP           1175     Control         HTTP       Not Detected   \n\n       Anomaly Scores  Alerts/Warnings Attack Type Attack Signature  \\\n0               28.67     Not Detected     Malware  Known Pattern B   \n1               51.50     Not Detected     Malware  Known Pattern A   \n2               87.42  Alert Triggered        DDoS  Known Pattern B   \n3               15.79  Alert Triggered     Malware  Known Pattern B   \n4                0.52  Alert Triggered        DDoS  Known Pattern B   \n...               ...              ...         ...              ...   \n39995           39.28     Not Detected        DDoS  Known Pattern A   \n39996           27.25     Not Detected        DDoS  Known Pattern A   \n39997           31.01     Not Detected        DDoS  Known Pattern B   \n39998           97.85  Alert Triggered     Malware  Known Pattern B   \n39999           34.63  Alert Triggered   Intrusion  Known Pattern B   \n\n      Action Taken Severity Level Network Segment Firewall Logs  \\\n0           Logged            Low       Segment A      Log Data   \n1          Blocked            Low       Segment B      Log Data   \n2          Ignored            Low       Segment C      Log Data   \n3          Blocked         Medium       Segment B  Not Detected   \n4          Blocked            Low       Segment C  Not Detected   \n...            ...            ...             ...           ...   \n39995       Logged         Medium       Segment A      Log Data   \n39996       Logged           High       Segment C      Log Data   \n39997      Blocked            Low       Segment C      Log Data   \n39998      Ignored            Low       Segment B      Log Data   \n39999       Logged         Medium       Segment A      Log Data   \n\n      IDS/IPS Alerts Log Source  \n0       Not Detected     Server  \n1       Not Detected   Firewall  \n2         Alert Data   Firewall  \n3         Alert Data   Firewall  \n4         Alert Data   Firewall  \n...              ...        ...  \n39995     Alert Data   Firewall  \n39996   Not Detected   Firewall  \n39997     Alert Data     Server  \n39998   Not Detected     Server  \n39999     Alert Data   Firewall  \n\n[40000 rows x 15 columns]",
      "text/html": "<div>\n<style scoped>\n    .dataframe tbody tr th:only-of-type {\n        vertical-align: middle;\n    }\n\n    .dataframe tbody tr th {\n        vertical-align: top;\n    }\n\n    .dataframe thead th {\n        text-align: right;\n    }\n</style>\n<table border=\"1\" class=\"dataframe\">\n  <thead>\n    <tr style=\"text-align: right;\">\n      <th></th>\n      <th>Protocol</th>\n      <th>Packet Length</th>\n      <th>Packet Type</th>\n      <th>Traffic Type</th>\n      <th>Malware Indicators</th>\n      <th>Anomaly Scores</th>\n      <th>Alerts/Warnings</th>\n      <th>Attack Type</th>\n      <th>Attack Signature</th>\n      <th>Action Taken</th>\n      <th>Severity Level</th>\n      <th>Network Segment</th>\n      <th>Firewall Logs</th>\n      <th>IDS/IPS Alerts</th>\n      <th>Log Source</th>\n    </tr>\n  </thead>\n  <tbody>\n    <tr>\n      <th>0</th>\n      <td>ICMP</td>\n      <td>503</td>\n      <td>Data</td>\n      <td>HTTP</td>\n      <td>IoC Detected</td>\n      <td>28.67</td>\n      <td>Not Detected</td>\n      <td>Malware</td>\n      <td>Known Pattern B</td>\n      <td>Logged</td>\n      <td>Low</td>\n      <td>Segment A</td>\n      <td>Log Data</td>\n      <td>Not Detected</td>\n      <td>Server</td>\n    </tr>\n    <tr>\n      <th>1</th>\n      <td>ICMP</td>\n      <td>1174</td>\n      <td>Data</td>\n      <td>HTTP</td>\n      <td>IoC Detected</td>\n      <td>51.50</td>\n      <td>Not Detected</td>\n      <td>Malware</td>\n      <td>Known Pattern A</td>\n      <td>Blocked</td>\n      <td>Low</td>\n      <td>Segment B</td>\n      <td>Log Data</td>\n      <td>Not Detected</td>\n      <td>Firewall</td>\n    </tr>\n    <tr>\n      <th>2</th>\n      <td>UDP</td>\n      <td>306</td>\n      <td>Control</td>\n      <td>HTTP</td>\n      <td>IoC Detected</td>\n      <td>87.42</td>\n      <td>Alert Triggered</td>\n      <td>DDoS</td>\n      <td>Known Pattern B</td>\n      <td>Ignored</td>\n      <td>Low</td>\n      <td>Segment C</td>\n      <td>Log Data</td>\n      <td>Alert Data</td>\n      <td>Firewall</td>\n    </tr>\n    <tr>\n      <th>3</th>\n      <td>UDP</td>\n      <td>385</td>\n      <td>Data</td>\n      <td>HTTP</td>\n      <td>Not Detected</td>\n      <td>15.79</td>\n      <td>Alert Triggered</td>\n      <td>Malware</td>\n      <td>Known Pattern B</td>\n      <td>Blocked</td>\n      <td>Medium</td>\n      <td>Segment B</td>\n      <td>Not Detected</td>\n      <td>Alert Data</td>\n      <td>Firewall</td>\n    </tr>\n    <tr>\n      <th>4</th>\n      <td>TCP</td>\n      <td>1462</td>\n      <td>Data</td>\n      <td>DNS</td>\n      <td>Not Detected</td>\n      <td>0.52</td>\n      <td>Alert Triggered</td>\n      <td>DDoS</td>\n      <td>Known Pattern B</td>\n      <td>Blocked</td>\n      <td>Low</td>\n      <td>Segment C</td>\n      <td>Not Detected</td>\n      <td>Alert Data</td>\n      <td>Firewall</td>\n    </tr>\n    <tr>\n      <th>...</th>\n      <td>...</td>\n      <td>...</td>\n      <td>...</td>\n      <td>...</td>\n      <td>...</td>\n      <td>...</td>\n      <td>...</td>\n      <td>...</td>\n      <td>...</td>\n      <td>...</td>\n      <td>...</td>\n      <td>...</td>\n      <td>...</td>\n      <td>...</td>\n      <td>...</td>\n    </tr>\n    <tr>\n      <th>39995</th>\n      <td>UDP</td>\n      <td>1428</td>\n      <td>Control</td>\n      <td>HTTP</td>\n      <td>IoC Detected</td>\n      <td>39.28</td>\n      <td>Not Detected</td>\n      <td>DDoS</td>\n      <td>Known Pattern A</td>\n      <td>Logged</td>\n      <td>Medium</td>\n      <td>Segment A</td>\n      <td>Log Data</td>\n      <td>Alert Data</td>\n      <td>Firewall</td>\n    </tr>\n    <tr>\n      <th>39996</th>\n      <td>UDP</td>\n      <td>1184</td>\n      <td>Control</td>\n      <td>HTTP</td>\n      <td>IoC Detected</td>\n      <td>27.25</td>\n      <td>Not Detected</td>\n      <td>DDoS</td>\n      <td>Known Pattern A</td>\n      <td>Logged</td>\n      <td>High</td>\n      <td>Segment C</td>\n      <td>Log Data</td>\n      <td>Not Detected</td>\n      <td>Firewall</td>\n    </tr>\n    <tr>\n      <th>39997</th>\n      <td>UDP</td>\n      <td>1043</td>\n      <td>Data</td>\n      <td>DNS</td>\n      <td>IoC Detected</td>\n      <td>31.01</td>\n      <td>Not Detected</td>\n      <td>DDoS</td>\n      <td>Known Pattern B</td>\n      <td>Blocked</td>\n      <td>Low</td>\n      <td>Segment C</td>\n      <td>Log Data</td>\n      <td>Alert Data</td>\n      <td>Server</td>\n    </tr>\n    <tr>\n      <th>39998</th>\n      <td>UDP</td>\n      <td>483</td>\n      <td>Data</td>\n      <td>FTP</td>\n      <td>IoC Detected</td>\n      <td>97.85</td>\n      <td>Alert Triggered</td>\n      <td>Malware</td>\n      <td>Known Pattern B</td>\n      <td>Ignored</td>\n      <td>Low</td>\n      <td>Segment B</td>\n      <td>Log Data</td>\n      <td>Not Detected</td>\n      <td>Server</td>\n    </tr>\n    <tr>\n      <th>39999</th>\n      <td>ICMP</td>\n      <td>1175</td>\n      <td>Control</td>\n      <td>HTTP</td>\n      <td>Not Detected</td>\n      <td>34.63</td>\n      <td>Alert Triggered</td>\n      <td>Intrusion</td>\n      <td>Known Pattern B</td>\n      <td>Logged</td>\n      <td>Medium</td>\n      <td>Segment A</td>\n      <td>Log Data</td>\n      <td>Alert Data</td>\n      <td>Firewall</td>\n    </tr>\n  </tbody>\n</table>\n<p>40000 rows × 15 columns</p>\n</div>"
     },
     "execution_count": 1,
     "metadata": {},
     "output_type": "execute_result"
    }
   ],
   "source": [
    "import numpy as np \n",
    "import pandas as pd \n",
    "from sklearn.model_selection import train_test_split\n",
    "\n",
    "\n",
    "data = pd.read_csv(\"cybersecurity_attacks.csv\")\n",
    "data_proc = data\n",
    "\n",
    "data_proc = data_proc.drop(columns=[\"Payload Data\",\"Timestamp\",\"Source IP Address\",\"Destination IP Address\",\"Source Port\",\"Destination Port\",\"Device Information\",\"Proxy Information\",\"User Information\",\"Geo-location Data\"])\n",
    "data_proc[\"Malware Indicators\"].fillna(\"Not Detected\", inplace=True)\n",
    "data_proc[\"Alerts/Warnings\"].fillna(\"Not Detected\", inplace=True)\n",
    "data_proc[\"Firewall Logs\"].fillna(\"Not Detected\", inplace=True)\n",
    "data_proc[\"IDS/IPS Alerts\"].fillna(\"Not Detected\", inplace=True)\n",
    "\n",
    "data_proc"
   ]
  },
  {
   "cell_type": "code",
   "execution_count": 2,
   "outputs": [],
   "source": [
    "from sklearn.preprocessing import OneHotEncoder, OrdinalEncoder\n",
    "from sklearn.preprocessing import LabelEncoder\n",
    "\n",
    "def process_data_x(train, test):\n",
    "    # Numerical feature in my Dataset\n",
    "    numerical_idx = [\"Packet Length\", \"Anomaly Scores\"]\n",
    "    \n",
    "    # convert numeric integer to float and concat them with already float feature \n",
    "     # There are no NaN element in these feature\n",
    "    X_train = pd.concat([pd.to_numeric(train[numerical_idx[0]],downcast='float'), train[numerical_idx[1]]], axis=1)\n",
    "    \n",
    "    oneHot_idx = train.columns.drop(['Packet Length', 'Anomaly Scores','Severity Level'])\n",
    "    \n",
    "    oh = OneHotEncoder(sparse_output=False, handle_unknown='ignore')\n",
    "    ord = OrdinalEncoder(categories=[['Low','Medium','High']])\n",
    "    \n",
    "    ord_encoded = ord.fit_transform(train[['Severity Level']])\n",
    "    oneHot_encoded = oh.fit_transform(train[oneHot_idx])\n",
    "    \n",
    "    for i, col in enumerate(oh.get_feature_names_out()):\n",
    "        X_train[col] = oneHot_encoded[:,i]\n",
    "   \n",
    "    for i, col in enumerate(ord.get_feature_names_out()):\n",
    "        X_train[col] = ord_encoded[:,i]\n",
    "        \n",
    "    # --------------\n",
    "    # process test\n",
    "    X_test = pd.concat([pd.to_numeric(test[numerical_idx[0]],downcast='float'), test[numerical_idx[1]]], axis=1)\n",
    "    \n",
    "    oneHot_idx = test.columns.drop(['Packet Length', 'Anomaly Scores','Severity Level'])\n",
    "    \n",
    "    oh = OneHotEncoder(sparse_output=False, handle_unknown='ignore')\n",
    "    ord = OrdinalEncoder(categories=[['Low','Medium','High']])\n",
    "    \n",
    "    ord_encoded = ord.fit_transform(test[['Severity Level']])\n",
    "    oneHot_encoded = oh.fit_transform(test[oneHot_idx])\n",
    "    \n",
    "    for i, col in enumerate(oh.get_feature_names_out()):\n",
    "        X_test[col] = oneHot_encoded[:,i]\n",
    "   \n",
    "    for i, col in enumerate(ord.get_feature_names_out()):\n",
    "        X_test[col] = ord_encoded[:,i]\n",
    "    \n",
    "    \n",
    "    return X_train, X_test"
   ],
   "metadata": {
    "collapsed": false,
    "ExecuteTime": {
     "end_time": "2023-12-22T11:11:55.920419Z",
     "start_time": "2023-12-22T11:11:55.862756Z"
    }
   },
   "id": "a1f69d175c39425c"
  },
  {
   "cell_type": "code",
   "execution_count": 3,
   "outputs": [],
   "source": [
    "# label_enc = LabelEncoder()\n",
    "def process_data_y(train,test):\n",
    "    \n",
    "    y_train_enc = label_enc.fit_transform(train)\n",
    "    y_test_enc = label_enc.transform(test)\n",
    "    \n",
    "    return  y_train_enc,y_test_enc"
   ],
   "metadata": {
    "collapsed": false,
    "ExecuteTime": {
     "end_time": "2023-12-22T11:11:57.273057Z",
     "start_time": "2023-12-22T11:11:57.262810Z"
    }
   },
   "id": "1e4f8ca7b5ab3476"
  },
  {
   "cell_type": "code",
   "execution_count": 4,
   "outputs": [],
   "source": [
    "# drop label columns\n",
    "X = data_proc.drop(columns=[\"Attack Type\"])\n",
    "\n",
    "# isolate y\n",
    "y = data_proc[\"Attack Type\"]\n",
    "\n",
    "# split in Train-set(80%) and Testing-set(20%)\n",
    "X_train, X_test, y_train, y_test = train_test_split( X, y, test_size=0.2, random_state=42) \n",
    "\n",
    "X_train_enc, X_test_enc = process_data_x(X_train, X_test)\n",
    "\n",
    "label_enc = LabelEncoder()\n",
    "\n",
    "y_train_enc = label_enc.fit_transform(y_train)\n",
    "y_test_enc = label_enc.transform(y_test)"
   ],
   "metadata": {
    "collapsed": false,
    "ExecuteTime": {
     "end_time": "2023-12-22T11:11:58.149315Z",
     "start_time": "2023-12-22T11:11:58.059454Z"
    }
   },
   "id": "cd594366f77d60d7"
  },
  {
   "cell_type": "code",
   "execution_count": 5,
   "outputs": [
    {
     "data": {
      "text/plain": "array(['DDoS', 'Intrusion', 'Malware'], dtype=object)"
     },
     "execution_count": 5,
     "metadata": {},
     "output_type": "execute_result"
    }
   ],
   "source": [
    "label_enc.classes_"
   ],
   "metadata": {
    "collapsed": false,
    "ExecuteTime": {
     "end_time": "2023-12-22T11:11:59.311261Z",
     "start_time": "2023-12-22T11:11:59.290476Z"
    }
   },
   "id": "a4f49127ef216008"
  },
  {
   "cell_type": "code",
   "execution_count": 6,
   "outputs": [
    {
     "data": {
      "text/plain": "array(['Malware', 'Intrusion', 'DDoS'], dtype=object)"
     },
     "execution_count": 6,
     "metadata": {},
     "output_type": "execute_result"
    }
   ],
   "source": [
    "label_enc.inverse_transform([2,1,0])"
   ],
   "metadata": {
    "collapsed": false,
    "ExecuteTime": {
     "end_time": "2023-12-22T11:12:00.286544Z",
     "start_time": "2023-12-22T11:12:00.249489Z"
    }
   },
   "id": "5eb785de2237d107"
  },
  {
   "cell_type": "markdown",
   "source": [
    "# 2) First Part"
   ],
   "metadata": {
    "collapsed": false
   },
   "id": "2709e4b15ff55c0"
  },
  {
   "cell_type": "code",
   "execution_count": 7,
   "outputs": [
    {
     "name": "stdout",
     "output_type": "stream",
     "text": [
      "Accuracy 0.332\n"
     ]
    },
    {
     "data": {
      "text/plain": "array([1, 2, 2, ..., 2, 1, 2])"
     },
     "execution_count": 7,
     "metadata": {},
     "output_type": "execute_result"
    }
   ],
   "source": [
    "%matplotlib inline\n",
    "\n",
    "import matplotlib.pyplot as plt\n",
    "from sklearn.neighbors import KNeighborsClassifier\n",
    "from sklearn.metrics import accuracy_score\n",
    "\n",
    "kNN = KNeighborsClassifier(n_neighbors=10)\n",
    "\n",
    "kNN.fit(X_train_enc,y_train_enc)\n",
    "\n",
    "y_pred = kNN.predict(X_test_enc)\n",
    "\n",
    "acc = accuracy_score(y_true=y_test_enc, y_pred=y_pred)\n",
    "print (f\"Accuracy {acc:.3f}\")\n",
    "y_train_enc"
   ],
   "metadata": {
    "collapsed": false,
    "ExecuteTime": {
     "end_time": "2023-12-22T11:12:04.323007Z",
     "start_time": "2023-12-22T11:12:03.529214Z"
    }
   },
   "id": "4a757a3a57ec2694"
  },
  {
   "cell_type": "code",
   "execution_count": 8,
   "outputs": [
    {
     "name": "stdout",
     "output_type": "stream",
     "text": [
      "Feature Anomaly Scores -> Scale:  100.00\n",
      "Feature Protocol_ICMP -> Scale:    1.00\n",
      "Feature Protocol_TCP -> Scale:    1.00\n",
      "Feature Protocol_UDP -> Scale:    1.00\n",
      "Feature Packet Type_Control -> Scale:    1.00\n",
      "Feature Packet Type_Data -> Scale:    1.00\n",
      "Feature Traffic Type_DNS -> Scale:    1.00\n",
      "Feature Traffic Type_FTP -> Scale:    1.00\n",
      "Feature Traffic Type_HTTP -> Scale:    1.00\n",
      "Feature Malware Indicators_IoC Detected -> Scale:    1.00\n",
      "Feature Malware Indicators_Not Detected -> Scale:    1.00\n",
      "Feature Alerts/Warnings_Alert Triggered -> Scale:    1.00\n",
      "Feature Alerts/Warnings_Not Detected -> Scale:    1.00\n",
      "Feature Attack Signature_Known Pattern A -> Scale:    1.00\n",
      "Feature Attack Signature_Known Pattern B -> Scale:    1.00\n",
      "Feature Action Taken_Blocked -> Scale:    1.00\n",
      "Feature Action Taken_Ignored -> Scale:    1.00\n",
      "Feature Action Taken_Logged -> Scale:    1.00\n",
      "Feature Network Segment_Segment A -> Scale:    1.00\n",
      "Feature Network Segment_Segment B -> Scale:    1.00\n",
      "Feature Network Segment_Segment C -> Scale:    1.00\n",
      "Feature Firewall Logs_Log Data -> Scale:    1.00\n",
      "Feature Firewall Logs_Not Detected -> Scale:    1.00\n",
      "Feature IDS/IPS Alerts_Alert Data -> Scale:    1.00\n",
      "Feature IDS/IPS Alerts_Not Detected -> Scale:    1.00\n",
      "Feature Log Source_Firewall -> Scale:    1.00\n",
      "Feature Log Source_Server -> Scale:    1.00\n",
      "Feature Severity Level -> Scale:    2.00\n"
     ]
    }
   ],
   "source": [
    "X = X_train_enc.loc[:,'Anomaly Scores' :]\n",
    "for f in X.columns:\n",
    "    print (\"Feature {:2s} -> Scale: {:7.2f}\".format(f, X.loc[:,f].max() - X.loc[:,f].min()) )"
   ],
   "metadata": {
    "collapsed": false,
    "ExecuteTime": {
     "end_time": "2023-12-22T11:12:06.827979Z",
     "start_time": "2023-12-22T11:12:06.789255Z"
    }
   },
   "id": "1542d2f52b1dad8a"
  },
  {
   "cell_type": "code",
   "execution_count": 9,
   "outputs": [
    {
     "name": "stdout",
     "output_type": "stream",
     "text": [
      "k:  1 | Accuracy 0.335\n",
      "k:  2 | Accuracy 0.332\n",
      "k:  3 | Accuracy 0.332\n",
      "k:  4 | Accuracy 0.334\n",
      "k:  5 | Accuracy 0.333\n",
      "k:  6 | Accuracy 0.336\n",
      "k:  7 | Accuracy 0.332\n",
      "k:  8 | Accuracy 0.335\n",
      "k:  9 | Accuracy 0.333\n",
      "k: 10 | Accuracy 0.332\n"
     ]
    }
   ],
   "source": [
    "for k in range(1,11):\n",
    "    kNN = KNeighborsClassifier(n_neighbors=k)\n",
    "    kNN.fit(X_train_enc,y_train_enc)\n",
    "    y_pred = kNN.predict(X_test_enc)\n",
    "\n",
    "    # compute Accuracy\n",
    "    acc = accuracy_score(y_true=y_test_enc, y_pred=y_pred)\n",
    "    print (f\"k: {k:2d} | Accuracy {acc:.3f}\" )"
   ],
   "metadata": {
    "collapsed": false,
    "ExecuteTime": {
     "end_time": "2023-12-22T11:12:14.933286Z",
     "start_time": "2023-12-22T11:12:11.087948Z"
    }
   },
   "id": "270849a35f12ee73"
  },
  {
   "cell_type": "markdown",
   "source": [
    "### MinMax Scaler"
   ],
   "metadata": {
    "collapsed": false
   },
   "id": "dc5ffe333325855"
  },
  {
   "cell_type": "code",
   "execution_count": 17,
   "outputs": [
    {
     "data": {
      "text/plain": "array([[0.46309192, 0.0717    , 1.        , ..., 0.        , 1.        ,\n        0.5       ],\n       [0.96309192, 0.54      , 0.        , ..., 0.        , 1.        ,\n        1.        ],\n       [0.73467967, 0.8275    , 0.        , ..., 1.        , 0.        ,\n        0.5       ],\n       ...,\n       [0.21239554, 0.8218    , 1.        , ..., 0.        , 1.        ,\n        0.5       ],\n       [0.0724234 , 0.1707    , 0.        , ..., 0.        , 1.        ,\n        1.        ],\n       [0.32869081, 0.6994    , 0.        , ..., 1.        , 0.        ,\n        1.        ]])"
     },
     "execution_count": 17,
     "metadata": {},
     "output_type": "execute_result"
    }
   ],
   "source": [
    "from sklearn.preprocessing import MinMaxScaler\n",
    "\n",
    "scaler = MinMaxScaler()\n",
    "scaler.fit(X_train_enc)\n",
    "\n",
    "# prova = scaler.fit_transform(X_train_enc)\n",
    "# prova"
   ],
   "metadata": {
    "collapsed": false,
    "ExecuteTime": {
     "end_time": "2023-12-22T11:16:56.855044Z",
     "start_time": "2023-12-22T11:16:56.806267Z"
    }
   },
   "id": "62847ee6931c6ab4"
  },
  {
   "cell_type": "code",
   "execution_count": 18,
   "outputs": [
    {
     "name": "stdout",
     "output_type": "stream",
     "text": [
      "Feature Packet Length -> Scale: 1436.00\n",
      "Feature Anomaly Scores -> Scale:  100.00\n",
      "Feature Protocol_ICMP -> Scale:    1.00\n",
      "Feature Protocol_TCP -> Scale:    1.00\n",
      "Feature Protocol_UDP -> Scale:    1.00\n",
      "Feature Packet Type_Control -> Scale:    1.00\n",
      "Feature Packet Type_Data -> Scale:    1.00\n",
      "Feature Traffic Type_DNS -> Scale:    1.00\n",
      "Feature Traffic Type_FTP -> Scale:    1.00\n",
      "Feature Traffic Type_HTTP -> Scale:    1.00\n",
      "Feature Malware Indicators_IoC Detected -> Scale:    1.00\n",
      "Feature Malware Indicators_Not Detected -> Scale:    1.00\n",
      "Feature Alerts/Warnings_Alert Triggered -> Scale:    1.00\n",
      "Feature Alerts/Warnings_Not Detected -> Scale:    1.00\n",
      "Feature Attack Signature_Known Pattern A -> Scale:    1.00\n",
      "Feature Attack Signature_Known Pattern B -> Scale:    1.00\n",
      "Feature Action Taken_Blocked -> Scale:    1.00\n",
      "Feature Action Taken_Ignored -> Scale:    1.00\n",
      "Feature Action Taken_Logged -> Scale:    1.00\n",
      "Feature Network Segment_Segment A -> Scale:    1.00\n",
      "Feature Network Segment_Segment B -> Scale:    1.00\n",
      "Feature Network Segment_Segment C -> Scale:    1.00\n",
      "Feature Firewall Logs_Log Data -> Scale:    1.00\n",
      "Feature Firewall Logs_Not Detected -> Scale:    1.00\n",
      "Feature IDS/IPS Alerts_Alert Data -> Scale:    1.00\n",
      "Feature IDS/IPS Alerts_Not Detected -> Scale:    1.00\n",
      "Feature Log Source_Firewall -> Scale:    1.00\n",
      "Feature Log Source_Server -> Scale:    1.00\n",
      "Feature Severity Level -> Scale:    2.00\n"
     ]
    }
   ],
   "source": [
    "X = X_train_enc.loc[:,'Packet Length' :]\n",
    "for f in X.columns:\n",
    "    print (\"Feature {:2s} -> Scale: {:7.2f}\".format(f, X.loc[:,f].max() - X.loc[:,f].min()) )"
   ],
   "metadata": {
    "collapsed": false,
    "ExecuteTime": {
     "end_time": "2023-12-22T11:17:02.156621Z",
     "start_time": "2023-12-22T11:17:02.133587Z"
    }
   },
   "id": "59d9efd556c56ea3"
  },
  {
   "cell_type": "code",
   "execution_count": 19,
   "outputs": [
    {
     "name": "stdout",
     "output_type": "stream",
     "text": [
      "k:  1 | Accuracy 0.339\n",
      "k:  2 | Accuracy 0.330\n",
      "k:  3 | Accuracy 0.336\n",
      "k:  4 | Accuracy 0.339\n",
      "k:  5 | Accuracy 0.335\n",
      "k:  6 | Accuracy 0.329\n",
      "k:  7 | Accuracy 0.336\n",
      "k:  8 | Accuracy 0.328\n",
      "k:  9 | Accuracy 0.330\n",
      "k: 10 | Accuracy 0.333\n"
     ]
    }
   ],
   "source": [
    "for k in range(1,11):\n",
    "\n",
    "    kNN = KNeighborsClassifier(n_neighbors=k)\n",
    "    kNN.fit( scaler.transform(X_train_enc), y_train_enc )\n",
    "    y_pred = kNN.predict( scaler.transform(X_test_enc) )\n",
    "    \n",
    "    # compute Accuracy\n",
    "    acc = accuracy_score(y_true=y_test_enc, y_pred=y_pred)\n",
    "    print (\"k: {:2d} | Accuracy {:.3f}\".format(k,acc) )\n"
   ],
   "metadata": {
    "collapsed": false,
    "ExecuteTime": {
     "end_time": "2023-12-22T11:24:11.130599Z",
     "start_time": "2023-12-22T11:24:07.000436Z"
    }
   },
   "id": "2ab6bd601619719d"
  },
  {
   "cell_type": "code",
   "execution_count": 13,
   "outputs": [
    {
     "data": {
      "text/plain": "       Packet Length  Anomaly Scores  Protocol_ICMP  Protocol_TCP  \\\n14307          729.0            7.17            1.0           0.0   \n17812         1447.0           54.00            0.0           1.0   \n11020         1119.0           82.75            0.0           1.0   \n15158          706.0           86.47            1.0           0.0   \n24990         1202.0           63.21            1.0           0.0   \n...              ...             ...            ...           ...   \n6265          1214.0           69.40            0.0           0.0   \n11284         1246.0           80.79            0.0           0.0   \n38158          369.0           82.18            1.0           0.0   \n860            168.0           17.07            0.0           0.0   \n15795          536.0           69.94            0.0           0.0   \n\n       Protocol_UDP  Packet Type_Control  Packet Type_Data  Traffic Type_DNS  \\\n14307           0.0                  1.0               0.0               0.0   \n17812           0.0                  1.0               0.0               0.0   \n11020           0.0                  0.0               1.0               1.0   \n15158           0.0                  0.0               1.0               0.0   \n24990           0.0                  0.0               1.0               0.0   \n...             ...                  ...               ...               ...   \n6265            1.0                  0.0               1.0               1.0   \n11284           1.0                  1.0               0.0               0.0   \n38158           0.0                  1.0               0.0               0.0   \n860             1.0                  1.0               0.0               0.0   \n15795           1.0                  0.0               1.0               1.0   \n\n       Traffic Type_FTP  Traffic Type_HTTP  ...  Network Segment_Segment A  \\\n14307               0.0                1.0  ...                        0.0   \n17812               0.0                1.0  ...                        1.0   \n11020               0.0                0.0  ...                        1.0   \n15158               0.0                1.0  ...                        0.0   \n24990               1.0                0.0  ...                        0.0   \n...                 ...                ...  ...                        ...   \n6265                0.0                0.0  ...                        0.0   \n11284               1.0                0.0  ...                        0.0   \n38158               1.0                0.0  ...                        1.0   \n860                 0.0                1.0  ...                        1.0   \n15795               0.0                0.0  ...                        1.0   \n\n       Network Segment_Segment B  Network Segment_Segment C  \\\n14307                        0.0                        1.0   \n17812                        0.0                        0.0   \n11020                        0.0                        0.0   \n15158                        0.0                        1.0   \n24990                        1.0                        0.0   \n...                          ...                        ...   \n6265                         0.0                        1.0   \n11284                        1.0                        0.0   \n38158                        0.0                        0.0   \n860                          0.0                        0.0   \n15795                        0.0                        0.0   \n\n       Firewall Logs_Log Data  Firewall Logs_Not Detected  \\\n14307                     0.0                         1.0   \n17812                     0.0                         1.0   \n11020                     0.0                         1.0   \n15158                     1.0                         0.0   \n24990                     1.0                         0.0   \n...                       ...                         ...   \n6265                      1.0                         0.0   \n11284                     0.0                         1.0   \n38158                     0.0                         1.0   \n860                       0.0                         1.0   \n15795                     1.0                         0.0   \n\n       IDS/IPS Alerts_Alert Data  IDS/IPS Alerts_Not Detected  \\\n14307                        1.0                          0.0   \n17812                        1.0                          0.0   \n11020                        0.0                          1.0   \n15158                        1.0                          0.0   \n24990                        0.0                          1.0   \n...                          ...                          ...   \n6265                         0.0                          1.0   \n11284                        0.0                          1.0   \n38158                        0.0                          1.0   \n860                          1.0                          0.0   \n15795                        1.0                          0.0   \n\n       Log Source_Firewall  Log Source_Server  Severity Level  \n14307                  0.0                1.0             1.0  \n17812                  0.0                1.0             2.0  \n11020                  1.0                0.0             1.0  \n15158                  0.0                1.0             2.0  \n24990                  1.0                0.0             2.0  \n...                    ...                ...             ...  \n6265                   1.0                0.0             2.0  \n11284                  1.0                0.0             2.0  \n38158                  0.0                1.0             1.0  \n860                    0.0                1.0             2.0  \n15795                  1.0                0.0             2.0  \n\n[32000 rows x 29 columns]",
      "text/html": "<div>\n<style scoped>\n    .dataframe tbody tr th:only-of-type {\n        vertical-align: middle;\n    }\n\n    .dataframe tbody tr th {\n        vertical-align: top;\n    }\n\n    .dataframe thead th {\n        text-align: right;\n    }\n</style>\n<table border=\"1\" class=\"dataframe\">\n  <thead>\n    <tr style=\"text-align: right;\">\n      <th></th>\n      <th>Packet Length</th>\n      <th>Anomaly Scores</th>\n      <th>Protocol_ICMP</th>\n      <th>Protocol_TCP</th>\n      <th>Protocol_UDP</th>\n      <th>Packet Type_Control</th>\n      <th>Packet Type_Data</th>\n      <th>Traffic Type_DNS</th>\n      <th>Traffic Type_FTP</th>\n      <th>Traffic Type_HTTP</th>\n      <th>...</th>\n      <th>Network Segment_Segment A</th>\n      <th>Network Segment_Segment B</th>\n      <th>Network Segment_Segment C</th>\n      <th>Firewall Logs_Log Data</th>\n      <th>Firewall Logs_Not Detected</th>\n      <th>IDS/IPS Alerts_Alert Data</th>\n      <th>IDS/IPS Alerts_Not Detected</th>\n      <th>Log Source_Firewall</th>\n      <th>Log Source_Server</th>\n      <th>Severity Level</th>\n    </tr>\n  </thead>\n  <tbody>\n    <tr>\n      <th>14307</th>\n      <td>729.0</td>\n      <td>7.17</td>\n      <td>1.0</td>\n      <td>0.0</td>\n      <td>0.0</td>\n      <td>1.0</td>\n      <td>0.0</td>\n      <td>0.0</td>\n      <td>0.0</td>\n      <td>1.0</td>\n      <td>...</td>\n      <td>0.0</td>\n      <td>0.0</td>\n      <td>1.0</td>\n      <td>0.0</td>\n      <td>1.0</td>\n      <td>1.0</td>\n      <td>0.0</td>\n      <td>0.0</td>\n      <td>1.0</td>\n      <td>1.0</td>\n    </tr>\n    <tr>\n      <th>17812</th>\n      <td>1447.0</td>\n      <td>54.00</td>\n      <td>0.0</td>\n      <td>1.0</td>\n      <td>0.0</td>\n      <td>1.0</td>\n      <td>0.0</td>\n      <td>0.0</td>\n      <td>0.0</td>\n      <td>1.0</td>\n      <td>...</td>\n      <td>1.0</td>\n      <td>0.0</td>\n      <td>0.0</td>\n      <td>0.0</td>\n      <td>1.0</td>\n      <td>1.0</td>\n      <td>0.0</td>\n      <td>0.0</td>\n      <td>1.0</td>\n      <td>2.0</td>\n    </tr>\n    <tr>\n      <th>11020</th>\n      <td>1119.0</td>\n      <td>82.75</td>\n      <td>0.0</td>\n      <td>1.0</td>\n      <td>0.0</td>\n      <td>0.0</td>\n      <td>1.0</td>\n      <td>1.0</td>\n      <td>0.0</td>\n      <td>0.0</td>\n      <td>...</td>\n      <td>1.0</td>\n      <td>0.0</td>\n      <td>0.0</td>\n      <td>0.0</td>\n      <td>1.0</td>\n      <td>0.0</td>\n      <td>1.0</td>\n      <td>1.0</td>\n      <td>0.0</td>\n      <td>1.0</td>\n    </tr>\n    <tr>\n      <th>15158</th>\n      <td>706.0</td>\n      <td>86.47</td>\n      <td>1.0</td>\n      <td>0.0</td>\n      <td>0.0</td>\n      <td>0.0</td>\n      <td>1.0</td>\n      <td>0.0</td>\n      <td>0.0</td>\n      <td>1.0</td>\n      <td>...</td>\n      <td>0.0</td>\n      <td>0.0</td>\n      <td>1.0</td>\n      <td>1.0</td>\n      <td>0.0</td>\n      <td>1.0</td>\n      <td>0.0</td>\n      <td>0.0</td>\n      <td>1.0</td>\n      <td>2.0</td>\n    </tr>\n    <tr>\n      <th>24990</th>\n      <td>1202.0</td>\n      <td>63.21</td>\n      <td>1.0</td>\n      <td>0.0</td>\n      <td>0.0</td>\n      <td>0.0</td>\n      <td>1.0</td>\n      <td>0.0</td>\n      <td>1.0</td>\n      <td>0.0</td>\n      <td>...</td>\n      <td>0.0</td>\n      <td>1.0</td>\n      <td>0.0</td>\n      <td>1.0</td>\n      <td>0.0</td>\n      <td>0.0</td>\n      <td>1.0</td>\n      <td>1.0</td>\n      <td>0.0</td>\n      <td>2.0</td>\n    </tr>\n    <tr>\n      <th>...</th>\n      <td>...</td>\n      <td>...</td>\n      <td>...</td>\n      <td>...</td>\n      <td>...</td>\n      <td>...</td>\n      <td>...</td>\n      <td>...</td>\n      <td>...</td>\n      <td>...</td>\n      <td>...</td>\n      <td>...</td>\n      <td>...</td>\n      <td>...</td>\n      <td>...</td>\n      <td>...</td>\n      <td>...</td>\n      <td>...</td>\n      <td>...</td>\n      <td>...</td>\n      <td>...</td>\n    </tr>\n    <tr>\n      <th>6265</th>\n      <td>1214.0</td>\n      <td>69.40</td>\n      <td>0.0</td>\n      <td>0.0</td>\n      <td>1.0</td>\n      <td>0.0</td>\n      <td>1.0</td>\n      <td>1.0</td>\n      <td>0.0</td>\n      <td>0.0</td>\n      <td>...</td>\n      <td>0.0</td>\n      <td>0.0</td>\n      <td>1.0</td>\n      <td>1.0</td>\n      <td>0.0</td>\n      <td>0.0</td>\n      <td>1.0</td>\n      <td>1.0</td>\n      <td>0.0</td>\n      <td>2.0</td>\n    </tr>\n    <tr>\n      <th>11284</th>\n      <td>1246.0</td>\n      <td>80.79</td>\n      <td>0.0</td>\n      <td>0.0</td>\n      <td>1.0</td>\n      <td>1.0</td>\n      <td>0.0</td>\n      <td>0.0</td>\n      <td>1.0</td>\n      <td>0.0</td>\n      <td>...</td>\n      <td>0.0</td>\n      <td>1.0</td>\n      <td>0.0</td>\n      <td>0.0</td>\n      <td>1.0</td>\n      <td>0.0</td>\n      <td>1.0</td>\n      <td>1.0</td>\n      <td>0.0</td>\n      <td>2.0</td>\n    </tr>\n    <tr>\n      <th>38158</th>\n      <td>369.0</td>\n      <td>82.18</td>\n      <td>1.0</td>\n      <td>0.0</td>\n      <td>0.0</td>\n      <td>1.0</td>\n      <td>0.0</td>\n      <td>0.0</td>\n      <td>1.0</td>\n      <td>0.0</td>\n      <td>...</td>\n      <td>1.0</td>\n      <td>0.0</td>\n      <td>0.0</td>\n      <td>0.0</td>\n      <td>1.0</td>\n      <td>0.0</td>\n      <td>1.0</td>\n      <td>0.0</td>\n      <td>1.0</td>\n      <td>1.0</td>\n    </tr>\n    <tr>\n      <th>860</th>\n      <td>168.0</td>\n      <td>17.07</td>\n      <td>0.0</td>\n      <td>0.0</td>\n      <td>1.0</td>\n      <td>1.0</td>\n      <td>0.0</td>\n      <td>0.0</td>\n      <td>0.0</td>\n      <td>1.0</td>\n      <td>...</td>\n      <td>1.0</td>\n      <td>0.0</td>\n      <td>0.0</td>\n      <td>0.0</td>\n      <td>1.0</td>\n      <td>1.0</td>\n      <td>0.0</td>\n      <td>0.0</td>\n      <td>1.0</td>\n      <td>2.0</td>\n    </tr>\n    <tr>\n      <th>15795</th>\n      <td>536.0</td>\n      <td>69.94</td>\n      <td>0.0</td>\n      <td>0.0</td>\n      <td>1.0</td>\n      <td>0.0</td>\n      <td>1.0</td>\n      <td>1.0</td>\n      <td>0.0</td>\n      <td>0.0</td>\n      <td>...</td>\n      <td>1.0</td>\n      <td>0.0</td>\n      <td>0.0</td>\n      <td>1.0</td>\n      <td>0.0</td>\n      <td>1.0</td>\n      <td>0.0</td>\n      <td>1.0</td>\n      <td>0.0</td>\n      <td>2.0</td>\n    </tr>\n  </tbody>\n</table>\n<p>32000 rows × 29 columns</p>\n</div>"
     },
     "execution_count": 13,
     "metadata": {},
     "output_type": "execute_result"
    }
   ],
   "source": [
    "X_train_enc"
   ],
   "metadata": {
    "collapsed": false,
    "ExecuteTime": {
     "end_time": "2023-12-20T09:53:08.030628Z",
     "start_time": "2023-12-20T09:53:07.985751Z"
    }
   },
   "id": "6b6cf92f137d605"
  },
  {
   "cell_type": "markdown",
   "source": [
    "### Standard Scaler"
   ],
   "metadata": {
    "collapsed": false
   },
   "id": "d97918f5f1d42f14"
  },
  {
   "cell_type": "code",
   "execution_count": 14,
   "outputs": [
    {
     "data": {
      "text/plain": "array([[-0.12018923, -1.49053755,  1.4010578 , ..., -1.0089778 ,\n         1.0089778 , -0.01049714],\n       [ 1.60329158,  0.13317741, -0.71374643, ..., -1.0089778 ,\n         1.0089778 ,  1.2154459 ],\n       [ 0.8159633 ,  1.13001289, -0.71374643, ...,  0.99110208,\n        -0.99110208, -0.01049714],\n       ...,\n       [-0.98433003,  1.11024954,  1.4010578 , ..., -1.0089778 ,\n         1.0089778 , -0.01049714],\n       [-1.46680864, -1.14727942, -0.71374643, ..., -1.0089778 ,\n         1.0089778 ,  1.2154459 ],\n       [-0.58346472,  0.68585767, -0.71374643, ...,  0.99110208,\n        -0.99110208,  1.2154459 ]])"
     },
     "execution_count": 14,
     "metadata": {},
     "output_type": "execute_result"
    }
   ],
   "source": [
    "from sklearn.preprocessing import StandardScaler\n",
    "\n",
    "scaler = StandardScaler()\n",
    "scaler.fit(X_train_enc)\n",
    "\n",
    "prova = scaler.fit_transform(X_train_enc) \n",
    "prova"
   ],
   "metadata": {
    "collapsed": false,
    "ExecuteTime": {
     "end_time": "2023-12-20T09:53:12.384076Z",
     "start_time": "2023-12-20T09:53:12.358248Z"
    }
   },
   "id": "137fb119f6dddea1"
  },
  {
   "cell_type": "code",
   "execution_count": 15,
   "outputs": [
    {
     "name": "stdout",
     "output_type": "stream",
     "text": [
      "Feature Packet Length -> Scale: 1436.00\n",
      "Feature Anomaly Scores -> Scale:  100.00\n",
      "Feature Protocol_ICMP -> Scale:    1.00\n",
      "Feature Protocol_TCP -> Scale:    1.00\n",
      "Feature Protocol_UDP -> Scale:    1.00\n",
      "Feature Packet Type_Control -> Scale:    1.00\n",
      "Feature Packet Type_Data -> Scale:    1.00\n",
      "Feature Traffic Type_DNS -> Scale:    1.00\n",
      "Feature Traffic Type_FTP -> Scale:    1.00\n",
      "Feature Traffic Type_HTTP -> Scale:    1.00\n",
      "Feature Malware Indicators_IoC Detected -> Scale:    1.00\n",
      "Feature Malware Indicators_Not Detected -> Scale:    1.00\n",
      "Feature Alerts/Warnings_Alert Triggered -> Scale:    1.00\n",
      "Feature Alerts/Warnings_Not Detected -> Scale:    1.00\n",
      "Feature Attack Signature_Known Pattern A -> Scale:    1.00\n",
      "Feature Attack Signature_Known Pattern B -> Scale:    1.00\n",
      "Feature Action Taken_Blocked -> Scale:    1.00\n",
      "Feature Action Taken_Ignored -> Scale:    1.00\n",
      "Feature Action Taken_Logged -> Scale:    1.00\n",
      "Feature Network Segment_Segment A -> Scale:    1.00\n",
      "Feature Network Segment_Segment B -> Scale:    1.00\n",
      "Feature Network Segment_Segment C -> Scale:    1.00\n",
      "Feature Firewall Logs_Log Data -> Scale:    1.00\n",
      "Feature Firewall Logs_Not Detected -> Scale:    1.00\n",
      "Feature IDS/IPS Alerts_Alert Data -> Scale:    1.00\n",
      "Feature IDS/IPS Alerts_Not Detected -> Scale:    1.00\n",
      "Feature Log Source_Firewall -> Scale:    1.00\n",
      "Feature Log Source_Server -> Scale:    1.00\n",
      "Feature Severity Level -> Scale:    2.00\n"
     ]
    }
   ],
   "source": [
    "X = X_train_enc.loc[:,'Packet Length' :]\n",
    "for f in X.columns:\n",
    "    print (\"Feature {:2s} -> Scale: {:7.2f}\".format(f, X.loc[:,f].max() - X.loc[:,f].min()) )"
   ],
   "metadata": {
    "collapsed": false,
    "ExecuteTime": {
     "end_time": "2023-12-20T09:53:20.341052Z",
     "start_time": "2023-12-20T09:53:20.314998Z"
    }
   },
   "id": "1c7850cca088c9bb"
  },
  {
   "cell_type": "code",
   "execution_count": 16,
   "outputs": [
    {
     "name": "stdout",
     "output_type": "stream",
     "text": [
      "k:  1 | Accuracy 0.336\n",
      "k:  2 | Accuracy 0.334\n",
      "k:  3 | Accuracy 0.335\n",
      "k:  4 | Accuracy 0.337\n",
      "k:  5 | Accuracy 0.330\n",
      "k:  6 | Accuracy 0.323\n",
      "k:  7 | Accuracy 0.328\n",
      "k:  8 | Accuracy 0.328\n",
      "k:  9 | Accuracy 0.327\n",
      "k: 10 | Accuracy 0.330\n"
     ]
    }
   ],
   "source": [
    "for k in range(1,11):\n",
    "\n",
    "    kNN = KNeighborsClassifier(n_neighbors=k)\n",
    "    kNN.fit( scaler.transform(X_train_enc), y_train_enc )\n",
    "    y_pred = kNN.predict( scaler.transform(X_test_enc) )\n",
    "\n",
    "    # compute Accuracy\n",
    "    acc = accuracy_score(y_true=y_test_enc, y_pred=y_pred)\n",
    "    print (\"k: {:2d} | Accuracy {:.3f}\".format(k,acc) )"
   ],
   "metadata": {
    "collapsed": false,
    "ExecuteTime": {
     "end_time": "2023-12-20T09:53:45.383106Z",
     "start_time": "2023-12-20T09:53:40.882697Z"
    }
   },
   "id": "9ece7d0836955ee8"
  },
  {
   "cell_type": "code",
   "execution_count": 17,
   "outputs": [
    {
     "data": {
      "text/plain": "<Figure size 640x480 with 1 Axes>",
      "image/png": "[encoded data removed]"
     },
     "metadata": {},
     "output_type": "display_data"
    }
   ],
   "source": [
    "# plot\n",
    "ax = plt.subplot()\n",
    "#ax.scatter(y=X_train_enc['Anomaly Scores'],x=X_train_enc['Traffic Type_DNS'],c=y_train_enc, marker='+')\n",
    "        \n",
    "boxplot = X_train_enc.boxplot(column=['Attack Signature_Known Pattern A','Attack Signature_Known Pattern B'])"
   ],
   "metadata": {
    "collapsed": false,
    "ExecuteTime": {
     "end_time": "2023-12-20T09:59:38.203693Z",
     "start_time": "2023-12-20T09:59:37.976524Z"
    }
   },
   "id": "2f3d2730f618de44"
  },
  {
   "cell_type": "code",
   "execution_count": 18,
   "outputs": [
    {
     "data": {
      "text/plain": "Attack Signature\nKnown Pattern A    20076\nKnown Pattern B    19924\nName: count, dtype: int64"
     },
     "execution_count": 18,
     "metadata": {},
     "output_type": "execute_result"
    }
   ],
   "source": [
    "data['Attack Signature'].value_counts()"
   ],
   "metadata": {
    "collapsed": false,
    "ExecuteTime": {
     "end_time": "2023-12-20T09:59:40.287836Z",
     "start_time": "2023-12-20T09:59:40.276500Z"
    }
   },
   "id": "4b3f533992f583ca"
  },
  {
   "cell_type": "code",
   "execution_count": 20,
   "outputs": [
    {
     "data": {
      "text/plain": "<sklearn.metrics._plot.confusion_matrix.ConfusionMatrixDisplay at 0x14a0f7580>"
     },
     "execution_count": 20,
     "metadata": {},
     "output_type": "execute_result"
    },
    {
     "data": {
      "text/plain": "<Figure size 640x480 with 2 Axes>",
      "image/png": "[encoded data removed]"
     },
     "metadata": {},
     "output_type": "display_data"
    }
   ],
   "source": [
    "from sklearn.metrics import ConfusionMatrixDisplay\n",
    "\n",
    "kNN = KNeighborsClassifier(n_neighbors=10)\n",
    "kNN.fit(X_train_enc,y_train_enc)\n",
    "# y_pred = kNN.predict(X_test_enc)\n",
    "\n",
    "ConfusionMatrixDisplay.from_estimator(estimator=kNN,\n",
    "                                      X=X_test_enc, y=y_test_enc,\n",
    "                                      cmap='Blues_r')"
   ],
   "metadata": {
    "collapsed": false,
    "ExecuteTime": {
     "end_time": "2023-12-20T09:59:55.872020Z",
     "start_time": "2023-12-20T09:59:55.179305Z"
    }
   },
   "id": "46922717c71e210f"
  },
  {
   "cell_type": "code",
   "execution_count": 21,
   "outputs": [
    {
     "data": {
      "text/plain": "array([[1082,  838,  716],\n       [1108,  854,  759],\n       [1054,  869,  720]])"
     },
     "execution_count": 21,
     "metadata": {},
     "output_type": "execute_result"
    }
   ],
   "source": [
    "from sklearn.metrics import confusion_matrix\n",
    "\n",
    "conf_stat = confusion_matrix(y_true=y_test_enc, y_pred=kNN.predict(X_test_enc))\n",
    "\n",
    "conf_stat"
   ],
   "metadata": {
    "collapsed": false,
    "ExecuteTime": {
     "end_time": "2023-12-20T09:59:58.267274Z",
     "start_time": "2023-12-20T09:59:57.913843Z"
    }
   },
   "id": "44d7917654eabfa1"
  },
  {
   "cell_type": "code",
   "execution_count": 22,
   "outputs": [
    {
     "data": {
      "text/plain": "Attack Type\nDDoS         13428\nMalware      13307\nIntrusion    13265\nName: count, dtype: int64"
     },
     "execution_count": 22,
     "metadata": {},
     "output_type": "execute_result"
    }
   ],
   "source": [
    "data['Attack Type'].value_counts()"
   ],
   "metadata": {
    "collapsed": false,
    "ExecuteTime": {
     "end_time": "2023-12-20T09:59:59.775843Z",
     "start_time": "2023-12-20T09:59:59.747755Z"
    }
   },
   "id": "459798e1b7679ead"
  },
  {
   "cell_type": "markdown",
   "source": [
    "# Second Step\n",
    "In this step, a different approach is used. We employ the cross-validation method to assess whether, by using different parts of the dataset as the Validation Set, the accuracy will be higher than before.\n"
   ],
   "metadata": {
    "collapsed": false
   },
   "id": "1f0fb99bc7cf43cd"
  },
  {
   "cell_type": "code",
   "execution_count": 23,
   "outputs": [],
   "source": [
    "# drop label columns\n",
    "X = data_proc.drop(columns=[\"Attack Type\"])\n",
    "\n",
    "# isolate y\n",
    "y = data_proc[\"Attack Type\"]\n",
    "\n",
    "# split in Train-set(80%) and Testing-set(20%)\n",
    "X_train, X_test, y_train, y_test = train_test_split( X, y, test_size=0.2, random_state=42) \n",
    "\n",
    "X_train_enc, X_test_enc = process_data_x(X_train, X_test)\n",
    "\n",
    "label_enc = LabelEncoder()\n",
    "\n",
    "y_train_enc = label_enc.fit_transform(y_train)\n",
    "y_test_enc = label_enc.transform(y_test)"
   ],
   "metadata": {
    "collapsed": false,
    "ExecuteTime": {
     "end_time": "2023-12-20T10:00:10.404297Z",
     "start_time": "2023-12-20T10:00:10.277015Z"
    }
   },
   "id": "915642a44e07e841"
  },
  {
   "cell_type": "code",
   "execution_count": 24,
   "outputs": [],
   "source": [
    "from sklearn.model_selection import cross_val_score\n",
    "from sklearn import metrics\n",
    "\n",
    "scores = cross_val_score(kNN,X_train_enc,y_train_enc, cv=5)\n"
   ],
   "metadata": {
    "collapsed": false,
    "ExecuteTime": {
     "end_time": "2023-12-20T10:00:12.910612Z",
     "start_time": "2023-12-20T10:00:11.171312Z"
    }
   },
   "id": "f6c792b6507697cf"
  },
  {
   "cell_type": "code",
   "execution_count": 25,
   "outputs": [
    {
     "data": {
      "text/plain": "array([0.33171875, 0.3396875 , 0.33359375, 0.3359375 , 0.32953125])"
     },
     "execution_count": 25,
     "metadata": {},
     "output_type": "execute_result"
    }
   ],
   "source": [
    "scores"
   ],
   "metadata": {
    "collapsed": false,
    "ExecuteTime": {
     "end_time": "2023-12-20T10:00:13.679157Z",
     "start_time": "2023-12-20T10:00:13.662155Z"
    }
   },
   "id": "9a6dc4b8c2e10ef0"
  },
  {
   "cell_type": "code",
   "execution_count": 26,
   "outputs": [],
   "source": [
    "from sklearn.model_selection import ShuffleSplit\n",
    "\n",
    "cv = ShuffleSplit(n_splits=5, test_size=0.3, random_state=0)\n",
    "scores = cross_val_score(kNN,X_train_enc,y_train_enc, cv=cv)"
   ],
   "metadata": {
    "collapsed": false,
    "ExecuteTime": {
     "end_time": "2023-12-20T10:00:16.996591Z",
     "start_time": "2023-12-20T10:00:15.514173Z"
    }
   },
   "id": "cc564dccc0c2df6"
  },
  {
   "cell_type": "code",
   "execution_count": 27,
   "outputs": [
    {
     "data": {
      "text/plain": "array([0.33166667, 0.33114583, 0.33197917, 0.33427083, 0.3265625 ])"
     },
     "execution_count": 27,
     "metadata": {},
     "output_type": "execute_result"
    }
   ],
   "source": [
    "scores"
   ],
   "metadata": {
    "collapsed": false,
    "ExecuteTime": {
     "end_time": "2023-12-20T10:00:18.047054Z",
     "start_time": "2023-12-20T10:00:18.026354Z"
    }
   },
   "id": "2618f0c39307b189"
  },
  {
   "cell_type": "markdown",
   "source": [
    "pairplot "
   ],
   "metadata": {
    "collapsed": false
   },
   "id": "8456fcd7f16ce56b"
  },
  {
   "cell_type": "code",
   "execution_count": 28,
   "outputs": [
    {
     "data": {
      "text/plain": "<seaborn.axisgrid.PairGrid at 0x106d17700>"
     },
     "execution_count": 28,
     "metadata": {},
     "output_type": "execute_result"
    },
    {
     "data": {
      "text/plain": "<Figure size 250x250 with 1 Axes>",
      "image/png": "[encoded data removed]"
     },
     "metadata": {},
     "output_type": "display_data"
    }
   ],
   "source": [
    "import seaborn as sns\n",
    "sns.pairplot(X_train_enc,y_vars=['Packet Length'], x_vars=['Anomaly Scores',''])"
   ],
   "metadata": {
    "collapsed": false,
    "ExecuteTime": {
     "end_time": "2023-12-20T10:00:21.840839Z",
     "start_time": "2023-12-20T10:00:21.640229Z"
    }
   },
   "id": "fb1abdd99da68e70"
  },
  {
   "cell_type": "code",
   "execution_count": null,
   "outputs": [],
   "source": [],
   "metadata": {
    "collapsed": false,
    "ExecuteTime": {
     "start_time": "2023-12-15T15:35:27.115972Z"
    }
   },
   "id": "a69d116faac808f0"
  }
 ],
 "metadata": {
  "kernelspec": {
   "display_name": "Python 3",
   "language": "python",
   "name": "python3"
  },
  "language_info": {
   "codemirror_mode": {
    "name": "ipython",
    "version": 2
   },
   "file_extension": ".py",
   "mimetype": "text/x-python",
   "name": "python",
   "nbconvert_exporter": "python",
   "pygments_lexer": "ipython2",
   "version": "2.7.6"
  }
 },
 "nbformat": 4,
 "nbformat_minor": 5
}
