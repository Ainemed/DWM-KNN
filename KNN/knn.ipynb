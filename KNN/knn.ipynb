{
 "cells": [
  {
   "cell_type": "markdown",
   "source": [
    "# 1) Introduction"
   ],
   "metadata": {
    "collapsed": false
   },
   "id": "ca4fdea65353a0b4"
  },
  {
   "cell_type": "code",
   "execution_count": 1,
   "id": "initial_id",
   "metadata": {
    "collapsed": true,
    "ExecuteTime": {
     "end_time": "2023-12-09T14:42:55.840433Z",
     "start_time": "2023-12-09T14:42:54.505128Z"
    }
   },
   "outputs": [
    {
     "data": {
      "text/plain": "      Protocol  Packet Length Packet Type Traffic Type Malware Indicators  \\\n0         ICMP            503        Data         HTTP       IoC Detected   \n1         ICMP           1174        Data         HTTP       IoC Detected   \n2          UDP            306     Control         HTTP       IoC Detected   \n3          UDP            385        Data         HTTP       Not Detected   \n4          TCP           1462        Data          DNS       Not Detected   \n...        ...            ...         ...          ...                ...   \n39995      UDP           1428     Control         HTTP       IoC Detected   \n39996      UDP           1184     Control         HTTP       IoC Detected   \n39997      UDP           1043        Data          DNS       IoC Detected   \n39998      UDP            483        Data          FTP       IoC Detected   \n39999     ICMP           1175     Control         HTTP       Not Detected   \n\n       Anomaly Scores  Alerts/Warnings Attack Type Attack Signature  \\\n0               28.67     Not Detected     Malware  Known Pattern B   \n1               51.50     Not Detected     Malware  Known Pattern A   \n2               87.42  Alert Triggered        DDoS  Known Pattern B   \n3               15.79  Alert Triggered     Malware  Known Pattern B   \n4                0.52  Alert Triggered        DDoS  Known Pattern B   \n...               ...              ...         ...              ...   \n39995           39.28     Not Detected        DDoS  Known Pattern A   \n39996           27.25     Not Detected        DDoS  Known Pattern A   \n39997           31.01     Not Detected        DDoS  Known Pattern B   \n39998           97.85  Alert Triggered     Malware  Known Pattern B   \n39999           34.63  Alert Triggered   Intrusion  Known Pattern B   \n\n      Action Taken Severity Level Network Segment Firewall Logs  \\\n0           Logged            Low       Segment A      Log Data   \n1          Blocked            Low       Segment B      Log Data   \n2          Ignored            Low       Segment C      Log Data   \n3          Blocked         Medium       Segment B  Not Detected   \n4          Blocked            Low       Segment C  Not Detected   \n...            ...            ...             ...           ...   \n39995       Logged         Medium       Segment A      Log Data   \n39996       Logged           High       Segment C      Log Data   \n39997      Blocked            Low       Segment C      Log Data   \n39998      Ignored            Low       Segment B      Log Data   \n39999       Logged         Medium       Segment A      Log Data   \n\n      IDS/IPS Alerts Log Source  \n0       Not Detected     Server  \n1       Not Detected   Firewall  \n2         Alert Data   Firewall  \n3         Alert Data   Firewall  \n4         Alert Data   Firewall  \n...              ...        ...  \n39995     Alert Data   Firewall  \n39996   Not Detected   Firewall  \n39997     Alert Data     Server  \n39998   Not Detected     Server  \n39999     Alert Data   Firewall  \n\n[40000 rows x 15 columns]",
      "text/html": "<div>\n<style scoped>\n    .dataframe tbody tr th:only-of-type {\n        vertical-align: middle;\n    }\n\n    .dataframe tbody tr th {\n        vertical-align: top;\n    }\n\n    .dataframe thead th {\n        text-align: right;\n    }\n</style>\n<table border=\"1\" class=\"dataframe\">\n  <thead>\n    <tr style=\"text-align: right;\">\n      <th></th>\n      <th>Protocol</th>\n      <th>Packet Length</th>\n      <th>Packet Type</th>\n      <th>Traffic Type</th>\n      <th>Malware Indicators</th>\n      <th>Anomaly Scores</th>\n      <th>Alerts/Warnings</th>\n      <th>Attack Type</th>\n      <th>Attack Signature</th>\n      <th>Action Taken</th>\n      <th>Severity Level</th>\n      <th>Network Segment</th>\n      <th>Firewall Logs</th>\n      <th>IDS/IPS Alerts</th>\n      <th>Log Source</th>\n    </tr>\n  </thead>\n  <tbody>\n    <tr>\n      <th>0</th>\n      <td>ICMP</td>\n      <td>503</td>\n      <td>Data</td>\n      <td>HTTP</td>\n      <td>IoC Detected</td>\n      <td>28.67</td>\n      <td>Not Detected</td>\n      <td>Malware</td>\n      <td>Known Pattern B</td>\n      <td>Logged</td>\n      <td>Low</td>\n      <td>Segment A</td>\n      <td>Log Data</td>\n      <td>Not Detected</td>\n      <td>Server</td>\n    </tr>\n    <tr>\n      <th>1</th>\n      <td>ICMP</td>\n      <td>1174</td>\n      <td>Data</td>\n      <td>HTTP</td>\n      <td>IoC Detected</td>\n      <td>51.50</td>\n      <td>Not Detected</td>\n      <td>Malware</td>\n      <td>Known Pattern A</td>\n      <td>Blocked</td>\n      <td>Low</td>\n      <td>Segment B</td>\n      <td>Log Data</td>\n      <td>Not Detected</td>\n      <td>Firewall</td>\n    </tr>\n    <tr>\n      <th>2</th>\n      <td>UDP</td>\n      <td>306</td>\n      <td>Control</td>\n      <td>HTTP</td>\n      <td>IoC Detected</td>\n      <td>87.42</td>\n      <td>Alert Triggered</td>\n      <td>DDoS</td>\n      <td>Known Pattern B</td>\n      <td>Ignored</td>\n      <td>Low</td>\n      <td>Segment C</td>\n      <td>Log Data</td>\n      <td>Alert Data</td>\n      <td>Firewall</td>\n    </tr>\n    <tr>\n      <th>3</th>\n      <td>UDP</td>\n      <td>385</td>\n      <td>Data</td>\n      <td>HTTP</td>\n      <td>Not Detected</td>\n      <td>15.79</td>\n      <td>Alert Triggered</td>\n      <td>Malware</td>\n      <td>Known Pattern B</td>\n      <td>Blocked</td>\n      <td>Medium</td>\n      <td>Segment B</td>\n      <td>Not Detected</td>\n      <td>Alert Data</td>\n      <td>Firewall</td>\n    </tr>\n    <tr>\n      <th>4</th>\n      <td>TCP</td>\n      <td>1462</td>\n      <td>Data</td>\n      <td>DNS</td>\n      <td>Not Detected</td>\n      <td>0.52</td>\n      <td>Alert Triggered</td>\n      <td>DDoS</td>\n      <td>Known Pattern B</td>\n      <td>Blocked</td>\n      <td>Low</td>\n      <td>Segment C</td>\n      <td>Not Detected</td>\n      <td>Alert Data</td>\n      <td>Firewall</td>\n    </tr>\n    <tr>\n      <th>...</th>\n      <td>...</td>\n      <td>...</td>\n      <td>...</td>\n      <td>...</td>\n      <td>...</td>\n      <td>...</td>\n      <td>...</td>\n      <td>...</td>\n      <td>...</td>\n      <td>...</td>\n      <td>...</td>\n      <td>...</td>\n      <td>...</td>\n      <td>...</td>\n      <td>...</td>\n    </tr>\n    <tr>\n      <th>39995</th>\n      <td>UDP</td>\n      <td>1428</td>\n      <td>Control</td>\n      <td>HTTP</td>\n      <td>IoC Detected</td>\n      <td>39.28</td>\n      <td>Not Detected</td>\n      <td>DDoS</td>\n      <td>Known Pattern A</td>\n      <td>Logged</td>\n      <td>Medium</td>\n      <td>Segment A</td>\n      <td>Log Data</td>\n      <td>Alert Data</td>\n      <td>Firewall</td>\n    </tr>\n    <tr>\n      <th>39996</th>\n      <td>UDP</td>\n      <td>1184</td>\n      <td>Control</td>\n      <td>HTTP</td>\n      <td>IoC Detected</td>\n      <td>27.25</td>\n      <td>Not Detected</td>\n      <td>DDoS</td>\n      <td>Known Pattern A</td>\n      <td>Logged</td>\n      <td>High</td>\n      <td>Segment C</td>\n      <td>Log Data</td>\n      <td>Not Detected</td>\n      <td>Firewall</td>\n    </tr>\n    <tr>\n      <th>39997</th>\n      <td>UDP</td>\n      <td>1043</td>\n      <td>Data</td>\n      <td>DNS</td>\n      <td>IoC Detected</td>\n      <td>31.01</td>\n      <td>Not Detected</td>\n      <td>DDoS</td>\n      <td>Known Pattern B</td>\n      <td>Blocked</td>\n      <td>Low</td>\n      <td>Segment C</td>\n      <td>Log Data</td>\n      <td>Alert Data</td>\n      <td>Server</td>\n    </tr>\n    <tr>\n      <th>39998</th>\n      <td>UDP</td>\n      <td>483</td>\n      <td>Data</td>\n      <td>FTP</td>\n      <td>IoC Detected</td>\n      <td>97.85</td>\n      <td>Alert Triggered</td>\n      <td>Malware</td>\n      <td>Known Pattern B</td>\n      <td>Ignored</td>\n      <td>Low</td>\n      <td>Segment B</td>\n      <td>Log Data</td>\n      <td>Not Detected</td>\n      <td>Server</td>\n    </tr>\n    <tr>\n      <th>39999</th>\n      <td>ICMP</td>\n      <td>1175</td>\n      <td>Control</td>\n      <td>HTTP</td>\n      <td>Not Detected</td>\n      <td>34.63</td>\n      <td>Alert Triggered</td>\n      <td>Intrusion</td>\n      <td>Known Pattern B</td>\n      <td>Logged</td>\n      <td>Medium</td>\n      <td>Segment A</td>\n      <td>Log Data</td>\n      <td>Alert Data</td>\n      <td>Firewall</td>\n    </tr>\n  </tbody>\n</table>\n<p>40000 rows × 15 columns</p>\n</div>"
     },
     "execution_count": 1,
     "metadata": {},
     "output_type": "execute_result"
    }
   ],
   "source": [
    "import numpy as np \n",
    "import pandas as pd \n",
    "from sklearn.model_selection import train_test_split\n",
    "\n",
    "\n",
    "data = pd.read_csv(\"cybersecurity_attacks.csv\")\n",
    "data_proc = data\n",
    "\n",
    "data_proc = data_proc.drop(columns=[\"Payload Data\",\"Timestamp\",\"Source IP Address\",\"Destination IP Address\",\"Source Port\",\"Destination Port\",\"Device Information\",\"Proxy Information\",\"User Information\",\"Geo-location Data\"])\n",
    "data_proc[\"Malware Indicators\"].fillna(\"Not Detected\", inplace=True)\n",
    "data_proc[\"Alerts/Warnings\"].fillna(\"Not Detected\", inplace=True)\n",
    "data_proc[\"Firewall Logs\"].fillna(\"Not Detected\", inplace=True)\n",
    "data_proc[\"IDS/IPS Alerts\"].fillna(\"Not Detected\", inplace=True)\n",
    "\n",
    "data_proc"
   ]
  },
  {
   "cell_type": "code",
   "execution_count": 4,
   "outputs": [],
   "source": [
    "from sklearn.preprocessing import OneHotEncoder, OrdinalEncoder\n",
    "from sklearn.preprocessing import LabelEncoder\n",
    "\n",
    "def process_data_x(train, test):\n",
    "    # Numerical feature in my Dataset\n",
    "    numerical_idx = [\"Packet Length\", \"Anomaly Scores\"]\n",
    "    \n",
    "    # convert numeric integer to float and concat them with already float feature \n",
    "     # There are no NaN element in these feature\n",
    "    X_train = pd.concat([pd.to_numeric(train[numerical_idx[0]],downcast='float'), train[numerical_idx[1]]], axis=1)\n",
    "    \n",
    "    oneHot_idx = train.columns.drop(['Packet Length', 'Anomaly Scores','Severity Level'])\n",
    "    \n",
    "    oh = OneHotEncoder(sparse_output=False, handle_unknown='ignore')\n",
    "    ord = OrdinalEncoder(categories=[['Low','Medium','High']])\n",
    "    \n",
    "    ord_encoded = ord.fit_transform(train[['Severity Level']])\n",
    "    oneHot_encoded = oh.fit_transform(train[oneHot_idx])\n",
    "    \n",
    "    for i, col in enumerate(oh.get_feature_names_out()):\n",
    "        X_train[col] = oneHot_encoded[:,i]\n",
    "   \n",
    "    for i, col in enumerate(ord.get_feature_names_out()):\n",
    "        X_train[col] = ord_encoded[:,i]\n",
    "        \n",
    "    # --------------\n",
    "    # process test\n",
    "    X_test = pd.concat([pd.to_numeric(test[numerical_idx[0]],downcast='float'), test[numerical_idx[1]]], axis=1)\n",
    "    \n",
    "    oneHot_idx = test.columns.drop(['Packet Length', 'Anomaly Scores','Severity Level'])\n",
    "    \n",
    "    oh = OneHotEncoder(sparse_output=False, handle_unknown='ignore')\n",
    "    ord = OrdinalEncoder(categories=[['Low','Medium','High']])\n",
    "    \n",
    "    ord_encoded = ord.fit_transform(test[['Severity Level']])\n",
    "    oneHot_encoded = oh.fit_transform(test[oneHot_idx])\n",
    "    \n",
    "    for i, col in enumerate(oh.get_feature_names_out()):\n",
    "        X_test[col] = oneHot_encoded[:,i]\n",
    "   \n",
    "    for i, col in enumerate(ord.get_feature_names_out()):\n",
    "        X_test[col] = ord_encoded[:,i]\n",
    "    \n",
    "    \n",
    "    return X_train, X_test"
   ],
   "metadata": {
    "collapsed": false,
    "ExecuteTime": {
     "end_time": "2023-12-09T14:45:16.074129Z",
     "start_time": "2023-12-09T14:45:16.046707Z"
    }
   },
   "id": "a1f69d175c39425c"
  },
  {
   "cell_type": "code",
   "execution_count": 5,
   "outputs": [],
   "source": [
    "label_enc = LabelEncoder()\n",
    "def process_data_y(train,test):\n",
    "    \n",
    "    y_train_enc = label_enc.fit_transform(train)\n",
    "    y_test_enc = label_enc.transform(test)\n",
    "    \n",
    "    return  y_train_enc,y_test_enc"
   ],
   "metadata": {
    "collapsed": false,
    "ExecuteTime": {
     "end_time": "2023-12-09T14:45:24.996874Z",
     "start_time": "2023-12-09T14:45:24.989151Z"
    }
   },
   "id": "1e4f8ca7b5ab3476"
  },
  {
   "cell_type": "code",
   "execution_count": 6,
   "outputs": [],
   "source": [
    "# drop label columns\n",
    "X = data_proc.drop(columns=[\"Attack Type\"])\n",
    "\n",
    "# isolate y\n",
    "y = data_proc[\"Attack Type\"]\n",
    "\n",
    "# split in Train-set(80%) and Testing-set(20%)\n",
    "X_train, X_test, y_train, y_test = train_test_split( X, y, test_size=0.33, random_state=42) \n",
    "\n",
    "X_train_enc, X_test_enc = process_data_x(X_train, X_test)\n",
    "\n",
    "y_train_enc, y_test_enc = process_data_y(y_train,y_test)"
   ],
   "metadata": {
    "collapsed": false,
    "ExecuteTime": {
     "end_time": "2023-12-09T14:45:40.463492Z",
     "start_time": "2023-12-09T14:45:40.360537Z"
    }
   },
   "id": "cd594366f77d60d7"
  },
  {
   "cell_type": "markdown",
   "source": [
    "# 2) First Part"
   ],
   "metadata": {
    "collapsed": false
   },
   "id": "2709e4b15ff55c0"
  },
  {
   "cell_type": "code",
   "execution_count": 80,
   "outputs": [
    {
     "name": "stdout",
     "output_type": "stream",
     "text": [
      "Accuracy 0.333\n"
     ]
    }
   ],
   "source": [
    "%matplotlib inline\n",
    "\n",
    "import matplotlib.pyplot as plt\n",
    "from sklearn.neighbors import KNeighborsClassifier\n",
    "from sklearn.metrics import accuracy_score\n",
    "\n",
    "kNN = KNeighborsClassifier(n_neighbors=10)\n",
    "\n",
    "kNN.fit(X_train_enc,y_train_enc)\n",
    "\n",
    "y_pred = kNN.predict(X_test_enc)\n",
    "\n",
    "acc = accuracy_score(y_true=y_test_enc, y_pred=y_pred)\n",
    "print (f\"Accuracy {acc:.3f}\")"
   ],
   "metadata": {
    "collapsed": false,
    "ExecuteTime": {
     "end_time": "2023-12-09T16:21:28.814090Z",
     "start_time": "2023-12-09T16:21:28.111996Z"
    }
   },
   "id": "4a757a3a57ec2694"
  },
  {
   "cell_type": "code",
   "execution_count": 81,
   "outputs": [
    {
     "name": "stdout",
     "output_type": "stream",
     "text": [
      "Feature Anomaly Scores -> Scale:  100.00\n",
      "Feature Protocol_ICMP -> Scale:    1.00\n",
      "Feature Protocol_TCP -> Scale:    1.00\n",
      "Feature Protocol_UDP -> Scale:    1.00\n",
      "Feature Packet Type_Control -> Scale:    1.00\n",
      "Feature Packet Type_Data -> Scale:    1.00\n",
      "Feature Traffic Type_DNS -> Scale:    1.00\n",
      "Feature Traffic Type_FTP -> Scale:    1.00\n",
      "Feature Traffic Type_HTTP -> Scale:    1.00\n",
      "Feature Malware Indicators_IoC Detected -> Scale:    1.00\n",
      "Feature Malware Indicators_Not Detected -> Scale:    1.00\n",
      "Feature Alerts/Warnings_Alert Triggered -> Scale:    1.00\n",
      "Feature Alerts/Warnings_Not Detected -> Scale:    1.00\n",
      "Feature Attack Signature_Known Pattern A -> Scale:    1.00\n",
      "Feature Attack Signature_Known Pattern B -> Scale:    1.00\n",
      "Feature Action Taken_Blocked -> Scale:    1.00\n",
      "Feature Action Taken_Ignored -> Scale:    1.00\n",
      "Feature Action Taken_Logged -> Scale:    1.00\n",
      "Feature Network Segment_Segment A -> Scale:    1.00\n",
      "Feature Network Segment_Segment B -> Scale:    1.00\n",
      "Feature Network Segment_Segment C -> Scale:    1.00\n",
      "Feature Firewall Logs_Log Data -> Scale:    1.00\n",
      "Feature Firewall Logs_Not Detected -> Scale:    1.00\n",
      "Feature IDS/IPS Alerts_Alert Data -> Scale:    1.00\n",
      "Feature IDS/IPS Alerts_Not Detected -> Scale:    1.00\n",
      "Feature Log Source_Firewall -> Scale:    1.00\n",
      "Feature Log Source_Server -> Scale:    1.00\n",
      "Feature Severity Level -> Scale:    2.00\n"
     ]
    }
   ],
   "source": [
    "X = X_train_enc.loc[:,'Anomaly Scores' :]\n",
    "for f in X.columns:\n",
    "    print (\"Feature {:2s} -> Scale: {:7.2f}\".format(f, X.loc[:,f].max() - X.loc[:,f].min()) )"
   ],
   "metadata": {
    "collapsed": false,
    "ExecuteTime": {
     "end_time": "2023-12-09T16:21:29.948188Z",
     "start_time": "2023-12-09T16:21:29.901438Z"
    }
   },
   "id": "1542d2f52b1dad8a"
  },
  {
   "cell_type": "code",
   "execution_count": 82,
   "outputs": [
    {
     "name": "stdout",
     "output_type": "stream",
     "text": [
      "k:  1 | Accuracy 0.338\n",
      "k:  2 | Accuracy 0.334\n",
      "k:  3 | Accuracy 0.334\n",
      "k:  4 | Accuracy 0.332\n",
      "k:  5 | Accuracy 0.336\n",
      "k:  6 | Accuracy 0.333\n",
      "k:  7 | Accuracy 0.334\n",
      "k:  8 | Accuracy 0.333\n",
      "k:  9 | Accuracy 0.334\n",
      "k: 10 | Accuracy 0.333\n"
     ]
    }
   ],
   "source": [
    "for k in range(1,11):\n",
    "    kNN = KNeighborsClassifier(n_neighbors=k)\n",
    "    kNN.fit(X_train_enc,y_train_enc)\n",
    "    y_pred = kNN.predict(X_test_enc)\n",
    "\n",
    "    # compute Accuracy\n",
    "    acc = accuracy_score(y_true=y_test_enc, y_pred=y_pred)\n",
    "    print (f\"k: {k:2d} | Accuracy {acc:.3f}\" )"
   ],
   "metadata": {
    "collapsed": false,
    "ExecuteTime": {
     "end_time": "2023-12-09T16:21:35.312389Z",
     "start_time": "2023-12-09T16:21:31.028111Z"
    }
   },
   "id": "270849a35f12ee73"
  },
  {
   "cell_type": "code",
   "execution_count": 83,
   "outputs": [
    {
     "name": "stdout",
     "output_type": "stream",
     "text": [
      "k:  1 | Accuracy 0.334\n",
      "k:  2 | Accuracy 0.333\n",
      "k:  3 | Accuracy 0.331\n",
      "k:  4 | Accuracy 0.330\n",
      "k:  5 | Accuracy 0.335\n",
      "k:  6 | Accuracy 0.331\n",
      "k:  7 | Accuracy 0.334\n",
      "k:  8 | Accuracy 0.334\n",
      "k:  9 | Accuracy 0.332\n",
      "k: 10 | Accuracy 0.335\n"
     ]
    }
   ],
   "source": [
    "from sklearn.preprocessing import MinMaxScaler\n",
    "\n",
    "scaler = MinMaxScaler()\n",
    "scaler.fit(X_train_enc)\n",
    "\n",
    "for k in range(1,11):\n",
    "\n",
    "    kNN = KNeighborsClassifier(n_neighbors=k)\n",
    "    kNN.fit( scaler.transform(X_train_enc), y_train_enc )\n",
    "    y_pred = kNN.predict( scaler.transform(X_test_enc) )\n",
    "\n",
    "    # compute Accuracy\n",
    "    acc = accuracy_score(y_true=y_test_enc, y_pred=y_pred)\n",
    "    print (\"k: {:2d} | Accuracy {:.3f}\".format(k,acc) )"
   ],
   "metadata": {
    "collapsed": false,
    "ExecuteTime": {
     "end_time": "2023-12-09T16:21:40.633211Z",
     "start_time": "2023-12-09T16:21:36.040049Z"
    }
   },
   "id": "62847ee6931c6ab4"
  },
  {
   "cell_type": "code",
   "execution_count": 84,
   "outputs": [
    {
     "name": "stdout",
     "output_type": "stream",
     "text": [
      "k:  1 | Accuracy 0.331\n",
      "k:  2 | Accuracy 0.336\n",
      "k:  3 | Accuracy 0.332\n",
      "k:  4 | Accuracy 0.328\n",
      "k:  5 | Accuracy 0.332\n",
      "k:  6 | Accuracy 0.325\n",
      "k:  7 | Accuracy 0.328\n",
      "k:  8 | Accuracy 0.334\n",
      "k:  9 | Accuracy 0.334\n",
      "k: 10 | Accuracy 0.332\n"
     ]
    }
   ],
   "source": [
    "from sklearn.preprocessing import StandardScaler\n",
    "\n",
    "scaler = StandardScaler()\n",
    "scaler.fit(X_train_enc)\n",
    "\n",
    "for k in range(1,11):\n",
    "\n",
    "    kNN = KNeighborsClassifier(n_neighbors=k)\n",
    "    kNN.fit( scaler.transform(X_train_enc), y_train_enc )\n",
    "    y_pred = kNN.predict( scaler.transform(X_test_enc) )\n",
    "\n",
    "    # compute Accuracy\n",
    "    acc = accuracy_score(y_true=y_test_enc, y_pred=y_pred)\n",
    "    print (\"k: {:2d} | Accuracy {:.3f}\".format(k,acc) )"
   ],
   "metadata": {
    "collapsed": false,
    "ExecuteTime": {
     "end_time": "2023-12-09T16:21:46.435301Z",
     "start_time": "2023-12-09T16:21:41.762529Z"
    }
   },
   "id": "137fb119f6dddea1"
  },
  {
   "cell_type": "code",
   "execution_count": 85,
   "outputs": [
    {
     "data": {
      "text/plain": "<Figure size 640x480 with 1 Axes>",
      "image/png": "[encoded data removed]"
     },
     "metadata": {},
     "output_type": "display_data"
    }
   ],
   "source": [
    "# plot\n",
    "ax = plt.subplot()\n",
    "#ax.scatter(y=X_train_enc['Anomaly Scores'],x=X_train_enc['Traffic Type_DNS'],c=y_train_enc, marker='+')\n",
    "boxplot = X_train_enc.boxplot(column=['Traffic Type_FTP','Traffic Type_DNS'])"
   ],
   "metadata": {
    "collapsed": false,
    "ExecuteTime": {
     "end_time": "2023-12-09T16:21:50.784169Z",
     "start_time": "2023-12-09T16:21:50.687861Z"
    }
   },
   "id": "2f3d2730f618de44"
  },
  {
   "cell_type": "code",
   "execution_count": null,
   "outputs": [],
   "source": [],
   "metadata": {
    "collapsed": false
   },
   "id": "46922717c71e210f"
  }
 ],
 "metadata": {
  "kernelspec": {
   "display_name": "Python 3",
   "language": "python",
   "name": "python3"
  },
  "language_info": {
   "codemirror_mode": {
    "name": "ipython",
    "version": 2
   },
   "file_extension": ".py",
   "mimetype": "text/x-python",
   "name": "python",
   "nbconvert_exporter": "python",
   "pygments_lexer": "ipython2",
   "version": "2.7.6"
  }
 },
 "nbformat": 4,
 "nbformat_minor": 5
}
