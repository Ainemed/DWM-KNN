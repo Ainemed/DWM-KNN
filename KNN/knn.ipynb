{
 "cells": [
  {
   "cell_type": "markdown",
   "source": [
    "# KNN Algorithm In-Depth Explanation\n",
    "\n",
    "In this chapter, I provide a detailed explanation and analysis of all the steps involved in the KNN algorithm using the chosen dataset. It covers the following sections:\n",
    "\n",
    "1. **Dataset**: Initial analysis and feature selection.\n",
    "2. **Classifier and Regressor**: Creation of the first classifier and regressor using the KNN algorithm.\n",
    "3. **Classifier and Regressor with Scaler**: Attempting to enhance accuracy and Mean Squared Error (MSE) with different scalers.\n",
    "4. **Confusion Matrix**: Analysis of classification using the creation of a confusion matrix.\n",
    "5. **K-Cross Validation**: Evaluation of performance using this method.\n",
    "6. **Functions**: Performance analysis with different functions.\n"
   ],
   "metadata": {
    "collapsed": false
   },
   "id": "fcedf459276fca0a"
  },
  {
   "cell_type": "markdown",
   "source": [
    "## 1) Dataset"
   ],
   "metadata": {
    "collapsed": false
   },
   "id": "ca4fdea65353a0b4"
  },
  {
   "cell_type": "markdown",
   "source": [
    "Let's start with the dataset importation and feature selection :"
   ],
   "metadata": {
    "collapsed": false
   },
   "id": "131d1c3c7d6fd924"
  },
  {
   "cell_type": "code",
   "execution_count": 1,
   "id": "initial_id",
   "metadata": {
    "collapsed": true,
    "ExecuteTime": {
     "end_time": "2024-01-28T10:28:41.631811Z",
     "start_time": "2024-01-28T10:28:40.085177Z"
    }
   },
   "outputs": [
    {
     "data": {
      "text/plain": "      Protocol  Packet Length Packet Type Traffic Type Malware Indicators  \\\n0         ICMP            503        Data         HTTP       IoC Detected   \n1         ICMP           1174        Data         HTTP       IoC Detected   \n2          UDP            306     Control         HTTP       IoC Detected   \n3          UDP            385        Data         HTTP       Not Detected   \n4          TCP           1462        Data          DNS       Not Detected   \n...        ...            ...         ...          ...                ...   \n39995      UDP           1428     Control         HTTP       IoC Detected   \n39996      UDP           1184     Control         HTTP       IoC Detected   \n39997      UDP           1043        Data          DNS       IoC Detected   \n39998      UDP            483        Data          FTP       IoC Detected   \n39999     ICMP           1175     Control         HTTP       Not Detected   \n\n       Anomaly Scores  Alerts/Warnings Attack Type Attack Signature  \\\n0               28.67     Not Detected     Malware  Known Pattern B   \n1               51.50     Not Detected     Malware  Known Pattern A   \n2               87.42  Alert Triggered        DDoS  Known Pattern B   \n3               15.79  Alert Triggered     Malware  Known Pattern B   \n4                0.52  Alert Triggered        DDoS  Known Pattern B   \n...               ...              ...         ...              ...   \n39995           39.28     Not Detected        DDoS  Known Pattern A   \n39996           27.25     Not Detected        DDoS  Known Pattern A   \n39997           31.01     Not Detected        DDoS  Known Pattern B   \n39998           97.85  Alert Triggered     Malware  Known Pattern B   \n39999           34.63  Alert Triggered   Intrusion  Known Pattern B   \n\n      Action Taken Severity Level Network Segment Firewall Logs  \\\n0           Logged            Low       Segment A      Log Data   \n1          Blocked            Low       Segment B      Log Data   \n2          Ignored            Low       Segment C      Log Data   \n3          Blocked         Medium       Segment B  Not Detected   \n4          Blocked            Low       Segment C  Not Detected   \n...            ...            ...             ...           ...   \n39995       Logged         Medium       Segment A      Log Data   \n39996       Logged           High       Segment C      Log Data   \n39997      Blocked            Low       Segment C      Log Data   \n39998      Ignored            Low       Segment B      Log Data   \n39999       Logged         Medium       Segment A      Log Data   \n\n      IDS/IPS Alerts Log Source  \n0       Not Detected     Server  \n1       Not Detected   Firewall  \n2         Alert Data   Firewall  \n3         Alert Data   Firewall  \n4         Alert Data   Firewall  \n...              ...        ...  \n39995     Alert Data   Firewall  \n39996   Not Detected   Firewall  \n39997     Alert Data     Server  \n39998   Not Detected     Server  \n39999     Alert Data   Firewall  \n\n[40000 rows x 15 columns]",
      "text/html": "<div>\n<style scoped>\n    .dataframe tbody tr th:only-of-type {\n        vertical-align: middle;\n    }\n\n    .dataframe tbody tr th {\n        vertical-align: top;\n    }\n\n    .dataframe thead th {\n        text-align: right;\n    }\n</style>\n<table border=\"1\" class=\"dataframe\">\n  <thead>\n    <tr style=\"text-align: right;\">\n      <th></th>\n      <th>Protocol</th>\n      <th>Packet Length</th>\n      <th>Packet Type</th>\n      <th>Traffic Type</th>\n      <th>Malware Indicators</th>\n      <th>Anomaly Scores</th>\n      <th>Alerts/Warnings</th>\n      <th>Attack Type</th>\n      <th>Attack Signature</th>\n      <th>Action Taken</th>\n      <th>Severity Level</th>\n      <th>Network Segment</th>\n      <th>Firewall Logs</th>\n      <th>IDS/IPS Alerts</th>\n      <th>Log Source</th>\n    </tr>\n  </thead>\n  <tbody>\n    <tr>\n      <th>0</th>\n      <td>ICMP</td>\n      <td>503</td>\n      <td>Data</td>\n      <td>HTTP</td>\n      <td>IoC Detected</td>\n      <td>28.67</td>\n      <td>Not Detected</td>\n      <td>Malware</td>\n      <td>Known Pattern B</td>\n      <td>Logged</td>\n      <td>Low</td>\n      <td>Segment A</td>\n      <td>Log Data</td>\n      <td>Not Detected</td>\n      <td>Server</td>\n    </tr>\n    <tr>\n      <th>1</th>\n      <td>ICMP</td>\n      <td>1174</td>\n      <td>Data</td>\n      <td>HTTP</td>\n      <td>IoC Detected</td>\n      <td>51.50</td>\n      <td>Not Detected</td>\n      <td>Malware</td>\n      <td>Known Pattern A</td>\n      <td>Blocked</td>\n      <td>Low</td>\n      <td>Segment B</td>\n      <td>Log Data</td>\n      <td>Not Detected</td>\n      <td>Firewall</td>\n    </tr>\n    <tr>\n      <th>2</th>\n      <td>UDP</td>\n      <td>306</td>\n      <td>Control</td>\n      <td>HTTP</td>\n      <td>IoC Detected</td>\n      <td>87.42</td>\n      <td>Alert Triggered</td>\n      <td>DDoS</td>\n      <td>Known Pattern B</td>\n      <td>Ignored</td>\n      <td>Low</td>\n      <td>Segment C</td>\n      <td>Log Data</td>\n      <td>Alert Data</td>\n      <td>Firewall</td>\n    </tr>\n    <tr>\n      <th>3</th>\n      <td>UDP</td>\n      <td>385</td>\n      <td>Data</td>\n      <td>HTTP</td>\n      <td>Not Detected</td>\n      <td>15.79</td>\n      <td>Alert Triggered</td>\n      <td>Malware</td>\n      <td>Known Pattern B</td>\n      <td>Blocked</td>\n      <td>Medium</td>\n      <td>Segment B</td>\n      <td>Not Detected</td>\n      <td>Alert Data</td>\n      <td>Firewall</td>\n    </tr>\n    <tr>\n      <th>4</th>\n      <td>TCP</td>\n      <td>1462</td>\n      <td>Data</td>\n      <td>DNS</td>\n      <td>Not Detected</td>\n      <td>0.52</td>\n      <td>Alert Triggered</td>\n      <td>DDoS</td>\n      <td>Known Pattern B</td>\n      <td>Blocked</td>\n      <td>Low</td>\n      <td>Segment C</td>\n      <td>Not Detected</td>\n      <td>Alert Data</td>\n      <td>Firewall</td>\n    </tr>\n    <tr>\n      <th>...</th>\n      <td>...</td>\n      <td>...</td>\n      <td>...</td>\n      <td>...</td>\n      <td>...</td>\n      <td>...</td>\n      <td>...</td>\n      <td>...</td>\n      <td>...</td>\n      <td>...</td>\n      <td>...</td>\n      <td>...</td>\n      <td>...</td>\n      <td>...</td>\n      <td>...</td>\n    </tr>\n    <tr>\n      <th>39995</th>\n      <td>UDP</td>\n      <td>1428</td>\n      <td>Control</td>\n      <td>HTTP</td>\n      <td>IoC Detected</td>\n      <td>39.28</td>\n      <td>Not Detected</td>\n      <td>DDoS</td>\n      <td>Known Pattern A</td>\n      <td>Logged</td>\n      <td>Medium</td>\n      <td>Segment A</td>\n      <td>Log Data</td>\n      <td>Alert Data</td>\n      <td>Firewall</td>\n    </tr>\n    <tr>\n      <th>39996</th>\n      <td>UDP</td>\n      <td>1184</td>\n      <td>Control</td>\n      <td>HTTP</td>\n      <td>IoC Detected</td>\n      <td>27.25</td>\n      <td>Not Detected</td>\n      <td>DDoS</td>\n      <td>Known Pattern A</td>\n      <td>Logged</td>\n      <td>High</td>\n      <td>Segment C</td>\n      <td>Log Data</td>\n      <td>Not Detected</td>\n      <td>Firewall</td>\n    </tr>\n    <tr>\n      <th>39997</th>\n      <td>UDP</td>\n      <td>1043</td>\n      <td>Data</td>\n      <td>DNS</td>\n      <td>IoC Detected</td>\n      <td>31.01</td>\n      <td>Not Detected</td>\n      <td>DDoS</td>\n      <td>Known Pattern B</td>\n      <td>Blocked</td>\n      <td>Low</td>\n      <td>Segment C</td>\n      <td>Log Data</td>\n      <td>Alert Data</td>\n      <td>Server</td>\n    </tr>\n    <tr>\n      <th>39998</th>\n      <td>UDP</td>\n      <td>483</td>\n      <td>Data</td>\n      <td>FTP</td>\n      <td>IoC Detected</td>\n      <td>97.85</td>\n      <td>Alert Triggered</td>\n      <td>Malware</td>\n      <td>Known Pattern B</td>\n      <td>Ignored</td>\n      <td>Low</td>\n      <td>Segment B</td>\n      <td>Log Data</td>\n      <td>Not Detected</td>\n      <td>Server</td>\n    </tr>\n    <tr>\n      <th>39999</th>\n      <td>ICMP</td>\n      <td>1175</td>\n      <td>Control</td>\n      <td>HTTP</td>\n      <td>Not Detected</td>\n      <td>34.63</td>\n      <td>Alert Triggered</td>\n      <td>Intrusion</td>\n      <td>Known Pattern B</td>\n      <td>Logged</td>\n      <td>Medium</td>\n      <td>Segment A</td>\n      <td>Log Data</td>\n      <td>Alert Data</td>\n      <td>Firewall</td>\n    </tr>\n  </tbody>\n</table>\n<p>40000 rows × 15 columns</p>\n</div>"
     },
     "execution_count": 1,
     "metadata": {},
     "output_type": "execute_result"
    }
   ],
   "source": [
    "import numpy as np \n",
    "import pandas as pd \n",
    "from sklearn.model_selection import train_test_split\n",
    "\n",
    "\n",
    "data = pd.read_csv(\"cybersecurity_attacks.csv\")\n",
    "data_proc = data\n",
    "\n",
    "data_proc = data_proc.drop(columns=[\"Payload Data\",\"Timestamp\",\"Source IP Address\",\"Destination IP Address\",\"Source Port\",\"Destination Port\",\"Device Information\",\"Proxy Information\",\"User Information\",\"Geo-location Data\"])\n",
    "data_proc[\"Malware Indicators\"].fillna(\"Not Detected\", inplace=True)\n",
    "data_proc[\"Alerts/Warnings\"].fillna(\"Not Detected\", inplace=True)\n",
    "data_proc[\"Firewall Logs\"].fillna(\"Not Detected\", inplace=True)\n",
    "data_proc[\"IDS/IPS Alerts\"].fillna(\"Not Detected\", inplace=True)\n",
    "\n",
    "data_proc"
   ]
  },
  {
   "cell_type": "markdown",
   "source": [
    "After that, I defined the **process_data_x** function, which reprocesses the dataset data using the following techniques:\n",
    "\n",
    "- **One-Hot Encoding:** This creates a binary column for each category and returns a sparse matrix or dense array.\n",
    "- **Ordinal Encoding:** The features are converted to ordinal integers, resulting in a single column of integers (0 to n_categories - 1) per feature.\n"
   ],
   "metadata": {
    "collapsed": false
   },
   "id": "d6df15b512149dcf"
  },
  {
   "cell_type": "code",
   "execution_count": 2,
   "outputs": [],
   "source": [
    "from sklearn.preprocessing import OneHotEncoder, OrdinalEncoder\n",
    "from sklearn.preprocessing import LabelEncoder\n",
    "\n",
    "def process_data_x(train, test):\n",
    "    # Numerical feature in my Dataset\n",
    "    numerical_idx = [\"Packet Length\", \"Anomaly Scores\"]\n",
    "    \n",
    "    # convert numeric integer to float and concat them with already float feature \n",
    "     # There are no NaN element in these feature\n",
    "    X_train = pd.concat([pd.to_numeric(train[numerical_idx[0]],downcast='float'), train[numerical_idx[1]]], axis=1)\n",
    "    \n",
    "    oneHot_idx = train.columns.drop(['Packet Length', 'Anomaly Scores','Severity Level'])\n",
    "    \n",
    "    oh = OneHotEncoder(sparse_output=False, handle_unknown='ignore')\n",
    "    ord = OrdinalEncoder(categories=[['Low','Medium','High']])\n",
    "    \n",
    "    ord_encoded = ord.fit_transform(train[['Severity Level']])\n",
    "    oneHot_encoded = oh.fit_transform(train[oneHot_idx])\n",
    "    \n",
    "    for i, col in enumerate(oh.get_feature_names_out()):\n",
    "        X_train[col] = oneHot_encoded[:,i]\n",
    "   \n",
    "    for i, col in enumerate(ord.get_feature_names_out()):\n",
    "        X_train[col] = ord_encoded[:,i]\n",
    "        \n",
    "    # --------------\n",
    "    # process test\n",
    "    X_test = pd.concat([pd.to_numeric(test[numerical_idx[0]],downcast='float'), test[numerical_idx[1]]], axis=1)\n",
    "    \n",
    "    oneHot_idx = test.columns.drop(['Packet Length', 'Anomaly Scores','Severity Level'])\n",
    "    \n",
    "    oh = OneHotEncoder(sparse_output=False, handle_unknown='ignore')\n",
    "    ord = OrdinalEncoder(categories=[['Low','Medium','High']])\n",
    "    \n",
    "    ord_encoded = ord.fit_transform(test[['Severity Level']])\n",
    "    oneHot_encoded = oh.fit_transform(test[oneHot_idx])\n",
    "    \n",
    "    for i, col in enumerate(oh.get_feature_names_out()):\n",
    "        X_test[col] = oneHot_encoded[:,i]\n",
    "   \n",
    "    for i, col in enumerate(ord.get_feature_names_out()):\n",
    "        X_test[col] = ord_encoded[:,i]\n",
    "    \n",
    "    \n",
    "    return X_train, X_test"
   ],
   "metadata": {
    "collapsed": false,
    "ExecuteTime": {
     "end_time": "2024-01-28T10:28:41.636509Z",
     "start_time": "2024-01-28T10:28:41.632703Z"
    }
   },
   "id": "a1f69d175c39425c"
  },
  {
   "cell_type": "markdown",
   "source": [
    "In this step, I will utilize the previously mentioned function to create the training and test sets from my dataset, splitting it into:\n",
    "\n",
    "- Training set (80%)\n",
    "- Test set (20%)\n",
    "\n",
    "However, before proceeding with the split, I generate the target variable **y** from the dataset and remove it.\n"
   ],
   "metadata": {
    "collapsed": false
   },
   "id": "ff5752a1588c0363"
  },
  {
   "cell_type": "code",
   "execution_count": 3,
   "outputs": [],
   "source": [
    "# drop label columns\n",
    "X = data_proc.drop(columns=[\"Attack Type\"])\n",
    "\n",
    "# isolate y\n",
    "y = data_proc[\"Attack Type\"]\n",
    "\n",
    "# split in Train-set(80%) and Testing-set(20%)\n",
    "X_train, X_test, y_train, y_test = train_test_split( X, y, test_size=0.2, random_state=42) \n",
    "\n",
    "X_train_enc, X_test_enc = process_data_x(X_train, X_test)\n",
    "\n",
    "label_enc = LabelEncoder()\n",
    "\n",
    "y_train_enc = label_enc.fit_transform(y_train)\n",
    "y_test_enc = label_enc.transform(y_test)"
   ],
   "metadata": {
    "collapsed": false,
    "ExecuteTime": {
     "end_time": "2024-01-28T10:28:41.757060Z",
     "start_time": "2024-01-28T10:28:41.637116Z"
    }
   },
   "id": "cd594366f77d60d7"
  },
  {
   "cell_type": "code",
   "execution_count": 4,
   "outputs": [
    {
     "data": {
      "text/plain": "array(['DDoS', 'Intrusion', 'Malware'], dtype=object)"
     },
     "execution_count": 4,
     "metadata": {},
     "output_type": "execute_result"
    }
   ],
   "source": [
    "label_enc.classes_"
   ],
   "metadata": {
    "collapsed": false,
    "ExecuteTime": {
     "end_time": "2024-01-28T10:28:41.757496Z",
     "start_time": "2024-01-28T10:28:41.733549Z"
    }
   },
   "id": "a4f49127ef216008"
  },
  {
   "cell_type": "markdown",
   "source": [
    "## 2) Classifier and Regressor \n",
    "\n"
   ],
   "metadata": {
    "collapsed": false
   },
   "id": "2709e4b15ff55c0"
  },
  {
   "cell_type": "markdown",
   "source": [
    "## 2.1 Classifier\n",
    "\n",
    "Let's create a KNN Classifier using the `KNeighborsClassifier` function from the scikit-learn (sklearn) library, with $k=10$. "
   ],
   "metadata": {
    "collapsed": false
   },
   "id": "7ce744fd489d62c0"
  },
  {
   "cell_type": "code",
   "execution_count": 5,
   "outputs": [
    {
     "name": "stdout",
     "output_type": "stream",
     "text": [
      "Accuracy 0.332\n"
     ]
    },
    {
     "data": {
      "text/plain": "array([1, 2, 2, ..., 2, 1, 2])"
     },
     "execution_count": 5,
     "metadata": {},
     "output_type": "execute_result"
    }
   ],
   "source": [
    "%matplotlib inline\n",
    "\n",
    "import matplotlib.pyplot as plt\n",
    "from sklearn.neighbors import KNeighborsClassifier\n",
    "from sklearn.metrics import accuracy_score\n",
    "\n",
    "kNN = KNeighborsClassifier(n_neighbors=10)\n",
    "\n",
    "kNN.fit(X_train_enc,y_train_enc)\n",
    "\n",
    "y_pred = kNN.predict(X_test_enc)\n",
    "\n",
    "acc = accuracy_score(y_true=y_test_enc, y_pred=y_pred)\n",
    "print (f\"Accuracy {acc:.3f}\")\n",
    "y_train_enc"
   ],
   "metadata": {
    "collapsed": false,
    "ExecuteTime": {
     "end_time": "2024-01-28T10:28:43.443392Z",
     "start_time": "2024-01-28T10:28:41.746416Z"
    }
   },
   "id": "4a757a3a57ec2694"
  },
  {
   "cell_type": "markdown",
   "source": [
    "The accuracy of the preceding segment is not better than random. Perhaps experimenting with different values could improve the results."
   ],
   "metadata": {
    "collapsed": false
   },
   "id": "76132606cb89c10e"
  },
  {
   "cell_type": "code",
   "execution_count": 6,
   "outputs": [
    {
     "name": "stdout",
     "output_type": "stream",
     "text": [
      "k:  1 | Accuracy 0.335\n",
      "k:  2 | Accuracy 0.332\n",
      "k:  3 | Accuracy 0.332\n",
      "k:  4 | Accuracy 0.334\n",
      "k:  5 | Accuracy 0.333\n",
      "k:  6 | Accuracy 0.336\n",
      "k:  7 | Accuracy 0.332\n",
      "k:  8 | Accuracy 0.335\n",
      "k:  9 | Accuracy 0.333\n",
      "k: 10 | Accuracy 0.332\n"
     ]
    }
   ],
   "source": [
    "for k in range(1,11):\n",
    "    kNN = KNeighborsClassifier(n_neighbors=k)\n",
    "    kNN.fit(X_train_enc,y_train_enc)\n",
    "    y_pred = kNN.predict(X_test_enc)\n",
    "\n",
    "    # compute Accuracy\n",
    "    acc = accuracy_score(y_true=y_test_enc, y_pred=y_pred)\n",
    "    print (f\"k: {k:2d} | Accuracy {acc:.3f}\" )"
   ],
   "metadata": {
    "collapsed": false,
    "ExecuteTime": {
     "end_time": "2024-01-28T10:28:46.683424Z",
     "start_time": "2024-01-28T10:28:43.447291Z"
    }
   },
   "id": "270849a35f12ee73"
  },
  {
   "cell_type": "markdown",
   "source": [],
   "metadata": {
    "collapsed": false
   },
   "id": "cfc952e6fe7e5768"
  },
  {
   "cell_type": "markdown",
   "source": [
    "### 2.2) Regressor\n",
    "\n",
    "Let's create a KNN Regressor using the `KNeighborsRegressor` function from the scikit-learn (sklearn) library, with $k=10$. \n"
   ],
   "metadata": {
    "collapsed": false
   },
   "id": "b36907f48bdb2b32"
  },
  {
   "cell_type": "code",
   "execution_count": 7,
   "outputs": [
    {
     "name": "stdout",
     "output_type": "stream",
     "text": [
      "Mean Squared Error: 0.72509375\n"
     ]
    }
   ],
   "source": [
    "from sklearn.neighbors import KNeighborsRegressor\n",
    "from sklearn.metrics import mean_squared_error\n",
    "\n",
    "kNN_reg = KNeighborsRegressor(n_neighbors=10)\n",
    "\n",
    "kNN_reg.fit(X_train_enc,y_train_enc)\n",
    "\n",
    "y_pred = kNN_reg.predict(X_test_enc)\n",
    "\n",
    "# Evaluate the model\n",
    "mse = mean_squared_error(y_test_enc, y_pred)\n",
    "print(f\"Mean Squared Error: {mse}\")"
   ],
   "metadata": {
    "collapsed": false,
    "ExecuteTime": {
     "end_time": "2024-01-28T10:28:46.910172Z",
     "start_time": "2024-01-28T10:28:46.685270Z"
    }
   },
   "id": "90f6ee688e7833ad"
  },
  {
   "cell_type": "markdown",
   "source": [
    "The $MSE$ of the preceding segment is not better than random. Perhaps experimenting with different values could improve the results."
   ],
   "metadata": {
    "collapsed": false
   },
   "id": "eb4af2d7aa3fcefb"
  },
  {
   "cell_type": "code",
   "execution_count": 8,
   "outputs": [
    {
     "name": "stdout",
     "output_type": "stream",
     "text": [
      "k:  1 | Mean Squared Error 1.302\n",
      "k:  2 | Mean Squared Error 0.990\n",
      "k:  3 | Mean Squared Error 0.884\n",
      "k:  4 | Mean Squared Error 0.825\n",
      "k:  5 | Mean Squared Error 0.795\n",
      "k:  6 | Mean Squared Error 0.771\n",
      "k:  7 | Mean Squared Error 0.759\n",
      "k:  8 | Mean Squared Error 0.743\n",
      "k:  9 | Mean Squared Error 0.734\n",
      "k: 10 | Mean Squared Error 0.725\n"
     ]
    }
   ],
   "source": [
    "for k in range(1,11):\n",
    "    kNN_reg = KNeighborsRegressor(n_neighbors=k)\n",
    "    \n",
    "    kNN_reg.fit(X_train_enc,y_train_enc)\n",
    "    \n",
    "    y_pred = kNN_reg.predict(X_test_enc)\n",
    "    \n",
    "    # Evaluate the model\n",
    "    mse = mean_squared_error(y_test_enc, y_pred)\n",
    "    print (\"k: {:2d} | Mean Squared Error {:.3f}\".format(k,mse) )"
   ],
   "metadata": {
    "collapsed": false,
    "ExecuteTime": {
     "end_time": "2024-01-28T10:28:49.151947Z",
     "start_time": "2024-01-28T10:28:46.910958Z"
    }
   },
   "id": "ea823fe1cba3d7af"
  },
  {
   "cell_type": "markdown",
   "source": [
    "## 3) Classifier and Regressor with Scaler"
   ],
   "metadata": {
    "collapsed": false
   },
   "id": "528cfd551fd7038b"
  },
  {
   "cell_type": "markdown",
   "source": [
    "### 3.1) MinMax Scaler\n",
    "\n",
    "The MinMax Scaler is a popular data scaling technique used in various Machine Learning tasks. This estimator scales and translates each feature individually such that it is in the given range on the training set, e.g. between zero and one.\n",
    "\n",
    "MinMaxScaler doesn’t reduce the effect of outliers, but it linearily scales them down into a fixed range, where the largest occuring data point corresponds to the maximum value and the smallest one corresponds to the minimum value. For an example visualization"
   ],
   "metadata": {
    "collapsed": false
   },
   "id": "dc5ffe333325855"
  },
  {
   "cell_type": "code",
   "execution_count": 9,
   "outputs": [
    {
     "data": {
      "text/plain": "MinMaxScaler()",
      "text/html": "<style>#sk-container-id-1 {color: black;}#sk-container-id-1 pre{padding: 0;}#sk-container-id-1 div.sk-toggleable {background-color: white;}#sk-container-id-1 label.sk-toggleable__label {cursor: pointer;display: block;width: 100%;margin-bottom: 0;padding: 0.3em;box-sizing: border-box;text-align: center;}#sk-container-id-1 label.sk-toggleable__label-arrow:before {content: \"▸\";float: left;margin-right: 0.25em;color: #696969;}#sk-container-id-1 label.sk-toggleable__label-arrow:hover:before {color: black;}#sk-container-id-1 div.sk-estimator:hover label.sk-toggleable__label-arrow:before {color: black;}#sk-container-id-1 div.sk-toggleable__content {max-height: 0;max-width: 0;overflow: hidden;text-align: left;background-color: #f0f8ff;}#sk-container-id-1 div.sk-toggleable__content pre {margin: 0.2em;color: black;border-radius: 0.25em;background-color: #f0f8ff;}#sk-container-id-1 input.sk-toggleable__control:checked~div.sk-toggleable__content {max-height: 200px;max-width: 100%;overflow: auto;}#sk-container-id-1 input.sk-toggleable__control:checked~label.sk-toggleable__label-arrow:before {content: \"▾\";}#sk-container-id-1 div.sk-estimator input.sk-toggleable__control:checked~label.sk-toggleable__label {background-color: #d4ebff;}#sk-container-id-1 div.sk-label input.sk-toggleable__control:checked~label.sk-toggleable__label {background-color: #d4ebff;}#sk-container-id-1 input.sk-hidden--visually {border: 0;clip: rect(1px 1px 1px 1px);clip: rect(1px, 1px, 1px, 1px);height: 1px;margin: -1px;overflow: hidden;padding: 0;position: absolute;width: 1px;}#sk-container-id-1 div.sk-estimator {font-family: monospace;background-color: #f0f8ff;border: 1px dotted black;border-radius: 0.25em;box-sizing: border-box;margin-bottom: 0.5em;}#sk-container-id-1 div.sk-estimator:hover {background-color: #d4ebff;}#sk-container-id-1 div.sk-parallel-item::after {content: \"\";width: 100%;border-bottom: 1px solid gray;flex-grow: 1;}#sk-container-id-1 div.sk-label:hover label.sk-toggleable__label {background-color: #d4ebff;}#sk-container-id-1 div.sk-serial::before {content: \"\";position: absolute;border-left: 1px solid gray;box-sizing: border-box;top: 0;bottom: 0;left: 50%;z-index: 0;}#sk-container-id-1 div.sk-serial {display: flex;flex-direction: column;align-items: center;background-color: white;padding-right: 0.2em;padding-left: 0.2em;position: relative;}#sk-container-id-1 div.sk-item {position: relative;z-index: 1;}#sk-container-id-1 div.sk-parallel {display: flex;align-items: stretch;justify-content: center;background-color: white;position: relative;}#sk-container-id-1 div.sk-item::before, #sk-container-id-1 div.sk-parallel-item::before {content: \"\";position: absolute;border-left: 1px solid gray;box-sizing: border-box;top: 0;bottom: 0;left: 50%;z-index: -1;}#sk-container-id-1 div.sk-parallel-item {display: flex;flex-direction: column;z-index: 1;position: relative;background-color: white;}#sk-container-id-1 div.sk-parallel-item:first-child::after {align-self: flex-end;width: 50%;}#sk-container-id-1 div.sk-parallel-item:last-child::after {align-self: flex-start;width: 50%;}#sk-container-id-1 div.sk-parallel-item:only-child::after {width: 0;}#sk-container-id-1 div.sk-dashed-wrapped {border: 1px dashed gray;margin: 0 0.4em 0.5em 0.4em;box-sizing: border-box;padding-bottom: 0.4em;background-color: white;}#sk-container-id-1 div.sk-label label {font-family: monospace;font-weight: bold;display: inline-block;line-height: 1.2em;}#sk-container-id-1 div.sk-label-container {text-align: center;}#sk-container-id-1 div.sk-container {/* jupyter's `normalize.less` sets `[hidden] { display: none; }` but bootstrap.min.css set `[hidden] { display: none !important; }` so we also need the `!important` here to be able to override the default hidden behavior on the sphinx rendered scikit-learn.org. See: https://github.com/scikit-learn/scikit-learn/issues/21755 */display: inline-block !important;position: relative;}#sk-container-id-1 div.sk-text-repr-fallback {display: none;}</style><div id=\"sk-container-id-1\" class=\"sk-top-container\"><div class=\"sk-text-repr-fallback\"><pre>MinMaxScaler()</pre><b>In a Jupyter environment, please rerun this cell to show the HTML representation or trust the notebook. <br />On GitHub, the HTML representation is unable to render, please try loading this page with nbviewer.org.</b></div><div class=\"sk-container\" hidden><div class=\"sk-item\"><div class=\"sk-estimator sk-toggleable\"><input class=\"sk-toggleable__control sk-hidden--visually\" id=\"sk-estimator-id-1\" type=\"checkbox\" checked><label for=\"sk-estimator-id-1\" class=\"sk-toggleable__label sk-toggleable__label-arrow\">MinMaxScaler</label><div class=\"sk-toggleable__content\"><pre>MinMaxScaler()</pre></div></div></div></div></div>"
     },
     "execution_count": 9,
     "metadata": {},
     "output_type": "execute_result"
    }
   ],
   "source": [
    "from sklearn.preprocessing import MinMaxScaler\n",
    "\n",
    "scaler = MinMaxScaler()\n",
    "scaler.fit(X_train_enc)"
   ],
   "metadata": {
    "collapsed": false,
    "ExecuteTime": {
     "end_time": "2024-01-28T10:28:49.161867Z",
     "start_time": "2024-01-28T10:28:49.151177Z"
    }
   },
   "id": "62847ee6931c6ab4"
  },
  {
   "cell_type": "code",
   "execution_count": 10,
   "outputs": [
    {
     "name": "stdout",
     "output_type": "stream",
     "text": [
      "Feature Packet Length -> Scale: 1436.00\n",
      "Feature Anomaly Scores -> Scale:  100.00\n",
      "Feature Protocol_ICMP -> Scale:    1.00\n",
      "Feature Protocol_TCP -> Scale:    1.00\n",
      "Feature Protocol_UDP -> Scale:    1.00\n",
      "Feature Packet Type_Control -> Scale:    1.00\n",
      "Feature Packet Type_Data -> Scale:    1.00\n",
      "Feature Traffic Type_DNS -> Scale:    1.00\n",
      "Feature Traffic Type_FTP -> Scale:    1.00\n",
      "Feature Traffic Type_HTTP -> Scale:    1.00\n",
      "Feature Malware Indicators_IoC Detected -> Scale:    1.00\n",
      "Feature Malware Indicators_Not Detected -> Scale:    1.00\n",
      "Feature Alerts/Warnings_Alert Triggered -> Scale:    1.00\n",
      "Feature Alerts/Warnings_Not Detected -> Scale:    1.00\n",
      "Feature Attack Signature_Known Pattern A -> Scale:    1.00\n",
      "Feature Attack Signature_Known Pattern B -> Scale:    1.00\n",
      "Feature Action Taken_Blocked -> Scale:    1.00\n",
      "Feature Action Taken_Ignored -> Scale:    1.00\n",
      "Feature Action Taken_Logged -> Scale:    1.00\n",
      "Feature Network Segment_Segment A -> Scale:    1.00\n",
      "Feature Network Segment_Segment B -> Scale:    1.00\n",
      "Feature Network Segment_Segment C -> Scale:    1.00\n",
      "Feature Firewall Logs_Log Data -> Scale:    1.00\n",
      "Feature Firewall Logs_Not Detected -> Scale:    1.00\n",
      "Feature IDS/IPS Alerts_Alert Data -> Scale:    1.00\n",
      "Feature IDS/IPS Alerts_Not Detected -> Scale:    1.00\n",
      "Feature Log Source_Firewall -> Scale:    1.00\n",
      "Feature Log Source_Server -> Scale:    1.00\n",
      "Feature Severity Level -> Scale:    2.00\n"
     ]
    }
   ],
   "source": [
    "X = X_train_enc.loc[:,'Packet Length' :]\n",
    "for f in X.columns:\n",
    "    print (\"Feature {:2s} -> Scale: {:7.2f}\".format(f, X.loc[:,f].max() - X.loc[:,f].min()) )"
   ],
   "metadata": {
    "collapsed": false,
    "ExecuteTime": {
     "end_time": "2024-01-28T10:28:49.173357Z",
     "start_time": "2024-01-28T10:28:49.164971Z"
    }
   },
   "id": "59d9efd556c56ea3"
  },
  {
   "cell_type": "code",
   "execution_count": 11,
   "outputs": [
    {
     "name": "stdout",
     "output_type": "stream",
     "text": [
      "k:  1 | Accuracy 0.339\n",
      "k:  2 | Accuracy 0.330\n",
      "k:  3 | Accuracy 0.336\n",
      "k:  4 | Accuracy 0.339\n",
      "k:  5 | Accuracy 0.335\n",
      "k:  6 | Accuracy 0.329\n",
      "k:  7 | Accuracy 0.336\n",
      "k:  8 | Accuracy 0.328\n",
      "k:  9 | Accuracy 0.330\n",
      "k: 10 | Accuracy 0.333\n"
     ]
    }
   ],
   "source": [
    "for k in range(1,11):\n",
    "\n",
    "    kNN = KNeighborsClassifier(n_neighbors=k)\n",
    "    kNN.fit( scaler.transform(X_train_enc), y_train_enc )\n",
    "    y_pred = kNN.predict( scaler.transform(X_test_enc) )\n",
    "    \n",
    "    # compute Accuracy\n",
    "    acc = accuracy_score(y_true=y_test_enc, y_pred=y_pred)\n",
    "    print (\"k: {:2d} | Accuracy {:.3f}\".format(k,acc) )\n"
   ],
   "metadata": {
    "collapsed": false,
    "ExecuteTime": {
     "end_time": "2024-01-28T10:28:52.392869Z",
     "start_time": "2024-01-28T10:28:49.174781Z"
    }
   },
   "id": "2ab6bd601619719d"
  },
  {
   "cell_type": "code",
   "execution_count": 12,
   "outputs": [
    {
     "name": "stdout",
     "output_type": "stream",
     "text": [
      "k:  1 | Mean Squared Error 1.325\n",
      "k:  2 | Mean Squared Error 1.000\n",
      "k:  3 | Mean Squared Error 0.883\n",
      "k:  4 | Mean Squared Error 0.827\n",
      "k:  5 | Mean Squared Error 0.794\n",
      "k:  6 | Mean Squared Error 0.770\n",
      "k:  7 | Mean Squared Error 0.758\n",
      "k:  8 | Mean Squared Error 0.743\n",
      "k:  9 | Mean Squared Error 0.734\n",
      "k: 10 | Mean Squared Error 0.727\n"
     ]
    }
   ],
   "source": [
    "for k in range(1,11):\n",
    "    kNN_reg = KNeighborsRegressor(n_neighbors=k)\n",
    "    \n",
    "    kNN_reg.fit(scaler.transform(X_train_enc), y_train_enc)\n",
    "    \n",
    "    y_pred = kNN_reg.predict(scaler.transform(X_test_enc))\n",
    "    \n",
    "    # Evaluate the model\n",
    "    mse = mean_squared_error(y_test_enc, y_pred)\n",
    "    print (\"k: {:2d} | Mean Squared Error {:.3f}\".format(k,mse) )"
   ],
   "metadata": {
    "collapsed": false,
    "ExecuteTime": {
     "end_time": "2024-01-28T10:28:54.606441Z",
     "start_time": "2024-01-28T10:28:52.393284Z"
    }
   },
   "id": "b730c64b8f85c83e"
  },
  {
   "cell_type": "code",
   "execution_count": 13,
   "outputs": [
    {
     "data": {
      "text/plain": "       Packet Length  Anomaly Scores  Protocol_ICMP  Protocol_TCP  \\\n14307          729.0            7.17            1.0           0.0   \n17812         1447.0           54.00            0.0           1.0   \n11020         1119.0           82.75            0.0           1.0   \n15158          706.0           86.47            1.0           0.0   \n24990         1202.0           63.21            1.0           0.0   \n...              ...             ...            ...           ...   \n6265          1214.0           69.40            0.0           0.0   \n11284         1246.0           80.79            0.0           0.0   \n38158          369.0           82.18            1.0           0.0   \n860            168.0           17.07            0.0           0.0   \n15795          536.0           69.94            0.0           0.0   \n\n       Protocol_UDP  Packet Type_Control  Packet Type_Data  Traffic Type_DNS  \\\n14307           0.0                  1.0               0.0               0.0   \n17812           0.0                  1.0               0.0               0.0   \n11020           0.0                  0.0               1.0               1.0   \n15158           0.0                  0.0               1.0               0.0   \n24990           0.0                  0.0               1.0               0.0   \n...             ...                  ...               ...               ...   \n6265            1.0                  0.0               1.0               1.0   \n11284           1.0                  1.0               0.0               0.0   \n38158           0.0                  1.0               0.0               0.0   \n860             1.0                  1.0               0.0               0.0   \n15795           1.0                  0.0               1.0               1.0   \n\n       Traffic Type_FTP  Traffic Type_HTTP  ...  Network Segment_Segment A  \\\n14307               0.0                1.0  ...                        0.0   \n17812               0.0                1.0  ...                        1.0   \n11020               0.0                0.0  ...                        1.0   \n15158               0.0                1.0  ...                        0.0   \n24990               1.0                0.0  ...                        0.0   \n...                 ...                ...  ...                        ...   \n6265                0.0                0.0  ...                        0.0   \n11284               1.0                0.0  ...                        0.0   \n38158               1.0                0.0  ...                        1.0   \n860                 0.0                1.0  ...                        1.0   \n15795               0.0                0.0  ...                        1.0   \n\n       Network Segment_Segment B  Network Segment_Segment C  \\\n14307                        0.0                        1.0   \n17812                        0.0                        0.0   \n11020                        0.0                        0.0   \n15158                        0.0                        1.0   \n24990                        1.0                        0.0   \n...                          ...                        ...   \n6265                         0.0                        1.0   \n11284                        1.0                        0.0   \n38158                        0.0                        0.0   \n860                          0.0                        0.0   \n15795                        0.0                        0.0   \n\n       Firewall Logs_Log Data  Firewall Logs_Not Detected  \\\n14307                     0.0                         1.0   \n17812                     0.0                         1.0   \n11020                     0.0                         1.0   \n15158                     1.0                         0.0   \n24990                     1.0                         0.0   \n...                       ...                         ...   \n6265                      1.0                         0.0   \n11284                     0.0                         1.0   \n38158                     0.0                         1.0   \n860                       0.0                         1.0   \n15795                     1.0                         0.0   \n\n       IDS/IPS Alerts_Alert Data  IDS/IPS Alerts_Not Detected  \\\n14307                        1.0                          0.0   \n17812                        1.0                          0.0   \n11020                        0.0                          1.0   \n15158                        1.0                          0.0   \n24990                        0.0                          1.0   \n...                          ...                          ...   \n6265                         0.0                          1.0   \n11284                        0.0                          1.0   \n38158                        0.0                          1.0   \n860                          1.0                          0.0   \n15795                        1.0                          0.0   \n\n       Log Source_Firewall  Log Source_Server  Severity Level  \n14307                  0.0                1.0             1.0  \n17812                  0.0                1.0             2.0  \n11020                  1.0                0.0             1.0  \n15158                  0.0                1.0             2.0  \n24990                  1.0                0.0             2.0  \n...                    ...                ...             ...  \n6265                   1.0                0.0             2.0  \n11284                  1.0                0.0             2.0  \n38158                  0.0                1.0             1.0  \n860                    0.0                1.0             2.0  \n15795                  1.0                0.0             2.0  \n\n[32000 rows x 29 columns]",
      "text/html": "<div>\n<style scoped>\n    .dataframe tbody tr th:only-of-type {\n        vertical-align: middle;\n    }\n\n    .dataframe tbody tr th {\n        vertical-align: top;\n    }\n\n    .dataframe thead th {\n        text-align: right;\n    }\n</style>\n<table border=\"1\" class=\"dataframe\">\n  <thead>\n    <tr style=\"text-align: right;\">\n      <th></th>\n      <th>Packet Length</th>\n      <th>Anomaly Scores</th>\n      <th>Protocol_ICMP</th>\n      <th>Protocol_TCP</th>\n      <th>Protocol_UDP</th>\n      <th>Packet Type_Control</th>\n      <th>Packet Type_Data</th>\n      <th>Traffic Type_DNS</th>\n      <th>Traffic Type_FTP</th>\n      <th>Traffic Type_HTTP</th>\n      <th>...</th>\n      <th>Network Segment_Segment A</th>\n      <th>Network Segment_Segment B</th>\n      <th>Network Segment_Segment C</th>\n      <th>Firewall Logs_Log Data</th>\n      <th>Firewall Logs_Not Detected</th>\n      <th>IDS/IPS Alerts_Alert Data</th>\n      <th>IDS/IPS Alerts_Not Detected</th>\n      <th>Log Source_Firewall</th>\n      <th>Log Source_Server</th>\n      <th>Severity Level</th>\n    </tr>\n  </thead>\n  <tbody>\n    <tr>\n      <th>14307</th>\n      <td>729.0</td>\n      <td>7.17</td>\n      <td>1.0</td>\n      <td>0.0</td>\n      <td>0.0</td>\n      <td>1.0</td>\n      <td>0.0</td>\n      <td>0.0</td>\n      <td>0.0</td>\n      <td>1.0</td>\n      <td>...</td>\n      <td>0.0</td>\n      <td>0.0</td>\n      <td>1.0</td>\n      <td>0.0</td>\n      <td>1.0</td>\n      <td>1.0</td>\n      <td>0.0</td>\n      <td>0.0</td>\n      <td>1.0</td>\n      <td>1.0</td>\n    </tr>\n    <tr>\n      <th>17812</th>\n      <td>1447.0</td>\n      <td>54.00</td>\n      <td>0.0</td>\n      <td>1.0</td>\n      <td>0.0</td>\n      <td>1.0</td>\n      <td>0.0</td>\n      <td>0.0</td>\n      <td>0.0</td>\n      <td>1.0</td>\n      <td>...</td>\n      <td>1.0</td>\n      <td>0.0</td>\n      <td>0.0</td>\n      <td>0.0</td>\n      <td>1.0</td>\n      <td>1.0</td>\n      <td>0.0</td>\n      <td>0.0</td>\n      <td>1.0</td>\n      <td>2.0</td>\n    </tr>\n    <tr>\n      <th>11020</th>\n      <td>1119.0</td>\n      <td>82.75</td>\n      <td>0.0</td>\n      <td>1.0</td>\n      <td>0.0</td>\n      <td>0.0</td>\n      <td>1.0</td>\n      <td>1.0</td>\n      <td>0.0</td>\n      <td>0.0</td>\n      <td>...</td>\n      <td>1.0</td>\n      <td>0.0</td>\n      <td>0.0</td>\n      <td>0.0</td>\n      <td>1.0</td>\n      <td>0.0</td>\n      <td>1.0</td>\n      <td>1.0</td>\n      <td>0.0</td>\n      <td>1.0</td>\n    </tr>\n    <tr>\n      <th>15158</th>\n      <td>706.0</td>\n      <td>86.47</td>\n      <td>1.0</td>\n      <td>0.0</td>\n      <td>0.0</td>\n      <td>0.0</td>\n      <td>1.0</td>\n      <td>0.0</td>\n      <td>0.0</td>\n      <td>1.0</td>\n      <td>...</td>\n      <td>0.0</td>\n      <td>0.0</td>\n      <td>1.0</td>\n      <td>1.0</td>\n      <td>0.0</td>\n      <td>1.0</td>\n      <td>0.0</td>\n      <td>0.0</td>\n      <td>1.0</td>\n      <td>2.0</td>\n    </tr>\n    <tr>\n      <th>24990</th>\n      <td>1202.0</td>\n      <td>63.21</td>\n      <td>1.0</td>\n      <td>0.0</td>\n      <td>0.0</td>\n      <td>0.0</td>\n      <td>1.0</td>\n      <td>0.0</td>\n      <td>1.0</td>\n      <td>0.0</td>\n      <td>...</td>\n      <td>0.0</td>\n      <td>1.0</td>\n      <td>0.0</td>\n      <td>1.0</td>\n      <td>0.0</td>\n      <td>0.0</td>\n      <td>1.0</td>\n      <td>1.0</td>\n      <td>0.0</td>\n      <td>2.0</td>\n    </tr>\n    <tr>\n      <th>...</th>\n      <td>...</td>\n      <td>...</td>\n      <td>...</td>\n      <td>...</td>\n      <td>...</td>\n      <td>...</td>\n      <td>...</td>\n      <td>...</td>\n      <td>...</td>\n      <td>...</td>\n      <td>...</td>\n      <td>...</td>\n      <td>...</td>\n      <td>...</td>\n      <td>...</td>\n      <td>...</td>\n      <td>...</td>\n      <td>...</td>\n      <td>...</td>\n      <td>...</td>\n      <td>...</td>\n    </tr>\n    <tr>\n      <th>6265</th>\n      <td>1214.0</td>\n      <td>69.40</td>\n      <td>0.0</td>\n      <td>0.0</td>\n      <td>1.0</td>\n      <td>0.0</td>\n      <td>1.0</td>\n      <td>1.0</td>\n      <td>0.0</td>\n      <td>0.0</td>\n      <td>...</td>\n      <td>0.0</td>\n      <td>0.0</td>\n      <td>1.0</td>\n      <td>1.0</td>\n      <td>0.0</td>\n      <td>0.0</td>\n      <td>1.0</td>\n      <td>1.0</td>\n      <td>0.0</td>\n      <td>2.0</td>\n    </tr>\n    <tr>\n      <th>11284</th>\n      <td>1246.0</td>\n      <td>80.79</td>\n      <td>0.0</td>\n      <td>0.0</td>\n      <td>1.0</td>\n      <td>1.0</td>\n      <td>0.0</td>\n      <td>0.0</td>\n      <td>1.0</td>\n      <td>0.0</td>\n      <td>...</td>\n      <td>0.0</td>\n      <td>1.0</td>\n      <td>0.0</td>\n      <td>0.0</td>\n      <td>1.0</td>\n      <td>0.0</td>\n      <td>1.0</td>\n      <td>1.0</td>\n      <td>0.0</td>\n      <td>2.0</td>\n    </tr>\n    <tr>\n      <th>38158</th>\n      <td>369.0</td>\n      <td>82.18</td>\n      <td>1.0</td>\n      <td>0.0</td>\n      <td>0.0</td>\n      <td>1.0</td>\n      <td>0.0</td>\n      <td>0.0</td>\n      <td>1.0</td>\n      <td>0.0</td>\n      <td>...</td>\n      <td>1.0</td>\n      <td>0.0</td>\n      <td>0.0</td>\n      <td>0.0</td>\n      <td>1.0</td>\n      <td>0.0</td>\n      <td>1.0</td>\n      <td>0.0</td>\n      <td>1.0</td>\n      <td>1.0</td>\n    </tr>\n    <tr>\n      <th>860</th>\n      <td>168.0</td>\n      <td>17.07</td>\n      <td>0.0</td>\n      <td>0.0</td>\n      <td>1.0</td>\n      <td>1.0</td>\n      <td>0.0</td>\n      <td>0.0</td>\n      <td>0.0</td>\n      <td>1.0</td>\n      <td>...</td>\n      <td>1.0</td>\n      <td>0.0</td>\n      <td>0.0</td>\n      <td>0.0</td>\n      <td>1.0</td>\n      <td>1.0</td>\n      <td>0.0</td>\n      <td>0.0</td>\n      <td>1.0</td>\n      <td>2.0</td>\n    </tr>\n    <tr>\n      <th>15795</th>\n      <td>536.0</td>\n      <td>69.94</td>\n      <td>0.0</td>\n      <td>0.0</td>\n      <td>1.0</td>\n      <td>0.0</td>\n      <td>1.0</td>\n      <td>1.0</td>\n      <td>0.0</td>\n      <td>0.0</td>\n      <td>...</td>\n      <td>1.0</td>\n      <td>0.0</td>\n      <td>0.0</td>\n      <td>1.0</td>\n      <td>0.0</td>\n      <td>1.0</td>\n      <td>0.0</td>\n      <td>1.0</td>\n      <td>0.0</td>\n      <td>2.0</td>\n    </tr>\n  </tbody>\n</table>\n<p>32000 rows × 29 columns</p>\n</div>"
     },
     "execution_count": 13,
     "metadata": {},
     "output_type": "execute_result"
    }
   ],
   "source": [
    "X_train_enc"
   ],
   "metadata": {
    "collapsed": false,
    "ExecuteTime": {
     "end_time": "2024-01-28T10:28:54.630297Z",
     "start_time": "2024-01-28T10:28:54.609413Z"
    }
   },
   "id": "6b6cf92f137d605"
  },
  {
   "cell_type": "markdown",
   "source": [
    "### 3.2) Standard Scaler\n",
    "\n",
    "Standardization of a dataset is a common requirement for many machine learning estimators: they might behave badly if the individual features do not more or less look like standard normally distributed data (e.g. Gaussian with 0 mean and unit variance).\n",
    "\n",
    "StandardScaler is sensitive to outliers, and the features may scale differently from each other in the presence of outliers."
   ],
   "metadata": {
    "collapsed": false
   },
   "id": "d97918f5f1d42f14"
  },
  {
   "cell_type": "code",
   "execution_count": 14,
   "outputs": [
    {
     "data": {
      "text/plain": "array([[-0.12018923, -1.49053755,  1.4010578 , ..., -1.0089778 ,\n         1.0089778 , -0.01049714],\n       [ 1.60329158,  0.13317741, -0.71374643, ..., -1.0089778 ,\n         1.0089778 ,  1.2154459 ],\n       [ 0.8159633 ,  1.13001289, -0.71374643, ...,  0.99110208,\n        -0.99110208, -0.01049714],\n       ...,\n       [-0.98433003,  1.11024954,  1.4010578 , ..., -1.0089778 ,\n         1.0089778 , -0.01049714],\n       [-1.46680864, -1.14727942, -0.71374643, ..., -1.0089778 ,\n         1.0089778 ,  1.2154459 ],\n       [-0.58346472,  0.68585767, -0.71374643, ...,  0.99110208,\n        -0.99110208,  1.2154459 ]])"
     },
     "execution_count": 14,
     "metadata": {},
     "output_type": "execute_result"
    }
   ],
   "source": [
    "from sklearn.preprocessing import StandardScaler\n",
    "\n",
    "scaler = StandardScaler()\n",
    "scaler.fit(X_train_enc)\n",
    "\n",
    "prova = scaler.fit_transform(X_train_enc) \n",
    "prova"
   ],
   "metadata": {
    "collapsed": false,
    "ExecuteTime": {
     "end_time": "2024-01-28T10:28:54.679906Z",
     "start_time": "2024-01-28T10:28:54.634959Z"
    }
   },
   "id": "137fb119f6dddea1"
  },
  {
   "cell_type": "code",
   "execution_count": 15,
   "outputs": [
    {
     "name": "stdout",
     "output_type": "stream",
     "text": [
      "Feature Packet Length -> Scale: 1436.00\n",
      "Feature Anomaly Scores -> Scale:  100.00\n",
      "Feature Protocol_ICMP -> Scale:    1.00\n",
      "Feature Protocol_TCP -> Scale:    1.00\n",
      "Feature Protocol_UDP -> Scale:    1.00\n",
      "Feature Packet Type_Control -> Scale:    1.00\n",
      "Feature Packet Type_Data -> Scale:    1.00\n",
      "Feature Traffic Type_DNS -> Scale:    1.00\n",
      "Feature Traffic Type_FTP -> Scale:    1.00\n",
      "Feature Traffic Type_HTTP -> Scale:    1.00\n",
      "Feature Malware Indicators_IoC Detected -> Scale:    1.00\n",
      "Feature Malware Indicators_Not Detected -> Scale:    1.00\n",
      "Feature Alerts/Warnings_Alert Triggered -> Scale:    1.00\n",
      "Feature Alerts/Warnings_Not Detected -> Scale:    1.00\n",
      "Feature Attack Signature_Known Pattern A -> Scale:    1.00\n",
      "Feature Attack Signature_Known Pattern B -> Scale:    1.00\n",
      "Feature Action Taken_Blocked -> Scale:    1.00\n",
      "Feature Action Taken_Ignored -> Scale:    1.00\n",
      "Feature Action Taken_Logged -> Scale:    1.00\n",
      "Feature Network Segment_Segment A -> Scale:    1.00\n",
      "Feature Network Segment_Segment B -> Scale:    1.00\n",
      "Feature Network Segment_Segment C -> Scale:    1.00\n",
      "Feature Firewall Logs_Log Data -> Scale:    1.00\n",
      "Feature Firewall Logs_Not Detected -> Scale:    1.00\n",
      "Feature IDS/IPS Alerts_Alert Data -> Scale:    1.00\n",
      "Feature IDS/IPS Alerts_Not Detected -> Scale:    1.00\n",
      "Feature Log Source_Firewall -> Scale:    1.00\n",
      "Feature Log Source_Server -> Scale:    1.00\n",
      "Feature Severity Level -> Scale:    2.00\n"
     ]
    }
   ],
   "source": [
    "X = X_train_enc.loc[:,'Packet Length' :]\n",
    "for f in X.columns:\n",
    "    print (\"Feature {:2s} -> Scale: {:7.2f}\".format(f, X.loc[:,f].max() - X.loc[:,f].min()) )"
   ],
   "metadata": {
    "collapsed": false,
    "ExecuteTime": {
     "end_time": "2024-01-28T10:28:54.702593Z",
     "start_time": "2024-01-28T10:28:54.656221Z"
    }
   },
   "id": "1c7850cca088c9bb"
  },
  {
   "cell_type": "code",
   "execution_count": 16,
   "outputs": [
    {
     "name": "stdout",
     "output_type": "stream",
     "text": [
      "k:  1 | Accuracy 0.336\n",
      "k:  2 | Accuracy 0.334\n",
      "k:  3 | Accuracy 0.335\n",
      "k:  4 | Accuracy 0.337\n",
      "k:  5 | Accuracy 0.330\n",
      "k:  6 | Accuracy 0.323\n",
      "k:  7 | Accuracy 0.328\n",
      "k:  8 | Accuracy 0.328\n",
      "k:  9 | Accuracy 0.327\n",
      "k: 10 | Accuracy 0.330\n"
     ]
    }
   ],
   "source": [
    "for k in range(1,11):\n",
    "\n",
    "    kNN = KNeighborsClassifier(n_neighbors=k)\n",
    "    kNN.fit( scaler.transform(X_train_enc), y_train_enc )\n",
    "    y_pred = kNN.predict( scaler.transform(X_test_enc) )\n",
    "\n",
    "    # compute Accuracy\n",
    "    acc = accuracy_score(y_true=y_test_enc, y_pred=y_pred)\n",
    "    print (\"k: {:2d} | Accuracy {:.3f}\".format(k,acc) )"
   ],
   "metadata": {
    "collapsed": false,
    "ExecuteTime": {
     "end_time": "2024-01-28T10:28:58.786211Z",
     "start_time": "2024-01-28T10:28:54.664846Z"
    }
   },
   "id": "9ece7d0836955ee8"
  },
  {
   "cell_type": "code",
   "execution_count": 17,
   "outputs": [
    {
     "name": "stdout",
     "output_type": "stream",
     "text": [
      "k:  1 | Mean Squared Error 1.325\n",
      "k:  2 | Mean Squared Error 0.998\n",
      "k:  3 | Mean Squared Error 0.889\n",
      "k:  4 | Mean Squared Error 0.830\n",
      "k:  5 | Mean Squared Error 0.800\n",
      "k:  6 | Mean Squared Error 0.774\n",
      "k:  7 | Mean Squared Error 0.760\n",
      "k:  8 | Mean Squared Error 0.749\n",
      "k:  9 | Mean Squared Error 0.739\n",
      "k: 10 | Mean Squared Error 0.733\n"
     ]
    }
   ],
   "source": [
    "for k in range(1,11):\n",
    "    kNN_reg = KNeighborsRegressor(n_neighbors=k)\n",
    "    \n",
    "    kNN_reg.fit(scaler.transform(X_train_enc), y_train_enc)\n",
    "    \n",
    "    y_pred = kNN_reg.predict(scaler.transform(X_test_enc))\n",
    "    \n",
    "    # Evaluate the model\n",
    "    mse = mean_squared_error(y_test_enc, y_pred)\n",
    "    print (\"k: {:2d} | Mean Squared Error {:.3f}\".format(k,mse) )"
   ],
   "metadata": {
    "collapsed": false,
    "ExecuteTime": {
     "end_time": "2024-01-28T10:29:00.971132Z",
     "start_time": "2024-01-28T10:28:58.785422Z"
    }
   },
   "id": "5c8dea7557b95fdb"
  },
  {
   "cell_type": "markdown",
   "source": [
    "## 2.3) Confusion Matrix\n",
    "\n",
    "A confusion matrix is a table used in classification to assess the performance of a predictive model. It compares predicted and actual classifications, distinguishing between True Positive (correct positive predictions), True Negative (correct negative predictions), False Positive (incorrect positive predictions), and False Negative (incorrect negative predictions). This matrix is crucial for evaluating metrics such as accuracy, precision, recall, specificity, and F1 score."
   ],
   "metadata": {
    "collapsed": false
   },
   "id": "2fec85a56caeca0d"
  },
  {
   "cell_type": "code",
   "execution_count": 18,
   "outputs": [
    {
     "data": {
      "text/plain": "Attack Signature\nKnown Pattern A    20076\nKnown Pattern B    19924\nName: count, dtype: int64"
     },
     "execution_count": 18,
     "metadata": {},
     "output_type": "execute_result"
    }
   ],
   "source": [
    "data['Attack Signature'].value_counts()"
   ],
   "metadata": {
    "collapsed": false,
    "ExecuteTime": {
     "end_time": "2024-01-28T10:29:00.978867Z",
     "start_time": "2024-01-28T10:29:00.976322Z"
    }
   },
   "id": "4b3f533992f583ca"
  },
  {
   "cell_type": "code",
   "execution_count": 19,
   "outputs": [
    {
     "data": {
      "text/plain": "<sklearn.metrics._plot.confusion_matrix.ConfusionMatrixDisplay at 0x14ddbefa0>"
     },
     "execution_count": 19,
     "metadata": {},
     "output_type": "execute_result"
    },
    {
     "data": {
      "text/plain": "<Figure size 640x480 with 2 Axes>",
      "image/png": "[encoded data removed]"
     },
     "metadata": {},
     "output_type": "display_data"
    }
   ],
   "source": [
    "from sklearn.metrics import ConfusionMatrixDisplay\n",
    "\n",
    "kNN = KNeighborsClassifier(n_neighbors=10)\n",
    "kNN.fit(X_train_enc,y_train_enc)\n",
    "# y_pred = kNN.predict(X_test_enc)\n",
    "\n",
    "ConfusionMatrixDisplay.from_estimator(estimator=kNN,\n",
    "                                      X=X_test_enc, y=y_test_enc,\n",
    "                                      cmap='Blues_r')"
   ],
   "metadata": {
    "collapsed": false,
    "ExecuteTime": {
     "end_time": "2024-01-28T10:29:01.476633Z",
     "start_time": "2024-01-28T10:29:00.981343Z"
    }
   },
   "id": "46922717c71e210f"
  },
  {
   "cell_type": "code",
   "execution_count": 20,
   "outputs": [
    {
     "data": {
      "text/plain": "array([[1082,  838,  716],\n       [1108,  854,  759],\n       [1054,  869,  720]])"
     },
     "execution_count": 20,
     "metadata": {},
     "output_type": "execute_result"
    }
   ],
   "source": [
    "from sklearn.metrics import confusion_matrix\n",
    "\n",
    "conf_stat = confusion_matrix(y_true=y_test_enc, y_pred=kNN.predict(X_test_enc))\n",
    "\n",
    "conf_stat"
   ],
   "metadata": {
    "collapsed": false,
    "ExecuteTime": {
     "end_time": "2024-01-28T10:29:01.879674Z",
     "start_time": "2024-01-28T10:29:01.477703Z"
    }
   },
   "id": "44d7917654eabfa1"
  },
  {
   "cell_type": "markdown",
   "source": [
    "This indicates that the precision of the prediction classification is not satisfactory and requires further improvement."
   ],
   "metadata": {
    "collapsed": false
   },
   "id": "d35aeb3f41443de8"
  },
  {
   "cell_type": "code",
   "execution_count": 21,
   "outputs": [
    {
     "data": {
      "text/plain": "Attack Type\nDDoS         13428\nMalware      13307\nIntrusion    13265\nName: count, dtype: int64"
     },
     "execution_count": 21,
     "metadata": {},
     "output_type": "execute_result"
    }
   ],
   "source": [
    "data['Attack Type'].value_counts()"
   ],
   "metadata": {
    "collapsed": false,
    "ExecuteTime": {
     "end_time": "2024-01-28T10:29:01.887331Z",
     "start_time": "2024-01-28T10:29:01.881741Z"
    }
   },
   "id": "459798e1b7679ead"
  },
  {
   "cell_type": "markdown",
   "source": [
    "## 4) K-Cross Validation\n",
    "In this step, a different approach is used. We employ the cross-validation method to assess whether, by using different parts of the dataset as the Validation Set, the accuracy will be higher than before.\n"
   ],
   "metadata": {
    "collapsed": false
   },
   "id": "1f0fb99bc7cf43cd"
  },
  {
   "cell_type": "code",
   "execution_count": 22,
   "outputs": [],
   "source": [
    "# drop label columns\n",
    "X = data_proc.drop(columns=[\"Attack Type\"])\n",
    "\n",
    "# isolate y\n",
    "y = data_proc[\"Attack Type\"]\n",
    "\n",
    "# split in Train-set(80%) and Testing-set(20%)\n",
    "X_train, X_test, y_train, y_test = train_test_split( X, y, test_size=0.2, random_state=42) \n",
    "\n",
    "X_train_enc, X_test_enc = process_data_x(X_train, X_test)\n",
    "\n",
    "label_enc = LabelEncoder()\n",
    "\n",
    "y_train_enc = label_enc.fit_transform(y_train)\n",
    "y_test_enc = label_enc.transform(y_test)"
   ],
   "metadata": {
    "collapsed": false,
    "ExecuteTime": {
     "end_time": "2024-01-28T10:29:01.975579Z",
     "start_time": "2024-01-28T10:29:01.892524Z"
    }
   },
   "id": "915642a44e07e841"
  },
  {
   "cell_type": "code",
   "execution_count": 23,
   "outputs": [],
   "source": [
    "from sklearn.model_selection import cross_val_score\n",
    "from sklearn import metrics\n",
    "\n",
    "scores_class = cross_val_score(kNN,X_train_enc,y_train_enc, cv=5)\n",
    "scores_reg = cross_val_score(kNN_reg,X_train_enc,y_train_enc, cv=5)"
   ],
   "metadata": {
    "collapsed": false,
    "ExecuteTime": {
     "end_time": "2024-01-28T10:29:03.940506Z",
     "start_time": "2024-01-28T10:29:01.977291Z"
    }
   },
   "id": "f6c792b6507697cf"
  },
  {
   "cell_type": "code",
   "execution_count": 24,
   "outputs": [
    {
     "data": {
      "text/plain": "array([0.33171875, 0.3396875 , 0.33359375, 0.3359375 , 0.32953125])"
     },
     "execution_count": 24,
     "metadata": {},
     "output_type": "execute_result"
    }
   ],
   "source": [
    "scores_class"
   ],
   "metadata": {
    "collapsed": false,
    "ExecuteTime": {
     "end_time": "2024-01-28T10:29:03.949432Z",
     "start_time": "2024-01-28T10:29:03.941768Z"
    }
   },
   "id": "9a6dc4b8c2e10ef0"
  },
  {
   "cell_type": "code",
   "execution_count": 25,
   "outputs": [
    {
     "data": {
      "text/plain": "array([-0.10146469, -0.08555799, -0.09795863, -0.09220771, -0.0938024 ])"
     },
     "execution_count": 25,
     "metadata": {},
     "output_type": "execute_result"
    }
   ],
   "source": [
    "scores_reg"
   ],
   "metadata": {
    "collapsed": false,
    "ExecuteTime": {
     "end_time": "2024-01-28T10:29:03.956094Z",
     "start_time": "2024-01-28T10:29:03.945427Z"
    }
   },
   "id": "9b9f3ce29fc5e264"
  },
  {
   "cell_type": "code",
   "execution_count": 26,
   "outputs": [],
   "source": [
    "from sklearn.model_selection import ShuffleSplit\n",
    "\n",
    "cv = ShuffleSplit(n_splits=5, test_size=0.3, random_state=0)\n",
    "scores = cross_val_score(kNN,X_train_enc,y_train_enc, cv=cv)"
   ],
   "metadata": {
    "collapsed": false,
    "ExecuteTime": {
     "end_time": "2024-01-28T10:29:05.294650Z",
     "start_time": "2024-01-28T10:29:03.952067Z"
    }
   },
   "id": "cc564dccc0c2df6"
  },
  {
   "cell_type": "code",
   "execution_count": 27,
   "outputs": [
    {
     "data": {
      "text/plain": "array([0.33166667, 0.33114583, 0.33197917, 0.33427083, 0.3265625 ])"
     },
     "execution_count": 27,
     "metadata": {},
     "output_type": "execute_result"
    }
   ],
   "source": [
    "scores"
   ],
   "metadata": {
    "collapsed": false,
    "ExecuteTime": {
     "end_time": "2024-01-28T10:29:05.298791Z",
     "start_time": "2024-01-28T10:29:05.295834Z"
    }
   },
   "id": "2618f0c39307b189"
  },
  {
   "cell_type": "markdown",
   "source": [
    "## 5) Functions\n",
    "\n",
    "Let's see if using different functions increases the accuracy of the model. You can find the full explanation of all those functions in the Jupyter Notebook called **theory.jpynb**"
   ],
   "metadata": {
    "collapsed": false
   },
   "id": "9b23b9af34037796"
  },
  {
   "cell_type": "markdown",
   "source": [
    "### 5.1) Manhattan Distance (L1 Norm):"
   ],
   "metadata": {
    "collapsed": false
   },
   "id": "f85eaffc21f5aaf7"
  },
  {
   "cell_type": "code",
   "execution_count": 28,
   "outputs": [
    {
     "name": "stdout",
     "output_type": "stream",
     "text": [
      "Accuracy 0.339\n"
     ]
    },
    {
     "data": {
      "text/plain": "array([1, 2, 2, ..., 2, 1, 2])"
     },
     "execution_count": 28,
     "metadata": {},
     "output_type": "execute_result"
    }
   ],
   "source": [
    "kNN = KNeighborsClassifier(n_neighbors=10, metric='manhattan')\n",
    "\n",
    "kNN.fit(X_train_enc,y_train_enc)\n",
    "\n",
    "y_pred = kNN.predict(X_test_enc)\n",
    "\n",
    "acc = accuracy_score(y_true=y_test_enc, y_pred=y_pred)\n",
    "print (f\"Accuracy {acc:.3f}\")\n",
    "y_train_enc\n"
   ],
   "metadata": {
    "collapsed": false,
    "ExecuteTime": {
     "end_time": "2024-01-28T10:29:06.223574Z",
     "start_time": "2024-01-28T10:29:05.301172Z"
    }
   },
   "id": "de6a681665ac6db4"
  },
  {
   "cell_type": "code",
   "execution_count": 29,
   "outputs": [
    {
     "name": "stdout",
     "output_type": "stream",
     "text": [
      "Mean Squared Error: 0.7228575\n"
     ]
    }
   ],
   "source": [
    "kNN = KNeighborsRegressor(n_neighbors=10, metric='manhattan')\n",
    "\n",
    "kNN.fit(X_train_enc,y_train_enc)\n",
    "\n",
    "y_pred = kNN.predict(X_test_enc)\n",
    "\n",
    "# Evaluate the model\n",
    "mse = mean_squared_error(y_test_enc, y_pred)\n",
    "print(f\"Mean Squared Error: {mse}\")"
   ],
   "metadata": {
    "collapsed": false,
    "ExecuteTime": {
     "end_time": "2024-01-28T10:29:07.041535Z",
     "start_time": "2024-01-28T10:29:06.225872Z"
    }
   },
   "id": "fbd121c6311de9e7"
  },
  {
   "cell_type": "markdown",
   "source": [
    "### 5.2) Minkowski Distance:"
   ],
   "metadata": {
    "collapsed": false
   },
   "id": "c8bec0a0b52b489b"
  },
  {
   "cell_type": "code",
   "execution_count": 30,
   "outputs": [
    {
     "name": "stdout",
     "output_type": "stream",
     "text": [
      "Accuracy 0.332\n"
     ]
    },
    {
     "data": {
      "text/plain": "array([1, 2, 2, ..., 2, 1, 2])"
     },
     "execution_count": 30,
     "metadata": {},
     "output_type": "execute_result"
    }
   ],
   "source": [
    "kNN = KNeighborsClassifier(n_neighbors=10, metric='minkowski')\n",
    "\n",
    "kNN.fit(X_train_enc,y_train_enc)\n",
    "\n",
    "y_pred = kNN.predict(X_test_enc)\n",
    "\n",
    "acc = accuracy_score(y_true=y_test_enc, y_pred=y_pred)\n",
    "print (f\"Accuracy {acc:.3f}\")\n",
    "y_train_enc\n"
   ],
   "metadata": {
    "collapsed": false,
    "ExecuteTime": {
     "end_time": "2024-01-28T10:29:07.377430Z",
     "start_time": "2024-01-28T10:29:07.043153Z"
    }
   },
   "id": "85348db380406ec"
  },
  {
   "cell_type": "code",
   "execution_count": 31,
   "outputs": [
    {
     "name": "stdout",
     "output_type": "stream",
     "text": [
      "Mean Squared Error: 0.72509375\n"
     ]
    }
   ],
   "source": [
    "kNN = KNeighborsRegressor(n_neighbors=10, metric='minkowski')\n",
    "\n",
    "kNN.fit(X_train_enc,y_train_enc)\n",
    "\n",
    "y_pred = kNN.predict(X_test_enc)\n",
    "\n",
    "# Evaluate the model\n",
    "mse = mean_squared_error(y_test_enc, y_pred)\n",
    "print(f\"Mean Squared Error: {mse}\")"
   ],
   "metadata": {
    "collapsed": false,
    "ExecuteTime": {
     "end_time": "2024-01-28T10:29:07.596466Z",
     "start_time": "2024-01-28T10:29:07.376059Z"
    }
   },
   "id": "b8a6b592e7e5674f"
  },
  {
   "cell_type": "markdown",
   "source": [
    "### 5.3) Cosine Similarity:"
   ],
   "metadata": {
    "collapsed": false
   },
   "id": "918ecf0e53667624"
  },
  {
   "cell_type": "code",
   "execution_count": 32,
   "outputs": [
    {
     "name": "stdout",
     "output_type": "stream",
     "text": [
      "Accuracy 0.337\n"
     ]
    },
    {
     "data": {
      "text/plain": "array([1, 2, 2, ..., 2, 1, 2])"
     },
     "execution_count": 32,
     "metadata": {},
     "output_type": "execute_result"
    }
   ],
   "source": [
    "kNN = KNeighborsClassifier(n_neighbors=10, metric='cosine')\n",
    "\n",
    "kNN.fit(X_train_enc,y_train_enc)\n",
    "\n",
    "y_pred = kNN.predict(X_test_enc)\n",
    "\n",
    "acc = accuracy_score(y_true=y_test_enc, y_pred=y_pred)\n",
    "print (f\"Accuracy {acc:.3f}\")\n",
    "y_train_enc\n"
   ],
   "metadata": {
    "collapsed": false,
    "ExecuteTime": {
     "end_time": "2024-01-28T10:29:11.992872Z",
     "start_time": "2024-01-28T10:29:07.599180Z"
    }
   },
   "id": "a16251051b819bac"
  },
  {
   "cell_type": "code",
   "execution_count": 33,
   "outputs": [
    {
     "name": "stdout",
     "output_type": "stream",
     "text": [
      "Mean Squared Error: 0.7181025\n"
     ]
    }
   ],
   "source": [
    "kNN = KNeighborsRegressor(n_neighbors=10, metric='cosine')\n",
    "\n",
    "kNN.fit(X_train_enc,y_train_enc)\n",
    "\n",
    "y_pred = kNN.predict(X_test_enc)\n",
    "\n",
    "# Evaluate the model\n",
    "mse = mean_squared_error(y_test_enc, y_pred)\n",
    "print(f\"Mean Squared Error: {mse}\")"
   ],
   "metadata": {
    "collapsed": false,
    "ExecuteTime": {
     "end_time": "2024-01-28T10:29:16.041678Z",
     "start_time": "2024-01-28T10:29:11.993896Z"
    }
   },
   "id": "130bfeef60cab676"
  },
  {
   "cell_type": "markdown",
   "source": [
    "### 5.4) Hamming Distance:"
   ],
   "metadata": {
    "collapsed": false
   },
   "id": "f3405afefedb7837"
  },
  {
   "cell_type": "code",
   "execution_count": 34,
   "outputs": [
    {
     "name": "stdout",
     "output_type": "stream",
     "text": [
      "Accuracy 0.333\n"
     ]
    },
    {
     "data": {
      "text/plain": "array([1, 2, 2, ..., 2, 1, 2])"
     },
     "execution_count": 34,
     "metadata": {},
     "output_type": "execute_result"
    }
   ],
   "source": [
    "kNN = KNeighborsClassifier(n_neighbors=10, metric='hamming')\n",
    "\n",
    "kNN.fit(X_train_enc,y_train_enc)\n",
    "\n",
    "y_pred = kNN.predict(X_test_enc)\n",
    "\n",
    "acc = accuracy_score(y_true=y_test_enc, y_pred=y_pred)\n",
    "print (f\"Accuracy {acc:.3f}\")\n",
    "y_train_enc\n"
   ],
   "metadata": {
    "collapsed": false,
    "ExecuteTime": {
     "end_time": "2024-01-28T10:29:21.831811Z",
     "start_time": "2024-01-28T10:29:16.044274Z"
    }
   },
   "id": "a35b841b6184402b"
  },
  {
   "cell_type": "code",
   "execution_count": 35,
   "outputs": [
    {
     "name": "stdout",
     "output_type": "stream",
     "text": [
      "Mean Squared Error: 0.73047375\n"
     ]
    }
   ],
   "source": [
    "kNN = KNeighborsRegressor(n_neighbors=10, metric='hamming')\n",
    "\n",
    "kNN.fit(X_train_enc,y_train_enc)\n",
    "\n",
    "y_pred = kNN.predict(X_test_enc)\n",
    "\n",
    "# Evaluate the model\n",
    "mse = mean_squared_error(y_test_enc, y_pred)\n",
    "print(f\"Mean Squared Error: {mse}\")"
   ],
   "metadata": {
    "collapsed": false,
    "ExecuteTime": {
     "end_time": "2024-01-28T10:29:27.441732Z",
     "start_time": "2024-01-28T10:29:21.833320Z"
    }
   },
   "id": "3756c9792b88bc60"
  },
  {
   "cell_type": "markdown",
   "source": [
    "### 5.5) Chebyshev Distance:"
   ],
   "metadata": {
    "collapsed": false
   },
   "id": "3fda6abb536f8a98"
  },
  {
   "cell_type": "code",
   "execution_count": 36,
   "outputs": [
    {
     "name": "stdout",
     "output_type": "stream",
     "text": [
      "Accuracy 0.331\n"
     ]
    },
    {
     "data": {
      "text/plain": "array([1, 2, 2, ..., 2, 1, 2])"
     },
     "execution_count": 36,
     "metadata": {},
     "output_type": "execute_result"
    }
   ],
   "source": [
    "kNN = KNeighborsClassifier(n_neighbors=10, metric='chebyshev')\n",
    "\n",
    "kNN.fit(X_train_enc,y_train_enc)\n",
    "\n",
    "y_pred = kNN.predict(X_test_enc)\n",
    "\n",
    "acc = accuracy_score(y_true=y_test_enc, y_pred=y_pred)\n",
    "print (f\"Accuracy {acc:.3f}\")\n",
    "y_train_enc\n"
   ],
   "metadata": {
    "collapsed": false,
    "ExecuteTime": {
     "end_time": "2024-01-28T10:29:28.772998Z",
     "start_time": "2024-01-28T10:29:27.443678Z"
    }
   },
   "id": "d2f240b40f036b94"
  },
  {
   "cell_type": "code",
   "execution_count": 37,
   "outputs": [
    {
     "name": "stdout",
     "output_type": "stream",
     "text": [
      "Mean Squared Error: 0.72315625\n"
     ]
    }
   ],
   "source": [
    "kNN = KNeighborsRegressor(n_neighbors=10, metric='chebyshev')\n",
    "\n",
    "kNN.fit(X_train_enc,y_train_enc)\n",
    "\n",
    "y_pred = kNN.predict(X_test_enc)\n",
    "\n",
    "# Evaluate the model\n",
    "mse = mean_squared_error(y_test_enc, y_pred)\n",
    "print(f\"Mean Squared Error: {mse}\")"
   ],
   "metadata": {
    "collapsed": false,
    "ExecuteTime": {
     "end_time": "2024-01-28T10:29:30.083415Z",
     "start_time": "2024-01-28T10:29:28.773590Z"
    }
   },
   "id": "ccc135b0c0ff0922"
  },
  {
   "cell_type": "markdown",
   "source": [
    "### 5.6) Mahalanobis Distance:"
   ],
   "metadata": {
    "collapsed": false
   },
   "id": "e9a95453e3d5c465"
  },
  {
   "cell_type": "code",
   "execution_count": 38,
   "outputs": [
    {
     "name": "stderr",
     "output_type": "stream",
     "text": [
      "/Library/Python/3.9/site-packages/sklearn/metrics/pairwise.py:2182: DataConversionWarning: Data was converted to boolean for metric jaccard\n",
      "  warnings.warn(msg, DataConversionWarning)\n",
      "/Library/Python/3.9/site-packages/sklearn/metrics/pairwise.py:2182: DataConversionWarning: Data was converted to boolean for metric jaccard\n",
      "  warnings.warn(msg, DataConversionWarning)\n"
     ]
    },
    {
     "name": "stdout",
     "output_type": "stream",
     "text": [
      "Accuracy 0.329\n"
     ]
    },
    {
     "data": {
      "text/plain": "array([1, 2, 2, ..., 2, 1, 2])"
     },
     "execution_count": 38,
     "metadata": {},
     "output_type": "execute_result"
    }
   ],
   "source": [
    "kNN = KNeighborsClassifier(n_neighbors=10, metric='jaccard')\n",
    "\n",
    "kNN.fit(X_train_enc,y_train_enc)\n",
    "\n",
    "y_pred = kNN.predict(X_test_enc)\n",
    "\n",
    "acc = accuracy_score(y_true=y_test_enc, y_pred=y_pred)\n",
    "print (f\"Accuracy {acc:.3f}\")\n",
    "y_train_enc\n"
   ],
   "metadata": {
    "collapsed": false,
    "ExecuteTime": {
     "end_time": "2024-01-28T10:29:39.937724Z",
     "start_time": "2024-01-28T10:29:30.083304Z"
    }
   },
   "id": "95bbd7f727c321b8"
  },
  {
   "cell_type": "code",
   "execution_count": 39,
   "outputs": [
    {
     "name": "stderr",
     "output_type": "stream",
     "text": [
      "/Library/Python/3.9/site-packages/sklearn/metrics/pairwise.py:2182: DataConversionWarning: Data was converted to boolean for metric jaccard\n",
      "  warnings.warn(msg, DataConversionWarning)\n",
      "/Library/Python/3.9/site-packages/sklearn/metrics/pairwise.py:2182: DataConversionWarning: Data was converted to boolean for metric jaccard\n",
      "  warnings.warn(msg, DataConversionWarning)\n"
     ]
    },
    {
     "name": "stdout",
     "output_type": "stream",
     "text": [
      "Mean Squared Error: 0.7290812499999999\n"
     ]
    }
   ],
   "source": [
    "kNN = KNeighborsRegressor(n_neighbors=10, metric='jaccard')\n",
    "\n",
    "kNN.fit(X_train_enc,y_train_enc)\n",
    "\n",
    "y_pred = kNN.predict(X_test_enc)\n",
    "\n",
    "# Evaluate the model\n",
    "mse = mean_squared_error(y_test_enc, y_pred)\n",
    "print(f\"Mean Squared Error: {mse}\")"
   ],
   "metadata": {
    "collapsed": false,
    "ExecuteTime": {
     "end_time": "2024-01-28T10:29:49.347581Z",
     "start_time": "2024-01-28T10:29:39.939682Z"
    }
   },
   "id": "43909458dd4a8a03"
  },
  {
   "cell_type": "code",
   "execution_count": 39,
   "outputs": [],
   "source": [],
   "metadata": {
    "collapsed": false,
    "ExecuteTime": {
     "end_time": "2024-01-28T10:29:49.350683Z",
     "start_time": "2024-01-28T10:29:49.348535Z"
    }
   },
   "id": "415c46037f06fcec"
  }
 ],
 "metadata": {
  "kernelspec": {
   "display_name": "Python 3",
   "language": "python",
   "name": "python3"
  },
  "language_info": {
   "codemirror_mode": {
    "name": "ipython",
    "version": 2
   },
   "file_extension": ".py",
   "mimetype": "text/x-python",
   "name": "python",
   "nbconvert_exporter": "python",
   "pygments_lexer": "ipython2",
   "version": "2.7.6"
  }
 },
 "nbformat": 4,
 "nbformat_minor": 5
}
