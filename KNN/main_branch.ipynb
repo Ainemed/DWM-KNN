{
 "cells": [
  {
   "cell_type": "markdown",
   "source": [
    "\n",
    "# 1) Dataset"
   ],
   "metadata": {
    "collapsed": false
   },
   "id": "25f556214c249d24"
  },
  {
   "cell_type": "code",
   "execution_count": 4,
   "id": "initial_id",
   "metadata": {
    "collapsed": true,
    "ExecuteTime": {
     "end_time": "2023-12-09T09:47:55.926403Z",
     "start_time": "2023-12-09T09:47:55.435450Z"
    }
   },
   "outputs": [
    {
     "data": {
      "text/plain": "                 Timestamp Source IP Address Destination IP Address  \\\n0      2023-05-30 06:33:58     103.216.15.12           84.9.164.252   \n1      2020-08-26 07:08:30    78.199.217.198         66.191.137.154   \n2      2022-11-13 08:23:25      63.79.210.48          198.219.82.17   \n3      2023-07-02 10:38:46     163.42.196.10        101.228.192.255   \n4      2023-07-16 13:11:07     71.166.185.76        189.243.174.238   \n...                    ...               ...                    ...   \n39995  2023-05-26 14:08:42      26.36.109.26         121.100.75.240   \n39996  2023-03-27 00:38:27      17.21.163.81         196.108.134.78   \n39997  2022-03-31 01:45:49     162.35.217.57            98.107.0.15   \n39998  2023-09-22 18:32:38    208.72.233.205         173.79.112.252   \n39999  2023-10-10 11:59:52     14.102.21.108           109.198.45.7   \n\n       Source Port  Destination Port Protocol  Packet Length Packet Type  \\\n0            31225             17616     ICMP            503        Data   \n1            17245             48166     ICMP           1174        Data   \n2            16811             53600      UDP            306     Control   \n3            20018             32534      UDP            385        Data   \n4             6131             26646      TCP           1462        Data   \n...            ...               ...      ...            ...         ...   \n39995        31005              6764      UDP           1428     Control   \n39996         2553             28091      UDP           1184     Control   \n39997        22505             25152      UDP           1043        Data   \n39998        20013              2703      UDP            483        Data   \n39999        50137             55575     ICMP           1175     Control   \n\n      Traffic Type                                       Payload Data  ...  \\\n0             HTTP  Qui natus odio asperiores nam. Optio nobis ius...  ...   \n1             HTTP  Aperiam quos modi officiis veritatis rem. Omni...  ...   \n2             HTTP  Perferendis sapiente vitae soluta. Hic delectu...  ...   \n3             HTTP  Totam maxime beatae expedita explicabo porro l...  ...   \n4              DNS  Odit nesciunt dolorem nisi iste iusto. Animi v...  ...   \n...            ...                                                ...  ...   \n39995         HTTP  Quibusdam ullam consequatur consequuntur accus...  ...   \n39996         HTTP  Quaerat neque esse. Animi expedita natus commo...  ...   \n39997          DNS  Enim at aspernatur illum. Saepe numquam eligen...  ...   \n39998          FTP  Officiis dolorem sed harum provident earum dis...  ...   \n39999         HTTP  Eligendi omnis voluptate nihil voluptatibus do...  ...   \n\n      Action Taken  Severity Level User Information  \\\n0           Logged             Low    Reyansh Dugal   \n1          Blocked             Low       Sumer Rana   \n2          Ignored             Low     Himmat Karpe   \n3          Blocked          Medium       Fateh Kibe   \n4          Blocked             Low     Dhanush Chad   \n...            ...             ...              ...   \n39995       Logged          Medium      Adira Madan   \n39996       Logged            High        Rati Dara   \n39997      Blocked             Low     Samiha Joshi   \n39998      Ignored             Low    Rasha Chauhan   \n39999       Logged          Medium      Zaina Kumar   \n\n                                      Device Information Network Segment  \\\n0      Mozilla/5.0 (compatible; MSIE 8.0; Windows NT ...       Segment A   \n1      Mozilla/5.0 (compatible; MSIE 8.0; Windows NT ...       Segment B   \n2      Mozilla/5.0 (compatible; MSIE 9.0; Windows NT ...       Segment C   \n3      Mozilla/5.0 (Macintosh; PPC Mac OS X 10_11_5; ...       Segment B   \n4      Mozilla/5.0 (compatible; MSIE 5.0; Windows NT ...       Segment C   \n...                                                  ...             ...   \n39995  Mozilla/5.0 (iPad; CPU iPad OS 14_2_1 like Mac...       Segment A   \n39996  Mozilla/5.0 (Windows; U; Windows 98; Win 9x 4....       Segment C   \n39997  Mozilla/5.0 (Windows; U; Windows NT 4.0) Apple...       Segment C   \n39998  Mozilla/5.0 (X11; Linux i686) AppleWebKit/536....       Segment B   \n39999  Mozilla/5.0 (iPod; U; CPU iPhone OS 3_0 like M...       Segment A   \n\n                   Geo-location Data Proxy Information Firewall Logs  \\\n0                 Jamshedpur, Sikkim      150.9.97.135      Log Data   \n1                 Bilaspur, Nagaland               NaN      Log Data   \n2                  Bokaro, Rajasthan    114.133.48.179      Log Data   \n3                 Jaunpur, Rajasthan               NaN           NaN   \n4                 Anantapur, Tripura     149.6.110.119           NaN   \n...                              ...               ...           ...   \n39995                Nashik, Manipur               NaN      Log Data   \n39996              Vadodara, Mizoram       60.51.30.46      Log Data   \n39997  Mahbubnagar, Himachal Pradesh               NaN      Log Data   \n39998    Rourkela, Arunachal Pradesh      137.76.130.8      Log Data   \n39999       Pudukkottai, West Bengal   112.169.115.139      Log Data   \n\n      IDS/IPS Alerts Log Source  \n0                NaN     Server  \n1                NaN   Firewall  \n2         Alert Data   Firewall  \n3         Alert Data   Firewall  \n4         Alert Data   Firewall  \n...              ...        ...  \n39995     Alert Data   Firewall  \n39996            NaN   Firewall  \n39997     Alert Data     Server  \n39998            NaN     Server  \n39999     Alert Data   Firewall  \n\n[40000 rows x 25 columns]",
      "text/html": "<div>\n<style scoped>\n    .dataframe tbody tr th:only-of-type {\n        vertical-align: middle;\n    }\n\n    .dataframe tbody tr th {\n        vertical-align: top;\n    }\n\n    .dataframe thead th {\n        text-align: right;\n    }\n</style>\n<table border=\"1\" class=\"dataframe\">\n  <thead>\n    <tr style=\"text-align: right;\">\n      <th></th>\n      <th>Timestamp</th>\n      <th>Source IP Address</th>\n      <th>Destination IP Address</th>\n      <th>Source Port</th>\n      <th>Destination Port</th>\n      <th>Protocol</th>\n      <th>Packet Length</th>\n      <th>Packet Type</th>\n      <th>Traffic Type</th>\n      <th>Payload Data</th>\n      <th>...</th>\n      <th>Action Taken</th>\n      <th>Severity Level</th>\n      <th>User Information</th>\n      <th>Device Information</th>\n      <th>Network Segment</th>\n      <th>Geo-location Data</th>\n      <th>Proxy Information</th>\n      <th>Firewall Logs</th>\n      <th>IDS/IPS Alerts</th>\n      <th>Log Source</th>\n    </tr>\n  </thead>\n  <tbody>\n    <tr>\n      <th>0</th>\n      <td>2023-05-30 06:33:58</td>\n      <td>103.216.15.12</td>\n      <td>84.9.164.252</td>\n      <td>31225</td>\n      <td>17616</td>\n      <td>ICMP</td>\n      <td>503</td>\n      <td>Data</td>\n      <td>HTTP</td>\n      <td>Qui natus odio asperiores nam. Optio nobis ius...</td>\n      <td>...</td>\n      <td>Logged</td>\n      <td>Low</td>\n      <td>Reyansh Dugal</td>\n      <td>Mozilla/5.0 (compatible; MSIE 8.0; Windows NT ...</td>\n      <td>Segment A</td>\n      <td>Jamshedpur, Sikkim</td>\n      <td>150.9.97.135</td>\n      <td>Log Data</td>\n      <td>NaN</td>\n      <td>Server</td>\n    </tr>\n    <tr>\n      <th>1</th>\n      <td>2020-08-26 07:08:30</td>\n      <td>78.199.217.198</td>\n      <td>66.191.137.154</td>\n      <td>17245</td>\n      <td>48166</td>\n      <td>ICMP</td>\n      <td>1174</td>\n      <td>Data</td>\n      <td>HTTP</td>\n      <td>Aperiam quos modi officiis veritatis rem. Omni...</td>\n      <td>...</td>\n      <td>Blocked</td>\n      <td>Low</td>\n      <td>Sumer Rana</td>\n      <td>Mozilla/5.0 (compatible; MSIE 8.0; Windows NT ...</td>\n      <td>Segment B</td>\n      <td>Bilaspur, Nagaland</td>\n      <td>NaN</td>\n      <td>Log Data</td>\n      <td>NaN</td>\n      <td>Firewall</td>\n    </tr>\n    <tr>\n      <th>2</th>\n      <td>2022-11-13 08:23:25</td>\n      <td>63.79.210.48</td>\n      <td>198.219.82.17</td>\n      <td>16811</td>\n      <td>53600</td>\n      <td>UDP</td>\n      <td>306</td>\n      <td>Control</td>\n      <td>HTTP</td>\n      <td>Perferendis sapiente vitae soluta. Hic delectu...</td>\n      <td>...</td>\n      <td>Ignored</td>\n      <td>Low</td>\n      <td>Himmat Karpe</td>\n      <td>Mozilla/5.0 (compatible; MSIE 9.0; Windows NT ...</td>\n      <td>Segment C</td>\n      <td>Bokaro, Rajasthan</td>\n      <td>114.133.48.179</td>\n      <td>Log Data</td>\n      <td>Alert Data</td>\n      <td>Firewall</td>\n    </tr>\n    <tr>\n      <th>3</th>\n      <td>2023-07-02 10:38:46</td>\n      <td>163.42.196.10</td>\n      <td>101.228.192.255</td>\n      <td>20018</td>\n      <td>32534</td>\n      <td>UDP</td>\n      <td>385</td>\n      <td>Data</td>\n      <td>HTTP</td>\n      <td>Totam maxime beatae expedita explicabo porro l...</td>\n      <td>...</td>\n      <td>Blocked</td>\n      <td>Medium</td>\n      <td>Fateh Kibe</td>\n      <td>Mozilla/5.0 (Macintosh; PPC Mac OS X 10_11_5; ...</td>\n      <td>Segment B</td>\n      <td>Jaunpur, Rajasthan</td>\n      <td>NaN</td>\n      <td>NaN</td>\n      <td>Alert Data</td>\n      <td>Firewall</td>\n    </tr>\n    <tr>\n      <th>4</th>\n      <td>2023-07-16 13:11:07</td>\n      <td>71.166.185.76</td>\n      <td>189.243.174.238</td>\n      <td>6131</td>\n      <td>26646</td>\n      <td>TCP</td>\n      <td>1462</td>\n      <td>Data</td>\n      <td>DNS</td>\n      <td>Odit nesciunt dolorem nisi iste iusto. Animi v...</td>\n      <td>...</td>\n      <td>Blocked</td>\n      <td>Low</td>\n      <td>Dhanush Chad</td>\n      <td>Mozilla/5.0 (compatible; MSIE 5.0; Windows NT ...</td>\n      <td>Segment C</td>\n      <td>Anantapur, Tripura</td>\n      <td>149.6.110.119</td>\n      <td>NaN</td>\n      <td>Alert Data</td>\n      <td>Firewall</td>\n    </tr>\n    <tr>\n      <th>...</th>\n      <td>...</td>\n      <td>...</td>\n      <td>...</td>\n      <td>...</td>\n      <td>...</td>\n      <td>...</td>\n      <td>...</td>\n      <td>...</td>\n      <td>...</td>\n      <td>...</td>\n      <td>...</td>\n      <td>...</td>\n      <td>...</td>\n      <td>...</td>\n      <td>...</td>\n      <td>...</td>\n      <td>...</td>\n      <td>...</td>\n      <td>...</td>\n      <td>...</td>\n      <td>...</td>\n    </tr>\n    <tr>\n      <th>39995</th>\n      <td>2023-05-26 14:08:42</td>\n      <td>26.36.109.26</td>\n      <td>121.100.75.240</td>\n      <td>31005</td>\n      <td>6764</td>\n      <td>UDP</td>\n      <td>1428</td>\n      <td>Control</td>\n      <td>HTTP</td>\n      <td>Quibusdam ullam consequatur consequuntur accus...</td>\n      <td>...</td>\n      <td>Logged</td>\n      <td>Medium</td>\n      <td>Adira Madan</td>\n      <td>Mozilla/5.0 (iPad; CPU iPad OS 14_2_1 like Mac...</td>\n      <td>Segment A</td>\n      <td>Nashik, Manipur</td>\n      <td>NaN</td>\n      <td>Log Data</td>\n      <td>Alert Data</td>\n      <td>Firewall</td>\n    </tr>\n    <tr>\n      <th>39996</th>\n      <td>2023-03-27 00:38:27</td>\n      <td>17.21.163.81</td>\n      <td>196.108.134.78</td>\n      <td>2553</td>\n      <td>28091</td>\n      <td>UDP</td>\n      <td>1184</td>\n      <td>Control</td>\n      <td>HTTP</td>\n      <td>Quaerat neque esse. Animi expedita natus commo...</td>\n      <td>...</td>\n      <td>Logged</td>\n      <td>High</td>\n      <td>Rati Dara</td>\n      <td>Mozilla/5.0 (Windows; U; Windows 98; Win 9x 4....</td>\n      <td>Segment C</td>\n      <td>Vadodara, Mizoram</td>\n      <td>60.51.30.46</td>\n      <td>Log Data</td>\n      <td>NaN</td>\n      <td>Firewall</td>\n    </tr>\n    <tr>\n      <th>39997</th>\n      <td>2022-03-31 01:45:49</td>\n      <td>162.35.217.57</td>\n      <td>98.107.0.15</td>\n      <td>22505</td>\n      <td>25152</td>\n      <td>UDP</td>\n      <td>1043</td>\n      <td>Data</td>\n      <td>DNS</td>\n      <td>Enim at aspernatur illum. Saepe numquam eligen...</td>\n      <td>...</td>\n      <td>Blocked</td>\n      <td>Low</td>\n      <td>Samiha Joshi</td>\n      <td>Mozilla/5.0 (Windows; U; Windows NT 4.0) Apple...</td>\n      <td>Segment C</td>\n      <td>Mahbubnagar, Himachal Pradesh</td>\n      <td>NaN</td>\n      <td>Log Data</td>\n      <td>Alert Data</td>\n      <td>Server</td>\n    </tr>\n    <tr>\n      <th>39998</th>\n      <td>2023-09-22 18:32:38</td>\n      <td>208.72.233.205</td>\n      <td>173.79.112.252</td>\n      <td>20013</td>\n      <td>2703</td>\n      <td>UDP</td>\n      <td>483</td>\n      <td>Data</td>\n      <td>FTP</td>\n      <td>Officiis dolorem sed harum provident earum dis...</td>\n      <td>...</td>\n      <td>Ignored</td>\n      <td>Low</td>\n      <td>Rasha Chauhan</td>\n      <td>Mozilla/5.0 (X11; Linux i686) AppleWebKit/536....</td>\n      <td>Segment B</td>\n      <td>Rourkela, Arunachal Pradesh</td>\n      <td>137.76.130.8</td>\n      <td>Log Data</td>\n      <td>NaN</td>\n      <td>Server</td>\n    </tr>\n    <tr>\n      <th>39999</th>\n      <td>2023-10-10 11:59:52</td>\n      <td>14.102.21.108</td>\n      <td>109.198.45.7</td>\n      <td>50137</td>\n      <td>55575</td>\n      <td>ICMP</td>\n      <td>1175</td>\n      <td>Control</td>\n      <td>HTTP</td>\n      <td>Eligendi omnis voluptate nihil voluptatibus do...</td>\n      <td>...</td>\n      <td>Logged</td>\n      <td>Medium</td>\n      <td>Zaina Kumar</td>\n      <td>Mozilla/5.0 (iPod; U; CPU iPhone OS 3_0 like M...</td>\n      <td>Segment A</td>\n      <td>Pudukkottai, West Bengal</td>\n      <td>112.169.115.139</td>\n      <td>Log Data</td>\n      <td>Alert Data</td>\n      <td>Firewall</td>\n    </tr>\n  </tbody>\n</table>\n<p>40000 rows × 25 columns</p>\n</div>"
     },
     "execution_count": 4,
     "metadata": {},
     "output_type": "execute_result"
    }
   ],
   "source": [
    "import numpy as np \n",
    "import pandas as pd \n",
    "from sklearn.model_selection import train_test_split\n",
    "\n",
    "\n",
    "data = pd.read_csv(\"cybersecurity_attacks.csv\")\n",
    "data_proc = data\n",
    "data"
   ]
  },
  {
   "cell_type": "code",
   "execution_count": 5,
   "outputs": [
    {
     "data": {
      "text/plain": "      Protocol  Packet Length Packet Type Traffic Type Malware Indicators  \\\n0         ICMP            503        Data         HTTP       IoC Detected   \n1         ICMP           1174        Data         HTTP       IoC Detected   \n2          UDP            306     Control         HTTP       IoC Detected   \n3          UDP            385        Data         HTTP       Not Detected   \n4          TCP           1462        Data          DNS       Not Detected   \n...        ...            ...         ...          ...                ...   \n39995      UDP           1428     Control         HTTP       IoC Detected   \n39996      UDP           1184     Control         HTTP       IoC Detected   \n39997      UDP           1043        Data          DNS       IoC Detected   \n39998      UDP            483        Data          FTP       IoC Detected   \n39999     ICMP           1175     Control         HTTP       Not Detected   \n\n       Anomaly Scores  Alerts/Warnings Attack Type Attack Signature  \\\n0               28.67     Not Detected     Malware  Known Pattern B   \n1               51.50     Not Detected     Malware  Known Pattern A   \n2               87.42  Alert Triggered        DDoS  Known Pattern B   \n3               15.79  Alert Triggered     Malware  Known Pattern B   \n4                0.52  Alert Triggered        DDoS  Known Pattern B   \n...               ...              ...         ...              ...   \n39995           39.28     Not Detected        DDoS  Known Pattern A   \n39996           27.25     Not Detected        DDoS  Known Pattern A   \n39997           31.01     Not Detected        DDoS  Known Pattern B   \n39998           97.85  Alert Triggered     Malware  Known Pattern B   \n39999           34.63  Alert Triggered   Intrusion  Known Pattern B   \n\n      Action Taken Severity Level Network Segment Firewall Logs  \\\n0           Logged            Low       Segment A      Log Data   \n1          Blocked            Low       Segment B      Log Data   \n2          Ignored            Low       Segment C      Log Data   \n3          Blocked         Medium       Segment B  Not Detected   \n4          Blocked            Low       Segment C  Not Detected   \n...            ...            ...             ...           ...   \n39995       Logged         Medium       Segment A      Log Data   \n39996       Logged           High       Segment C      Log Data   \n39997      Blocked            Low       Segment C      Log Data   \n39998      Ignored            Low       Segment B      Log Data   \n39999       Logged         Medium       Segment A      Log Data   \n\n      IDS/IPS Alerts Log Source  \n0       Not Detected     Server  \n1       Not Detected   Firewall  \n2         Alert Data   Firewall  \n3         Alert Data   Firewall  \n4         Alert Data   Firewall  \n...              ...        ...  \n39995     Alert Data   Firewall  \n39996   Not Detected   Firewall  \n39997     Alert Data     Server  \n39998   Not Detected     Server  \n39999     Alert Data   Firewall  \n\n[40000 rows x 15 columns]",
      "text/html": "<div>\n<style scoped>\n    .dataframe tbody tr th:only-of-type {\n        vertical-align: middle;\n    }\n\n    .dataframe tbody tr th {\n        vertical-align: top;\n    }\n\n    .dataframe thead th {\n        text-align: right;\n    }\n</style>\n<table border=\"1\" class=\"dataframe\">\n  <thead>\n    <tr style=\"text-align: right;\">\n      <th></th>\n      <th>Protocol</th>\n      <th>Packet Length</th>\n      <th>Packet Type</th>\n      <th>Traffic Type</th>\n      <th>Malware Indicators</th>\n      <th>Anomaly Scores</th>\n      <th>Alerts/Warnings</th>\n      <th>Attack Type</th>\n      <th>Attack Signature</th>\n      <th>Action Taken</th>\n      <th>Severity Level</th>\n      <th>Network Segment</th>\n      <th>Firewall Logs</th>\n      <th>IDS/IPS Alerts</th>\n      <th>Log Source</th>\n    </tr>\n  </thead>\n  <tbody>\n    <tr>\n      <th>0</th>\n      <td>ICMP</td>\n      <td>503</td>\n      <td>Data</td>\n      <td>HTTP</td>\n      <td>IoC Detected</td>\n      <td>28.67</td>\n      <td>Not Detected</td>\n      <td>Malware</td>\n      <td>Known Pattern B</td>\n      <td>Logged</td>\n      <td>Low</td>\n      <td>Segment A</td>\n      <td>Log Data</td>\n      <td>Not Detected</td>\n      <td>Server</td>\n    </tr>\n    <tr>\n      <th>1</th>\n      <td>ICMP</td>\n      <td>1174</td>\n      <td>Data</td>\n      <td>HTTP</td>\n      <td>IoC Detected</td>\n      <td>51.50</td>\n      <td>Not Detected</td>\n      <td>Malware</td>\n      <td>Known Pattern A</td>\n      <td>Blocked</td>\n      <td>Low</td>\n      <td>Segment B</td>\n      <td>Log Data</td>\n      <td>Not Detected</td>\n      <td>Firewall</td>\n    </tr>\n    <tr>\n      <th>2</th>\n      <td>UDP</td>\n      <td>306</td>\n      <td>Control</td>\n      <td>HTTP</td>\n      <td>IoC Detected</td>\n      <td>87.42</td>\n      <td>Alert Triggered</td>\n      <td>DDoS</td>\n      <td>Known Pattern B</td>\n      <td>Ignored</td>\n      <td>Low</td>\n      <td>Segment C</td>\n      <td>Log Data</td>\n      <td>Alert Data</td>\n      <td>Firewall</td>\n    </tr>\n    <tr>\n      <th>3</th>\n      <td>UDP</td>\n      <td>385</td>\n      <td>Data</td>\n      <td>HTTP</td>\n      <td>Not Detected</td>\n      <td>15.79</td>\n      <td>Alert Triggered</td>\n      <td>Malware</td>\n      <td>Known Pattern B</td>\n      <td>Blocked</td>\n      <td>Medium</td>\n      <td>Segment B</td>\n      <td>Not Detected</td>\n      <td>Alert Data</td>\n      <td>Firewall</td>\n    </tr>\n    <tr>\n      <th>4</th>\n      <td>TCP</td>\n      <td>1462</td>\n      <td>Data</td>\n      <td>DNS</td>\n      <td>Not Detected</td>\n      <td>0.52</td>\n      <td>Alert Triggered</td>\n      <td>DDoS</td>\n      <td>Known Pattern B</td>\n      <td>Blocked</td>\n      <td>Low</td>\n      <td>Segment C</td>\n      <td>Not Detected</td>\n      <td>Alert Data</td>\n      <td>Firewall</td>\n    </tr>\n    <tr>\n      <th>...</th>\n      <td>...</td>\n      <td>...</td>\n      <td>...</td>\n      <td>...</td>\n      <td>...</td>\n      <td>...</td>\n      <td>...</td>\n      <td>...</td>\n      <td>...</td>\n      <td>...</td>\n      <td>...</td>\n      <td>...</td>\n      <td>...</td>\n      <td>...</td>\n      <td>...</td>\n    </tr>\n    <tr>\n      <th>39995</th>\n      <td>UDP</td>\n      <td>1428</td>\n      <td>Control</td>\n      <td>HTTP</td>\n      <td>IoC Detected</td>\n      <td>39.28</td>\n      <td>Not Detected</td>\n      <td>DDoS</td>\n      <td>Known Pattern A</td>\n      <td>Logged</td>\n      <td>Medium</td>\n      <td>Segment A</td>\n      <td>Log Data</td>\n      <td>Alert Data</td>\n      <td>Firewall</td>\n    </tr>\n    <tr>\n      <th>39996</th>\n      <td>UDP</td>\n      <td>1184</td>\n      <td>Control</td>\n      <td>HTTP</td>\n      <td>IoC Detected</td>\n      <td>27.25</td>\n      <td>Not Detected</td>\n      <td>DDoS</td>\n      <td>Known Pattern A</td>\n      <td>Logged</td>\n      <td>High</td>\n      <td>Segment C</td>\n      <td>Log Data</td>\n      <td>Not Detected</td>\n      <td>Firewall</td>\n    </tr>\n    <tr>\n      <th>39997</th>\n      <td>UDP</td>\n      <td>1043</td>\n      <td>Data</td>\n      <td>DNS</td>\n      <td>IoC Detected</td>\n      <td>31.01</td>\n      <td>Not Detected</td>\n      <td>DDoS</td>\n      <td>Known Pattern B</td>\n      <td>Blocked</td>\n      <td>Low</td>\n      <td>Segment C</td>\n      <td>Log Data</td>\n      <td>Alert Data</td>\n      <td>Server</td>\n    </tr>\n    <tr>\n      <th>39998</th>\n      <td>UDP</td>\n      <td>483</td>\n      <td>Data</td>\n      <td>FTP</td>\n      <td>IoC Detected</td>\n      <td>97.85</td>\n      <td>Alert Triggered</td>\n      <td>Malware</td>\n      <td>Known Pattern B</td>\n      <td>Ignored</td>\n      <td>Low</td>\n      <td>Segment B</td>\n      <td>Log Data</td>\n      <td>Not Detected</td>\n      <td>Server</td>\n    </tr>\n    <tr>\n      <th>39999</th>\n      <td>ICMP</td>\n      <td>1175</td>\n      <td>Control</td>\n      <td>HTTP</td>\n      <td>Not Detected</td>\n      <td>34.63</td>\n      <td>Alert Triggered</td>\n      <td>Intrusion</td>\n      <td>Known Pattern B</td>\n      <td>Logged</td>\n      <td>Medium</td>\n      <td>Segment A</td>\n      <td>Log Data</td>\n      <td>Alert Data</td>\n      <td>Firewall</td>\n    </tr>\n  </tbody>\n</table>\n<p>40000 rows × 15 columns</p>\n</div>"
     },
     "execution_count": 5,
     "metadata": {},
     "output_type": "execute_result"
    }
   ],
   "source": [
    "data_proc = data_proc.drop(columns=[\"Payload Data\",\"Timestamp\",\"Source IP Address\",\"Destination IP Address\",\"Source Port\",\"Destination Port\",\"Device Information\",\"Proxy Information\",\"User Information\",\"Geo-location Data\"])\n",
    "data_proc[\"Malware Indicators\"].fillna(\"Not Detected\", inplace=True)\n",
    "data_proc[\"Alerts/Warnings\"].fillna(\"Not Detected\", inplace=True)\n",
    "data_proc[\"Firewall Logs\"].fillna(\"Not Detected\", inplace=True)\n",
    "data_proc[\"IDS/IPS Alerts\"].fillna(\"Not Detected\", inplace=True)\n",
    "\n",
    "data_proc"
   ],
   "metadata": {
    "collapsed": false,
    "ExecuteTime": {
     "end_time": "2023-12-09T09:48:03.145575Z",
     "start_time": "2023-12-09T09:48:02.803268Z"
    }
   },
   "id": "2123a5f0455342be"
  },
  {
   "cell_type": "code",
   "execution_count": 52,
   "outputs": [],
   "source": [
    "# drop label columns\n",
    "X = data_proc.drop(columns=[\"Attack Type\"])\n",
    "\n",
    "# isolate y\n",
    "y = data_proc[\"Attack Type\"]\n",
    "\n",
    "# split in Train-set(80%) and Testing-set(20%)\n",
    "X_train, X_test, y_train, y_test = train_test_split( X, y, test_size=0.33, random_state=42) "
   ],
   "metadata": {
    "collapsed": false,
    "ExecuteTime": {
     "end_time": "2023-12-09T14:39:33.741291Z",
     "start_time": "2023-12-09T14:39:33.700057Z"
    }
   },
   "id": "1ecd97b9efc29263"
  },
  {
   "cell_type": "code",
   "execution_count": 53,
   "outputs": [
    {
     "name": "stdout",
     "output_type": "stream",
     "text": [
      "<class 'pandas.core.frame.DataFrame'>\n",
      "Index: 26800 entries, 8451 to 15795\n",
      "Data columns (total 14 columns):\n",
      " #   Column              Non-Null Count  Dtype  \n",
      "---  ------              --------------  -----  \n",
      " 0   Protocol            26800 non-null  object \n",
      " 1   Packet Length       26800 non-null  int64  \n",
      " 2   Packet Type         26800 non-null  object \n",
      " 3   Traffic Type        26800 non-null  object \n",
      " 4   Malware Indicators  26800 non-null  object \n",
      " 5   Anomaly Scores      26800 non-null  float64\n",
      " 6   Alerts/Warnings     26800 non-null  object \n",
      " 7   Attack Signature    26800 non-null  object \n",
      " 8   Action Taken        26800 non-null  object \n",
      " 9   Severity Level      26800 non-null  object \n",
      " 10  Network Segment     26800 non-null  object \n",
      " 11  Firewall Logs       26800 non-null  object \n",
      " 12  IDS/IPS Alerts      26800 non-null  object \n",
      " 13  Log Source          26800 non-null  object \n",
      "dtypes: float64(1), int64(1), object(12)\n",
      "memory usage: 3.1+ MB\n",
      "<class 'pandas.core.frame.DataFrame'>\n",
      "Index: 13200 entries, 32823 to 4736\n",
      "Data columns (total 14 columns):\n",
      " #   Column              Non-Null Count  Dtype  \n",
      "---  ------              --------------  -----  \n",
      " 0   Protocol            13200 non-null  object \n",
      " 1   Packet Length       13200 non-null  int64  \n",
      " 2   Packet Type         13200 non-null  object \n",
      " 3   Traffic Type        13200 non-null  object \n",
      " 4   Malware Indicators  13200 non-null  object \n",
      " 5   Anomaly Scores      13200 non-null  float64\n",
      " 6   Alerts/Warnings     13200 non-null  object \n",
      " 7   Attack Signature    13200 non-null  object \n",
      " 8   Action Taken        13200 non-null  object \n",
      " 9   Severity Level      13200 non-null  object \n",
      " 10  Network Segment     13200 non-null  object \n",
      " 11  Firewall Logs       13200 non-null  object \n",
      " 12  IDS/IPS Alerts      13200 non-null  object \n",
      " 13  Log Source          13200 non-null  object \n",
      "dtypes: float64(1), int64(1), object(12)\n",
      "memory usage: 1.5+ MB\n"
     ]
    },
    {
     "data": {
      "text/plain": "(None, None)"
     },
     "execution_count": 53,
     "metadata": {},
     "output_type": "execute_result"
    }
   ],
   "source": [
    "X_train.info(), X_test.info()"
   ],
   "metadata": {
    "collapsed": false,
    "ExecuteTime": {
     "end_time": "2023-12-09T14:39:34.475187Z",
     "start_time": "2023-12-09T14:39:34.445589Z"
    }
   },
   "id": "884fb5f7fbffa253"
  },
  {
   "cell_type": "markdown",
   "source": [
    "# 2) Processing the Dataset \n",
    "In this step, we can begin creating two functions:\n",
    "\n",
    "1. **process_data_x** : This function analyzes and cleans the dataset data, starting with the training set and ending with the testing set. The analysis is divided to preserve the accurate analysis of the data.\n",
    "2. **process_data_y** : In this function, we will create and categorize data classes, placing them all into an array.\n"
   ],
   "metadata": {
    "collapsed": false
   },
   "id": "b1b56c702ab5566"
  },
  {
   "cell_type": "markdown",
   "source": [
    "## 2.1) Process X"
   ],
   "metadata": {
    "collapsed": false
   },
   "id": "f54c4d43bdafeda8"
  },
  {
   "cell_type": "code",
   "execution_count": 55,
   "outputs": [],
   "source": [
    "from sklearn.preprocessing import OneHotEncoder, OrdinalEncoder\n",
    "from sklearn.preprocessing import LabelEncoder\n",
    "\n",
    "def process_data_x(train, test):\n",
    "    # Numerical feature in my Dataset\n",
    "    numerical_idx = [\"Packet Length\", \"Anomaly Scores\"]\n",
    "    \n",
    "    # convert numeric integer to float and concat them with already float feature \n",
    "     # There are no NaN element in these feature\n",
    "    X_train = pd.concat([pd.to_numeric(train[numerical_idx[0]],downcast='float'), train[numerical_idx[1]]], axis=1)\n",
    "    \n",
    "    oneHot_idx = train.columns.drop(['Packet Length', 'Anomaly Scores','Severity Level'])\n",
    "    \n",
    "    oh = OneHotEncoder(sparse_output=False, handle_unknown='ignore')\n",
    "    ord = OrdinalEncoder(categories=[['Low','Medium','High']])\n",
    "    \n",
    "    ord_encoded = ord.fit_transform(train[['Severity Level']])\n",
    "    oneHot_encoded = oh.fit_transform(train[oneHot_idx])\n",
    "    \n",
    "    for i, col in enumerate(oh.get_feature_names_out()):\n",
    "        X_train[col] = oneHot_encoded[:,i]\n",
    "   \n",
    "    for i, col in enumerate(ord.get_feature_names_out()):\n",
    "        X_train[col] = ord_encoded[:,i]\n",
    "        \n",
    "    # --------------\n",
    "    # process test\n",
    "    X_test = pd.concat([pd.to_numeric(test[numerical_idx[0]],downcast='float'), test[numerical_idx[1]]], axis=1)\n",
    "    \n",
    "    oneHot_idx = test.columns.drop(['Packet Length', 'Anomaly Scores','Severity Level'])\n",
    "    \n",
    "    oh = OneHotEncoder(sparse_output=False, handle_unknown='ignore')\n",
    "    ord = OrdinalEncoder(categories=[['Low','Medium','High']])\n",
    "    \n",
    "    ord_encoded = ord.fit_transform(test[['Severity Level']])\n",
    "    oneHot_encoded = oh.fit_transform(test[oneHot_idx])\n",
    "    \n",
    "    for i, col in enumerate(oh.get_feature_names_out()):\n",
    "        X_test[col] = oneHot_encoded[:,i]\n",
    "   \n",
    "    for i, col in enumerate(ord.get_feature_names_out()):\n",
    "        X_test[col] = ord_encoded[:,i]\n",
    "    \n",
    "    \n",
    "    return X_train, X_test"
   ],
   "metadata": {
    "collapsed": false,
    "ExecuteTime": {
     "end_time": "2023-12-09T14:39:37.774097Z",
     "start_time": "2023-12-09T14:39:37.760793Z"
    }
   },
   "id": "30252a7940693a35"
  },
  {
   "cell_type": "code",
   "execution_count": 56,
   "outputs": [],
   "source": [
    "X_train_enc, X_test_enc = process_data_x(X_train, X_test)"
   ],
   "metadata": {
    "collapsed": false,
    "ExecuteTime": {
     "end_time": "2023-12-09T14:39:41.146684Z",
     "start_time": "2023-12-09T14:39:41.047317Z"
    }
   },
   "id": "731df3314d45944b"
  },
  {
   "cell_type": "code",
   "execution_count": 57,
   "outputs": [
    {
     "data": {
      "text/plain": "       Packet Length  Anomaly Scores  Protocol_ICMP  Protocol_TCP  \\\n32823         1402.0           69.21            0.0           0.0   \n16298          855.0           55.69            1.0           0.0   \n28505          297.0           32.58            1.0           0.0   \n6689          1090.0            9.42            1.0           0.0   \n26893          330.0           13.88            0.0           1.0   \n...              ...             ...            ...           ...   \n35934          811.0           75.89            0.0           1.0   \n403            658.0           79.29            0.0           1.0   \n35953         1002.0           51.24            0.0           1.0   \n14218          423.0           94.74            1.0           0.0   \n4736          1048.0           49.54            1.0           0.0   \n\n       Protocol_UDP  Packet Type_Control  Packet Type_Data  Traffic Type_DNS  \\\n32823           1.0                  1.0               0.0               0.0   \n16298           0.0                  1.0               0.0               0.0   \n28505           0.0                  0.0               1.0               1.0   \n6689            0.0                  1.0               0.0               1.0   \n26893           0.0                  1.0               0.0               0.0   \n...             ...                  ...               ...               ...   \n35934           0.0                  1.0               0.0               1.0   \n403             0.0                  0.0               1.0               0.0   \n35953           0.0                  0.0               1.0               1.0   \n14218           0.0                  0.0               1.0               1.0   \n4736            0.0                  1.0               0.0               1.0   \n\n       Traffic Type_FTP  Traffic Type_HTTP  ...  Network Segment_Segment A  \\\n32823               0.0                1.0  ...                        0.0   \n16298               1.0                0.0  ...                        0.0   \n28505               0.0                0.0  ...                        1.0   \n6689                0.0                0.0  ...                        0.0   \n26893               1.0                0.0  ...                        0.0   \n...                 ...                ...  ...                        ...   \n35934               0.0                0.0  ...                        0.0   \n403                 0.0                1.0  ...                        0.0   \n35953               0.0                0.0  ...                        0.0   \n14218               0.0                0.0  ...                        1.0   \n4736                0.0                0.0  ...                        0.0   \n\n       Network Segment_Segment B  Network Segment_Segment C  \\\n32823                        1.0                        0.0   \n16298                        1.0                        0.0   \n28505                        0.0                        0.0   \n6689                         0.0                        1.0   \n26893                        0.0                        1.0   \n...                          ...                        ...   \n35934                        1.0                        0.0   \n403                          0.0                        1.0   \n35953                        0.0                        1.0   \n14218                        0.0                        0.0   \n4736                         1.0                        0.0   \n\n       Firewall Logs_Log Data  Firewall Logs_Not Detected  \\\n32823                     0.0                         1.0   \n16298                     1.0                         0.0   \n28505                     1.0                         0.0   \n6689                      0.0                         1.0   \n26893                     0.0                         1.0   \n...                       ...                         ...   \n35934                     1.0                         0.0   \n403                       0.0                         1.0   \n35953                     0.0                         1.0   \n14218                     0.0                         1.0   \n4736                      0.0                         1.0   \n\n       IDS/IPS Alerts_Alert Data  IDS/IPS Alerts_Not Detected  \\\n32823                        0.0                          1.0   \n16298                        0.0                          1.0   \n28505                        1.0                          0.0   \n6689                         0.0                          1.0   \n26893                        0.0                          1.0   \n...                          ...                          ...   \n35934                        1.0                          0.0   \n403                          0.0                          1.0   \n35953                        1.0                          0.0   \n14218                        0.0                          1.0   \n4736                         0.0                          1.0   \n\n       Log Source_Firewall  Log Source_Server  Severity Level  \n32823                  1.0                0.0             1.0  \n16298                  0.0                1.0             1.0  \n28505                  0.0                1.0             2.0  \n6689                   1.0                0.0             2.0  \n26893                  1.0                0.0             2.0  \n...                    ...                ...             ...  \n35934                  1.0                0.0             2.0  \n403                    0.0                1.0             0.0  \n35953                  1.0                0.0             1.0  \n14218                  0.0                1.0             2.0  \n4736                   1.0                0.0             0.0  \n\n[13200 rows x 29 columns]",
      "text/html": "<div>\n<style scoped>\n    .dataframe tbody tr th:only-of-type {\n        vertical-align: middle;\n    }\n\n    .dataframe tbody tr th {\n        vertical-align: top;\n    }\n\n    .dataframe thead th {\n        text-align: right;\n    }\n</style>\n<table border=\"1\" class=\"dataframe\">\n  <thead>\n    <tr style=\"text-align: right;\">\n      <th></th>\n      <th>Packet Length</th>\n      <th>Anomaly Scores</th>\n      <th>Protocol_ICMP</th>\n      <th>Protocol_TCP</th>\n      <th>Protocol_UDP</th>\n      <th>Packet Type_Control</th>\n      <th>Packet Type_Data</th>\n      <th>Traffic Type_DNS</th>\n      <th>Traffic Type_FTP</th>\n      <th>Traffic Type_HTTP</th>\n      <th>...</th>\n      <th>Network Segment_Segment A</th>\n      <th>Network Segment_Segment B</th>\n      <th>Network Segment_Segment C</th>\n      <th>Firewall Logs_Log Data</th>\n      <th>Firewall Logs_Not Detected</th>\n      <th>IDS/IPS Alerts_Alert Data</th>\n      <th>IDS/IPS Alerts_Not Detected</th>\n      <th>Log Source_Firewall</th>\n      <th>Log Source_Server</th>\n      <th>Severity Level</th>\n    </tr>\n  </thead>\n  <tbody>\n    <tr>\n      <th>32823</th>\n      <td>1402.0</td>\n      <td>69.21</td>\n      <td>0.0</td>\n      <td>0.0</td>\n      <td>1.0</td>\n      <td>1.0</td>\n      <td>0.0</td>\n      <td>0.0</td>\n      <td>0.0</td>\n      <td>1.0</td>\n      <td>...</td>\n      <td>0.0</td>\n      <td>1.0</td>\n      <td>0.0</td>\n      <td>0.0</td>\n      <td>1.0</td>\n      <td>0.0</td>\n      <td>1.0</td>\n      <td>1.0</td>\n      <td>0.0</td>\n      <td>1.0</td>\n    </tr>\n    <tr>\n      <th>16298</th>\n      <td>855.0</td>\n      <td>55.69</td>\n      <td>1.0</td>\n      <td>0.0</td>\n      <td>0.0</td>\n      <td>1.0</td>\n      <td>0.0</td>\n      <td>0.0</td>\n      <td>1.0</td>\n      <td>0.0</td>\n      <td>...</td>\n      <td>0.0</td>\n      <td>1.0</td>\n      <td>0.0</td>\n      <td>1.0</td>\n      <td>0.0</td>\n      <td>0.0</td>\n      <td>1.0</td>\n      <td>0.0</td>\n      <td>1.0</td>\n      <td>1.0</td>\n    </tr>\n    <tr>\n      <th>28505</th>\n      <td>297.0</td>\n      <td>32.58</td>\n      <td>1.0</td>\n      <td>0.0</td>\n      <td>0.0</td>\n      <td>0.0</td>\n      <td>1.0</td>\n      <td>1.0</td>\n      <td>0.0</td>\n      <td>0.0</td>\n      <td>...</td>\n      <td>1.0</td>\n      <td>0.0</td>\n      <td>0.0</td>\n      <td>1.0</td>\n      <td>0.0</td>\n      <td>1.0</td>\n      <td>0.0</td>\n      <td>0.0</td>\n      <td>1.0</td>\n      <td>2.0</td>\n    </tr>\n    <tr>\n      <th>6689</th>\n      <td>1090.0</td>\n      <td>9.42</td>\n      <td>1.0</td>\n      <td>0.0</td>\n      <td>0.0</td>\n      <td>1.0</td>\n      <td>0.0</td>\n      <td>1.0</td>\n      <td>0.0</td>\n      <td>0.0</td>\n      <td>...</td>\n      <td>0.0</td>\n      <td>0.0</td>\n      <td>1.0</td>\n      <td>0.0</td>\n      <td>1.0</td>\n      <td>0.0</td>\n      <td>1.0</td>\n      <td>1.0</td>\n      <td>0.0</td>\n      <td>2.0</td>\n    </tr>\n    <tr>\n      <th>26893</th>\n      <td>330.0</td>\n      <td>13.88</td>\n      <td>0.0</td>\n      <td>1.0</td>\n      <td>0.0</td>\n      <td>1.0</td>\n      <td>0.0</td>\n      <td>0.0</td>\n      <td>1.0</td>\n      <td>0.0</td>\n      <td>...</td>\n      <td>0.0</td>\n      <td>0.0</td>\n      <td>1.0</td>\n      <td>0.0</td>\n      <td>1.0</td>\n      <td>0.0</td>\n      <td>1.0</td>\n      <td>1.0</td>\n      <td>0.0</td>\n      <td>2.0</td>\n    </tr>\n    <tr>\n      <th>...</th>\n      <td>...</td>\n      <td>...</td>\n      <td>...</td>\n      <td>...</td>\n      <td>...</td>\n      <td>...</td>\n      <td>...</td>\n      <td>...</td>\n      <td>...</td>\n      <td>...</td>\n      <td>...</td>\n      <td>...</td>\n      <td>...</td>\n      <td>...</td>\n      <td>...</td>\n      <td>...</td>\n      <td>...</td>\n      <td>...</td>\n      <td>...</td>\n      <td>...</td>\n      <td>...</td>\n    </tr>\n    <tr>\n      <th>35934</th>\n      <td>811.0</td>\n      <td>75.89</td>\n      <td>0.0</td>\n      <td>1.0</td>\n      <td>0.0</td>\n      <td>1.0</td>\n      <td>0.0</td>\n      <td>1.0</td>\n      <td>0.0</td>\n      <td>0.0</td>\n      <td>...</td>\n      <td>0.0</td>\n      <td>1.0</td>\n      <td>0.0</td>\n      <td>1.0</td>\n      <td>0.0</td>\n      <td>1.0</td>\n      <td>0.0</td>\n      <td>1.0</td>\n      <td>0.0</td>\n      <td>2.0</td>\n    </tr>\n    <tr>\n      <th>403</th>\n      <td>658.0</td>\n      <td>79.29</td>\n      <td>0.0</td>\n      <td>1.0</td>\n      <td>0.0</td>\n      <td>0.0</td>\n      <td>1.0</td>\n      <td>0.0</td>\n      <td>0.0</td>\n      <td>1.0</td>\n      <td>...</td>\n      <td>0.0</td>\n      <td>0.0</td>\n      <td>1.0</td>\n      <td>0.0</td>\n      <td>1.0</td>\n      <td>0.0</td>\n      <td>1.0</td>\n      <td>0.0</td>\n      <td>1.0</td>\n      <td>0.0</td>\n    </tr>\n    <tr>\n      <th>35953</th>\n      <td>1002.0</td>\n      <td>51.24</td>\n      <td>0.0</td>\n      <td>1.0</td>\n      <td>0.0</td>\n      <td>0.0</td>\n      <td>1.0</td>\n      <td>1.0</td>\n      <td>0.0</td>\n      <td>0.0</td>\n      <td>...</td>\n      <td>0.0</td>\n      <td>0.0</td>\n      <td>1.0</td>\n      <td>0.0</td>\n      <td>1.0</td>\n      <td>1.0</td>\n      <td>0.0</td>\n      <td>1.0</td>\n      <td>0.0</td>\n      <td>1.0</td>\n    </tr>\n    <tr>\n      <th>14218</th>\n      <td>423.0</td>\n      <td>94.74</td>\n      <td>1.0</td>\n      <td>0.0</td>\n      <td>0.0</td>\n      <td>0.0</td>\n      <td>1.0</td>\n      <td>1.0</td>\n      <td>0.0</td>\n      <td>0.0</td>\n      <td>...</td>\n      <td>1.0</td>\n      <td>0.0</td>\n      <td>0.0</td>\n      <td>0.0</td>\n      <td>1.0</td>\n      <td>0.0</td>\n      <td>1.0</td>\n      <td>0.0</td>\n      <td>1.0</td>\n      <td>2.0</td>\n    </tr>\n    <tr>\n      <th>4736</th>\n      <td>1048.0</td>\n      <td>49.54</td>\n      <td>1.0</td>\n      <td>0.0</td>\n      <td>0.0</td>\n      <td>1.0</td>\n      <td>0.0</td>\n      <td>1.0</td>\n      <td>0.0</td>\n      <td>0.0</td>\n      <td>...</td>\n      <td>0.0</td>\n      <td>1.0</td>\n      <td>0.0</td>\n      <td>0.0</td>\n      <td>1.0</td>\n      <td>0.0</td>\n      <td>1.0</td>\n      <td>1.0</td>\n      <td>0.0</td>\n      <td>0.0</td>\n    </tr>\n  </tbody>\n</table>\n<p>13200 rows × 29 columns</p>\n</div>"
     },
     "execution_count": 57,
     "metadata": {},
     "output_type": "execute_result"
    }
   ],
   "source": [
    "X_test_enc"
   ],
   "metadata": {
    "collapsed": false,
    "ExecuteTime": {
     "end_time": "2023-12-09T14:39:41.895941Z",
     "start_time": "2023-12-09T14:39:41.851560Z"
    }
   },
   "id": "11f2f8b77bd06637"
  },
  {
   "cell_type": "code",
   "execution_count": 58,
   "outputs": [
    {
     "data": {
      "text/plain": "       Packet Length  Anomaly Scores  Protocol_ICMP  Protocol_TCP  \\\n8451           271.0            4.99            0.0           1.0   \n28293          543.0           16.16            0.0           1.0   \n9948           775.0           18.83            0.0           1.0   \n32270          744.0           17.36            1.0           0.0   \n39564          708.0           31.74            1.0           0.0   \n...              ...             ...            ...           ...   \n6265          1214.0           69.40            0.0           0.0   \n11284         1246.0           80.79            0.0           0.0   \n38158          369.0           82.18            1.0           0.0   \n860            168.0           17.07            0.0           0.0   \n15795          536.0           69.94            0.0           0.0   \n\n       Protocol_UDP  Packet Type_Control  Packet Type_Data  Traffic Type_DNS  \\\n8451            0.0                  1.0               0.0               1.0   \n28293           0.0                  1.0               0.0               0.0   \n9948            0.0                  1.0               0.0               1.0   \n32270           0.0                  0.0               1.0               0.0   \n39564           0.0                  0.0               1.0               0.0   \n...             ...                  ...               ...               ...   \n6265            1.0                  0.0               1.0               1.0   \n11284           1.0                  1.0               0.0               0.0   \n38158           0.0                  1.0               0.0               0.0   \n860             1.0                  1.0               0.0               0.0   \n15795           1.0                  0.0               1.0               1.0   \n\n       Traffic Type_FTP  Traffic Type_HTTP  ...  Network Segment_Segment A  \\\n8451                0.0                0.0  ...                        0.0   \n28293               0.0                1.0  ...                        0.0   \n9948                0.0                0.0  ...                        0.0   \n32270               0.0                1.0  ...                        0.0   \n39564               0.0                1.0  ...                        0.0   \n...                 ...                ...  ...                        ...   \n6265                0.0                0.0  ...                        0.0   \n11284               1.0                0.0  ...                        0.0   \n38158               1.0                0.0  ...                        1.0   \n860                 0.0                1.0  ...                        1.0   \n15795               0.0                0.0  ...                        1.0   \n\n       Network Segment_Segment B  Network Segment_Segment C  \\\n8451                         1.0                        0.0   \n28293                        1.0                        0.0   \n9948                         1.0                        0.0   \n32270                        1.0                        0.0   \n39564                        1.0                        0.0   \n...                          ...                        ...   \n6265                         0.0                        1.0   \n11284                        1.0                        0.0   \n38158                        0.0                        0.0   \n860                          0.0                        0.0   \n15795                        0.0                        0.0   \n\n       Firewall Logs_Log Data  Firewall Logs_Not Detected  \\\n8451                      0.0                         1.0   \n28293                     0.0                         1.0   \n9948                      1.0                         0.0   \n32270                     1.0                         0.0   \n39564                     0.0                         1.0   \n...                       ...                         ...   \n6265                      1.0                         0.0   \n11284                     0.0                         1.0   \n38158                     0.0                         1.0   \n860                       0.0                         1.0   \n15795                     1.0                         0.0   \n\n       IDS/IPS Alerts_Alert Data  IDS/IPS Alerts_Not Detected  \\\n8451                         0.0                          1.0   \n28293                        1.0                          0.0   \n9948                         1.0                          0.0   \n32270                        0.0                          1.0   \n39564                        0.0                          1.0   \n...                          ...                          ...   \n6265                         0.0                          1.0   \n11284                        0.0                          1.0   \n38158                        0.0                          1.0   \n860                          1.0                          0.0   \n15795                        1.0                          0.0   \n\n       Log Source_Firewall  Log Source_Server  Severity Level  \n8451                   0.0                1.0             0.0  \n28293                  1.0                0.0             2.0  \n9948                   0.0                1.0             2.0  \n32270                  1.0                0.0             0.0  \n39564                  1.0                0.0             2.0  \n...                    ...                ...             ...  \n6265                   1.0                0.0             2.0  \n11284                  1.0                0.0             2.0  \n38158                  0.0                1.0             1.0  \n860                    0.0                1.0             2.0  \n15795                  1.0                0.0             2.0  \n\n[26800 rows x 29 columns]",
      "text/html": "<div>\n<style scoped>\n    .dataframe tbody tr th:only-of-type {\n        vertical-align: middle;\n    }\n\n    .dataframe tbody tr th {\n        vertical-align: top;\n    }\n\n    .dataframe thead th {\n        text-align: right;\n    }\n</style>\n<table border=\"1\" class=\"dataframe\">\n  <thead>\n    <tr style=\"text-align: right;\">\n      <th></th>\n      <th>Packet Length</th>\n      <th>Anomaly Scores</th>\n      <th>Protocol_ICMP</th>\n      <th>Protocol_TCP</th>\n      <th>Protocol_UDP</th>\n      <th>Packet Type_Control</th>\n      <th>Packet Type_Data</th>\n      <th>Traffic Type_DNS</th>\n      <th>Traffic Type_FTP</th>\n      <th>Traffic Type_HTTP</th>\n      <th>...</th>\n      <th>Network Segment_Segment A</th>\n      <th>Network Segment_Segment B</th>\n      <th>Network Segment_Segment C</th>\n      <th>Firewall Logs_Log Data</th>\n      <th>Firewall Logs_Not Detected</th>\n      <th>IDS/IPS Alerts_Alert Data</th>\n      <th>IDS/IPS Alerts_Not Detected</th>\n      <th>Log Source_Firewall</th>\n      <th>Log Source_Server</th>\n      <th>Severity Level</th>\n    </tr>\n  </thead>\n  <tbody>\n    <tr>\n      <th>8451</th>\n      <td>271.0</td>\n      <td>4.99</td>\n      <td>0.0</td>\n      <td>1.0</td>\n      <td>0.0</td>\n      <td>1.0</td>\n      <td>0.0</td>\n      <td>1.0</td>\n      <td>0.0</td>\n      <td>0.0</td>\n      <td>...</td>\n      <td>0.0</td>\n      <td>1.0</td>\n      <td>0.0</td>\n      <td>0.0</td>\n      <td>1.0</td>\n      <td>0.0</td>\n      <td>1.0</td>\n      <td>0.0</td>\n      <td>1.0</td>\n      <td>0.0</td>\n    </tr>\n    <tr>\n      <th>28293</th>\n      <td>543.0</td>\n      <td>16.16</td>\n      <td>0.0</td>\n      <td>1.0</td>\n      <td>0.0</td>\n      <td>1.0</td>\n      <td>0.0</td>\n      <td>0.0</td>\n      <td>0.0</td>\n      <td>1.0</td>\n      <td>...</td>\n      <td>0.0</td>\n      <td>1.0</td>\n      <td>0.0</td>\n      <td>0.0</td>\n      <td>1.0</td>\n      <td>1.0</td>\n      <td>0.0</td>\n      <td>1.0</td>\n      <td>0.0</td>\n      <td>2.0</td>\n    </tr>\n    <tr>\n      <th>9948</th>\n      <td>775.0</td>\n      <td>18.83</td>\n      <td>0.0</td>\n      <td>1.0</td>\n      <td>0.0</td>\n      <td>1.0</td>\n      <td>0.0</td>\n      <td>1.0</td>\n      <td>0.0</td>\n      <td>0.0</td>\n      <td>...</td>\n      <td>0.0</td>\n      <td>1.0</td>\n      <td>0.0</td>\n      <td>1.0</td>\n      <td>0.0</td>\n      <td>1.0</td>\n      <td>0.0</td>\n      <td>0.0</td>\n      <td>1.0</td>\n      <td>2.0</td>\n    </tr>\n    <tr>\n      <th>32270</th>\n      <td>744.0</td>\n      <td>17.36</td>\n      <td>1.0</td>\n      <td>0.0</td>\n      <td>0.0</td>\n      <td>0.0</td>\n      <td>1.0</td>\n      <td>0.0</td>\n      <td>0.0</td>\n      <td>1.0</td>\n      <td>...</td>\n      <td>0.0</td>\n      <td>1.0</td>\n      <td>0.0</td>\n      <td>1.0</td>\n      <td>0.0</td>\n      <td>0.0</td>\n      <td>1.0</td>\n      <td>1.0</td>\n      <td>0.0</td>\n      <td>0.0</td>\n    </tr>\n    <tr>\n      <th>39564</th>\n      <td>708.0</td>\n      <td>31.74</td>\n      <td>1.0</td>\n      <td>0.0</td>\n      <td>0.0</td>\n      <td>0.0</td>\n      <td>1.0</td>\n      <td>0.0</td>\n      <td>0.0</td>\n      <td>1.0</td>\n      <td>...</td>\n      <td>0.0</td>\n      <td>1.0</td>\n      <td>0.0</td>\n      <td>0.0</td>\n      <td>1.0</td>\n      <td>0.0</td>\n      <td>1.0</td>\n      <td>1.0</td>\n      <td>0.0</td>\n      <td>2.0</td>\n    </tr>\n    <tr>\n      <th>...</th>\n      <td>...</td>\n      <td>...</td>\n      <td>...</td>\n      <td>...</td>\n      <td>...</td>\n      <td>...</td>\n      <td>...</td>\n      <td>...</td>\n      <td>...</td>\n      <td>...</td>\n      <td>...</td>\n      <td>...</td>\n      <td>...</td>\n      <td>...</td>\n      <td>...</td>\n      <td>...</td>\n      <td>...</td>\n      <td>...</td>\n      <td>...</td>\n      <td>...</td>\n      <td>...</td>\n    </tr>\n    <tr>\n      <th>6265</th>\n      <td>1214.0</td>\n      <td>69.40</td>\n      <td>0.0</td>\n      <td>0.0</td>\n      <td>1.0</td>\n      <td>0.0</td>\n      <td>1.0</td>\n      <td>1.0</td>\n      <td>0.0</td>\n      <td>0.0</td>\n      <td>...</td>\n      <td>0.0</td>\n      <td>0.0</td>\n      <td>1.0</td>\n      <td>1.0</td>\n      <td>0.0</td>\n      <td>0.0</td>\n      <td>1.0</td>\n      <td>1.0</td>\n      <td>0.0</td>\n      <td>2.0</td>\n    </tr>\n    <tr>\n      <th>11284</th>\n      <td>1246.0</td>\n      <td>80.79</td>\n      <td>0.0</td>\n      <td>0.0</td>\n      <td>1.0</td>\n      <td>1.0</td>\n      <td>0.0</td>\n      <td>0.0</td>\n      <td>1.0</td>\n      <td>0.0</td>\n      <td>...</td>\n      <td>0.0</td>\n      <td>1.0</td>\n      <td>0.0</td>\n      <td>0.0</td>\n      <td>1.0</td>\n      <td>0.0</td>\n      <td>1.0</td>\n      <td>1.0</td>\n      <td>0.0</td>\n      <td>2.0</td>\n    </tr>\n    <tr>\n      <th>38158</th>\n      <td>369.0</td>\n      <td>82.18</td>\n      <td>1.0</td>\n      <td>0.0</td>\n      <td>0.0</td>\n      <td>1.0</td>\n      <td>0.0</td>\n      <td>0.0</td>\n      <td>1.0</td>\n      <td>0.0</td>\n      <td>...</td>\n      <td>1.0</td>\n      <td>0.0</td>\n      <td>0.0</td>\n      <td>0.0</td>\n      <td>1.0</td>\n      <td>0.0</td>\n      <td>1.0</td>\n      <td>0.0</td>\n      <td>1.0</td>\n      <td>1.0</td>\n    </tr>\n    <tr>\n      <th>860</th>\n      <td>168.0</td>\n      <td>17.07</td>\n      <td>0.0</td>\n      <td>0.0</td>\n      <td>1.0</td>\n      <td>1.0</td>\n      <td>0.0</td>\n      <td>0.0</td>\n      <td>0.0</td>\n      <td>1.0</td>\n      <td>...</td>\n      <td>1.0</td>\n      <td>0.0</td>\n      <td>0.0</td>\n      <td>0.0</td>\n      <td>1.0</td>\n      <td>1.0</td>\n      <td>0.0</td>\n      <td>0.0</td>\n      <td>1.0</td>\n      <td>2.0</td>\n    </tr>\n    <tr>\n      <th>15795</th>\n      <td>536.0</td>\n      <td>69.94</td>\n      <td>0.0</td>\n      <td>0.0</td>\n      <td>1.0</td>\n      <td>0.0</td>\n      <td>1.0</td>\n      <td>1.0</td>\n      <td>0.0</td>\n      <td>0.0</td>\n      <td>...</td>\n      <td>1.0</td>\n      <td>0.0</td>\n      <td>0.0</td>\n      <td>1.0</td>\n      <td>0.0</td>\n      <td>1.0</td>\n      <td>0.0</td>\n      <td>1.0</td>\n      <td>0.0</td>\n      <td>2.0</td>\n    </tr>\n  </tbody>\n</table>\n<p>26800 rows × 29 columns</p>\n</div>"
     },
     "execution_count": 58,
     "metadata": {},
     "output_type": "execute_result"
    }
   ],
   "source": [
    "X_train_enc"
   ],
   "metadata": {
    "collapsed": false,
    "ExecuteTime": {
     "end_time": "2023-12-09T14:39:43.497308Z",
     "start_time": "2023-12-09T14:39:43.368090Z"
    }
   },
   "id": "6c76751b9b4f6664"
  },
  {
   "cell_type": "markdown",
   "source": [
    "## 2.2) Process Y"
   ],
   "metadata": {
    "collapsed": false
   },
   "id": "1aebf86a171b830f"
  },
  {
   "cell_type": "code",
   "execution_count": 59,
   "outputs": [],
   "source": [
    "label_enc = LabelEncoder()"
   ],
   "metadata": {
    "collapsed": false,
    "ExecuteTime": {
     "end_time": "2023-12-09T14:39:45.411129Z",
     "start_time": "2023-12-09T14:39:45.378220Z"
    }
   },
   "id": "2baa05504540a3b8"
  },
  {
   "cell_type": "code",
   "execution_count": 60,
   "outputs": [],
   "source": [
    "def process_data_y(train,test):\n",
    "    \n",
    "    y_train_enc = label_enc.fit_transform(train)\n",
    "    y_test_enc = label_enc.transform(test)\n",
    "    \n",
    "    return  y_train_enc,y_test_enc"
   ],
   "metadata": {
    "collapsed": false,
    "ExecuteTime": {
     "end_time": "2023-12-09T14:39:46.199089Z",
     "start_time": "2023-12-09T14:39:46.172816Z"
    }
   },
   "id": "3f200f22ffb4415f"
  },
  {
   "cell_type": "code",
   "execution_count": 61,
   "outputs": [],
   "source": [
    "y_train_enc, y_test_enc = process_data_y(y_train,y_test)"
   ],
   "metadata": {
    "collapsed": false,
    "ExecuteTime": {
     "end_time": "2023-12-09T14:39:46.954558Z",
     "start_time": "2023-12-09T14:39:46.944676Z"
    }
   },
   "id": "371d1446a732530"
  },
  {
   "cell_type": "code",
   "execution_count": 62,
   "outputs": [
    {
     "data": {
      "text/plain": "(array([2, 0, 0, ..., 1, 1, 0]),\n array([0, 1, 2, ..., 2, 1, 2]),\n array(['DDoS', 'Intrusion', 'Malware'], dtype=object))"
     },
     "execution_count": 62,
     "metadata": {},
     "output_type": "execute_result"
    }
   ],
   "source": [
    "y_test_enc, y_train_enc, label_enc.classes_"
   ],
   "metadata": {
    "collapsed": false,
    "ExecuteTime": {
     "end_time": "2023-12-09T14:39:47.968100Z",
     "start_time": "2023-12-09T14:39:47.940757Z"
    }
   },
   "id": "a68c72d28eefe6eb"
  },
  {
   "cell_type": "markdown",
   "source": [
    "# 3) Valuation and Training\n",
    "\n",
    "Now I can begin the training process. After separating the dataset into training and testing sets, I can start to evaluate and train it."
   ],
   "metadata": {
    "collapsed": false
   },
   "id": "597f4cc5a3848119"
  },
  {
   "cell_type": "markdown",
   "source": [
    "## 3.1) Accuracy and K-NN\n",
    "First of all, we need to determine the accuracy baseline, as we will aim to enhance it with our model."
   ],
   "metadata": {
    "collapsed": false
   },
   "id": "fab8a868ce5739c0"
  },
  {
   "cell_type": "code",
   "execution_count": 63,
   "outputs": [
    {
     "name": "stdout",
     "output_type": "stream",
     "text": [
      "Accuracy 0.333\n"
     ]
    }
   ],
   "source": [
    "%matplotlib inline\n",
    "\n",
    "import matplotlib.pyplot as plt\n",
    "from sklearn.neighbors import KNeighborsClassifier\n",
    "from sklearn.metrics import accuracy_score\n",
    "\n",
    "kNN = KNeighborsClassifier(n_neighbors=10)\n",
    "\n",
    "kNN.fit(X_train_enc,y_train_enc)\n",
    "\n",
    "y_pred = kNN.predict(X_test_enc)\n",
    "\n",
    "acc = accuracy_score(y_true=y_test_enc, y_pred=y_pred)\n",
    "print (f\"Accuracy {acc:.3f}\")\n"
   ],
   "metadata": {
    "collapsed": false,
    "ExecuteTime": {
     "end_time": "2023-12-09T14:39:51.711228Z",
     "start_time": "2023-12-09T14:39:51.264858Z"
    }
   },
   "id": "cbb5eb290a7c48f2"
  },
  {
   "cell_type": "markdown",
   "source": [
    "Now lest begin to create the accuracy function, that allows us to see the accuracy according to the K-NN Model"
   ],
   "metadata": {
    "collapsed": false
   },
   "id": "5d9db3d3cb3d8471"
  },
  {
   "cell_type": "code",
   "execution_count": 64,
   "outputs": [
    {
     "name": "stdout",
     "output_type": "stream",
     "text": [
      "Feature Anomaly Scores -> Scale:  100.00\n",
      "Feature Protocol_ICMP -> Scale:    1.00\n",
      "Feature Protocol_TCP -> Scale:    1.00\n",
      "Feature Protocol_UDP -> Scale:    1.00\n",
      "Feature Packet Type_Control -> Scale:    1.00\n",
      "Feature Packet Type_Data -> Scale:    1.00\n",
      "Feature Traffic Type_DNS -> Scale:    1.00\n",
      "Feature Traffic Type_FTP -> Scale:    1.00\n",
      "Feature Traffic Type_HTTP -> Scale:    1.00\n",
      "Feature Malware Indicators_IoC Detected -> Scale:    1.00\n",
      "Feature Malware Indicators_Not Detected -> Scale:    1.00\n",
      "Feature Alerts/Warnings_Alert Triggered -> Scale:    1.00\n",
      "Feature Alerts/Warnings_Not Detected -> Scale:    1.00\n",
      "Feature Attack Signature_Known Pattern A -> Scale:    1.00\n",
      "Feature Attack Signature_Known Pattern B -> Scale:    1.00\n",
      "Feature Action Taken_Blocked -> Scale:    1.00\n",
      "Feature Action Taken_Ignored -> Scale:    1.00\n",
      "Feature Action Taken_Logged -> Scale:    1.00\n",
      "Feature Network Segment_Segment A -> Scale:    1.00\n",
      "Feature Network Segment_Segment B -> Scale:    1.00\n",
      "Feature Network Segment_Segment C -> Scale:    1.00\n",
      "Feature Firewall Logs_Log Data -> Scale:    1.00\n",
      "Feature Firewall Logs_Not Detected -> Scale:    1.00\n",
      "Feature IDS/IPS Alerts_Alert Data -> Scale:    1.00\n",
      "Feature IDS/IPS Alerts_Not Detected -> Scale:    1.00\n",
      "Feature Log Source_Firewall -> Scale:    1.00\n",
      "Feature Log Source_Server -> Scale:    1.00\n",
      "Feature Severity Level -> Scale:    2.00\n"
     ]
    }
   ],
   "source": [
    "X = X_train_enc.loc[:,'Anomaly Scores' :]\n",
    "for f in X.columns:\n",
    "    print (\"Feature {:2s} -> Scale: {:7.2f}\".format(f, X.loc[:,f].max() - X.loc[:,f].min()) )"
   ],
   "metadata": {
    "collapsed": false,
    "ExecuteTime": {
     "end_time": "2023-12-09T14:39:57.902032Z",
     "start_time": "2023-12-09T14:39:57.871920Z"
    }
   },
   "id": "ff3345c70f17293d"
  },
  {
   "cell_type": "code",
   "execution_count": null,
   "outputs": [],
   "source": [],
   "metadata": {
    "collapsed": false,
    "ExecuteTime": {
     "end_time": "2023-11-09T09:35:44.099850Z",
     "start_time": "2023-11-09T09:35:44.099402Z"
    }
   },
   "id": "aef03ab07152d20d"
  }
 ],
 "metadata": {
  "kernelspec": {
   "display_name": "Python 3",
   "language": "python",
   "name": "python3"
  },
  "language_info": {
   "codemirror_mode": {
    "name": "ipython",
    "version": 2
   },
   "file_extension": ".py",
   "mimetype": "text/x-python",
   "name": "python",
   "nbconvert_exporter": "python",
   "pygments_lexer": "ipython2",
   "version": "2.7.6"
  }
 },
 "nbformat": 4,
 "nbformat_minor": 5
}
